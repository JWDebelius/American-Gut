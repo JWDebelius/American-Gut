{
 "cells": [
  {
   "cell_type": "code",
   "execution_count": 35,
   "metadata": {
    "collapsed": true
   },
   "outputs": [],
   "source": [
    "import os\n",
    "import numpy as np\n",
    "import pandas as pd\n",
    "from skbio.stats.power import *\n",
    "import copy"
   ]
  },
  {
   "cell_type": "code",
   "execution_count": 36,
   "metadata": {
    "collapsed": true
   },
   "outputs": [],
   "source": [
    "def _check_strs(x):\n",
    "    r\"\"\"Returns False if x is a nan and True is x is a string or number\"\"\"\n",
    "\n",
    "    if isinstance(x, str):\n",
    "        return True\n",
    "    elif isinstance(x, (float, int)):\n",
    "        return not np.isnan(x)\n",
    "    else:\n",
    "        raise TypeError('input must be a string, float or a nan')\n",
    "        \n",
    "def paired_subsamples(meta, cat, control_cats, order=None, strict_match=True):\n",
    "    r\"\"\"Gets a set of samples to serve as controls\n",
    "    \"\"\"\n",
    "\n",
    "    # Sets the index data\n",
    "    # Groups meta by category\n",
    "    cat_groups = meta.groupby(cat).groups\n",
    "\n",
    "    # Handles the order argument\n",
    "    if order is None:\n",
    "        order = sorted(cat_groups.keys())\n",
    "    order = np.array(order)\n",
    "    num_groups = len(order)\n",
    "\n",
    "    # Determines the number of samples, and the experimental and control group\n",
    "    group_size = np.array([len(cat_groups[o]) for o in order])\n",
    "    ctrl_name = order[group_size == group_size.min()][0]\n",
    "    order = order[order != ctrl_name]\n",
    "\n",
    "    # Gets a control group table\n",
    "    ctrl_match_groups = meta.groupby(control_cats).groups\n",
    "    ctrl_group = meta.loc[cat_groups[ctrl_name]\n",
    "                          ].groupby(list(control_cats)).groups\n",
    "\n",
    "    ctrl_count = 0\n",
    "    case_count = 0\n",
    "    ids = [np.array([])] * num_groups\n",
    "    # Loops through samples in the experimental group to match for controls\n",
    "    for check_group, ctrl_ids in viewitems(ctrl_group):\n",
    "        # Checks the categories have been defined\n",
    "        undefed_check = np.array([_check_strs(p) for p in check_group])\n",
    "        if not undefed_check.all() and strict_match:\n",
    "            continue\n",
    "        # Removes the matched ids from order\n",
    "        matched_ids = ctrl_match_groups[check_group]\n",
    "        for id_ in ctrl_ids:\n",
    "            matched_ids.remove(id_)\n",
    "        pos_ids = []\n",
    "        num_ctrl = len(ctrl_ids)\n",
    "        num_ids = [len(ctrl_ids)]\n",
    "        # Gets the matrix of the matched ids and groups them\n",
    "        exp_group = meta.loc[matched_ids].groupby(cat).groups\n",
    "        for grp in order:\n",
    "            # Checks group to be considered is included in the grouping\n",
    "            if grp not in exp_group:\n",
    "                break\n",
    "            # Gets the id associated with the group\n",
    "            pos_ids.append(exp_group[grp])\n",
    "            num_ids.append(len(exp_group[grp]))\n",
    "\n",
    "        # Determines the minimum number of samples\n",
    "        num_draw = np.array(num_ids).min()\n",
    "        # Draws samples from possible ids\n",
    "        exp_ids = [ctrl_ids]\n",
    "        exp_ids.extend([id_ for id_ in pos_ids])\n",
    "\n",
    "        if len(exp_ids) == num_groups:\n",
    "            ctrl_count = ctrl_count + num_ids[0]\n",
    "            case_count = case_count + num_ids[1]\n",
    "            for idx in range(num_groups):\n",
    "                ids[idx] = np.hstack((ids[idx], exp_ids[idx]))\n",
    "\n",
    "\n",
    "\n",
    "    return ids"
   ]
  },
  {
   "cell_type": "code",
   "execution_count": 37,
   "metadata": {
    "collapsed": false
   },
   "outputs": [],
   "source": [
    "data14 = pd.read_csv('/Users/jwdebelius/Desktop/agp_analysis1_14/sample_data/fecal/all_participants_one_sample/AGP_100nt_even10k_fecal.txt',\n",
    "                     sep='\\t',\n",
    "                     na_values=[''],\n",
    "                     index_col=False,\n",
    "                     dtype={'#SampleID': str},\n",
    "                     low_memory=False)\n",
    "data15 = pd.read_csv('/Users/jwdebelius/Desktop/agp_analysis_1_15/sample_data/fecal/all_participants_one_sample/AGP_100nt_even10k_fecal.txt',\n",
    "                     sep='\\t',\n",
    "                     na_values=[''],\n",
    "                     index_col=False,\n",
    "                     dtype={'#SampleID': str},\n",
    "                     low_memory=False)\n",
    "data16 = pd.read_csv('/Users/jwdebelius/Desktop/agp_analysis/sample_data/fecal/all_participants_one_sample/AGP_100nt_even10k_fecal.txt',\n",
    "                     sep='\\t',\n",
    "                     na_values=[''],\n",
    "                     index_col=False,\n",
    "                     dtype={'#SampleID': str},\n",
    "                     low_memory=False)"
   ]
  },
  {
   "cell_type": "code",
   "execution_count": 38,
   "metadata": {
    "collapsed": false
   },
   "outputs": [],
   "source": [
    "data14.set_index('#SampleID', inplace=True)\n",
    "data15.set_index('#SampleID', inplace=True)\n",
    "data16.set_index('#SampleID', inplace=True)"
   ]
  },
  {
   "cell_type": "code",
   "execution_count": 39,
   "metadata": {
    "collapsed": true
   },
   "outputs": [],
   "source": [
    "fecal_cats = [('IBD', ['I do not have IBD', 'IBD']),\n",
    "              ('ANTIBIOTIC_SELECT', ['In the past month',\n",
    "                                     'Not in the last year']),\n",
    "              ('TYPES_OF_PLANTS', ['Less than 5', 'More than 30']),\n",
    "              ('AGE_CAT', ['20s', '60s']),\n",
    "              ('BMI_CAT', ['Normal', 'Obese']),\n",
    "              ('COLLECTION_SEASON', ['Winter', 'Summer']),\n",
    "              ('ALCOHOL_FREQUENCY', ['Never', 'Daily']),\n",
    "              ('EXERCISE_FREQUENCY', ['Rarely', 'Daily']),\n",
    "              ('SLEEP_DURATION', ['Less than 6 hours', '8 or more hours'])]\n",
    "\n",
    "fecal_control_cats = ['IBD', 'BMI_CAT', 'TYPES_OF_PLANTS', 'DIABETES',\n",
    "                      'ANTIBIOTIC_SELECT', 'AGE_CAT', 'COLLECTION_SEASON',\n",
    "                      'SLEEP_DURATION']"
   ]
  },
  {
   "cell_type": "code",
   "execution_count": 40,
   "metadata": {
    "collapsed": true
   },
   "outputs": [],
   "source": [
    "# Combines individuals with Ulcerative Colitis and Crohn's disease into a\n",
    "# single category\n",
    "data14.loc[data14.IBD == \"Crohn's disease\", 'IBD'] = 'IBD'\n",
    "data14.loc[data14.IBD == \"Ulcerative colitis\", 'IBD'] = 'IBD'\n",
    "data15.loc[data15.IBD == \"Crohn's disease\", 'IBD'] = 'IBD'\n",
    "data15.loc[data15.IBD == \"Ulcerative colitis\", 'IBD'] = 'IBD'\n",
    "data16.loc[data16.IBD == \"Crohn's disease\", 'IBD'] = 'IBD'\n",
    "data16.loc[data16.IBD == \"Ulcerative colitis\", 'IBD'] = 'IBD'\n",
    "\n",
    "# Combines the never exercises category with the rarely exercises category\n",
    "data14.loc[data14.EXERCISE_FREQUENCY == 'Never', 'EXERCISE_FREQUENCY'] = 'Rarely'\n",
    "data14.loc[data14.EXERCISE_FREQUENCY == 'Rarely (few times/month)', 'EXERCISE_FREQUENCY'] = 'Rarely'\n",
    "data15.loc[data15.EXERCISE_FREQUENCY == 'Never', 'EXERCISE_FREQUENCY'] = 'Rarely'\n",
    "data15.loc[data15.EXERCISE_FREQUENCY == 'Rarely (few times/month)', 'EXERCISE_FREQUENCY'] = 'Rarely'\n",
    "data16.loc[data16.EXERCISE_FREQUENCY == 'Never', 'EXERCISE_FREQUENCY'] = 'Rarely'\n",
    "data16.loc[data16.EXERCISE_FREQUENCY == 'Rarely (few times/month)', 'EXERCISE_FREQUENCY'] = 'Rarely'\n",
    "\n",
    "# Combines people who took antibiotics in the past week and in the past month\n",
    "data14.loc[data14.ANTIBIOTIC_SELECT == 'In the past week', 'ANTIBIOTIC_SELECT'] = 'In the past month'\n",
    "data15.loc[data15.ANTIBIOTIC_SELECT == 'In the past week', 'ANTIBIOTIC_SELECT'] = 'In the past month'\n",
    "data16.loc[data16.ANTIBIOTIC_SELECT == 'In the past week', 'ANTIBIOTIC_SELECT'] = 'In the past month'"
   ]
  },
  {
   "cell_type": "code",
   "execution_count": 41,
   "metadata": {
    "collapsed": false
   },
   "outputs": [],
   "source": [
    "ids14 = []\n",
    "ids15 = []\n",
    "ids16 = []\n",
    "for cat, order in fecal_cats:\n",
    "    if cat in fecal_control_cats:        \n",
    "        ctrl_cats = copy.deepcopy(fecal_control_cats)\n",
    "        ctrl_cats.remove(cat)\n",
    "    \n",
    "    ids14.append(paired_subsamples(data14, cat, ctrl_cats, order))\n",
    "    ids15.append(paired_subsamples(data15, cat, ctrl_cats, order))\n",
    "    ids16.append(paired_subsamples(data16, cat, ctrl_cats, order))"
   ]
  },
  {
   "cell_type": "code",
   "execution_count": 42,
   "metadata": {
    "collapsed": false
   },
   "outputs": [
    {
     "data": {
      "text/plain": [
       "[('IBD', ['I do not have IBD', 'IBD']),\n",
       " ('ANTIBIOTIC_SELECT', ['In the past month', 'Not in the last year']),\n",
       " ('TYPES_OF_PLANTS', ['Less than 5', 'More than 30']),\n",
       " ('AGE_CAT', ['20s', '60s']),\n",
       " ('BMI_CAT', ['Normal', 'Obese']),\n",
       " ('COLLECTION_SEASON', ['Winter', 'Summer']),\n",
       " ('ALCOHOL_FREQUENCY', ['Never', 'Daily']),\n",
       " ('EXERCISE_FREQUENCY', ['Rarely', 'Daily']),\n",
       " ('SLEEP_DURATION', ['Less than 6 hours', '8 or more hours'])]"
      ]
     },
     "execution_count": 42,
     "metadata": {},
     "output_type": "execute_result"
    }
   ],
   "source": [
    "fecal_cats"
   ]
  },
  {
   "cell_type": "code",
   "execution_count": 43,
   "metadata": {
    "collapsed": false
   },
   "outputs": [
    {
     "name": "stdout",
     "output_type": "stream",
     "text": [
      "41\n",
      "41\n",
      "41\n"
     ]
    }
   ],
   "source": [
    "print len(ids14[2][0])\n",
    "print len(ids15[2][0])\n",
    "print len(ids16[2][0])\n",
    "\n",
    "p5_14 = set(ids14[2][0])\n",
    "p5_15 = set(ids15[2][0])\n",
    "p5_16 = set(ids16[2][0])"
   ]
  },
  {
   "cell_type": "code",
   "execution_count": 44,
   "metadata": {
    "collapsed": false
   },
   "outputs": [
    {
     "name": "stdout",
     "output_type": "stream",
     "text": [
      "86\n",
      "87\n",
      "87\n"
     ]
    }
   ],
   "source": [
    "print len(ids14[2][1])\n",
    "print len(ids15[2][1])\n",
    "print len(ids16[2][1])\n",
    "\n",
    "p3_14 = ids14[2][1]\n",
    "p3_15 = ids15[2][1]\n",
    "p3_16 = ids16[2][1]"
   ]
  },
  {
   "cell_type": "code",
   "execution_count": 45,
   "metadata": {
    "collapsed": false
   },
   "outputs": [
    {
     "name": "stdout",
     "output_type": "stream",
     "text": [
      "set(['000015224', '000003390', '000015123', '000017632', '000012072', '000016369', '000015568', '000014369', '000015264'])\n",
      "set(['000015224', '000014594.1259618', '000003390', '000015123', '000017632', '000012072', '000016369', '000015568', '000014369', '000015264'])\n",
      "set(['000014594.1259618', '000015261.fixed171', '000007750.fixed964'])\n"
     ]
    }
   ],
   "source": [
    "print p5_14.difference(p5_15)\n",
    "print p5_14.difference(p5_16)\n",
    "print p5_15.difference(p5_16)"
   ]
  },
  {
   "cell_type": "code",
   "execution_count": 46,
   "metadata": {
    "collapsed": false
   },
   "outputs": [
    {
     "name": "stdout",
     "output_type": "stream",
     "text": [
      "set(['000015634', '000015865', '000015624', '000002944.1130012', '000015881', '000017760', '000015385', '000001820', '000003475.1076147', '000016716', '000017335', '000015850', '000012976'])\n",
      "set(['000015634', '000009661.1257123', '000015865', '000005034.1076350', '000015624', '000002944.1130012', '000015881', '000017760', '000015385', '000001820', '000003475.1076147', '000016716', '000017335', '000015850', '000012976'])\n",
      "set(['000009661.1257123', '000005034.1076350', '000016722.fixed480'])\n"
     ]
    }
   ],
   "source": [
    "print set(p3_14).difference(set(p3_15))\n",
    "print set(p3_14).difference(set(p3_16))\n",
    "print set(p3_15).difference(set(p3_16))"
   ]
  },
  {
   "cell_type": "code",
   "execution_count": 53,
   "metadata": {
    "collapsed": false
   },
   "outputs": [],
   "source": [
    "all_16 = data16 = pd.read_csv('/Users/jwdebelius/Desktop/agp_analysis/sample_data/all/AGP_100nt_even10k.txt',\n",
    "                     sep='\\t',\n",
    "                     na_values=[''],\n",
    "                     index_col=False,\n",
    "                     dtype={'#SampleID': str},\n",
    "                     low_memory=False)\n",
    "all_16.set_index('#SampleID', inplace=True)"
   ]
  },
  {
   "cell_type": "code",
   "execution_count": 60,
   "metadata": {
    "collapsed": false
   },
   "outputs": [
    {
     "name": "stdout",
     "output_type": "stream",
     "text": [
      "2.862647\n",
      "-0.111211\n",
      "-3.719389\n",
      "-5.095132\n"
     ]
    }
   ],
   "source": [
    "all_ids = set(p3_14).union(p3_15).union(p3_16)\n",
    "sub1_16 = all_16.loc[all_ids]\n",
    "for indv, ids in sub1_16.groupby('HOST_SUBJECT_ID').groups.iteritems():\n",
    "    if len(ids) > 1:\n",
    "        print sub1_16.loc[ids[0], 'PD_whole_tree_mean'] - sub1_16.loc[ids[1], 'PD_whole_tree_mean']\n",
    "# all_16.loc[list(all_ids), 'PD_whole_tree_mean']"
   ]
  },
  {
   "cell_type": "code",
   "execution_count": 63,
   "metadata": {
    "collapsed": false
   },
   "outputs": [],
   "source": [
    "five_ids = list(set(p5_14).union(set(p5_15)).union(set(p5_16)))\n",
    "sub2_16 = all_16.loc[five_ids]"
   ]
  },
  {
   "cell_type": "code",
   "execution_count": 67,
   "metadata": {
    "collapsed": false
   },
   "outputs": [
    {
     "name": "stdout",
     "output_type": "stream",
     "text": [
      "29.6177711818\n",
      "5.1408939365\n"
     ]
    }
   ],
   "source": [
    "print sub2_16.PD_whole_tree_mean.mean()\n",
    "print sub2_16.PD_whole_tree_mean.std()"
   ]
  },
  {
   "cell_type": "code",
   "execution_count": 68,
   "metadata": {
    "collapsed": false
   },
   "outputs": [
    {
     "name": "stdout",
     "output_type": "stream",
     "text": [
      "31.6570856304\n",
      "5.30139673982\n"
     ]
    }
   ],
   "source": [
    "print sub1_16.PD_whole_tree_mean.mean()\n",
    "print sub1_16.PD_whole_tree_mean.std()"
   ]
  },
  {
   "cell_type": "code",
   "execution_count": 69,
   "metadata": {
    "collapsed": false
   },
   "outputs": [
    {
     "name": "stdout",
     "output_type": "stream",
     "text": [
      "29.1975437561 5.06826289287\n",
      "29.275380878 5.04782552173\n",
      "29.4344786341 5.18446395279\n"
     ]
    }
   ],
   "source": [
    "print data14.loc[p5_14, 'PD_whole_tree_mean'].mean(), data14.loc[p5_14, 'PD_whole_tree_mean'].std()\n",
    "print data15.loc[p5_15, 'PD_whole_tree_mean'].mean(), data15.loc[p5_15, 'PD_whole_tree_mean'].std()\n",
    "print data16.loc[p5_16, 'PD_whole_tree_mean'].mean(), data16.loc[p5_16, 'PD_whole_tree_mean'].std()"
   ]
  },
  {
   "cell_type": "code",
   "execution_count": 70,
   "metadata": {
    "collapsed": false
   },
   "outputs": [
    {
     "name": "stdout",
     "output_type": "stream",
     "text": [
      "31.5187642326 5.25027704863\n",
      "31.7410535402 5.31949189011\n",
      "31.751947954 5.29233649098\n"
     ]
    }
   ],
   "source": [
    "print data14.loc[p3_14, 'PD_whole_tree_mean'].mean(), data14.loc[p3_14, 'PD_whole_tree_mean'].std()\n",
    "print data15.loc[p3_15, 'PD_whole_tree_mean'].mean(), data15.loc[p3_15, 'PD_whole_tree_mean'].std()\n",
    "print data16.loc[p3_16, 'PD_whole_tree_mean'].mean(), data16.loc[p3_16, 'PD_whole_tree_mean'].std()"
   ]
  },
  {
   "cell_type": "code",
   "execution_count": null,
   "metadata": {
    "collapsed": true
   },
   "outputs": [],
   "source": []
  }
 ],
 "metadata": {
  "kernelspec": {
   "display_name": "Python 2",
   "language": "python",
   "name": "python2"
  },
  "language_info": {
   "codemirror_mode": {
    "name": "ipython",
    "version": 2
   },
   "file_extension": ".py",
   "mimetype": "text/x-python",
   "name": "python",
   "nbconvert_exporter": "python",
   "pygments_lexer": "ipython2",
   "version": "2.7.3"
  }
 },
 "nbformat": 4,
 "nbformat_minor": 0
}
