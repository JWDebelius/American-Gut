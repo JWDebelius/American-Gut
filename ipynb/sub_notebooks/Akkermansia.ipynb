{
 "cells": [
  {
   "cell_type": "code",
   "execution_count": 18,
   "metadata": {
    "collapsed": true
   },
   "outputs": [],
   "source": [
    "import os\n",
    "import numpy as np\n",
    "import pandas as pd\n",
    "import scipy\n",
    "import skbio\n",
    "import biom\n",
    "import statsmodels"
   ]
  },
  {
   "cell_type": "code",
   "execution_count": 6,
   "metadata": {
    "collapsed": true
   },
   "outputs": [],
   "source": [
    "data_dir = '/Users/jwdebelius/Desktop/agp_analysis2/sample_data/fecal/sub_participants_all_samples/'\n",
    "data_otu_fp = os.path.join(data_dir, 'AGP_100nt_even10k_fecal.biom')\n",
    "data_map_fp = os.path.join(data_dir, 'AGP_100nt_even10k_fecal.txt')"
   ]
  },
  {
   "cell_type": "code",
   "execution_count": 15,
   "metadata": {
    "collapsed": false
   },
   "outputs": [],
   "source": [
    "data_otu = biom.load_table(data_otu_fp)\n",
    "data_map = pd.read_csv(data_map_fp,\n",
    "                       sep='\\t', \n",
    "                       na_values=['NA', 'no_data', 'unknown', ''],\n",
    "                       index_col=False)\n",
    "data_map.index = data_map['#SampleID']\n",
    "del data_map['#SampleID']"
   ]
  },
  {
   "cell_type": "code",
   "execution_count": 17,
   "metadata": {
    "collapsed": false
   },
   "outputs": [],
   "source": [
    "data_map = data_map.join(pd.Series(data_otu.data('548475', 'observation')/10000, index=data_otu.ids('sample'), name='Akkermansia 548475'))\n",
    "data_map = data_map.join(pd.Series(data_otu.data('4306262', 'observation')/10000, index=data_otu.ids('sample'), name='Akkermansia 4306262'))"
   ]
  },
  {
   "cell_type": "code",
   "execution_count": 19,
   "metadata": {
    "collapsed": false
   },
   "outputs": [],
   "source": [
    "data_map['BIN 548475'] = data_map['Akkermansia 548475'] > 0\n",
    "data_map['BIN 4306262'] = data_map['Akkermansia 4306262'] > 0"
   ]
  },
  {
   "cell_type": "markdown",
   "metadata": {},
   "source": [
    "We're going to assume the outcome is a binomial, and use the bin output. I haven't done a lot of generalized linear mixed model, but this is an initial attempt?"
   ]
  },
  {
   "cell_type": "code",
   "execution_count": null,
   "metadata": {
    "collapsed": true
   },
   "outputs": [],
   "source": []
  }
 ],
 "metadata": {
  "kernelspec": {
   "display_name": "Python 2",
   "language": "python",
   "name": "python2"
  },
  "language_info": {
   "codemirror_mode": {
    "name": "ipython",
    "version": 2
   },
   "file_extension": ".py",
   "mimetype": "text/x-python",
   "name": "python",
   "nbconvert_exporter": "python",
   "pygments_lexer": "ipython2",
   "version": "2.7.3"
  }
 },
 "nbformat": 4,
 "nbformat_minor": 0
}
