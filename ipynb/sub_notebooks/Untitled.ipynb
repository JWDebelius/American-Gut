{
 "cells": [
  {
   "cell_type": "code",
   "execution_count": 1,
   "metadata": {
    "collapsed": false
   },
   "outputs": [
    {
     "name": "stdout",
     "output_type": "stream",
     "text": [
      "\n",
      "System information\n",
      "==================\n",
      "         Platform:\tdarwin\n",
      "   Python version:\t2.7.3 (v2.7.3:70274d53c1dd, Apr  9 2012, 20:52:43)  [GCC 4.2.1 (Apple Inc. build 5666) (dot 3)]\n",
      "Python executable:\t/Users/jwdebelius/.virtualenvs/amgut/bin/python\n",
      "\n",
      "QIIME default reference information\n",
      "===================================\n",
      "For details on what files are used as QIIME's default references, see here:\n",
      " https://github.com/biocore/qiime-default-reference/releases/tag/0.1.1\n",
      "\n",
      "Dependency versions\n",
      "===================\n",
      "          QIIME library version:\t1.9.0\n",
      "           QIIME script version:\t1.9.0\n",
      "qiime-default-reference version:\t0.1.1\n",
      "                  NumPy version:\t1.9.1\n",
      "                  SciPy version:\t0.15.1\n",
      "                 pandas version:\t0.15.2\n",
      "             matplotlib version:\t1.4.2\n",
      "            biom-format version:\t2.1.3\n",
      "                   h5py version:\t2.4.0 (HDF5 version: 1.8.13)\n",
      "                   qcli version:\t0.1.1\n",
      "                   pyqi version:\t0.3.2\n",
      "             scikit-bio version:\t0.2.2\n",
      "                 PyNAST version:\t1.2.2\n",
      "                Emperor version:\t0.9.51\n",
      "                burrito version:\t0.9.0\n",
      "       burrito-fillings version:\tInstalled.\n",
      "              sortmerna version:\tSortMeRNA version 2.0, 29/11/2014\n",
      "              sumaclust version:\tSUMACLUST Version 1.0.00\n",
      "                  swarm version:\tNot installed.\n",
      "                          gdata:\tInstalled.\n",
      "\n",
      "QIIME config values\n",
      "===================\n",
      "For definitions of these settings and to learn how to configure QIIME, see here:\n",
      " http://qiime.org/install/qiime_config.html\n",
      " http://qiime.org/tutorials/parallel_qiime.html\n",
      "\n",
      "                     blastmat_dir:\t/Users/jwdebelius/blast/data\n",
      "      pick_otus_reference_seqs_fp:\t/Users/jwdebelius/.virtualenvs/amgut/lib/python2.7/site-packages/qiime_default_reference/gg_13_8_otus/rep_set/97_otus.fasta\n",
      "                    python_exe_fp:\t/Library/Frameworks/Python.framework/Versions/2.7/bin/python\n",
      "                         sc_queue:\tall.q\n",
      "      topiaryexplorer_project_dir:\tNone\n",
      "     pynast_template_alignment_fp:\t/Users/jwdebelius/.virtualenvs/amgut/lib/python2.7/site-packages/qiime_default_reference/gg_13_8_otus/rep_set_aligned/85_otus.fasta\n",
      "                  cluster_jobs_fp:\tNone\n",
      "pynast_template_alignment_blastdb:\tNone\n",
      "assign_taxonomy_reference_seqs_fp:\t/Users/jwdebelius/.virtualenvs/amgut/lib/python2.7/site-packages/qiime_default_reference/gg_13_8_otus/rep_set/97_otus.fasta\n",
      "                     torque_queue:\tfriendlyq\n",
      "   template_alignment_lanemask_fp:\tNone\n",
      "                    jobs_to_start:\t1\n",
      "                cloud_environment:\tFalse\n",
      "                qiime_scripts_dir:\t/Users/jwdebelius/Qiime/scripts/\n",
      "            denoiser_min_per_core:\t50\n",
      "                      working_dir:\tNone\n",
      "assign_taxonomy_id_to_taxonomy_fp:\t/Users/jwdebelius/.virtualenvs/amgut/lib/python2.7/site-packages/qiime_default_reference/gg_13_8_otus/taxonomy/97_otu_taxonomy.txt\n",
      "                         temp_dir:\t/tmp/\n",
      "                     slurm_memory:\tNone\n",
      "                      slurm_queue:\tNone\n",
      "                      blastall_fp:\t/Users/jwdebelius/bin/blastall\n",
      "                 seconds_to_sleep:\t2\n"
     ]
    }
   ],
   "source": [
    "!print_qiime_config.py"
   ]
  },
  {
   "cell_type": "code",
   "execution_count": 2,
   "metadata": {
    "collapsed": false
   },
   "outputs": [
    {
     "data": {
      "text/plain": [
       "'1.4.2'"
      ]
     },
     "execution_count": 2,
     "metadata": {},
     "output_type": "execute_result"
    }
   ],
   "source": [
    "import matplotlib\n",
    "matplotlib.__version__"
   ]
  },
  {
   "cell_type": "code",
   "execution_count": 3,
   "metadata": {
    "collapsed": false
   },
   "outputs": [
    {
     "data": {
      "text/plain": [
       "'0.2.2'"
      ]
     },
     "execution_count": 3,
     "metadata": {},
     "output_type": "execute_result"
    }
   ],
   "source": [
    "import skbio\n",
    "skbio.__version__"
   ]
  },
  {
   "cell_type": "code",
   "execution_count": null,
   "metadata": {
    "collapsed": true
   },
   "outputs": [],
   "source": []
  }
 ],
 "metadata": {
  "kernelspec": {
   "display_name": "Python 2",
   "language": "python",
   "name": "python2"
  },
  "language_info": {
   "codemirror_mode": {
    "name": "ipython",
    "version": 2
   },
   "file_extension": ".py",
   "mimetype": "text/x-python",
   "name": "python",
   "nbconvert_exporter": "python",
   "pygments_lexer": "ipython2",
   "version": "2.7.3"
  }
 },
 "nbformat": 4,
 "nbformat_minor": 0
}
