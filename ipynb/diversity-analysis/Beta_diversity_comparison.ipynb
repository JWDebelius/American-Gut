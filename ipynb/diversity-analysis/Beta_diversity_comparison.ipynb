{
 "cells": [
  {
   "cell_type": "code",
   "execution_count": 1,
   "metadata": {
    "collapsed": false
   },
   "outputs": [
    {
     "name": "stderr",
     "output_type": "stream",
     "text": [
      ":0: FutureWarning: IPython widgets are experimental and may change in the future.\n"
     ]
    }
   ],
   "source": [
    "import copy\n",
    "\n",
    "import numpy as np\n",
    "import pandas as pd\n",
    "from matplotlib import rcParams\n",
    "import matplotlib.pyplot as plt\n",
    "import skbio\n",
    "import seaborn as sn\n",
    "\n",
    "import americangut.notebook_environment as agenv\n",
    "import americangut.util as agu"
   ]
  },
  {
   "cell_type": "code",
   "execution_count": 2,
   "metadata": {
    "collapsed": false
   },
   "outputs": [],
   "source": [
    "% matplotlib inline\n",
    "\n",
    "# Formats the axes using seabron so they will be white, and have ticks\n",
    "# on the bottom of the axes.\n",
    "sn.set_style('ticks', {'axes.facecolor': 'none'})\n",
    "\n",
    "# Sets up plotting parameters so that the default setting is use to Helvetica\n",
    "# in plots\n",
    "rcParams['font.family'] = 'sans-serif'\n",
    "rcParams['font.sans-serif'] = ['Helvetica', 'Arial']\n",
    "rcParams['text.usetex'] = True"
   ]
  },
  {
   "cell_type": "code",
   "execution_count": 3,
   "metadata": {
    "collapsed": false
   },
   "outputs": [],
   "source": [
    "beta_fp = agu.get_existing_path(agenv.paths['beta']['100nt']['1k']['ag-pgp-hmp-gg-wunifrac'])\n",
    "\n",
    "agp_map_fp = agu.get_existing_path(agenv.paths['meta']['ag-cleaned-md'])\n",
    "hmp_map_fp = agu.get_existing_path(agenv.paths['meta']['hmp-cleaned-md'])"
   ]
  },
  {
   "cell_type": "code",
   "execution_count": 4,
   "metadata": {
    "collapsed": false
   },
   "outputs": [],
   "source": [
    "all_dm = skbio.DistanceMatrix.read(beta_fp)\n",
    "\n",
    "agp_map = pd.read_csv(agp_map_fp, sep='\\t', dtype=str, na_values=['unknown', 'no_data'])\n",
    "agp_map.set_index('#SampleID', inplace=True)\n",
    "\n",
    "hmp_map = pd.read_csv(hmp_map_fp, sep='\\t', dtype=str, na_values=['unknown', 'no_data'])\n",
    "hmp_map.set_index('#SampleID', inplace=True)"
   ]
  },
  {
   "cell_type": "code",
   "execution_count": 5,
   "metadata": {
    "collapsed": false
   },
   "outputs": [
    {
     "data": {
      "text/plain": [
       "(6773, 486)"
      ]
     },
     "execution_count": 5,
     "metadata": {},
     "output_type": "execute_result"
    }
   ],
   "source": [
    "agp_map.shape"
   ]
  },
  {
   "cell_type": "code",
   "execution_count": 6,
   "metadata": {
    "collapsed": false
   },
   "outputs": [
    {
     "data": {
      "text/plain": [
       "6773"
      ]
     },
     "execution_count": 6,
     "metadata": {},
     "output_type": "execute_result"
    }
   ],
   "source": [
    "agp_map.groupby('SIMPLE_BODY_SITE').count().max(1).sum()"
   ]
  },
  {
   "cell_type": "code",
   "execution_count": 9,
   "metadata": {
    "collapsed": false
   },
   "outputs": [],
   "source": [
    "agp_ids = set(agp_map.SIMPLE_BODY_SITE.dropna().index).intersection(set(all_dm.ids))\n",
    "hmp_ids = set(hmp_map.SIMPLE_BODY_SITE.dropna().index).intersection(set(all_dm.ids))"
   ]
  },
  {
   "cell_type": "code",
   "execution_count": 10,
   "metadata": {
    "collapsed": false
   },
   "outputs": [
    {
     "data": {
      "text/plain": [
       "SIMPLE_BODY_SITE\n",
       "FECAL     402\n",
       "ORAL     3497\n",
       "SKIN     2343\n",
       "dtype: int64"
      ]
     },
     "execution_count": 10,
     "metadata": {},
     "output_type": "execute_result"
    }
   ],
   "source": [
    "hmp_map.groupby('SIMPLE_BODY_SITE').count().max(1)"
   ]
  },
  {
   "cell_type": "code",
   "execution_count": 11,
   "metadata": {
    "collapsed": false
   },
   "outputs": [],
   "source": [
    "agp = copy.copy(all_dm).filter(agp_ids)\n",
    "hmp = copy.copy(all_dm).filter(hmp_ids)"
   ]
  },
  {
   "cell_type": "code",
   "execution_count": 12,
   "metadata": {
    "collapsed": true
   },
   "outputs": [],
   "source": [
    "iterations = 25"
   ]
  },
  {
   "cell_type": "code",
   "execution_count": null,
   "metadata": {
    "collapsed": false
   },
   "outputs": [],
   "source": [
    "results = {}\n",
    "for name, dm in zip(*(['AGP', 'HMP'], [agp, hmp])):\n",
    "    samples = dm.ids\n",
    "    mask = np.ones(dm.shape)\n",
    "    \n",
    "    num_possible = len(samples)\n",
    "    print num_possible\n",
    "    if num_possible < 1000:\n",
    "        depths = np.hstack((np.arange(3, 30, 3), np.arange(30, num_possible, 20)))\n",
    "    else:\n",
    "        depths = np.hstack((np.arange(3, 30, 3), \n",
    "                            np.arange(30, 500, 20),\n",
    "                            np.arange(500, num_possible, 50)))\n",
    "\n",
    "    min_dist = np.zeros((iterations, len(depths)))\n",
    "\n",
    "    for idx, iteration in enumerate(range(iterations)):\n",
    "        for idy, depth in enumerate(depths):\n",
    "            sub = np.random.choice(samples, depth, replace=False)\n",
    "            dists = dm.filter(sub).condensed_form()\n",
    "            min_dist[idx, idy] = np.min(dists)\n",
    "    \n",
    "    results[name] = min_dist"
   ]
  },
  {
   "cell_type": "markdown",
   "metadata": {},
   "source": [
    "Show full and embded sub figure at 1-1000 samples.\n",
    "Create inset?"
   ]
  },
  {
   "cell_type": "code",
   "execution_count": 12,
   "metadata": {
    "collapsed": false
   },
   "outputs": [
    {
     "data": {
      "image/png": "[encoded data removed]",
      "text/plain": [
       "<matplotlib.figure.Figure at 0x11460b210>"
      ]
     },
     "metadata": {},
     "output_type": "display_data"
    }
   ],
   "source": [
    "ax1 = plt.axes((0.25, 0.25, 0.6375, 0.6375))\n",
    "ax2 = plt.axes((0.6, 0.6, 0.25, 0.25))\n",
    "# ax2 = plt.subplot(3, 3, 3)\n",
    "\n",
    "\n",
    "ax1.fill_between(np.hstack((np.arange(3, 30, 3), \n",
    "                            np.arange(30, 500, 20),\n",
    "                            np.arange(500, 5667, 50))), \n",
    "                 results['AGP'].mean(0) - results['AGP'].std(0),\n",
    "                 results['AGP'].mean(0) + results['AGP'].std(0),\n",
    "                 alpha=0.25,\n",
    "                 )\n",
    "ax1.fill_between(np.hstack((np.arange(3, 30, 3), np.arange(30, num_possible, 20))),\n",
    "                 results['HMP'].mean(0) - results['HMP'].std(0),\n",
    "                 results['HMP'].mean(0) + results['HMP'].std(0),\n",
    "                 alpha=0.25,\n",
    "                 color = 'r',\n",
    "                 )\n",
    "ax2.fill_between(np.hstack((np.arange(3, 30, 3), \n",
    "                            np.arange(30, 500, 20),\n",
    "                            np.arange(500, 5667, 50))), \n",
    "                 results['AGP'].mean(0) - results['AGP'].std(0),\n",
    "                 results['AGP'].mean(0) + results['AGP'].std(0),\n",
    "                 alpha=0.25,\n",
    "                 )\n",
    "ax2.fill_between(np.hstack((np.arange(3, 30, 3), np.arange(30, num_possible, 20))),\n",
    "                 results['HMP'].mean(0) - results['HMP'].std(0),\n",
    "                 results['HMP'].mean(0) + results['HMP'].std(0),\n",
    "                 alpha=0.25,\n",
    "                 color = 'r',\n",
    "                 )\n",
    "ax1.plot(np.hstack((np.arange(3, 30, 3), \n",
    "                    np.arange(30, 500, 20),\n",
    "                    np.arange(500, 5667, 50))), \n",
    "          results['AGP'].mean(0))\n",
    "ax1.plot(np.hstack((np.arange(3, 30, 3), np.arange(30, num_possible, 20))),\n",
    "         results['HMP'].mean(0),\n",
    "         color='r',\n",
    "         )\n",
    "ax2.plot(np.hstack((np.arange(3, 30, 3), \n",
    "                    np.arange(30, 500, 20),\n",
    "                    np.arange(500, 5667, 50))), \n",
    "         results['AGP'].mean(0))\n",
    "ax2.plot(np.hstack((np.arange(3, 30, 3), np.arange(30, num_possible, 20))),\n",
    "         results['HMP'].mean(0),\n",
    "         color='r',\n",
    "         )\n",
    "\n",
    "ax2.set_xlim([0, 500])\n",
    "\n",
    "sn.despine()\n",
    "\n",
    "ax1.set_xticklabels(map(int, ax1.get_xticks()), size=11)\n",
    "ax2.set_xticklabels(map(int, ax2.get_xticks()), size=11)\n",
    "ax1.set_yticklabels(ax1.get_yticks(), size=11)\n",
    "ax2.set_yticklabels(ax2.get_yticks(), size=11)\n",
    "\n",
    "ax1.set_xlabel('Number of Samples', size=13)\n",
    "ax1.set_ylabel('Minimum UniFrac Distance', size=13)\n",
    "\n",
    "fig = plt.gcf()\n",
    "\n",
    "fig.savefig('/Users/jdebelius/Desktop/weighted_compare.pdf')"
   ]
  },
  {
   "cell_type": "markdown",
   "metadata": {},
   "source": [
    "randomly sample down to same number with oral and skin, to show convergence?\n",
    "\n",
    "How does stuff look in different stratifications in American gut\n",
    "replot with antibitoic usage.\n",
    "\n",
    "...Add inset."
   ]
  },
  {
   "cell_type": "code",
   "execution_count": null,
   "metadata": {
    "collapsed": true
   },
   "outputs": [],
   "source": [
    "results = {}\n",
    "for name, dm in zip(*(['AGP', 'HMP'], [agp, hmp])):\n",
    "    samples = dm.ids\n",
    "    mask = np.ones(dm.shape)\n",
    "    \n",
    "    num_possible = len(samples)\n",
    "    print num_possible\n",
    "    if num_possible < 500:\n",
    "        depths = np.arange(5, num_possible, 10)\n",
    "    else:\n",
    "        depths = np.arange(5, num_possible, 50)\n",
    "    min_dist = np.zeros((num_iter, len(depths)))\n",
    "\n",
    "    for idx, iteration in enumerate(range(iterations)):\n",
    "        for idy, depth in enumerate(depths):\n",
    "            sub = np.random.choice(samples, depth, replace=False)\n",
    "            dists = dm.filter(sub).condensed_form()\n",
    "            min_dist[idx, idy] = np.min(dists)\n",
    "    \n",
    "    results[name] = min_dist"
   ]
  }
 ],
 "metadata": {
  "kernelspec": {
   "display_name": "Python 2",
   "language": "python",
   "name": "python2"
  },
  "language_info": {
   "codemirror_mode": {
    "name": "ipython",
    "version": 2
   },
   "file_extension": ".py",
   "mimetype": "text/x-python",
   "name": "python",
   "nbconvert_exporter": "python",
   "pygments_lexer": "ipython2",
   "version": "2.7.11"
  }
 },
 "nbformat": 4,
 "nbformat_minor": 0
}
