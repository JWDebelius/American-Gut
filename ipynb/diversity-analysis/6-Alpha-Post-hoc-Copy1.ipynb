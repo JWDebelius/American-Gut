{
 "cells": [
  {
   "cell_type": "markdown",
   "metadata": {},
   "source": [
    "This notebook will let us examine alpha diversity for a category in depth. We're already summarized the alpha diveristy p values for all categories in a [previous notebook](). Here, we can do post-hoc testing and look at the alpha diversity values associated with a single category.\n",
    "\n",
    "Let's start by importing the modules and functions we'll need to the analysis."
   ]
  },
  {
   "cell_type": "code",
   "execution_count": null,
   "metadata": {
    "collapsed": false
   },
   "outputs": [],
   "source": [
    "import os\n",
    "\n",
    "import matplotlib.pyplot as plt\n",
    "import numpy as np\n",
    "import pandas as pd\n",
    "import seaborn as sn\n",
    "import scipy.stats\n",
    "import skbio\n",
    "\n",
    "import americangut.ag_dictionary as agdic\n",
    "import americangut.diversity_analysis as agdiv\n",
    "import americangut.notebook_environment as agenv\n",
    "from americangut.ag_data import AgData"
   ]
  },
  {
   "cell_type": "code",
   "execution_count": null,
   "metadata": {
    "collapsed": false
   },
   "outputs": [],
   "source": [
    "from matplotlib import rcParams\n",
    "\n",
    "% matplotlib inline\n",
    "\n",
    "# Formats the axes using seabron so they will be white, and have ticks\n",
    "# on the bottom of the axes.\n",
    "sn.set_style('ticks', {'axes.facecolor': 'none'})\n",
    "\n",
    "# Sets up plotting parameters so that the default setting is use to Helvetica\n",
    "# in plots\n",
    "rcParams['font.family'] = 'sans-serif'\n",
    "rcParams['font.sans-serif'] = ['Helvetica', 'Arial']\n",
    "rcParams['text.usetex'] = True"
   ]
  },
  {
   "cell_type": "markdown",
   "metadata": {},
   "source": [
    "Next, let's select the data set and rarefaction depth we wish to use."
   ]
  },
  {
   "cell_type": "code",
   "execution_count": null,
   "metadata": {
    "collapsed": true
   },
   "outputs": [],
   "source": [
    "bodysite = 'fecal'\n",
    "sequence_trim = '100nt'\n",
    "rarefaction_depth = '10k'\n",
    "\n",
    "use_subset = True\n",
    "use_one_sample = True"
   ]
  },
  {
   "cell_type": "markdown",
   "metadata": {},
   "source": [
    "Next, we'll load the data, and remove outliers."
   ]
  },
  {
   "cell_type": "code",
   "execution_count": null,
   "metadata": {
    "collapsed": false
   },
   "outputs": [],
   "source": [
    "data = AgData(bodysite=bodysite, \n",
    "                    trim=sequence_trim, \n",
    "                    depth=rarefaction_depth, \n",
    "                    sub_participants=use_subset, \n",
    "                    one_sample=use_one_sample)\n",
    "\n",
    "data.drop_alpha_outliers()\n",
    "data.drop_bmi_outliers()\n",
    "data.clean_age()"
   ]
  },
  {
   "cell_type": "code",
   "execution_count": null,
   "metadata": {
    "collapsed": false
   },
   "outputs": [],
   "source": [
    "quality = agdic.ag_dictionary('BOWEL_MOVEMENT_QUALITY')\n",
    "ibs = agdic.ag_dictionary('IBS')\n",
    "ibs.strict = False\n",
    "data.clean_group(quality)\n",
    "data.clean_group(ibs)"
   ]
  },
  {
   "cell_type": "code",
   "execution_count": null,
   "metadata": {
    "collapsed": false
   },
   "outputs": [],
   "source": [
    "data.map_.groupby(ibs.name).count().max(1)"
   ]
  },
  {
   "cell_type": "code",
   "execution_count": null,
   "metadata": {
    "collapsed": false
   },
   "outputs": [],
   "source": [
    "data.map_.groupby(quality.name).count().max(1)"
   ]
  },
  {
   "cell_type": "code",
   "execution_count": null,
   "metadata": {
    "collapsed": false
   },
   "outputs": [],
   "source": [
    "ibs_stack = data.map_.groupby(('IBS', 'BOWEL_MOVEMENT_QUALITY')).count().max(1)"
   ]
  },
  {
   "cell_type": "code",
   "execution_count": null,
   "metadata": {
    "collapsed": false
   },
   "outputs": [],
   "source": [
    "chi, p, df, pred = scipy.stats.chi2_contingency(ibs_stack.unstack().values)"
   ]
  },
  {
   "cell_type": "code",
   "execution_count": null,
   "metadata": {
    "collapsed": false
   },
   "outputs": [],
   "source": [
    "ibs_stack.unstack()"
   ]
  },
  {
   "cell_type": "code",
   "execution_count": null,
   "metadata": {
    "collapsed": false
   },
   "outputs": [],
   "source": [
    "pred"
   ]
  },
  {
   "cell_type": "code",
   "execution_count": null,
   "metadata": {
    "collapsed": false
   },
   "outputs": [],
   "source": [
    "help(scipy.stats.chi2_contingency)"
   ]
  },
  {
   "cell_type": "code",
   "execution_count": null,
   "metadata": {
    "collapsed": false
   },
   "outputs": [],
   "source": [
    "ibd = {u'10317.000012951', u'10317.000017746', u'10317.000001620',\n",
    "       u'10317.000001748', u'10317.000009382', u'10317.000001544',\n",
    "       u'10317.000005953', u'10317.000009004', u'10317.000013010',\n",
    "       u'10317.000014579', u'10317.000001827', u'10317.000013023',\n",
    "       u'10317.000009157', u'10317.000001362', u'10317.000001135',\n",
    "       u'10317.000004855', u'10317.000005878', u'10317.000007719',\n",
    "       u'10317.000009126', u'10317.000007068', u'10317.000010134',\n",
    "       u'10317.000010112', u'10317.000003300', u'10317.000002830',\n",
    "       u'10317.000014236', u'10317.000012936', u'10317.000013575',\n",
    "       u'10317.000001047', u'10317.000005360', u'10317.000001333',\n",
    "       u'10317.000015581', u'10317.000003189', u'10317.000001128',\n",
    "       u'10317.000015907', u'10317.000017338', u'10317.000013062',\n",
    "       u'10317.000013595', u'10317.000009533', u'10317.000010546',\n",
    "       u'10317.000001685', u'10317.000004163', u'10317.000001751',\n",
    "       u'10317.000013551', u'10317.000005889', u'10317.000002036',\n",
    "       u'10317.000002783', u'10317.000004157', u'10317.000001364',\n",
    "       u'10317.000001622', u'10317.000004783', u'10317.000008999',\n",
    "       u'10317.000009149', u'10317.000001895', u'10317.000011375',\n",
    "       u'10317.000014880', u'10317.000001291', u'10317.000010876',\n",
    "       u'10317.000014607', u'10317.000014987', u'10317.000002271',\n",
    "       u'10317.000003898', u'10317.000009144', u'10317.000002482',\n",
    "       u'10317.000014608', u'10317.000013134', u'10317.000001647',\n",
    "       u'10317.000011959', u'10317.000009626', u'10317.000004025',\n",
    "       u'10317.000014291', u'10317.000001351', u'10317.000002859',\n",
    "       u'10317.000014118', u'10317.000004612', u'10317.000018383',\n",
    "       u'10317.000001575', u'10317.000004161', u'10317.000015873',\n",
    "       u'10317.000005971', u'10317.000004192', u'10317.000001322',\n",
    "       u'10317.000004162', u'10317.000002336', u'10317.000010147',\n",
    "       u'10317.000006673', u'10317.000004752', u'10317.000005851',\n",
    "       u'10317.000009236', u'10317.000001363', u'10317.000014458',\n",
    "       u'10317.000011093', u'10317.000009164', u'10317.000005810',\n",
    "       u'10317.000003047', u'10317.000015849', u'10317.000004790',\n",
    "       }\n",
    "actual = set(ibd).intersection(data.map_.index)\n",
    "# len(actual)\n",
    "data.map_.loc[actual, 'IBD_DIAGONOSIS'] = 'Yes'"
   ]
  },
  {
   "cell_type": "markdown",
   "metadata": {},
   "source": [
    "Next, let's set up a directory where we will save our results."
   ]
  },
  {
   "cell_type": "code",
   "execution_count": null,
   "metadata": {
    "collapsed": false
   },
   "outputs": [],
   "source": [
    "# save_dir = agenv.check_save_dir(fecal_data.data_set)\n",
    "save_dir =  '/Users/jdebelius/Desktop/'\n",
    "fig_dir = os.path.join(save_dir, 'alpha/images/')\n",
    "tab_dir = os.path.join(save_dir, 'alpha/summary/')\n",
    "\n",
    "if not os.path.exists(fig_dir):\n",
    "    os.makedirs(fig_dir)\n",
    "if not os.path.exists(tab_dir):\n",
    "    os.makedirs(tab_dir)"
   ]
  },
  {
   "cell_type": "markdown",
   "metadata": {},
   "source": [
    "Finally, we can pick the alpha diversity metric, the category to interogate, and set and order, if one is relevant."
   ]
  },
  {
   "cell_type": "code",
   "execution_count": null,
   "metadata": {
    "collapsed": true
   },
   "outputs": [],
   "source": [
    "metric = 'PD_whole_tree'\n",
    "\n",
    "# group_name = 'COUNTRY'"
   ]
  },
  {
   "cell_type": "markdown",
   "metadata": {},
   "source": [
    "Now, let's read the files assoicated with the data and load the data dictionary entry for the group."
   ]
  },
  {
   "cell_type": "code",
   "execution_count": null,
   "metadata": {
    "collapsed": false
   },
   "outputs": [],
   "source": [
    "for group_name in agdic.dictionary.iterkeys():\n",
    "    group = agdic.ag_dictionary(group_name)\n",
    "    data.clean_group(group)"
   ]
  },
  {
   "cell_type": "code",
   "execution_count": null,
   "metadata": {
    "collapsed": false
   },
   "outputs": [],
   "source": [
    "data.map_.loc[data.map_.IBD_DIAGONOSIS == 'Yes', 'IBD'] = 'Yes'"
   ]
  },
  {
   "cell_type": "code",
   "execution_count": null,
   "metadata": {
    "collapsed": false
   },
   "outputs": [],
   "source": [
    "data.map_.groupby('IBD').count().max(1)"
   ]
  },
  {
   "cell_type": "code",
   "execution_count": null,
   "metadata": {
    "collapsed": false
   },
   "outputs": [],
   "source": [
    "data.map_.to_csv('/Users/jdebelius/Desktop/clean_subset.txt',\n",
    "                       sep='\\t', index_label='#SampleID')"
   ]
  },
  {
   "cell_type": "code",
   "execution_count": null,
   "metadata": {
    "collapsed": false
   },
   "outputs": [],
   "source": [
    "fecal_data.clean_group(group)\n",
    "group.remap_groups(fecal_data.map_)"
   ]
  },
  {
   "cell_type": "markdown",
   "metadata": {},
   "source": [
    "We're going to start by cleaning up the data. So, let's remove any samples that might be outliers (in rounds 1-21, there is a sample with alpha diveristy seven standard deivations above the mean and 4 standard deviations about the next highest sample).\n",
    "\n",
    "We'll also clean up the mapping column as needed, to make analsyis easier."
   ]
  },
  {
   "cell_type": "markdown",
   "metadata": {},
   "source": [
    "Now that we have the data loaded, let's plot it."
   ]
  },
  {
   "cell_type": "code",
   "execution_count": null,
   "metadata": {
    "collapsed": false
   },
   "outputs": [],
   "source": [
    "with sn.color_palette(sn.xkcd_palette(['coral', 'ocean blue'])):\n",
    "    ax = agdiv.pretty_pandas_boxplot(meta=fecal_data.map_,\n",
    "                                     group=group.name,\n",
    "                                     metric='%s_%s' % (metric, rarefaction_depth),\n",
    "                                     order=group.order,\n",
    "    #                                  bw=True,\n",
    "                                     colors=['#2b8cbe', '#bd0026'],\n",
    "                                     ylim=[5, 55],\n",
    "                                     xlabel=group.clean_name,\n",
    "                                     xticklabels=group.order,\n",
    "                                     ylabel='PD Whole Tree Diversity',\n",
    "                                     show_p=True,\n",
    "                                     )\n",
    "    ax.set_position((0.2, 0.2, 0.15*len(group.order), 0.75))\n",
    "\n",
    "    ax.figure.savefig(os.path.join(fig_dir, '%s.pdf' % group.name))"
   ]
  },
  {
   "cell_type": "markdown",
   "metadata": {},
   "source": [
    "We can also examine significant differences using a post-hoc test to see what drives these differences."
   ]
  },
  {
   "cell_type": "code",
   "execution_count": null,
   "metadata": {
    "collapsed": false
   },
   "outputs": [],
   "source": [
    "post_hoc = agdiv.post_hoc_pandas(meta=fecal_data.map_,\n",
    "                                 group=group.name,\n",
    "                                 cat='%s_%s'% (metric, rarefaction_depth),\n",
    "                                 order=group.order,\n",
    "                                 correct='bonferroni',\n",
    "                                 )\n",
    "post_hoc"
   ]
  },
  {
   "cell_type": "code",
   "execution_count": null,
   "metadata": {
    "collapsed": false
   },
   "outputs": [],
   "source": [
    "quality = agdic.ag_dictionary('BOWEL_MOVEMENT_QUALITY')\n",
    "frequency = agdic.ag_dictionary('BOWEL_MOVEMENT_FREQUENCY')\n",
    "\n",
    "fecal_data.clean_group(quality)\n",
    "fecal_data.clean_group(frequency)"
   ]
  }
 ],
 "metadata": {
  "kernelspec": {
   "display_name": "Python 2",
   "language": "python",
   "name": "python2"
  },
  "language_info": {
   "codemirror_mode": {
    "name": "ipython",
    "version": 2
   },
   "file_extension": ".py",
   "mimetype": "text/x-python",
   "name": "python",
   "nbconvert_exporter": "python",
   "pygments_lexer": "ipython2",
   "version": "2.7.11"
  }
 },
 "nbformat": 4,
 "nbformat_minor": 0
}
