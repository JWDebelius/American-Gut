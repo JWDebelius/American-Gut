{
 "cells": [
  {
   "cell_type": "markdown",
   "metadata": {},
   "source": [
    "This notebook will let us examine alpha diversity for a category in depth. We're already summarized the alpha diveristy p values for all categories in a [previous notebook](). Here, we can do post-hoc testing and look at the alpha diversity values associated with a single category.\n",
    "\n",
    "Let's start by importing the modules and functions we'll need to the analysis."
   ]
  },
  {
   "cell_type": "code",
   "execution_count": 1,
   "metadata": {
    "collapsed": false
   },
   "outputs": [
    {
     "name": "stderr",
     "output_type": "stream",
     "text": [
      ":0: FutureWarning: IPython widgets are experimental and may change in the future.\n"
     ]
    }
   ],
   "source": [
    "import os\n",
    "\n",
    "import matplotlib.pyplot as plt\n",
    "import numpy as np\n",
    "import pandas as pd\n",
    "import seaborn as sn\n",
    "import scipy.stats\n",
    "import skbio\n",
    "\n",
    "import americangut.ag_dictionary as agdic\n",
    "import americangut.diversity_analysis as agdiv\n",
    "import americangut.notebook_environment as agenv\n",
    "from americangut.ag_data import AgData"
   ]
  },
  {
   "cell_type": "code",
   "execution_count": 2,
   "metadata": {
    "collapsed": false
   },
   "outputs": [],
   "source": [
    "from matplotlib import rcParams\n",
    "\n",
    "% matplotlib inline\n",
    "\n",
    "# Formats the axes using seabron so they will be white, and have ticks\n",
    "# on the bottom of the axes.\n",
    "sn.set_style('ticks', {'axes.facecolor': 'none'})\n",
    "\n",
    "# Sets up plotting parameters so that the default setting is use to Helvetica\n",
    "# in plots\n",
    "rcParams['font.family'] = 'sans-serif'\n",
    "rcParams['font.sans-serif'] = ['Helvetica', 'Arial']\n",
    "rcParams['text.usetex'] = True"
   ]
  },
  {
   "cell_type": "markdown",
   "metadata": {},
   "source": [
    "Next, let's select the data set and rarefaction depth we wish to use."
   ]
  },
  {
   "cell_type": "code",
   "execution_count": 3,
   "metadata": {
    "collapsed": true
   },
   "outputs": [],
   "source": [
    "bodysite = 'fecal'\n",
    "sequence_trim = '100nt'\n",
    "rarefaction_depth = '10k'\n",
    "\n",
    "use_subset = True\n",
    "use_one_sample = True"
   ]
  },
  {
   "cell_type": "markdown",
   "metadata": {},
   "source": [
    "Next, we'll load the data, and remove outliers."
   ]
  },
  {
   "cell_type": "code",
   "execution_count": 4,
   "metadata": {
    "collapsed": false
   },
   "outputs": [],
   "source": [
    "fecal_data = AgData(bodysite=bodysite, \n",
    "                    trim=sequence_trim, \n",
    "                    depth=rarefaction_depth, \n",
    "                    sub_participants=use_subset, \n",
    "                    one_sample=use_one_sample)\n",
    "\n",
    "fecal_data.drop_alpha_outliers()\n",
    "fecal_data.drop_bmi_outliers()\n",
    "fecal_data.clean_age()"
   ]
  },
  {
   "cell_type": "markdown",
   "metadata": {},
   "source": [
    "Next, let's set up a directory where we will save our results."
   ]
  },
  {
   "cell_type": "code",
   "execution_count": 5,
   "metadata": {
    "collapsed": false
   },
   "outputs": [],
   "source": [
    "# save_dir = agenv.check_save_dir(fecal_data.data_set)\n",
    "save_dir =  '/Users/jdebelius/Desktop/'\n",
    "fig_dir = os.path.join(save_dir, 'alpha/images/')\n",
    "tab_dir = os.path.join(save_dir, 'alpha/summary/')\n",
    "\n",
    "if not os.path.exists(fig_dir):\n",
    "    os.makedirs(fig_dir)\n",
    "if not os.path.exists(tab_dir):\n",
    "    os.makedirs(tab_dir)"
   ]
  },
  {
   "cell_type": "markdown",
   "metadata": {},
   "source": [
    "Finally, we can pick the alpha diversity metric, the category to interogate, and set and order, if one is relevant."
   ]
  },
  {
   "cell_type": "code",
   "execution_count": 8,
   "metadata": {
    "collapsed": true
   },
   "outputs": [],
   "source": [
    "metric = 'PD_whole_tree'\n",
    "\n",
    "group_name = 'COUNTRY'"
   ]
  },
  {
   "cell_type": "markdown",
   "metadata": {},
   "source": [
    "Now, let's read the files assoicated with the data and load the data dictionary entry for the group."
   ]
  },
  {
   "cell_type": "code",
   "execution_count": 9,
   "metadata": {
    "collapsed": true
   },
   "outputs": [],
   "source": [
    "group = agdic.ag_dictionary(group_name)"
   ]
  },
  {
   "cell_type": "code",
   "execution_count": 10,
   "metadata": {
    "collapsed": false
   },
   "outputs": [],
   "source": [
    "fecal_data.clean_group(group)\n",
    "group.remap_groups(fecal_data.map_)"
   ]
  },
  {
   "cell_type": "markdown",
   "metadata": {},
   "source": [
    "We're going to start by cleaning up the data. So, let's remove any samples that might be outliers (in rounds 1-21, there is a sample with alpha diveristy seven standard deivations above the mean and 4 standard deviations about the next highest sample).\n",
    "\n",
    "We'll also clean up the mapping column as needed, to make analsyis easier."
   ]
  },
  {
   "cell_type": "markdown",
   "metadata": {},
   "source": [
    "Now that we have the data loaded, let's plot it."
   ]
  },
  {
   "cell_type": "code",
   "execution_count": 18,
   "metadata": {
    "collapsed": false
   },
   "outputs": [
    {
     "data": {
      "image/png": "[encoded data removed]",
      "text/plain": [
       "<matplotlib.figure.Figure at 0x11a9bd2d0>"
      ]
     },
     "metadata": {},
     "output_type": "display_data"
    }
   ],
   "source": [
    "with sn.color_palette(sn.xkcd_palette(['coral', 'ocean blue'])):\n",
    "    ax = agdiv.pretty_pandas_boxplot(meta=fecal_data.map_,\n",
    "                                     group=group.name,\n",
    "                                     metric='%s_%s' % (metric, rarefaction_depth),\n",
    "                                     order=group.order,\n",
    "    #                                  bw=True,\n",
    "                                     colors=['#2b8cbe', '#bd0026'],\n",
    "                                     ylim=[5, 55],\n",
    "                                     xlabel=group.clean_name,\n",
    "                                     xticklabels=group.order,\n",
    "                                     ylabel='PD Whole Tree Diversity',\n",
    "                                     show_p=True,\n",
    "                                     )\n",
    "    ax.set_position((0.2, 0.2, 0.15*len(group.order), 0.75))\n",
    "\n",
    "    ax.figure.savefig(os.path.join(fig_dir, '%s.pdf' % group.name))"
   ]
  },
  {
   "cell_type": "markdown",
   "metadata": {},
   "source": [
    "We can also examine significant differences using a post-hoc test to see what drives these differences."
   ]
  },
  {
   "cell_type": "code",
   "execution_count": 18,
   "metadata": {
    "collapsed": false
   },
   "outputs": [
    {
     "data": {
      "text/html": [
       "<div>\n",
       "<table border=\"1\" class=\"dataframe\">\n",
       "  <thead>\n",
       "    <tr style=\"text-align: right;\">\n",
       "      <th></th>\n",
       "      <th>Counts</th>\n",
       "      <th>Mean</th>\n",
       "      <th>Median</th>\n",
       "      <th>Stdv</th>\n",
       "      <th>Never</th>\n",
       "      <th>A few times/month</th>\n",
       "      <th>1-2 times/week</th>\n",
       "      <th>3-5 times/week</th>\n",
       "    </tr>\n",
       "    <tr>\n",
       "      <th>ALCOHOL_FREQUENCY</th>\n",
       "      <th></th>\n",
       "      <th></th>\n",
       "      <th></th>\n",
       "      <th></th>\n",
       "      <th></th>\n",
       "      <th></th>\n",
       "      <th></th>\n",
       "      <th></th>\n",
       "    </tr>\n",
       "  </thead>\n",
       "  <tbody>\n",
       "    <tr>\n",
       "      <th>Never</th>\n",
       "      <td>240</td>\n",
       "      <td>30.889943</td>\n",
       "      <td>30.916529</td>\n",
       "      <td>6.402433</td>\n",
       "      <td>NaN</td>\n",
       "      <td>NaN</td>\n",
       "      <td>NaN</td>\n",
       "      <td>NaN</td>\n",
       "    </tr>\n",
       "    <tr>\n",
       "      <th>A few times/month</th>\n",
       "      <td>396</td>\n",
       "      <td>32.211963</td>\n",
       "      <td>32.415365</td>\n",
       "      <td>5.812173</td>\n",
       "      <td>0.027409</td>\n",
       "      <td>NaN</td>\n",
       "      <td>NaN</td>\n",
       "      <td>NaN</td>\n",
       "    </tr>\n",
       "    <tr>\n",
       "      <th>1-2 times/week</th>\n",
       "      <td>401</td>\n",
       "      <td>32.798563</td>\n",
       "      <td>32.615696</td>\n",
       "      <td>5.682771</td>\n",
       "      <td>0.000442</td>\n",
       "      <td>1.000000</td>\n",
       "      <td>NaN</td>\n",
       "      <td>NaN</td>\n",
       "    </tr>\n",
       "    <tr>\n",
       "      <th>3-5 times/week</th>\n",
       "      <td>346</td>\n",
       "      <td>32.622247</td>\n",
       "      <td>33.033849</td>\n",
       "      <td>5.714327</td>\n",
       "      <td>0.002152</td>\n",
       "      <td>1.000000</td>\n",
       "      <td>1</td>\n",
       "      <td>NaN</td>\n",
       "    </tr>\n",
       "    <tr>\n",
       "      <th>Daily</th>\n",
       "      <td>194</td>\n",
       "      <td>33.193276</td>\n",
       "      <td>32.943651</td>\n",
       "      <td>5.409528</td>\n",
       "      <td>0.000435</td>\n",
       "      <td>0.865264</td>\n",
       "      <td>1</td>\n",
       "      <td>1</td>\n",
       "    </tr>\n",
       "  </tbody>\n",
       "</table>\n",
       "</div>"
      ],
      "text/plain": [
       "                   Counts       Mean     Median      Stdv     Never  \\\n",
       "ALCOHOL_FREQUENCY                                                     \n",
       "Never                 240  30.889943  30.916529  6.402433       NaN   \n",
       "A few times/month     396  32.211963  32.415365  5.812173  0.027409   \n",
       "1-2 times/week        401  32.798563  32.615696  5.682771  0.000442   \n",
       "3-5 times/week        346  32.622247  33.033849  5.714327  0.002152   \n",
       "Daily                 194  33.193276  32.943651  5.409528  0.000435   \n",
       "\n",
       "                   A few times/month  1-2 times/week  3-5 times/week  \n",
       "ALCOHOL_FREQUENCY                                                     \n",
       "Never                            NaN             NaN             NaN  \n",
       "A few times/month                NaN             NaN             NaN  \n",
       "1-2 times/week              1.000000             NaN             NaN  \n",
       "3-5 times/week              1.000000               1             NaN  \n",
       "Daily                       0.865264               1               1  "
      ]
     },
     "execution_count": 18,
     "metadata": {},
     "output_type": "execute_result"
    }
   ],
   "source": [
    "post_hoc = agdiv.post_hoc_pandas(meta=fecal_data.map_,\n",
    "                                 group=group.name,\n",
    "                                 cat='%s_%s'% (metric, rarefaction_depth),\n",
    "                                 order=group.order,\n",
    "                                 correct='bonferroni',\n",
    "                                 )\n",
    "post_hoc"
   ]
  },
  {
   "cell_type": "code",
   "execution_count": 26,
   "metadata": {
    "collapsed": false
   },
   "outputs": [],
   "source": [
    "quality = agdic.ag_dictionary('BOWEL_MOVEMENT_QUALITY')\n",
    "frequency = agdic.ag_dictionary('BOWEL_MOVEMENT_FREQUENCY')\n",
    "\n",
    "fecal_data.clean_group(quality)\n",
    "fecal_data.clean_group(frequency)"
   ]
  }
 ],
 "metadata": {
  "kernelspec": {
   "display_name": "Python 2",
   "language": "python",
   "name": "python2"
  },
  "language_info": {
   "codemirror_mode": {
    "name": "ipython",
    "version": 2
   },
   "file_extension": ".py",
   "mimetype": "text/x-python",
   "name": "python",
   "nbconvert_exporter": "python",
   "pygments_lexer": "ipython2",
   "version": "2.7.11"
  }
 },
 "nbformat": 4,
 "nbformat_minor": 0
}
