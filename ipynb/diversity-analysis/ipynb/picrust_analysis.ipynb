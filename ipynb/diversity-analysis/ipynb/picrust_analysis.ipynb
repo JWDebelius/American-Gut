{
 "cells": [
  {
   "cell_type": "markdown",
   "metadata": {},
   "source": [
    "- Filter out low abundance pathways\n",
    "- Knock out human pathways\n"
   ]
  },
  {
   "cell_type": "code",
   "execution_count": 1,
   "metadata": {
    "collapsed": false
   },
   "outputs": [
    {
     "ename": "ImportError",
     "evalue": "No module named composition",
     "output_type": "error",
     "traceback": [
      "\u001b[0;31m---------------------------------------------------------------------------\u001b[0m",
      "\u001b[0;31mImportError\u001b[0m                               Traceback (most recent call last)",
      "\u001b[0;32m<ipython-input-1-a06df2bc7467>\u001b[0m in \u001b[0;36m<module>\u001b[0;34m()\u001b[0m\n\u001b[1;32m      4\u001b[0m \u001b[0;32mimport\u001b[0m \u001b[0mpandas\u001b[0m \u001b[0;32mas\u001b[0m \u001b[0mpd\u001b[0m\u001b[0;34m\u001b[0m\u001b[0m\n\u001b[1;32m      5\u001b[0m \u001b[0;32mfrom\u001b[0m \u001b[0mbiom\u001b[0m \u001b[0;32mimport\u001b[0m \u001b[0mload_table\u001b[0m\u001b[0;34m\u001b[0m\u001b[0m\n\u001b[0;32m----> 6\u001b[0;31m \u001b[0;32mfrom\u001b[0m \u001b[0mskbio\u001b[0m\u001b[0;34m.\u001b[0m\u001b[0mstats\u001b[0m\u001b[0;34m.\u001b[0m\u001b[0mcomposition\u001b[0m \u001b[0;32mimport\u001b[0m \u001b[0mancom\u001b[0m\u001b[0;34m,\u001b[0m \u001b[0mclosure\u001b[0m\u001b[0;34m\u001b[0m\u001b[0m\n\u001b[0m\u001b[1;32m      7\u001b[0m \u001b[0;32mfrom\u001b[0m \u001b[0mstatsmodels\u001b[0m\u001b[0;34m.\u001b[0m\u001b[0msandbox\u001b[0m\u001b[0;34m.\u001b[0m\u001b[0mstats\u001b[0m\u001b[0;34m.\u001b[0m\u001b[0mmulticomp\u001b[0m \u001b[0;32mimport\u001b[0m \u001b[0mmultipletests\u001b[0m\u001b[0;34m\u001b[0m\u001b[0m\n\u001b[1;32m      8\u001b[0m \u001b[0;32mimport\u001b[0m \u001b[0mwarnings\u001b[0m\u001b[0;34m\u001b[0m\u001b[0m\n",
      "\u001b[0;31mImportError\u001b[0m: No module named composition"
     ]
    }
   ],
   "source": [
    "import matplotlib\n",
    "import matplotlib.pyplot as plt\n",
    "import numpy as np\n",
    "import pandas as pd\n",
    "from biom import load_table\n",
    "from skbio.stats.composition import ancom, closure\n",
    "from statsmodels.sandbox.stats.multicomp import multipletests\n",
    "import warnings\n",
    "import seaborn as sns\n",
    "from scipy.stats import kruskal\n",
    "warnings.filterwarnings(\"ignore\")\n",
    "%matplotlib inline"
   ]
  },
  {
   "cell_type": "markdown",
   "metadata": {},
   "source": [
    "These tables were obtained through 10k rarified OTU tables on fecal samples.  \n",
    "The otu table was then normalized by copy number and metagenomic abundances were predicted from the normalized OTU table"
   ]
  },
  {
   "cell_type": "code",
   "execution_count": null,
   "metadata": {
    "collapsed": false
   },
   "outputs": [],
   "source": [
    "table = load_table('data/ag_10k_fecal_pathway3.biom')\n",
    "metadata = pd.read_table('data/ag_fecal.txt', index_col=0)\n",
    "singles = pd.read_table('data/single_ids_10k.txt', index_col=0)"
   ]
  },
  {
   "cell_type": "markdown",
   "metadata": {},
   "source": [
    "Now, we'll declare a set of pathways as artifacts.  Just because they are determined to have a match in the KEGG database, doesn't mean that they are a true match.  Some of the KEGGs below are human genes."
   ]
  },
  {
   "cell_type": "code",
   "execution_count": 2,
   "metadata": {
    "collapsed": true
   },
   "outputs": [],
   "source": [
    " artifacts = {  'Hypertrophic cardiomyopathy (HCM)',              \n",
    "                'Antigen processing and presentation',\n",
    "                'Bladder cancer','Amyotrophic lateral sclerosis (ALS)',\n",
    "                'Photosynthesis', 'Adipocytokine signaling pathway',\n",
    "                'MAPK signaling pathway - yeast','Prostate cancer',\n",
    "                'NOD-like receptor signaling pathway',\n",
    "                'Progesterone-mediated oocyte maturation',\n",
    "                'Type I diabetes mellitus', \n",
    "                'Plant-pathogen interaction',\n",
    "                'Ribosome biogenesis in eukaryotes',\n",
    "                'Type II diabetes mellitus',\n",
    "                'RIG-I-like receptor signaling pathway',\n",
    "                'Cardiac muscle contraction',\n",
    "                'Prion diseases',\n",
    "                'Amyotrophic lateral sclerosis',\n",
    "                'African trypanosomiasis',r\"Huntington's disease\",\n",
    "                'Vibrio cholerae pathogenic cycle',\n",
    "                'Retinol metabolism',\n",
    "                'Salmonella infection',\n",
    "                'Cardiac muscle contraction',\n",
    "                'Type I diabetes mellitus'} "
   ]
  },
  {
   "cell_type": "code",
   "execution_count": 4,
   "metadata": {
    "collapsed": false
   },
   "outputs": [],
   "source": [
    "read_filter = lambda val, id_, md: sum(val) > 1000 \n",
    "sparse_filter = lambda val, id_, md: np.count_nonzero(val) / len(val) > 0.25 \n",
    "pathway_filter = lambda val, id_, md: id_ not in artifacts \n",
    "table = table.filter(pathway_filter, axis='observation')\n",
    "table = table.filter(read_filter, axis='observation')\n",
    "table = table.filter(sparse_filter, axis='observation') \n",
    " "
   ]
  },
  {
   "cell_type": "markdown",
   "metadata": {},
   "source": [
    "We'll also convert all of the abundances to proportions.  Zeros will be handled by adding 1 to everything."
   ]
  },
  {
   "cell_type": "code",
   "execution_count": 5,
   "metadata": {
    "collapsed": false
   },
   "outputs": [],
   "source": [
    "mat = np.array(table.matrix_data.todense()).T\n",
    "df = pd.DataFrame(closure(mat+1), \n",
    "                  index=table.ids(axis='sample'), \n",
    "                  columns=table.ids(axis='observation'))"
   ]
  },
  {
   "cell_type": "markdown",
   "metadata": {},
   "source": [
    "We'll only isolate the single samples, to avoid any dependence issues when running statistical tests.\n",
    "\n",
    "Since the `TYPES_OF_PLANTS` was dropped in later studies, we'll only look at the participants that answered this question."
   ]
  },
  {
   "cell_type": "code",
   "execution_count": 6,
   "metadata": {
    "collapsed": true
   },
   "outputs": [],
   "source": [
    "metadata = metadata.loc[singles.index, :]\n",
    "metadata = metadata.loc[metadata['TYPES_OF_PLANTS'] != 'Unknown', :]\n",
    "metadata = metadata.loc[pd.notnull(metadata['TYPES_OF_PLANTS']), :]"
   ]
  },
  {
   "cell_type": "code",
   "execution_count": 7,
   "metadata": {
    "collapsed": false
   },
   "outputs": [],
   "source": [
    "df = df.loc[list(set(df.index) & set(metadata.index)), :]\n",
    "metadata = metadata.loc[list(set(df.index) & set(metadata.index)), :]"
   ]
  },
  {
   "cell_type": "code",
   "execution_count": 8,
   "metadata": {
    "collapsed": false
   },
   "outputs": [],
   "source": [
    "# res = ancom(df+1, metadata['TYPES_OF_PLANTS'])"
   ]
  },
  {
   "cell_type": "code",
   "execution_count": 11,
   "metadata": {
    "collapsed": false
   },
   "outputs": [
    {
     "data": {
      "text/plain": [
       "(2170, 241)"
      ]
     },
     "execution_count": 11,
     "metadata": {},
     "output_type": "execute_result"
    }
   ],
   "source": [
    "df.shape"
   ]
  },
  {
   "cell_type": "code",
   "execution_count": 12,
   "metadata": {
    "collapsed": true
   },
   "outputs": [],
   "source": [
    "f = lambda x : kruskal(*[x.loc[i] for i in metadata.groupby('TYPES_OF_PLANTS').groups.values()])\n",
    "res = df.apply(f, axis=0)\n",
    "reject, pvalues, _, _ = multipletests([x[1] for x in res], alpha=0.05)\n",
    "res = res[reject]"
   ]
  },
  {
   "cell_type": "markdown",
   "metadata": {},
   "source": [
    "We'll extract only the significant OTUs detected by ANCOM.  Then we'll log transform the data and subtract out the means.  It'll make it easier to visualize on the heatmaps."
   ]
  },
  {
   "cell_type": "code",
   "execution_count": 13,
   "metadata": {
    "collapsed": false
   },
   "outputs": [
    {
     "data": {
      "text/plain": [
       "20"
      ]
     },
     "execution_count": 13,
     "metadata": {},
     "output_type": "execute_result"
    }
   ],
   "source": [
    "sum(reject)"
   ]
  },
  {
   "cell_type": "code",
   "execution_count": 14,
   "metadata": {
    "collapsed": false
   },
   "outputs": [],
   "source": [
    "#sig = res[res['reject']==True]\n",
    "df = df.loc[:, reject]\n",
    "df = np.log(df)\n",
    "df = df - df.mean(axis=0)\n",
    "df = pd.merge(df, pd.DataFrame(metadata['TYPES_OF_PLANTS']), left_index=True, right_index=True)"
   ]
  },
  {
   "cell_type": "code",
   "execution_count": 15,
   "metadata": {
    "collapsed": false
   },
   "outputs": [
    {
     "data": {
      "text/plain": [
       "(2170, 21)"
      ]
     },
     "execution_count": 15,
     "metadata": {},
     "output_type": "execute_result"
    }
   ],
   "source": [
    "df.shape"
   ]
  },
  {
   "cell_type": "code",
   "execution_count": 16,
   "metadata": {
    "collapsed": false
   },
   "outputs": [
    {
     "data": {
      "text/html": [
       "<div>\n",
       "<table border=\"1\" class=\"dataframe\">\n",
       "  <thead>\n",
       "    <tr style=\"text-align: right;\">\n",
       "      <th></th>\n",
       "      <th>Aminoacyl-tRNA biosynthesis</th>\n",
       "      <th>Ascorbate and aldarate metabolism</th>\n",
       "      <th>Bacterial chemotaxis</th>\n",
       "      <th>Bacterial motility proteins</th>\n",
       "      <th>Bacterial toxins</th>\n",
       "      <th>Biotin metabolism</th>\n",
       "      <th>Chromosome</th>\n",
       "      <th>Cytoskeleton proteins</th>\n",
       "      <th>D-Alanine metabolism</th>\n",
       "      <th>Flagellar assembly</th>\n",
       "      <th>Germination</th>\n",
       "      <th>Glycine, serine and threonine metabolism</th>\n",
       "      <th>Inorganic ion transport and metabolism</th>\n",
       "      <th>Lipoic acid metabolism</th>\n",
       "      <th>Other ion-coupled transporters</th>\n",
       "      <th>Others</th>\n",
       "      <th>Phosphatidylinositol signaling system</th>\n",
       "      <th>Photosynthesis proteins</th>\n",
       "      <th>Protein folding and associated processing</th>\n",
       "      <th>Ribosome Biogenesis</th>\n",
       "    </tr>\n",
       "    <tr>\n",
       "      <th>TYPES_OF_PLANTS</th>\n",
       "      <th></th>\n",
       "      <th></th>\n",
       "      <th></th>\n",
       "      <th></th>\n",
       "      <th></th>\n",
       "      <th></th>\n",
       "      <th></th>\n",
       "      <th></th>\n",
       "      <th></th>\n",
       "      <th></th>\n",
       "      <th></th>\n",
       "      <th></th>\n",
       "      <th></th>\n",
       "      <th></th>\n",
       "      <th></th>\n",
       "      <th></th>\n",
       "      <th></th>\n",
       "      <th></th>\n",
       "      <th></th>\n",
       "      <th></th>\n",
       "    </tr>\n",
       "  </thead>\n",
       "  <tbody>\n",
       "    <tr>\n",
       "      <th>11 to 20</th>\n",
       "      <td>-0.000387</td>\n",
       "      <td>-0.009587</td>\n",
       "      <td>0.023501</td>\n",
       "      <td>0.028655</td>\n",
       "      <td>-0.008415</td>\n",
       "      <td>-0.001378</td>\n",
       "      <td>0.001221</td>\n",
       "      <td>0.002638</td>\n",
       "      <td>-0.000060</td>\n",
       "      <td>0.033700</td>\n",
       "      <td>0.011252</td>\n",
       "      <td>-0.000968</td>\n",
       "      <td>-0.002120</td>\n",
       "      <td>-0.024380</td>\n",
       "      <td>0.000305</td>\n",
       "      <td>-0.000658</td>\n",
       "      <td>-0.005353</td>\n",
       "      <td>0.000695</td>\n",
       "      <td>-0.001112</td>\n",
       "      <td>0.000370</td>\n",
       "    </tr>\n",
       "    <tr>\n",
       "      <th>21 to 30</th>\n",
       "      <td>0.003942</td>\n",
       "      <td>-0.000177</td>\n",
       "      <td>-0.008451</td>\n",
       "      <td>-0.013596</td>\n",
       "      <td>0.004539</td>\n",
       "      <td>0.005482</td>\n",
       "      <td>-0.000189</td>\n",
       "      <td>0.008643</td>\n",
       "      <td>-0.005923</td>\n",
       "      <td>-0.012746</td>\n",
       "      <td>0.031977</td>\n",
       "      <td>-0.000497</td>\n",
       "      <td>-0.013011</td>\n",
       "      <td>0.036866</td>\n",
       "      <td>-0.005666</td>\n",
       "      <td>-0.002740</td>\n",
       "      <td>0.002270</td>\n",
       "      <td>0.004700</td>\n",
       "      <td>-0.005030</td>\n",
       "      <td>-0.000293</td>\n",
       "    </tr>\n",
       "    <tr>\n",
       "      <th>6 to 10</th>\n",
       "      <td>-0.005159</td>\n",
       "      <td>0.022369</td>\n",
       "      <td>-0.032154</td>\n",
       "      <td>-0.034554</td>\n",
       "      <td>0.007026</td>\n",
       "      <td>0.006511</td>\n",
       "      <td>-0.002750</td>\n",
       "      <td>-0.009553</td>\n",
       "      <td>-0.004716</td>\n",
       "      <td>-0.041401</td>\n",
       "      <td>-0.043055</td>\n",
       "      <td>0.003493</td>\n",
       "      <td>0.015440</td>\n",
       "      <td>0.031331</td>\n",
       "      <td>0.001692</td>\n",
       "      <td>0.004006</td>\n",
       "      <td>0.011701</td>\n",
       "      <td>-0.012548</td>\n",
       "      <td>0.009234</td>\n",
       "      <td>-0.003075</td>\n",
       "    </tr>\n",
       "    <tr>\n",
       "      <th>Less than 5</th>\n",
       "      <td>-0.019087</td>\n",
       "      <td>0.070182</td>\n",
       "      <td>-0.095169</td>\n",
       "      <td>-0.091275</td>\n",
       "      <td>0.022948</td>\n",
       "      <td>0.016557</td>\n",
       "      <td>-0.014488</td>\n",
       "      <td>-0.047938</td>\n",
       "      <td>-0.006582</td>\n",
       "      <td>-0.134589</td>\n",
       "      <td>-0.193176</td>\n",
       "      <td>0.007717</td>\n",
       "      <td>0.062967</td>\n",
       "      <td>0.085175</td>\n",
       "      <td>0.024058</td>\n",
       "      <td>0.018772</td>\n",
       "      <td>0.035473</td>\n",
       "      <td>-0.032266</td>\n",
       "      <td>0.023069</td>\n",
       "      <td>-0.016097</td>\n",
       "    </tr>\n",
       "    <tr>\n",
       "      <th>More than 30</th>\n",
       "      <td>0.014307</td>\n",
       "      <td>-0.055197</td>\n",
       "      <td>0.068589</td>\n",
       "      <td>0.066969</td>\n",
       "      <td>-0.013256</td>\n",
       "      <td>-0.023903</td>\n",
       "      <td>0.010157</td>\n",
       "      <td>0.025045</td>\n",
       "      <td>0.018973</td>\n",
       "      <td>0.090565</td>\n",
       "      <td>0.110754</td>\n",
       "      <td>-0.007281</td>\n",
       "      <td>-0.038023</td>\n",
       "      <td>-0.097006</td>\n",
       "      <td>-0.009024</td>\n",
       "      <td>-0.011801</td>\n",
       "      <td>-0.030608</td>\n",
       "      <td>0.030269</td>\n",
       "      <td>-0.018696</td>\n",
       "      <td>0.013347</td>\n",
       "    </tr>\n",
       "  </tbody>\n",
       "</table>\n",
       "</div>"
      ],
      "text/plain": [
       "                 Aminoacyl-tRNA biosynthesis  \\\n",
       "TYPES_OF_PLANTS                                \n",
       "11 to 20                           -0.000387   \n",
       "21 to 30                            0.003942   \n",
       "6 to 10                            -0.005159   \n",
       "Less than 5                        -0.019087   \n",
       "More than 30                        0.014307   \n",
       "\n",
       "                 Ascorbate and aldarate metabolism  Bacterial chemotaxis  \\\n",
       "TYPES_OF_PLANTS                                                            \n",
       "11 to 20                                 -0.009587              0.023501   \n",
       "21 to 30                                 -0.000177             -0.008451   \n",
       "6 to 10                                   0.022369             -0.032154   \n",
       "Less than 5                               0.070182             -0.095169   \n",
       "More than 30                             -0.055197              0.068589   \n",
       "\n",
       "                 Bacterial motility proteins  Bacterial toxins  \\\n",
       "TYPES_OF_PLANTS                                                  \n",
       "11 to 20                            0.028655         -0.008415   \n",
       "21 to 30                           -0.013596          0.004539   \n",
       "6 to 10                            -0.034554          0.007026   \n",
       "Less than 5                        -0.091275          0.022948   \n",
       "More than 30                        0.066969         -0.013256   \n",
       "\n",
       "                 Biotin metabolism  Chromosome  Cytoskeleton proteins  \\\n",
       "TYPES_OF_PLANTS                                                         \n",
       "11 to 20                 -0.001378    0.001221               0.002638   \n",
       "21 to 30                  0.005482   -0.000189               0.008643   \n",
       "6 to 10                   0.006511   -0.002750              -0.009553   \n",
       "Less than 5               0.016557   -0.014488              -0.047938   \n",
       "More than 30             -0.023903    0.010157               0.025045   \n",
       "\n",
       "                 D-Alanine metabolism  Flagellar assembly  Germination  \\\n",
       "TYPES_OF_PLANTS                                                          \n",
       "11 to 20                    -0.000060            0.033700     0.011252   \n",
       "21 to 30                    -0.005923           -0.012746     0.031977   \n",
       "6 to 10                     -0.004716           -0.041401    -0.043055   \n",
       "Less than 5                 -0.006582           -0.134589    -0.193176   \n",
       "More than 30                 0.018973            0.090565     0.110754   \n",
       "\n",
       "                 Glycine, serine and threonine metabolism  \\\n",
       "TYPES_OF_PLANTS                                             \n",
       "11 to 20                                        -0.000968   \n",
       "21 to 30                                        -0.000497   \n",
       "6 to 10                                          0.003493   \n",
       "Less than 5                                      0.007717   \n",
       "More than 30                                    -0.007281   \n",
       "\n",
       "                 Inorganic ion transport and metabolism  \\\n",
       "TYPES_OF_PLANTS                                           \n",
       "11 to 20                                      -0.002120   \n",
       "21 to 30                                      -0.013011   \n",
       "6 to 10                                        0.015440   \n",
       "Less than 5                                    0.062967   \n",
       "More than 30                                  -0.038023   \n",
       "\n",
       "                 Lipoic acid metabolism  Other ion-coupled transporters  \\\n",
       "TYPES_OF_PLANTS                                                           \n",
       "11 to 20                      -0.024380                        0.000305   \n",
       "21 to 30                       0.036866                       -0.005666   \n",
       "6 to 10                        0.031331                        0.001692   \n",
       "Less than 5                    0.085175                        0.024058   \n",
       "More than 30                  -0.097006                       -0.009024   \n",
       "\n",
       "                   Others  Phosphatidylinositol signaling system  \\\n",
       "TYPES_OF_PLANTS                                                    \n",
       "11 to 20        -0.000658                              -0.005353   \n",
       "21 to 30        -0.002740                               0.002270   \n",
       "6 to 10          0.004006                               0.011701   \n",
       "Less than 5      0.018772                               0.035473   \n",
       "More than 30    -0.011801                              -0.030608   \n",
       "\n",
       "                 Photosynthesis proteins  \\\n",
       "TYPES_OF_PLANTS                            \n",
       "11 to 20                        0.000695   \n",
       "21 to 30                        0.004700   \n",
       "6 to 10                        -0.012548   \n",
       "Less than 5                    -0.032266   \n",
       "More than 30                    0.030269   \n",
       "\n",
       "                 Protein folding and associated processing  \\\n",
       "TYPES_OF_PLANTS                                              \n",
       "11 to 20                                         -0.001112   \n",
       "21 to 30                                         -0.005030   \n",
       "6 to 10                                           0.009234   \n",
       "Less than 5                                       0.023069   \n",
       "More than 30                                     -0.018696   \n",
       "\n",
       "                 Ribosome Biogenesis  \n",
       "TYPES_OF_PLANTS                       \n",
       "11 to 20                    0.000370  \n",
       "21 to 30                   -0.000293  \n",
       "6 to 10                    -0.003075  \n",
       "Less than 5                -0.016097  \n",
       "More than 30                0.013347  "
      ]
     },
     "execution_count": 16,
     "metadata": {},
     "output_type": "execute_result"
    }
   ],
   "source": [
    "df.groupby('TYPES_OF_PLANTS').mean() "
   ]
  },
  {
   "cell_type": "code",
   "execution_count": 17,
   "metadata": {
    "collapsed": false
   },
   "outputs": [],
   "source": [
    "grps = df.groupby('TYPES_OF_PLANTS')\n",
    "subgrps = (grps.mean() / grps.std())"
   ]
  },
  {
   "cell_type": "code",
   "execution_count": 18,
   "metadata": {
    "collapsed": false
   },
   "outputs": [],
   "source": [
    "labs = ['Less than 5', '6 to 10', '11 to 20', '21 to 30', 'More than 30']\n",
    "subgrps = subgrps.reindex_axis(labs)\n",
    "subgrps = subgrps.T"
   ]
  },
  {
   "cell_type": "code",
   "execution_count": 19,
   "metadata": {
    "collapsed": false
   },
   "outputs": [
    {
     "data": {
      "text/html": [
       "<div>\n",
       "<table border=\"1\" class=\"dataframe\">\n",
       "  <thead>\n",
       "    <tr style=\"text-align: right;\">\n",
       "      <th>TYPES_OF_PLANTS</th>\n",
       "      <th>Less than 5</th>\n",
       "      <th>6 to 10</th>\n",
       "      <th>11 to 20</th>\n",
       "      <th>21 to 30</th>\n",
       "      <th>More than 30</th>\n",
       "    </tr>\n",
       "  </thead>\n",
       "  <tbody>\n",
       "    <tr>\n",
       "      <th>Aminoacyl-tRNA biosynthesis</th>\n",
       "      <td>-0.185367</td>\n",
       "      <td>-0.050826</td>\n",
       "      <td>-0.003977</td>\n",
       "      <td>0.045910</td>\n",
       "      <td>0.147931</td>\n",
       "    </tr>\n",
       "    <tr>\n",
       "      <th>Ascorbate and aldarate metabolism</th>\n",
       "      <td>0.260098</td>\n",
       "      <td>0.094207</td>\n",
       "      <td>-0.037934</td>\n",
       "      <td>-0.000765</td>\n",
       "      <td>-0.221269</td>\n",
       "    </tr>\n",
       "    <tr>\n",
       "      <th>Bacterial chemotaxis</th>\n",
       "      <td>-0.225383</td>\n",
       "      <td>-0.086868</td>\n",
       "      <td>0.069084</td>\n",
       "      <td>-0.024551</td>\n",
       "      <td>0.213070</td>\n",
       "    </tr>\n",
       "    <tr>\n",
       "      <th>Bacterial motility proteins</th>\n",
       "      <td>-0.187600</td>\n",
       "      <td>-0.079662</td>\n",
       "      <td>0.072802</td>\n",
       "      <td>-0.033580</td>\n",
       "      <td>0.180710</td>\n",
       "    </tr>\n",
       "    <tr>\n",
       "      <th>Bacterial toxins</th>\n",
       "      <td>0.103803</td>\n",
       "      <td>0.039746</td>\n",
       "      <td>-0.055175</td>\n",
       "      <td>0.030213</td>\n",
       "      <td>-0.089864</td>\n",
       "    </tr>\n",
       "    <tr>\n",
       "      <th>Biotin metabolism</th>\n",
       "      <td>0.101184</td>\n",
       "      <td>0.059939</td>\n",
       "      <td>-0.011948</td>\n",
       "      <td>0.049720</td>\n",
       "      <td>-0.222480</td>\n",
       "    </tr>\n",
       "    <tr>\n",
       "      <th>Chromosome</th>\n",
       "      <td>-0.235790</td>\n",
       "      <td>-0.046194</td>\n",
       "      <td>0.020967</td>\n",
       "      <td>-0.003742</td>\n",
       "      <td>0.183208</td>\n",
       "    </tr>\n",
       "    <tr>\n",
       "      <th>Cytoskeleton proteins</th>\n",
       "      <td>-0.234723</td>\n",
       "      <td>-0.055171</td>\n",
       "      <td>0.015215</td>\n",
       "      <td>0.060708</td>\n",
       "      <td>0.163233</td>\n",
       "    </tr>\n",
       "    <tr>\n",
       "      <th>D-Alanine metabolism</th>\n",
       "      <td>-0.055234</td>\n",
       "      <td>-0.047119</td>\n",
       "      <td>-0.000617</td>\n",
       "      <td>-0.071222</td>\n",
       "      <td>0.221367</td>\n",
       "    </tr>\n",
       "    <tr>\n",
       "      <th>Flagellar assembly</th>\n",
       "      <td>-0.219390</td>\n",
       "      <td>-0.081300</td>\n",
       "      <td>0.071896</td>\n",
       "      <td>-0.027098</td>\n",
       "      <td>0.208004</td>\n",
       "    </tr>\n",
       "    <tr>\n",
       "      <th>Germination</th>\n",
       "      <td>-0.225753</td>\n",
       "      <td>-0.072092</td>\n",
       "      <td>0.019584</td>\n",
       "      <td>0.061772</td>\n",
       "      <td>0.255312</td>\n",
       "    </tr>\n",
       "    <tr>\n",
       "      <th>Glycine, serine and threonine metabolism</th>\n",
       "      <td>0.131300</td>\n",
       "      <td>0.081001</td>\n",
       "      <td>-0.023400</td>\n",
       "      <td>-0.011801</td>\n",
       "      <td>-0.170813</td>\n",
       "    </tr>\n",
       "    <tr>\n",
       "      <th>Inorganic ion transport and metabolism</th>\n",
       "      <td>0.248770</td>\n",
       "      <td>0.063684</td>\n",
       "      <td>-0.009239</td>\n",
       "      <td>-0.061538</td>\n",
       "      <td>-0.175530</td>\n",
       "    </tr>\n",
       "    <tr>\n",
       "      <th>Lipoic acid metabolism</th>\n",
       "      <td>0.170093</td>\n",
       "      <td>0.066330</td>\n",
       "      <td>-0.049655</td>\n",
       "      <td>0.079521</td>\n",
       "      <td>-0.190200</td>\n",
       "    </tr>\n",
       "    <tr>\n",
       "      <th>Other ion-coupled transporters</th>\n",
       "      <td>0.255838</td>\n",
       "      <td>0.018674</td>\n",
       "      <td>0.003448</td>\n",
       "      <td>-0.063227</td>\n",
       "      <td>-0.097423</td>\n",
       "    </tr>\n",
       "    <tr>\n",
       "      <th>Others</th>\n",
       "      <td>0.216486</td>\n",
       "      <td>0.051627</td>\n",
       "      <td>-0.008533</td>\n",
       "      <td>-0.037182</td>\n",
       "      <td>-0.152389</td>\n",
       "    </tr>\n",
       "    <tr>\n",
       "      <th>Phosphatidylinositol signaling system</th>\n",
       "      <td>0.252417</td>\n",
       "      <td>0.090577</td>\n",
       "      <td>-0.040642</td>\n",
       "      <td>0.017260</td>\n",
       "      <td>-0.239759</td>\n",
       "    </tr>\n",
       "    <tr>\n",
       "      <th>Photosynthesis proteins</th>\n",
       "      <td>-0.192560</td>\n",
       "      <td>-0.076885</td>\n",
       "      <td>0.004684</td>\n",
       "      <td>0.031008</td>\n",
       "      <td>0.216759</td>\n",
       "    </tr>\n",
       "    <tr>\n",
       "      <th>Protein folding and associated processing</th>\n",
       "      <td>0.206011</td>\n",
       "      <td>0.099396</td>\n",
       "      <td>-0.012306</td>\n",
       "      <td>-0.058493</td>\n",
       "      <td>-0.212793</td>\n",
       "    </tr>\n",
       "    <tr>\n",
       "      <th>Ribosome Biogenesis</th>\n",
       "      <td>-0.235113</td>\n",
       "      <td>-0.049053</td>\n",
       "      <td>0.005891</td>\n",
       "      <td>-0.004813</td>\n",
       "      <td>0.225497</td>\n",
       "    </tr>\n",
       "  </tbody>\n",
       "</table>\n",
       "</div>"
      ],
      "text/plain": [
       "TYPES_OF_PLANTS                            Less than 5   6 to 10  11 to 20  \\\n",
       "Aminoacyl-tRNA biosynthesis                  -0.185367 -0.050826 -0.003977   \n",
       "Ascorbate and aldarate metabolism             0.260098  0.094207 -0.037934   \n",
       "Bacterial chemotaxis                         -0.225383 -0.086868  0.069084   \n",
       "Bacterial motility proteins                  -0.187600 -0.079662  0.072802   \n",
       "Bacterial toxins                              0.103803  0.039746 -0.055175   \n",
       "Biotin metabolism                             0.101184  0.059939 -0.011948   \n",
       "Chromosome                                   -0.235790 -0.046194  0.020967   \n",
       "Cytoskeleton proteins                        -0.234723 -0.055171  0.015215   \n",
       "D-Alanine metabolism                         -0.055234 -0.047119 -0.000617   \n",
       "Flagellar assembly                           -0.219390 -0.081300  0.071896   \n",
       "Germination                                  -0.225753 -0.072092  0.019584   \n",
       "Glycine, serine and threonine metabolism      0.131300  0.081001 -0.023400   \n",
       "Inorganic ion transport and metabolism        0.248770  0.063684 -0.009239   \n",
       "Lipoic acid metabolism                        0.170093  0.066330 -0.049655   \n",
       "Other ion-coupled transporters                0.255838  0.018674  0.003448   \n",
       "Others                                        0.216486  0.051627 -0.008533   \n",
       "Phosphatidylinositol signaling system         0.252417  0.090577 -0.040642   \n",
       "Photosynthesis proteins                      -0.192560 -0.076885  0.004684   \n",
       "Protein folding and associated processing     0.206011  0.099396 -0.012306   \n",
       "Ribosome Biogenesis                          -0.235113 -0.049053  0.005891   \n",
       "\n",
       "TYPES_OF_PLANTS                            21 to 30  More than 30  \n",
       "Aminoacyl-tRNA biosynthesis                0.045910      0.147931  \n",
       "Ascorbate and aldarate metabolism         -0.000765     -0.221269  \n",
       "Bacterial chemotaxis                      -0.024551      0.213070  \n",
       "Bacterial motility proteins               -0.033580      0.180710  \n",
       "Bacterial toxins                           0.030213     -0.089864  \n",
       "Biotin metabolism                          0.049720     -0.222480  \n",
       "Chromosome                                -0.003742      0.183208  \n",
       "Cytoskeleton proteins                      0.060708      0.163233  \n",
       "D-Alanine metabolism                      -0.071222      0.221367  \n",
       "Flagellar assembly                        -0.027098      0.208004  \n",
       "Germination                                0.061772      0.255312  \n",
       "Glycine, serine and threonine metabolism  -0.011801     -0.170813  \n",
       "Inorganic ion transport and metabolism    -0.061538     -0.175530  \n",
       "Lipoic acid metabolism                     0.079521     -0.190200  \n",
       "Other ion-coupled transporters            -0.063227     -0.097423  \n",
       "Others                                    -0.037182     -0.152389  \n",
       "Phosphatidylinositol signaling system      0.017260     -0.239759  \n",
       "Photosynthesis proteins                    0.031008      0.216759  \n",
       "Protein folding and associated processing -0.058493     -0.212793  \n",
       "Ribosome Biogenesis                       -0.004813      0.225497  "
      ]
     },
     "execution_count": 19,
     "metadata": {},
     "output_type": "execute_result"
    }
   ],
   "source": [
    "subgrps"
   ]
  },
  {
   "cell_type": "code",
   "execution_count": null,
   "metadata": {
    "collapsed": false
   },
   "outputs": [],
   "source": [
    "fig, ax = plt.subplots()\n",
    "heatmap = ax.pcolor(subgrps, cmap=plt.cm.RdBu)\n",
    "\n",
    "# put the major ticks at the middle of each cell\n",
    "_ = ax.set_xticks(np.arange(subgrps.shape[1])+0.5, minor=False)\n",
    "_ = ax.set_yticks(np.arange(subgrps.shape[0])+0.5, minor=False)\n",
    "\n",
    "_ = ax.set_xticklabels(subgrps.columns, minor=False)\n",
    "_ = ax.set_yticklabels(subgrps.index, minor=False)"
   ]
  },
  {
   "cell_type": "markdown",
   "metadata": {},
   "source": [
    "Another way to visualize this is through boxplots.  This will give us a better idea about the variance between groups."
   ]
  },
  {
   "cell_type": "code",
   "execution_count": null,
   "metadata": {
    "collapsed": false
   },
   "outputs": [],
   "source": [
    "df = pd.DataFrame(np.log(closure(mat+1)), \n",
    "                  index=table.ids(axis='sample'), \n",
    "                  columns=table.ids(axis='observation'))\n",
    "#df = df.loc[:, sig.index]\n",
    "\n",
    "df = pd.merge(df, pd.DataFrame(metadata['TYPES_OF_PLANTS']), left_index=True, right_index=True)\n",
    "mdf = pd.melt(df, id_vars='TYPES_OF_PLANTS', var_name='Pathway', value_name='Abundance') "
   ]
  },
  {
   "cell_type": "markdown",
   "metadata": {},
   "source": [
    "If the colors need to be changed, a dictionary can be passed into the palette parameter in the `boxplot` function."
   ]
  },
  {
   "cell_type": "code",
   "execution_count": null,
   "metadata": {
    "collapsed": false
   },
   "outputs": [],
   "source": [
    "font = {'family' : 'normal',\n",
    "        'size'   : 28}\n",
    "\n",
    "matplotlib.rc('font', **font)\n",
    "fig, ax = plt.subplots(figsize=(20, 20))\n",
    "_ = sns.boxplot(hue='TYPES_OF_PLANTS', x='Abundance', y='Pathway', data=mdf, \n",
    "                hue_order=labs,\n",
    "                orient='h', ax=ax, notch=True)\n",
    "ax.set_xlabel('Log % Abundance', fontsize=24)\n",
    "ax.set_ylabel('Level 3 KEGG Pathway', fontsize=24)"
   ]
  },
  {
   "cell_type": "code",
   "execution_count": null,
   "metadata": {
    "collapsed": false
   },
   "outputs": [],
   "source": [
    "df.shape"
   ]
  },
  {
   "cell_type": "code",
   "execution_count": null,
   "metadata": {
    "collapsed": true
   },
   "outputs": [],
   "source": []
  },
  {
   "cell_type": "code",
   "execution_count": null,
   "metadata": {
    "collapsed": true
   },
   "outputs": [],
   "source": []
  }
 ],
 "metadata": {
  "kernelspec": {
   "display_name": "Python 2",
   "language": "python",
   "name": "python2"
  },
  "language_info": {
   "codemirror_mode": {
    "name": "ipython",
    "version": 2
   },
   "file_extension": ".py",
   "mimetype": "text/x-python",
   "name": "python",
   "nbconvert_exporter": "python",
   "pygments_lexer": "ipython2",
   "version": "2.7.11"
  }
 },
 "nbformat": 4,
 "nbformat_minor": 0
}
