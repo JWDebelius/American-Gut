{
 "cells": [
  {
   "cell_type": "code",
   "execution_count": 1,
   "metadata": {
    "collapsed": false,
    "scrolled": true
   },
   "outputs": [
    {
     "name": "stderr",
     "output_type": "stream",
     "text": [
      "/Users/jwdebelius/anaconda/envs/americangut/lib/python2.7/site-packages/matplotlib/__init__.py:872: UserWarning: axes.color_cycle is deprecated and replaced with axes.prop_cycle; please use the latter.\n",
      "  warnings.warn(self.msg_depr % (key, alt_key))\n"
     ]
    }
   ],
   "source": [
    "import numpy as np\n",
    "import pandas as pd\n",
    "from matplotlib import rcParams\n",
    "import matplotlib.pyplot as plt\n",
    "import seaborn as sn\n",
    "\n",
    "import americangut.notebook_environment as agenv\n",
    "import americangut.util as agu"
   ]
  },
  {
   "cell_type": "code",
   "execution_count": 2,
   "metadata": {
    "collapsed": false
   },
   "outputs": [],
   "source": [
    "% matplotlib inline\n",
    "\n",
    "# Formats the axes using seabron so they will be white, and have ticks\n",
    "# on the bottom of the axes.\n",
    "sn.set_style('ticks', {'axes.facecolor': 'none'})\n",
    "\n",
    "# Sets up plotting parameters so that the default setting is use to Helvetica\n",
    "# in plots\n",
    "rcParams['font.family'] = 'sans-serif'\n",
    "rcParams['font.sans-serif'] = ['Helvetica', 'Arial']\n",
    "rcParams['text.usetex'] = True"
   ]
  },
  {
   "cell_type": "code",
   "execution_count": 3,
   "metadata": {
    "collapsed": false
   },
   "outputs": [],
   "source": [
    "agp_map_fp = agu.get_existing_path(agenv.paths['meta']['ag-cleaned-md'])\n",
    "hmp_map_fp = agu.get_existing_path(agenv.paths['meta']['hmp-cleaned-md'])\n",
    "obs_otus_fp = agu.get_existing_path(agenv.paths['alpha']['1k']['ag-pgp-hmp-gg-100nt-observedotus'])\n",
    "pd_fp = agu.get_existing_path(agenv.paths['alpha']['1k']['ag-pgp-hmp-gg-100nt-pd'])"
   ]
  },
  {
   "cell_type": "code",
   "execution_count": 4,
   "metadata": {
    "collapsed": false
   },
   "outputs": [],
   "source": [
    "agp_map = pd.read_csv(agp_map_fp, sep='\\t', dtype=str, na_values=['unknown', 'no_data'])\n",
    "agp_map.set_index('#SampleID', inplace=True)\n",
    "\n",
    "hmp_map = pd.read_csv(hmp_map_fp, sep='\\t', dtype=str, na_values=['unknown', 'no_data'])\n",
    "hmp_map.set_index('#SampleID', inplace=True)\n",
    "\n",
    "obs_otus = pd.read_csv(obs_otus_fp, sep='\\t').mean(0)\n",
    "obs_otus.name = 'observed_otus'\n",
    "\n",
    "faith_pd = pd.read_csv(pd_fp, sep='\\t').mean(0)\n",
    "faith_pd.name = 'PD_whole_tree'"
   ]
  },
  {
   "cell_type": "code",
   "execution_count": 6,
   "metadata": {
    "collapsed": false
   },
   "outputs": [],
   "source": [
    "agp = agp_map[['SIMPLE_BODY_SITE']].join(obs_otus).join(faith_pd).dropna()\n",
    "hmp = hmp_map[['SIMPLE_BODY_SITE']].join(obs_otus).join(faith_pd).dropna()"
   ]
  },
  {
   "cell_type": "code",
   "execution_count": 48,
   "metadata": {
    "collapsed": false
   },
   "outputs": [
    {
     "data": {
      "text/plain": [
       "<matplotlib.axes._subplots.AxesSubplot at 0x11c9ee990>"
      ]
     },
     "execution_count": 48,
     "metadata": {},
     "output_type": "execute_result"
    },
    {
     "data": {
      "image/png": "[encoded data removed]",
      "text/plain": [
       "<matplotlib.figure.Figure at 0x11e9debd0>"
      ]
     },
     "metadata": {},
     "output_type": "display_data"
    }
   ],
   "source": [
    "fig = plt.figure()\n",
    "ax1 = fig.add_subplot(1, 1, 1)\n",
    "# ax2 = fig.add_subplot(3, 1, 3)\n",
    "ax1.hist(agp.loc[agp.SIMPLE_BODY_SITE == 'FECAL', 'observed_otus'].dropna(),\n",
    "        bins=np.arange(0, 300, 10),\n",
    "        facecolor='None',\n",
    "        edgecolor='k',\n",
    "        label='AGP',\n",
    "        )\n",
    "ax1.hist(hmp.loc[hmp.SIMPLE_BODY_SITE == 'FECAL', 'observed_otus'].dropna(),\n",
    "        bins=np.arange(0, 300, 10),\n",
    "        facecolor=[0.75, 0.75, 0.75],\n",
    "        edgecolor='k',\n",
    "        label='HMP',\n",
    "        )\n",
    "\n",
    "sn.despine()\n",
    "\n",
    "ax1.set_xticklabels(map(int, ax.get_xticks()), size=12)\n",
    "ax1.set_yticklabels(map(int, ax.get_yticks()), size=12)\n",
    "ax1.set_xlabel('Observed OTUs', size=15)\n",
    "\n",
    "ax1.legend(fontsize=12)\n",
    "\n",
    "fig.set_size_inches((6, 3))\n",
    "fig.savefig('/Users/jwdebelius/Desktop/AmericanGut_Figures/figure1/fecal_1k_obs_otus.pdf', dpi=300)"
   ]
  },
  {
   "cell_type": "code",
   "execution_count": 71,
   "metadata": {
    "collapsed": false
   },
   "outputs": [
    {
     "data": {
      "image/png": "[encoded data removed]",
      "text/plain": [
       "<matplotlib.figure.Figure at 0x11f467610>"
      ]
     },
     "metadata": {},
     "output_type": "display_data"
    }
   ],
   "source": [
    "ax2 = plt.axes()\n",
    "sn.kdeplot(\n",
    "    agp.loc[agp.SIMPLE_BODY_SITE == 'FECAL', 'PD_whole_tree'],\n",
    "    ax=ax2,\n",
    "    shade=True,\n",
    "    label='Fecal'\n",
    "    )\n",
    "sn.kdeplot(\n",
    "    agp.loc[agp.SIMPLE_BODY_SITE == 'SKIN', 'PD_whole_tree'],\n",
    "    ax=ax2,\n",
    "    shade=True,\n",
    "    label='Skin'\n",
    "    )\n",
    "sn.kdeplot(\n",
    "    agp.loc[agp.SIMPLE_BODY_SITE == 'ORAL', 'PD_whole_tree'],\n",
    "    ax=ax2,\n",
    "    shade=True,\n",
    "    label='Oral'\n",
    "    )\n",
    "ax2.set_yticks([])\n",
    "\n",
    "ax2.set_xlim([0, 50])\n",
    "ax2.set_xticks(np.arange(0, 51, 5))\n",
    "ax2.set_xticklabels(np.arange(0, 51, 5), size=12)\n",
    "ax2.set_xlabel('PD Whole Tree Diversity')\n",
    "sn.despine(ax=ax2, top=True, left=True, right=True, offset=5)\n",
    "\n",
    "ax2.figure.set_size_inches((6, 3))\n",
    "ax2.set_position((0.125, 0.25, 0.75, 0.625))\n",
    "ax2.figure.savefig('/Users/jwdebelius/Desktop/AmericanGut_Figures/figure1/PD_1k_by_bodysite.pdf', dpi=300)"
   ]
  },
  {
   "cell_type": "code",
   "execution_count": null,
   "metadata": {
    "collapsed": false
   },
   "outputs": [],
   "source": [
    "fig = plt.figure()\n",
    "ax1 = fig.add_subplot(3, 1, 1)\n",
    "ax2 = fig.add_subplot(3, 1, 2)\n",
    "ax3 = fig.add_subplot(3, 1, 3)\n",
    "\n",
    "sn.distplot(\n",
    "    agp.loc[agp.SIMPLE_BODY_SITE == 'FECAL', 'observed_otus'],\n",
    "#     bins=np.arange(0, 51, 2.5),\n",
    "    ax=ax1,\n",
    "    norm_hist=False,\n",
    "    hist=False,\n",
    "    )\n",
    "sn.distplot(agp.loc[agp.SIMPLE_BODY_SITE == 'SKIN', 'observed_otus'],\n",
    "            ax=ax2,\n",
    "#             bins=np.arange(0, 51, 2.5),\n",
    "            hist=False)\n",
    "sn.distplot(agp.loc[agp.SIMPLE_BODY_SITE == 'ORAL', 'observed_otus'],\n",
    "            ax=ax3,\n",
    "#             bins=np.arange(0, 51, 2.5),\n",
    "            hist=False,\n",
    "           )\n",
    "ax1.set_xlim([0, 600])\n",
    "ax2.set_xlim([0, 600])\n",
    "ax3.set_xlim([0, 600])\n",
    "\n",
    "ax1.set_yticks([-1])\n",
    "ax2.set_yticks([-1])\n",
    "ax3.set_yticks([-1])\n",
    "\n",
    "sn.despine(ax=ax1, left=True, right=True, top=True)\n",
    "sn.despine(ax=ax2, left=True, right=True, top=True)\n",
    "sn.despine(ax=ax3, left=True, right=True, top=True)\n",
    "# )\n",
    "# sn.distplot()\n",
    "# sn.distplot(agp_map.loc[agp_map['SIMPLE_BODY_SITE'] == 'FECAL',  'PD_whole_tree_1k'].values)"
   ]
  },
  {
   "cell_type": "code",
   "execution_count": null,
   "metadata": {
    "collapsed": false
   },
   "outputs": [],
   "source": [
    "help(sn.distplot)"
   ]
  },
  {
   "cell_type": "code",
   "execution_count": null,
   "metadata": {
    "collapsed": true
   },
   "outputs": [],
   "source": []
  }
 ],
 "metadata": {
  "kernelspec": {
   "display_name": "Python 2",
   "language": "python",
   "name": "python2"
  },
  "language_info": {
   "codemirror_mode": {
    "name": "ipython",
    "version": 2
   },
   "file_extension": ".py",
   "mimetype": "text/x-python",
   "name": "python",
   "nbconvert_exporter": "python",
   "pygments_lexer": "ipython2",
   "version": "2.7.11"
  }
 },
 "nbformat": 4,
 "nbformat_minor": 0
}
