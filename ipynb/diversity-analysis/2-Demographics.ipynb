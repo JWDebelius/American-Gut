{
 "cells": [
  {
   "cell_type": "markdown",
   "metadata": {},
   "source": [
    "The goal of this notebook is to provide demographic summaries for participants in the American Gut and assoicated projects. We look at metadata, and summarize the avaliable information.\n",
    "\n",
    "The information generated here will be used for tables 1 and 3 of the American Gut paper.\n",
    "\n",
    "We'll start by importing the necessary libraries."
   ]
  },
  {
   "cell_type": "code",
   "execution_count": 1,
   "metadata": {
    "collapsed": false
   },
   "outputs": [],
   "source": [
    "import matplotlib\n",
    "matplotlib.use('Agg')"
   ]
  },
  {
   "cell_type": "code",
   "execution_count": 2,
   "metadata": {
    "collapsed": false
   },
   "outputs": [],
   "source": [
    "import os\n",
    "from functools import partial\n",
    "\n",
    "import numpy as np\n",
    "import pandas as pd"
   ]
  },
  {
   "cell_type": "markdown",
   "metadata": {},
   "source": [
    "Next, we're going to locate the mapping file and raw OTU table."
   ]
  },
  {
   "cell_type": "code",
   "execution_count": 3,
   "metadata": {
    "collapsed": false
   },
   "outputs": [],
   "source": [
    "processing_dir = os.path.abspath('../primary-processing/agp_processing/')\n",
    "map_fp = os.path.join(processing_dir, '01-raw/metadata.txt')\n",
    "otu_fp = os.path.join(processing_dir, '03-otus/100nt/gg-13_8-97-percent/otu_table.biom')"
   ]
  },
  {
   "cell_type": "markdown",
   "metadata": {},
   "source": [
    "We'll start by reading in the mapping file."
   ]
  },
  {
   "cell_type": "code",
   "execution_count": 4,
   "metadata": {
    "collapsed": false
   },
   "outputs": [],
   "source": [
    "md = pd.read_csv(map_fp, sep='\\t', dtype=str, na_values=['NA', 'no_data', 'unknown', 'Unspecified', 'Unknown', 'None'])\n",
    "md.set_index('#SampleID', inplace=True)"
   ]
  },
  {
   "cell_type": "markdown",
   "metadata": {},
   "source": [
    "We're also going to calculate the number of sequences per sample, and add that to our mapping file."
   ]
  },
  {
   "cell_type": "code",
   "execution_count": 5,
   "metadata": {
    "collapsed": true
   },
   "outputs": [],
   "source": [
    "otu_summary = !biom summarize-table -i $otu_fp\n",
    "seq_depth = pd.DataFrame(np.array([l.split(': ') for l in otu_summary[15:]]), columns=['#SampleID', 'counts'])\n",
    "seq_depth.set_index('#SampleID', inplace=True)\n",
    "\n",
    "md['count'] = seq_depth"
   ]
  },
  {
   "cell_type": "markdown",
   "metadata": {},
   "source": [
    "We're going to start by dropping the blank samples. These are samples where the body habitat is not defined."
   ]
  },
  {
   "cell_type": "code",
   "execution_count": 6,
   "metadata": {
    "collapsed": false
   },
   "outputs": [],
   "source": [
    "md = md[md['BODY_HABITAT'].notnull()]"
   ]
  },
  {
   "cell_type": "markdown",
   "metadata": {},
   "source": [
    "Next, we're going to get a single sample for each person. The `HOST_SUBEJCT_ID` identfies the individual."
   ]
  },
  {
   "cell_type": "code",
   "execution_count": 7,
   "metadata": {
    "collapsed": false,
    "scrolled": true
   },
   "outputs": [],
   "source": [
    "single = []\n",
    "for indv, ids in md.groupby('HOST_SUBJECT_ID').groups.iteritems():\n",
    "    single.append(ids[0])\n",
    "\n",
    "md['Participants'] = np.nan\n",
    "md['Samples'] = 1\n",
    "md.loc[single, 'Participants'] = 1"
   ]
  },
  {
   "cell_type": "markdown",
   "metadata": {},
   "source": [
    "Now, let's look at the countries where participants come from."
   ]
  },
  {
   "cell_type": "code",
   "execution_count": 8,
   "metadata": {
    "collapsed": false
   },
   "outputs": [
    {
     "name": "stdout",
     "output_type": "stream",
     "text": [
      "There are 28 countries and soverign states represented here.\n"
     ]
    },
    {
     "data": {
      "text/html": [
       "<div>\n",
       "<table border=\"1\" class=\"dataframe\">\n",
       "  <thead>\n",
       "    <tr style=\"text-align: right;\">\n",
       "      <th></th>\n",
       "      <th>Samples</th>\n",
       "      <th>Participants</th>\n",
       "    </tr>\n",
       "    <tr>\n",
       "      <th>COUNTRY</th>\n",
       "      <th></th>\n",
       "      <th></th>\n",
       "    </tr>\n",
       "  </thead>\n",
       "  <tbody>\n",
       "    <tr>\n",
       "      <th>USA</th>\n",
       "      <td>5604</td>\n",
       "      <td>4589</td>\n",
       "    </tr>\n",
       "    <tr>\n",
       "      <th>United Kingdom</th>\n",
       "      <td>721</td>\n",
       "      <td>560</td>\n",
       "    </tr>\n",
       "    <tr>\n",
       "      <th>Australia</th>\n",
       "      <td>159</td>\n",
       "      <td>149</td>\n",
       "    </tr>\n",
       "    <tr>\n",
       "      <th>Belgium</th>\n",
       "      <td>87</td>\n",
       "      <td>9</td>\n",
       "    </tr>\n",
       "    <tr>\n",
       "      <th>Canada</th>\n",
       "      <td>75</td>\n",
       "      <td>70</td>\n",
       "    </tr>\n",
       "    <tr>\n",
       "      <th>Switzerland</th>\n",
       "      <td>12</td>\n",
       "      <td>12</td>\n",
       "    </tr>\n",
       "    <tr>\n",
       "      <th>Germany</th>\n",
       "      <td>11</td>\n",
       "      <td>11</td>\n",
       "    </tr>\n",
       "    <tr>\n",
       "      <th>Thailand</th>\n",
       "      <td>9</td>\n",
       "      <td>9</td>\n",
       "    </tr>\n",
       "    <tr>\n",
       "      <th>France</th>\n",
       "      <td>8</td>\n",
       "      <td>8</td>\n",
       "    </tr>\n",
       "    <tr>\n",
       "      <th>Czech Republic</th>\n",
       "      <td>7</td>\n",
       "      <td>7</td>\n",
       "    </tr>\n",
       "    <tr>\n",
       "      <th>Netherlands</th>\n",
       "      <td>6</td>\n",
       "      <td>6</td>\n",
       "    </tr>\n",
       "    <tr>\n",
       "      <th>Norway</th>\n",
       "      <td>5</td>\n",
       "      <td>5</td>\n",
       "    </tr>\n",
       "    <tr>\n",
       "      <th>New Zealand</th>\n",
       "      <td>5</td>\n",
       "      <td>5</td>\n",
       "    </tr>\n",
       "    <tr>\n",
       "      <th>Spain</th>\n",
       "      <td>4</td>\n",
       "      <td>3</td>\n",
       "    </tr>\n",
       "    <tr>\n",
       "      <th>Italy</th>\n",
       "      <td>4</td>\n",
       "      <td>4</td>\n",
       "    </tr>\n",
       "    <tr>\n",
       "      <th>Poland</th>\n",
       "      <td>3</td>\n",
       "      <td>1</td>\n",
       "    </tr>\n",
       "    <tr>\n",
       "      <th>Japan</th>\n",
       "      <td>3</td>\n",
       "      <td>3</td>\n",
       "    </tr>\n",
       "    <tr>\n",
       "      <th>China</th>\n",
       "      <td>3</td>\n",
       "      <td>2</td>\n",
       "    </tr>\n",
       "    <tr>\n",
       "      <th>Ireland</th>\n",
       "      <td>2</td>\n",
       "      <td>2</td>\n",
       "    </tr>\n",
       "    <tr>\n",
       "      <th>Sweden</th>\n",
       "      <td>2</td>\n",
       "      <td>2</td>\n",
       "    </tr>\n",
       "    <tr>\n",
       "      <th>Isle of Man</th>\n",
       "      <td>1</td>\n",
       "      <td>1</td>\n",
       "    </tr>\n",
       "    <tr>\n",
       "      <th>Puerto Rico</th>\n",
       "      <td>1</td>\n",
       "      <td>1</td>\n",
       "    </tr>\n",
       "    <tr>\n",
       "      <th>India</th>\n",
       "      <td>1</td>\n",
       "      <td>1</td>\n",
       "    </tr>\n",
       "    <tr>\n",
       "      <th>Finland</th>\n",
       "      <td>1</td>\n",
       "      <td>1</td>\n",
       "    </tr>\n",
       "    <tr>\n",
       "      <th>Denmark</th>\n",
       "      <td>1</td>\n",
       "      <td>1</td>\n",
       "    </tr>\n",
       "    <tr>\n",
       "      <th>Brazil</th>\n",
       "      <td>1</td>\n",
       "      <td>1</td>\n",
       "    </tr>\n",
       "    <tr>\n",
       "      <th>United Arab Emirates</th>\n",
       "      <td>1</td>\n",
       "      <td>1</td>\n",
       "    </tr>\n",
       "    <tr>\n",
       "      <th>Jersey</th>\n",
       "      <td>1</td>\n",
       "      <td>1</td>\n",
       "    </tr>\n",
       "  </tbody>\n",
       "</table>\n",
       "</div>"
      ],
      "text/plain": [
       "                      Samples  Participants\n",
       "COUNTRY                                    \n",
       "USA                      5604          4589\n",
       "United Kingdom            721           560\n",
       "Australia                 159           149\n",
       "Belgium                    87             9\n",
       "Canada                     75            70\n",
       "Switzerland                12            12\n",
       "Germany                    11            11\n",
       "Thailand                    9             9\n",
       "France                      8             8\n",
       "Czech Republic              7             7\n",
       "Netherlands                 6             6\n",
       "Norway                      5             5\n",
       "New Zealand                 5             5\n",
       "Spain                       4             3\n",
       "Italy                       4             4\n",
       "Poland                      3             1\n",
       "Japan                       3             3\n",
       "China                       3             2\n",
       "Ireland                     2             2\n",
       "Sweden                      2             2\n",
       "Isle of Man                 1             1\n",
       "Puerto Rico                 1             1\n",
       "India                       1             1\n",
       "Finland                     1             1\n",
       "Denmark                     1             1\n",
       "Brazil                      1             1\n",
       "United Arab Emirates        1             1\n",
       "Jersey                      1             1"
      ]
     },
     "execution_count": 8,
     "metadata": {},
     "output_type": "execute_result"
    }
   ],
   "source": [
    "countries = md.groupby('COUNTRY').count()[['Samples', 'Participants']]\n",
    "print 'There are %i countries and soverign states represented here.' % len(countries)\n",
    "countries.sort_values('Samples', ascending=False)"
   ]
  },
  {
   "cell_type": "markdown",
   "metadata": {},
   "source": [
    "Let's now compare the samples to the demographics of American Gut Samples from participants in the United States to the demographics of the US population, according to the 2010 census."
   ]
  },
  {
   "cell_type": "code",
   "execution_count": 9,
   "metadata": {
    "collapsed": true
   },
   "outputs": [],
   "source": [
    "md = md.loc[md['COUNTRY'] == 'USA']"
   ]
  },
  {
   "cell_type": "markdown",
   "metadata": {},
   "source": [
    "We're going to look at sex, race, smoking, Diabetes and Inflammatory Bowel disease diagnosis, and Body Mass index. To do this, we're going to reformat some of the responses about age."
   ]
  },
  {
   "cell_type": "code",
   "execution_count": 10,
   "metadata": {
    "collapsed": true
   },
   "outputs": [],
   "source": [
    "def mapper(mapping, value):\n",
    "    return mapping.get(value, value)\n",
    "\n",
    "diabetes_values_fix = {'I do not have this condition': 'I do not have diabetes',\n",
    "                       'Diagnosed by a medical professional (doctor, physician assistant)': 'I have diabetes',\n",
    "                       \"Diagnosed by an alternative medicine practitioner\": \"I have diabetes\",\n",
    "                       'Type I': 'I have diabetes',\n",
    "                       'Type II': 'I have diabetes',\n",
    "                       'Self-diagnosed': 'I have diabetes'}\n",
    "\n",
    "ibd_values_fix = {\"Crohn's disease\": \"I have an IBD\",\n",
    "                  \"Diagnosed by a medical professional (doctor, physician assistant)\": \"I have IBD\",\n",
    "                  \"Diagnosed by an alternative medicine practitioner\": \"I have IBD\",\n",
    "                  \"I do not have this condition\": \"I do not have IBD\",\n",
    "                  \"I do not have IBD\": \"I do not have IBD\",\n",
    "                  \"Ulcerative colitis\": \"I have IBD\",\n",
    "                  \"Self-diagnosed\": \"I have IBD\"}\n",
    "\n",
    "smoking_values_fix = {'Daily': 'I smoke',\n",
    "                      'Never': 'I do not smoke',\n",
    "                      'Occasionally (1-2 times/week)': 'I smoke',\n",
    "                      'Rarely (a few times/month)': 'I smoke',\n",
    "                      'Rarely (few times/month)': 'I smoke',\n",
    "                      'Regularly (3-5 times/week)': 'I smoke'}\n",
    "\n",
    "diabetes_map = partial(mapper, diabetes_values_fix)\n",
    "ibd_map = partial(mapper, ibd_values_fix)\n",
    "smoke_map = partial(mapper, smoking_values_fix)\n",
    "\n",
    "md['DIABETES'] = md['DIABETES'].apply(diabetes_map)\n",
    "md['IBD'] = md['IBD'].apply(ibd_map)\n",
    "md['SMOKING_FREQUENCY'] = md['SMOKING_FREQUENCY'].apply(smoke_map)"
   ]
  },
  {
   "cell_type": "markdown",
   "metadata": {},
   "source": [
    "Finally, there are some BMI values which are extremely high. We're going to cap the BMI range between 10 and 100.\n",
    "\n",
    "We'll also exclude BMI categorization for anyone under the age of 18. According to the World Health Organization (WHO), BMI for children under 18 must be calculated based on their age and gender."
   ]
  },
  {
   "cell_type": "code",
   "execution_count": 11,
   "metadata": {
    "collapsed": false
   },
   "outputs": [],
   "source": [
    "md[['BMI', 'AGE_CORRECTED']] = md[['BMI', 'AGE_CORRECTED']].astype(float)\n",
    "\n",
    "md.loc[md['BMI'] > 100, 'BMI_CAT'] = np.nan\n",
    "md.loc[md['BMI'] < 10, 'BMI_CAT'] = np.nan\n",
    "\n",
    "# md.loc[md['AGE_CORRECTED'] < 20, 'BMI_CAT'] = np.nan"
   ]
  },
  {
   "cell_type": "markdown",
   "metadata": {},
   "source": [
    "Now, let's build the demographics table"
   ]
  },
  {
   "cell_type": "code",
   "execution_count": 13,
   "metadata": {
    "collapsed": false
   },
   "outputs": [],
   "source": [
    "res_table = {}\n",
    "n_samples = float(len(md))\n",
    "cats = ['SEX', 'RACE', 'SMOKING_FREQUENCY', 'DIABETES', 'IBD', 'BMI_CAT']\n",
    "\n",
    "for cat in cats:\n",
    "    # drop out any null values\n",
    "    cat_tab = md[md[cat].notnull()]\n",
    "    \n",
    "    # determine how many unique subjects are represented\n",
    "    n_subjects = float(len(cat_tab.HOST_SUBJECT_ID.unique()))\n",
    "\n",
    "    # for each value in (e.g., for SEX: Male, Female, Other)\n",
    "    for val in cat_tab.groupby(cat).HOST_SUBJECT_ID.unique().index:\n",
    "        # get the number of unique subjects\n",
    "        count = cat_tab.groupby(cat).HOST_SUBJECT_ID.nunique()[val]\n",
    "        \n",
    "        # store the count of subjects and the percentage of the subjects represented\n",
    "        res_table[\"%s - %s\" % (cat, val)] = (count, np.round((count / n_subjects) * 100, 1))\n",
    "\n",
    "res = pd.DataFrame.from_dict(res_table, orient='index')\n",
    "res.columns = ['Count', 'Within group percentage']"
   ]
  },
  {
   "cell_type": "markdown",
   "metadata": {},
   "source": [
    "Now, we'll define the census data"
   ]
  },
  {
   "cell_type": "code",
   "execution_count": 16,
   "metadata": {
    "collapsed": true
   },
   "outputs": [],
   "source": [
    "# Category/value : percent in US population\n",
    "census_data = {\n",
    "               #from http://quickfacts.census.gov/qfd/states/00000.html\n",
    "               'SEX - female': 50.8,\n",
    "               'SEX - male': 49.2,  # this is an over estimate as only the % of females is described in the above URL\n",
    "               'SEX - other': np.nan,  # does not appear to be tracked\n",
    "               \n",
    "               # from http://www.census.gov/prod/cen2010/briefs/c2010br-02.pdf\n",
    "               # doesn't sum to 100% as the fields don't map exactly, so there may be some overlap represented below\n",
    "               'RACE - African American': 12.6,\n",
    "               'RACE - Asian or Pacific Islander': 5.0,\n",
    "               'RACE - Caucasian': 63.7,\n",
    "               'RACE - Hispanic': 16.3,\n",
    "               'RACE - Other': 6.2,\n",
    "\n",
    "               # from http://www.census.gov/compendia/statab/2012/tables/12s0211.pdf\n",
    "               # using total, non age adjusted values\n",
    "\n",
    "###### we probably want to filter to > 18yo for these values in the metadata\n",
    "               'BMI_CAT - Normal': 31.2, \n",
    "               'BMI_CAT - Obese': 33.0,\n",
    "               'BMI_CAT - Overweight': 34.0,\n",
    "               'BMI_CAT - Underweight': 1.8,\n",
    "\n",
    "               # from http://www.cdc.gov/diabetes/data/statistics/2014statisticsreport.html\n",
    "               'DIABETES - I do not have diabetes': 90.7,\n",
    "               'DIABETES - I have diabetes': 9.3, # This uses 21 million \n",
    "\n",
    "               # from http://www.cdc.gov/ibd/ibd-epidemiology.htm\n",
    "               # using 1.3 million people as the estimate, and US population size for 2014 from\n",
    "               # http://quickfacts.census.gov/qfd/states/00000.html\n",
    "               'IBD - I do not have IBD': 99.6,\n",
    "               'IBD - I have IBD': 0.4,\n",
    "          \n",
    "               # from http://www.cdc.gov/tobacco/data_statistics/fact_sheets/adult_data/cig_smoking/\n",
    "               'SMOKING_FREQUENCY - I do not smoke': 82.6,\n",
    "               'SMOKING_FREQUENCY - I smoke': 17.4\n",
    "}\n",
    "\n",
    "res['US Census/CDC/NHANES data precentages'] = pd.DataFrame.from_dict(census_data, orient='index')"
   ]
  },
  {
   "cell_type": "markdown",
   "metadata": {},
   "source": [
    "Now, let's look at the results."
   ]
  },
  {
   "cell_type": "code",
   "execution_count": 17,
   "metadata": {
    "collapsed": false
   },
   "outputs": [
    {
     "data": {
      "text/html": [
       "<div>\n",
       "<table border=\"1\" class=\"dataframe\">\n",
       "  <thead>\n",
       "    <tr style=\"text-align: right;\">\n",
       "      <th></th>\n",
       "      <th>Count</th>\n",
       "      <th>Within group percentage</th>\n",
       "      <th>US Census/CDC/NHANES data precentages</th>\n",
       "    </tr>\n",
       "  </thead>\n",
       "  <tbody>\n",
       "    <tr>\n",
       "      <th>BMI_CAT - Normal</th>\n",
       "      <td>2484</td>\n",
       "      <td>59.7</td>\n",
       "      <td>31.2</td>\n",
       "    </tr>\n",
       "    <tr>\n",
       "      <th>BMI_CAT - Obese</th>\n",
       "      <td>446</td>\n",
       "      <td>10.7</td>\n",
       "      <td>33.0</td>\n",
       "    </tr>\n",
       "    <tr>\n",
       "      <th>BMI_CAT - Overweight</th>\n",
       "      <td>878</td>\n",
       "      <td>21.1</td>\n",
       "      <td>34.0</td>\n",
       "    </tr>\n",
       "    <tr>\n",
       "      <th>BMI_CAT - Underweight</th>\n",
       "      <td>355</td>\n",
       "      <td>8.5</td>\n",
       "      <td>1.8</td>\n",
       "    </tr>\n",
       "    <tr>\n",
       "      <th>DIABETES - I do not have diabetes</th>\n",
       "      <td>4347</td>\n",
       "      <td>98.8</td>\n",
       "      <td>90.7</td>\n",
       "    </tr>\n",
       "    <tr>\n",
       "      <th>DIABETES - I have diabetes</th>\n",
       "      <td>52</td>\n",
       "      <td>1.2</td>\n",
       "      <td>9.3</td>\n",
       "    </tr>\n",
       "    <tr>\n",
       "      <th>IBD - I do not have IBD</th>\n",
       "      <td>4146</td>\n",
       "      <td>97.4</td>\n",
       "      <td>99.6</td>\n",
       "    </tr>\n",
       "    <tr>\n",
       "      <th>IBD - I have IBD</th>\n",
       "      <td>110</td>\n",
       "      <td>2.6</td>\n",
       "      <td>0.4</td>\n",
       "    </tr>\n",
       "    <tr>\n",
       "      <th>RACE - African American</th>\n",
       "      <td>52</td>\n",
       "      <td>1.1</td>\n",
       "      <td>12.6</td>\n",
       "    </tr>\n",
       "    <tr>\n",
       "      <th>RACE - Asian or Pacific Islander</th>\n",
       "      <td>185</td>\n",
       "      <td>4.1</td>\n",
       "      <td>5.0</td>\n",
       "    </tr>\n",
       "    <tr>\n",
       "      <th>RACE - Caucasian</th>\n",
       "      <td>4099</td>\n",
       "      <td>90.4</td>\n",
       "      <td>63.7</td>\n",
       "    </tr>\n",
       "    <tr>\n",
       "      <th>RACE - Hispanic</th>\n",
       "      <td>100</td>\n",
       "      <td>2.2</td>\n",
       "      <td>16.3</td>\n",
       "    </tr>\n",
       "    <tr>\n",
       "      <th>RACE - Other</th>\n",
       "      <td>99</td>\n",
       "      <td>2.2</td>\n",
       "      <td>6.2</td>\n",
       "    </tr>\n",
       "    <tr>\n",
       "      <th>SEX - female</th>\n",
       "      <td>2391</td>\n",
       "      <td>55.4</td>\n",
       "      <td>50.8</td>\n",
       "    </tr>\n",
       "    <tr>\n",
       "      <th>SEX - male</th>\n",
       "      <td>1921</td>\n",
       "      <td>44.5</td>\n",
       "      <td>49.2</td>\n",
       "    </tr>\n",
       "    <tr>\n",
       "      <th>SEX - other</th>\n",
       "      <td>2</td>\n",
       "      <td>0.0</td>\n",
       "      <td>NaN</td>\n",
       "    </tr>\n",
       "    <tr>\n",
       "      <th>SMOKING_FREQUENCY - I do not smoke</th>\n",
       "      <td>4313</td>\n",
       "      <td>95.4</td>\n",
       "      <td>82.6</td>\n",
       "    </tr>\n",
       "    <tr>\n",
       "      <th>SMOKING_FREQUENCY - I smoke</th>\n",
       "      <td>206</td>\n",
       "      <td>4.6</td>\n",
       "      <td>17.4</td>\n",
       "    </tr>\n",
       "  </tbody>\n",
       "</table>\n",
       "</div>"
      ],
      "text/plain": [
       "                                    Count  Within group percentage  \\\n",
       "BMI_CAT - Normal                     2484                     59.7   \n",
       "BMI_CAT - Obese                       446                     10.7   \n",
       "BMI_CAT - Overweight                  878                     21.1   \n",
       "BMI_CAT - Underweight                 355                      8.5   \n",
       "DIABETES - I do not have diabetes    4347                     98.8   \n",
       "DIABETES - I have diabetes             52                      1.2   \n",
       "IBD - I do not have IBD              4146                     97.4   \n",
       "IBD - I have IBD                      110                      2.6   \n",
       "RACE - African American                52                      1.1   \n",
       "RACE - Asian or Pacific Islander      185                      4.1   \n",
       "RACE - Caucasian                     4099                     90.4   \n",
       "RACE - Hispanic                       100                      2.2   \n",
       "RACE - Other                           99                      2.2   \n",
       "SEX - female                         2391                     55.4   \n",
       "SEX - male                           1921                     44.5   \n",
       "SEX - other                             2                      0.0   \n",
       "SMOKING_FREQUENCY - I do not smoke   4313                     95.4   \n",
       "SMOKING_FREQUENCY - I smoke           206                      4.6   \n",
       "\n",
       "                                    US Census/CDC/NHANES data precentages  \n",
       "BMI_CAT - Normal                                                     31.2  \n",
       "BMI_CAT - Obese                                                      33.0  \n",
       "BMI_CAT - Overweight                                                 34.0  \n",
       "BMI_CAT - Underweight                                                 1.8  \n",
       "DIABETES - I do not have diabetes                                    90.7  \n",
       "DIABETES - I have diabetes                                            9.3  \n",
       "IBD - I do not have IBD                                              99.6  \n",
       "IBD - I have IBD                                                      0.4  \n",
       "RACE - African American                                              12.6  \n",
       "RACE - Asian or Pacific Islander                                      5.0  \n",
       "RACE - Caucasian                                                     63.7  \n",
       "RACE - Hispanic                                                      16.3  \n",
       "RACE - Other                                                          6.2  \n",
       "SEX - female                                                         50.8  \n",
       "SEX - male                                                           49.2  \n",
       "SEX - other                                                           NaN  \n",
       "SMOKING_FREQUENCY - I do not smoke                                   82.6  \n",
       "SMOKING_FREQUENCY - I smoke                                          17.4  "
      ]
     },
     "execution_count": 17,
     "metadata": {},
     "output_type": "execute_result"
    }
   ],
   "source": [
    "res.sort_index()"
   ]
  }
 ],
 "metadata": {
  "kernelspec": {
   "display_name": "Python 2",
   "language": "python",
   "name": "python2"
  },
  "language_info": {
   "codemirror_mode": {
    "name": "ipython",
    "version": 2
   },
   "file_extension": ".py",
   "mimetype": "text/x-python",
   "name": "python",
   "nbconvert_exporter": "python",
   "pygments_lexer": "ipython2",
   "version": "2.7.5"
  }
 },
 "nbformat": 4,
 "nbformat_minor": 0
}
