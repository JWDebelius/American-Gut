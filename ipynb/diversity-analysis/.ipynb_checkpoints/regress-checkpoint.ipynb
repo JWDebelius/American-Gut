{
 "cells": [
  {
   "cell_type": "code",
   "execution_count": 1,
   "metadata": {
    "collapsed": false
   },
   "outputs": [
    {
     "name": "stderr",
     "output_type": "stream",
     "text": [
      ":0: FutureWarning: IPython widgets are experimental and may change in the future.\n"
     ]
    }
   ],
   "source": [
    "\n",
    "\n",
    "import numpy as np\n",
    "import skbio\n",
    "import pandas as pd\n",
    "import statsmodels.formula.api as smf\n",
    "\n",
    "import matplotlib.pyplot as plt\n",
    "% matplotlib inline\n",
    "\n",
    "import americangut.ag_dictionary as agdic\n",
    "import americangut.diversity_analysis as agdiv\n",
    "import americangut.notebook_environment as agenv\n",
    "from americangut.ag_data import AgData"
   ]
  },
  {
   "cell_type": "code",
   "execution_count": 2,
   "metadata": {
    "collapsed": true
   },
   "outputs": [],
   "source": [
    "import numpy as np\n",
    "import pandas as pd\n",
    "import scipy\n",
    "import statsmodels.formula.api as smf\n",
    "\n",
    "\n",
    "def olf_build_model(response, predictors, data, dname=None, model_watch=None,\n",
    "                    prev_id=None):\n",
    "    \"\"\"Builds up a series of Ordinary Least Squares Models\n",
    "\n",
    "    \"\"\"\n",
    "\n",
    "    # Looks for the last model being referenced as the best\n",
    "    model_watch, id_, prev_id, prev_eq = _check_watch(model_watch, prev_id)\n",
    "\n",
    "    if model_watch is None:\n",
    "        model_watch = pd.DataFrame(data=np.zeros((0, 11)),\n",
    "                                   columns=['data_set', 'equation', 'var', 'n',\n",
    "                                            'k', 'aic', 'aicc', 'D_score',\n",
    "                                            'pearson_r2', 'adj_r2', 'cond no'])\n",
    "    # Builds up the model\n",
    "    for var_ in predictors:\n",
    "        # Builds up the list of equations to be added\n",
    "        eqs = _equation_builder(var_, prev_eq, response)\n",
    "        num_var = len(eqs)\n",
    "\n",
    "        # Fits the equations\n",
    "        fits = [smf.ols(eq, data=data).fit() for eq in eqs]\n",
    "\n",
    "        # Summarizes the fit\n",
    "        fit_check = _populate_fit_check(fits, var_, id_, dname)\n",
    "\n",
    "        # Updates the fit check with the best previous model\n",
    "        check_ids = fit_check.index.values\n",
    "        if prev_id is None:\n",
    "            prev_id = min(fit_check.index.values)\n",
    "        else:\n",
    "            fit_check.loc[prev_id] = model_watch.loc[prev_id]\n",
    "\n",
    "        # Identifies the best model\n",
    "        prev_id = _identify_best_model(fit_check, prev_id)\n",
    "\n",
    "        model_watch = pd.concat((model_watch, fit_check.loc[check_ids]))\n",
    "\n",
    "        # Gets the best fit equation\n",
    "        prev_eq = model_watch.loc[prev_id, 'equation']\n",
    "\n",
    "        # Advances the counter\n",
    "        id_ = id_ + num_var\n",
    "\n",
    "    return model_watch, prev_eq\n",
    "\n",
    "\n",
    "def control_cat_order(df, category, old_order=None, new_order=None,\n",
    "                      counts=None, drop=None):\n",
    "    \"\"\"...\"\"\"\n",
    "    # Sets up default variables\n",
    "    if old_order is None:\n",
    "        old_order = sorted(df.groupby(category).groups.keys())\n",
    "    if new_order is None:\n",
    "        new_order = old_order\n",
    "    if counts is None:\n",
    "        counts = np.arange(0, len(new_order))\n",
    "    if isinstance(drop, str):\n",
    "        drop = [drop]\n",
    "    elif drop is None:\n",
    "        drop = []\n",
    "\n",
    "    # Sets the dropped categories to nans\n",
    "    for cat in drop:\n",
    "        if cat in old_order:\n",
    "            raise ValueError('%s cannot be dropped and categorized' % cat)\n",
    "        df.loc[df[category] == cat, category] = np.nan\n",
    "\n",
    "    # Orders the new category\n",
    "    for (old_, new_, count) in zip(*[old_order, new_order, counts]):\n",
    "        df.loc[df[category] == old_, category] = '(%i)%s' % (count, old_)\n",
    "\n",
    "\n",
    "def _check_watch(model_watch, prev_id):\n",
    "    \"\"\"...\"\"\"\n",
    "    if model_watch is None:\n",
    "        model_watch = {}\n",
    "        id_ = 1\n",
    "        prev_id = None\n",
    "        prev_eq = None\n",
    "    else:\n",
    "        id_ = max(model_watch.keys()) + 1\n",
    "        if prev_id is None:\n",
    "            models = pd.DataFrame(model_watch).transpose()\n",
    "            ranked = models.sort(['aicc'], inplace=False).index\n",
    "            prev_id = ranked[0]\n",
    "        prev_eq = model_watch[prev_id]['equation']\n",
    "    return model_watch, id_, prev_id, prev_eq\n",
    "\n",
    "\n",
    "def _equation_builder(vars_, last_eq=None, response=None):\n",
    "    \"\"\"Builds a set of equations trying multiple predictor options\"\"\"\n",
    "    # Checks enough variables are defined\n",
    "    if last_eq is None and response is None:\n",
    "        raise ValueError('A response or last equation must be specified.')\n",
    "\n",
    "    # Checks the class of vars\n",
    "    if isinstance(vars_, str):\n",
    "        vars_ = [vars_]\n",
    "\n",
    "    # Builds the equation\n",
    "    if last_eq is None:\n",
    "        return ['%s ~ %s' % (response, pred) for pred in vars_]\n",
    "    else:\n",
    "        eqs = []\n",
    "        for pred in vars_:\n",
    "            if '&' in pred:\n",
    "                eqs.append(last_eq.replace(' + %s' % pred[1:], ''))\n",
    "            else:\n",
    "                eqs.append('%s + %s' % (last_eq, pred))\n",
    "\n",
    "    return eqs\n",
    "\n",
    "\n",
    "def _populate_fit_check(fits, var_, id_=1, dname=None):\n",
    "    \"\"\"Updates the fit_check information\"\"\"\n",
    "    fit_check = []\n",
    "    if isinstance(var_, str):\n",
    "        var_ = [var_]\n",
    "\n",
    "    for idy, fit_ in enumerate(fits):\n",
    "        n = fit_.nobs\n",
    "        k = fit_.df_model\n",
    "        aicc = fit_.aic + (2 * k * (k + 1) / (n - k - 1))\n",
    "        d_score = scipy.stats.kstest(fit_.resid.values, 'norm')[0]\n",
    "\n",
    "        fit_check.append(pd.Series({'data_set': dname,\n",
    "                                    'equation':  fit_.model.formula,\n",
    "                                    'var': var_[idy],\n",
    "                                    'n': n,\n",
    "                                    'k': k,\n",
    "                                    'aic': fit_.aic,\n",
    "                                    'aicc': aicc,\n",
    "                                    'D_score': d_score,\n",
    "                                    'pearson_r2': fit_.rsquared,\n",
    "                                    'adj_r2': fit_.rsquared_adj,\n",
    "                                    'cond no': fit_.condition_number},\n",
    "                                   name=id_ + idy))\n",
    "    return pd.DataFrame(fit_check)\n",
    "\n",
    "\n",
    "def _identify_best_model(fit_check, prev_id):\n",
    "    \"\"\"...\"\"\"\n",
    "    fit_check['ref'] = prev_id\n",
    "    prev_r2 = fit_check.loc[prev_id, 'adj_r2']\n",
    "    prev_aicc = fit_check.loc[prev_id, 'aicc']\n",
    "    fit_check['score'] = -10000*(((fit_check.adj_r2 - prev_r2) *\n",
    "                                 (fit_check.aicc - prev_aicc)) /\n",
    "                                 fit_check['cond no'])\n",
    "    prev_id = fit_check.loc[fit_check.score == fit_check.score.max()].index[0]\n",
    "    return prev_id\n"
   ]
  },
  {
   "cell_type": "code",
   "execution_count": 3,
   "metadata": {
    "collapsed": true
   },
   "outputs": [],
   "source": [
    "bodysite = 'fecal'\n",
    "sequence_trim = '100nt'\n",
    "rarefaction_depth = '10k'\n",
    "\n",
    "use_subset = False\n",
    "use_one_sample = True"
   ]
  },
  {
   "cell_type": "code",
   "execution_count": 4,
   "metadata": {
    "collapsed": true
   },
   "outputs": [],
   "source": [
    "fecal_data = AgData(bodysite=bodysite, \n",
    "                    trim=sequence_trim, \n",
    "                    depth=rarefaction_depth, \n",
    "                    sub_participants=use_subset, \n",
    "                    one_sample=use_one_sample)"
   ]
  },
  {
   "cell_type": "code",
   "execution_count": 5,
   "metadata": {
    "collapsed": true
   },
   "outputs": [],
   "source": [
    "fecal_data.drop_alpha_outliers()\n",
    "fecal_data.drop_bmi_outliers()\n",
    "fecal_data.clean_age()"
   ]
  },
  {
   "cell_type": "code",
   "execution_count": 7,
   "metadata": {
    "collapsed": false
   },
   "outputs": [],
   "source": [
    "ibd = {u'10317.000012951', u'10317.000017746', u'10317.000001620',\n",
    "       u'10317.000001748', u'10317.000009382', u'10317.000001544',\n",
    "       u'10317.000005953', u'10317.000009004', u'10317.000013010',\n",
    "       u'10317.000014579', u'10317.000001827', u'10317.000013023',\n",
    "       u'10317.000009157', u'10317.000001362', u'10317.000001135',\n",
    "       u'10317.000004855', u'10317.000005878', u'10317.000007719',\n",
    "       u'10317.000009126', u'10317.000007068', u'10317.000010134',\n",
    "       u'10317.000010112', u'10317.000003300', u'10317.000002830',\n",
    "       u'10317.000014236', u'10317.000012936', u'10317.000013575',\n",
    "       u'10317.000001047', u'10317.000005360', u'10317.000001333',\n",
    "       u'10317.000015581', u'10317.000003189', u'10317.000001128',\n",
    "       u'10317.000015907', u'10317.000017338', u'10317.000013062',\n",
    "       u'10317.000013595', u'10317.000009533', u'10317.000010546',\n",
    "       u'10317.000001685', u'10317.000004163', u'10317.000001751',\n",
    "       u'10317.000013551', u'10317.000005889', u'10317.000002036',\n",
    "       u'10317.000002783', u'10317.000004157', u'10317.000001364',\n",
    "       u'10317.000001622', u'10317.000004783', u'10317.000008999',\n",
    "       u'10317.000009149', u'10317.000001895', u'10317.000011375',\n",
    "       u'10317.000014880', u'10317.000001291', u'10317.000010876',\n",
    "       u'10317.000014607', u'10317.000014987', u'10317.000002271',\n",
    "       u'10317.000003898', u'10317.000009144', u'10317.000002482',\n",
    "       u'10317.000014608', u'10317.000013134', u'10317.000001647',\n",
    "       u'10317.000011959', u'10317.000009626', u'10317.000004025',\n",
    "       u'10317.000014291', u'10317.000001351', u'10317.000002859',\n",
    "       u'10317.000014118', u'10317.000004612', u'10317.000018383',\n",
    "       u'10317.000001575', u'10317.000004161', u'10317.000015873',\n",
    "       u'10317.000005971', u'10317.000004192', u'10317.000001322',\n",
    "       u'10317.000004162', u'10317.000002336', u'10317.000010147',\n",
    "       u'10317.000006673', u'10317.000004752', u'10317.000005851',\n",
    "       u'10317.000009236', u'10317.000001363', u'10317.000014458',\n",
    "       u'10317.000011093', u'10317.000009164', u'10317.000005810',\n",
    "       u'10317.000003047', u'10317.000015849', u'10317.000004790',\n",
    "       }\n",
    "actual = set(ibd).intersection(fecal_data.map_.index)\n",
    "# len(actual)\n",
    "fecal_data.map_.loc[actual, 'IBD_DIAGONOSIS'] = 'Yes'"
   ]
  },
  {
   "cell_type": "code",
   "execution_count": 8,
   "metadata": {
    "collapsed": false
   },
   "outputs": [],
   "source": [
    "map_ = fecal_data.map_.loc[fecal_data.map_.AGE_CORRECTED > 20]"
   ]
  },
  {
   "cell_type": "code",
   "execution_count": 15,
   "metadata": {
    "collapsed": true
   },
   "outputs": [],
   "source": [
    "questions = ['IBD', 'SEX', 'ANTIBIOTIC_HISTORY', 'COUNTRY', 'RACE', 'SEX', 'BOWEL_MOVEMENT_QUALITY', 'BOWEL_MOVEMENT_FREQUENCY']"
   ]
  },
  {
   "cell_type": "code",
   "execution_count": 16,
   "metadata": {
    "collapsed": false
   },
   "outputs": [],
   "source": [
    "for name in questions:\n",
    "    question = agdic.ag_dictionary(name)\n",
    "    fecal_data.clean_group(question)\n",
    "    question.label_order(fecal_data.map_)\n",
    "map_ = fecal_data.map_.loc[fecal_data.map_['AGE_CORRECTED'] > 19]"
   ]
  },
  {
   "cell_type": "code",
   "execution_count": null,
   "metadata": {
    "collapsed": true
   },
   "outputs": [],
   "source": [
    "map_."
   ]
  },
  {
   "cell_type": "code",
   "execution_count": 17,
   "metadata": {
    "collapsed": false
   },
   "outputs": [
    {
     "data": {
      "text/plain": [
       "IBD\n",
       "(0) Yes      76\n",
       "(1) No     3404\n",
       "dtype: int64"
      ]
     },
     "execution_count": 17,
     "metadata": {},
     "output_type": "execute_result"
    }
   ],
   "source": [
    "map_.groupby('IBD').count().max(1)"
   ]
  },
  {
   "cell_type": "code",
   "execution_count": 27,
   "metadata": {
    "collapsed": false
   },
   "outputs": [
    {
     "name": "stderr",
     "output_type": "stream",
     "text": [
      "/Users/jwdebelius/anaconda/envs/americangut/lib/python2.7/site-packages/ipykernel/__main__.py:18: SettingWithCopyWarning: \n",
      "A value is trying to be set on a copy of a slice from a DataFrame.\n",
      "Try using .loc[row_indexer,col_indexer] = value instead\n",
      "\n",
      "See the caveats in the documentation: http://pandas.pydata.org/pandas-docs/stable/indexing.html#indexing-view-versus-copy\n"
     ]
    }
   ],
   "source": [
    "vios_skip = {'VIOSCREEN_FINISHED',\n",
    "             'VIOSCREEN_DATABASE',\n",
    "             'VIOSCREEN_MULTIVITAMIN',\n",
    "             'VIOSCREEN_QUESTIONNAIRE',\n",
    "             'VIOSCREEN_GENDER',\n",
    "             'VIOSCREEN_SCFV',\n",
    "             'VIOSCREEN_PROTOCOL',\n",
    "             'VIOSCREEN_CALCIUM_FREQ',\n",
    "             'VIOSCREEN_CALCIUM',\n",
    "             'VIOSCREEN_STARTED',\n",
    "             'VIOSCREEN_NUTRIENT_RECOMMENDATION',\n",
    "             'VIOSCREEN_PROCDATE',\n",
    "             'VIOSCREEN_DOB',\n",
    "             'VIOSCREEN_SCF',\n",
    "             'VIOSCREEN_MULTIVITAMIN_FREQ'}\n",
    "vios_cols = [x for x in map_.columns if 'VIOSCREEN' in x and not x in vios_skip]\n",
    "for col in vios_cols:\n",
    "    map_[col] = map_[col].astype(float)"
   ]
  },
  {
   "cell_type": "code",
   "execution_count": 28,
   "metadata": {
    "collapsed": false
   },
   "outputs": [
    {
     "name": "stderr",
     "output_type": "stream",
     "text": [
      "/Users/jwdebelius/anaconda/envs/americangut/lib/python2.7/site-packages/ipykernel/__main__.py:1: SettingWithCopyWarning: \n",
      "A value is trying to be set on a copy of a slice from a DataFrame.\n",
      "Try using .loc[row_indexer,col_indexer] = value instead\n",
      "\n",
      "See the caveats in the documentation: http://pandas.pydata.org/pandas-docs/stable/indexing.html#indexing-view-versus-copy\n",
      "  if __name__ == '__main__':\n"
     ]
    }
   ],
   "source": [
    "map_['lnAGE'] = map_['AGE_CORRECTED'].apply(lambda x: np.log(x))"
   ]
  },
  {
   "cell_type": "code",
   "execution_count": 35,
   "metadata": {
    "collapsed": false
   },
   "outputs": [
    {
     "ename": "TypeError",
     "evalue": "cannot concatenate a non-NDFrame object",
     "output_type": "error",
     "traceback": [
      "\u001b[0;31m---------------------------------------------------------------------------\u001b[0m",
      "\u001b[0;31mTypeError\u001b[0m                                 Traceback (most recent call last)",
      "\u001b[0;32m<ipython-input-35-69272210bc28>\u001b[0m in \u001b[0;36m<module>\u001b[0;34m()\u001b[0m\n\u001b[0;32m----> 1\u001b[0;31m \u001b[0molf_build_model\u001b[0m\u001b[0;34m(\u001b[0m\u001b[0;34m'PD_whole_tree_10k'\u001b[0m\u001b[0;34m,\u001b[0m \u001b[0;34m[\u001b[0m\u001b[0;34m'AGE_CORRECTED'\u001b[0m\u001b[0;34m,\u001b[0m \u001b[0;34m'lnAGE'\u001b[0m\u001b[0;34m,\u001b[0m \u001b[0;34m'VIOSCREEN_HEI'\u001b[0m\u001b[0;34m]\u001b[0m\u001b[0;34m,\u001b[0m \u001b[0mmap_\u001b[0m\u001b[0;34m)\u001b[0m\u001b[0;34m\u001b[0m\u001b[0m\n\u001b[0m",
      "\u001b[0;32m<ipython-input-33-c901c0e4d28c>\u001b[0m in \u001b[0;36molf_build_model\u001b[0;34m(response, predictors, data, dname, model_watch, prev_id)\u001b[0m\n\u001b[1;32m     41\u001b[0m         \u001b[0mprev_id\u001b[0m \u001b[0;34m=\u001b[0m \u001b[0m_identify_best_model\u001b[0m\u001b[0;34m(\u001b[0m\u001b[0mfit_check\u001b[0m\u001b[0;34m,\u001b[0m \u001b[0mprev_id\u001b[0m\u001b[0;34m)\u001b[0m\u001b[0;34m\u001b[0m\u001b[0m\n\u001b[1;32m     42\u001b[0m \u001b[0;34m\u001b[0m\u001b[0m\n\u001b[0;32m---> 43\u001b[0;31m         \u001b[0mmodel_watch\u001b[0m \u001b[0;34m=\u001b[0m \u001b[0mpd\u001b[0m\u001b[0;34m.\u001b[0m\u001b[0mconcat\u001b[0m\u001b[0;34m(\u001b[0m\u001b[0;34m(\u001b[0m\u001b[0mmodel_watch\u001b[0m\u001b[0;34m,\u001b[0m \u001b[0mfit_check\u001b[0m\u001b[0;34m.\u001b[0m\u001b[0mloc\u001b[0m\u001b[0;34m[\u001b[0m\u001b[0mcheck_ids\u001b[0m\u001b[0;34m]\u001b[0m\u001b[0;34m)\u001b[0m\u001b[0;34m)\u001b[0m\u001b[0;34m\u001b[0m\u001b[0m\n\u001b[0m\u001b[1;32m     44\u001b[0m \u001b[0;34m\u001b[0m\u001b[0m\n\u001b[1;32m     45\u001b[0m         \u001b[0;31m# Gets the best fit equation\u001b[0m\u001b[0;34m\u001b[0m\u001b[0;34m\u001b[0m\u001b[0m\n",
      "\u001b[0;32m/Users/jwdebelius/anaconda/envs/americangut/lib/python2.7/site-packages/pandas/tools/merge.pyc\u001b[0m in \u001b[0;36mconcat\u001b[0;34m(objs, axis, join, join_axes, ignore_index, keys, levels, names, verify_integrity, copy)\u001b[0m\n\u001b[1;32m    810\u001b[0m                        \u001b[0mkeys\u001b[0m\u001b[0;34m=\u001b[0m\u001b[0mkeys\u001b[0m\u001b[0;34m,\u001b[0m \u001b[0mlevels\u001b[0m\u001b[0;34m=\u001b[0m\u001b[0mlevels\u001b[0m\u001b[0;34m,\u001b[0m \u001b[0mnames\u001b[0m\u001b[0;34m=\u001b[0m\u001b[0mnames\u001b[0m\u001b[0;34m,\u001b[0m\u001b[0;34m\u001b[0m\u001b[0m\n\u001b[1;32m    811\u001b[0m                        \u001b[0mverify_integrity\u001b[0m\u001b[0;34m=\u001b[0m\u001b[0mverify_integrity\u001b[0m\u001b[0;34m,\u001b[0m\u001b[0;34m\u001b[0m\u001b[0m\n\u001b[0;32m--> 812\u001b[0;31m                        copy=copy)\n\u001b[0m\u001b[1;32m    813\u001b[0m     \u001b[0;32mreturn\u001b[0m \u001b[0mop\u001b[0m\u001b[0;34m.\u001b[0m\u001b[0mget_result\u001b[0m\u001b[0;34m(\u001b[0m\u001b[0;34m)\u001b[0m\u001b[0;34m\u001b[0m\u001b[0m\n\u001b[1;32m    814\u001b[0m \u001b[0;34m\u001b[0m\u001b[0m\n",
      "\u001b[0;32m/Users/jwdebelius/anaconda/envs/americangut/lib/python2.7/site-packages/pandas/tools/merge.pyc\u001b[0m in \u001b[0;36m__init__\u001b[0;34m(self, objs, axis, join, join_axes, keys, levels, names, ignore_index, verify_integrity, copy)\u001b[0m\n\u001b[1;32m    866\u001b[0m         \u001b[0;32mfor\u001b[0m \u001b[0mobj\u001b[0m \u001b[0;32min\u001b[0m \u001b[0mobjs\u001b[0m\u001b[0;34m:\u001b[0m\u001b[0;34m\u001b[0m\u001b[0m\n\u001b[1;32m    867\u001b[0m             \u001b[0;32mif\u001b[0m \u001b[0;32mnot\u001b[0m \u001b[0misinstance\u001b[0m\u001b[0;34m(\u001b[0m\u001b[0mobj\u001b[0m\u001b[0;34m,\u001b[0m \u001b[0mNDFrame\u001b[0m\u001b[0;34m)\u001b[0m\u001b[0;34m:\u001b[0m\u001b[0;34m\u001b[0m\u001b[0m\n\u001b[0;32m--> 868\u001b[0;31m                 \u001b[0;32mraise\u001b[0m \u001b[0mTypeError\u001b[0m\u001b[0;34m(\u001b[0m\u001b[0;34m\"cannot concatenate a non-NDFrame object\"\u001b[0m\u001b[0;34m)\u001b[0m\u001b[0;34m\u001b[0m\u001b[0m\n\u001b[0m\u001b[1;32m    869\u001b[0m \u001b[0;34m\u001b[0m\u001b[0m\n\u001b[1;32m    870\u001b[0m             \u001b[0;31m# consolidate\u001b[0m\u001b[0;34m\u001b[0m\u001b[0;34m\u001b[0m\u001b[0m\n",
      "\u001b[0;31mTypeError\u001b[0m: cannot concatenate a non-NDFrame object"
     ]
    }
   ],
   "source": [
    "olf_build_model('PD_whole_tree_10k', ['AGE_CORRECTED', 'lnAGE', 'VIOSCREEN_HEI'], map_)"
   ]
  },
  {
   "cell_type": "code",
   "execution_count": null,
   "metadata": {
    "collapsed": false
   },
   "outputs": [],
   "source": [
    "mod = smf.ols('PD_whole_tree_10k ~ AGE_CORRECTED', data=map_.loc[map_.AGE_CORRECTED > 20]).fit()\n",
    "print mod.summary()"
   ]
  },
  {
   "cell_type": "code",
   "execution_count": null,
   "metadata": {
    "collapsed": false
   },
   "outputs": [],
   "source": [
    "sub_map = map_.loc[map_[['AGE_CORRECTED', 'VIOSCREEN_FIBER']].dropna().index]\n",
    "sub_map['COUNTRY'] = sub_map.COUNTRY.apply(lambda x: x if x in {'USA', 'United Kingdom'} else np.nan)"
   ]
  },
  {
   "cell_type": "code",
   "execution_count": null,
   "metadata": {
    "collapsed": false
   },
   "outputs": [],
   "source": [
    "f_ = lambda x: x if x in {'USA', 'United Kingdom'} else np.nan"
   ]
  },
  {
   "cell_type": "code",
   "execution_count": null,
   "metadata": {
    "collapsed": false
   },
   "outputs": [],
   "source": [
    "abx = agdic.ag_dictionary('ANTIBIOTIC_HISTORY')\n",
    "abx.remap_groups(sub_map)\n",
    "abx.label_order(sub_map)"
   ]
  },
  {
   "cell_type": "code",
   "execution_count": null,
   "metadata": {
    "collapsed": false
   },
   "outputs": [],
   "source": [
    "mod = smf.ols('PD_whole_tree_10k ~ AGE_CORRECTED', data=sub_map.loc[sub_map.AGE_CORRECTED > 20]).fit()\n",
    "print mod.summary()"
   ]
  },
  {
   "cell_type": "code",
   "execution_count": null,
   "metadata": {
    "collapsed": true
   },
   "outputs": [],
   "source": [
    "sub_map['lnAge'] = sub_map.AGE_CORRECTED.apply(lambda x: np.log(x))\n",
    "sub_map.loc[sub_map.AGE_CORRECTED < 20, 'lnAge'] = np.nan"
   ]
  },
  {
   "cell_type": "code",
   "execution_count": null,
   "metadata": {
    "collapsed": false
   },
   "outputs": [],
   "source": [
    "mod = smf.ols('PD_whole_tree_10k ~ lnAge', data=sub_map.loc[sub_map.AGE_CORRECTED > 20]).fit()\n",
    "print mod.summary()"
   ]
  },
  {
   "cell_type": "code",
   "execution_count": null,
   "metadata": {
    "collapsed": false
   },
   "outputs": [],
   "source": [
    "mod = smf.ols('PD_whole_tree_10k ~ lnAge + COUNTRY', data=sub_map.loc[sub_map.AGE_CORRECTED > 20]).fit()\n",
    "print mod.summary()"
   ]
  },
  {
   "cell_type": "code",
   "execution_count": null,
   "metadata": {
    "collapsed": false
   },
   "outputs": [],
   "source": [
    "mod = smf.ols('PD_whole_tree_10k ~ lnAge + COUNTRY + ANTIBIOTIC_HISTORY', data=sub_map.loc[sub_map.AGE_CORRECTED > 20]).fit()\n",
    "print mod.summary()"
   ]
  },
  {
   "cell_type": "code",
   "execution_count": null,
   "metadata": {
    "collapsed": false
   },
   "outputs": [],
   "source": [
    "mod = smf.ols('PD_whole_tree_10k ~ AGE_CORRECTED + COUNTRY + VIOSCREEN_HEI_SCORE', data=sub_map.loc[sub_map.AGE_CORRECTED > 20]).fit()\n",
    "print mod.summary()"
   ]
  },
  {
   "cell_type": "code",
   "execution_count": null,
   "metadata": {
    "collapsed": false
   },
   "outputs": [],
   "source": [
    "sub_map.loc[sub_map.AGE_CORRECTED > 20].shape"
   ]
  },
  {
   "cell_type": "code",
   "execution_count": null,
   "metadata": {
    "collapsed": false
   },
   "outputs": [],
   "source": [
    "plt.plot(map_['VIOSCREEN_FIBER'], map_['PD_whole_tree_10k'], 'o')"
   ]
  },
  {
   "cell_type": "code",
   "execution_count": null,
   "metadata": {
    "collapsed": false
   },
   "outputs": [],
   "source": [
    "sorted(vios_cols)"
   ]
  },
  {
   "cell_type": "code",
   "execution_count": null,
   "metadata": {
    "collapsed": false
   },
   "outputs": [],
   "source": [
    "vios_cols"
   ]
  },
  {
   "cell_type": "code",
   "execution_count": null,
   "metadata": {
    "collapsed": true
   },
   "outputs": [],
   "source": []
  }
 ],
 "metadata": {
  "kernelspec": {
   "display_name": "Python 2",
   "language": "python",
   "name": "python2"
  },
  "language_info": {
   "codemirror_mode": {
    "name": "ipython",
    "version": 2
   },
   "file_extension": ".py",
   "mimetype": "text/x-python",
   "name": "python",
   "nbconvert_exporter": "python",
   "pygments_lexer": "ipython2",
   "version": "2.7.11"
  }
 },
 "nbformat": 4,
 "nbformat_minor": 0
}
