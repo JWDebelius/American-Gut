{
 "cells": [
  {
   "cell_type": "markdown",
   "metadata": {},
   "source": [
    "This notebook will let us examine alpha diversity for a category in depth. We're already summarized the alpha diveristy p values for all categories in a [previous notebook](). Here, we can do post-hoc testing and look at the alpha diversity values associated with a single category.\n",
    "\n",
    "Let's start by importing the modules and functions we'll need to the analysis."
   ]
  },
  {
   "cell_type": "code",
   "execution_count": 1,
   "metadata": {
    "collapsed": false
   },
   "outputs": [
    {
     "name": "stderr",
     "output_type": "stream",
     "text": [
      "/Users/jwdebelius/anaconda/envs/americangut/lib/python2.7/site-packages/matplotlib/__init__.py:872: UserWarning: axes.color_cycle is deprecated and replaced with axes.prop_cycle; please use the latter.\n",
      "  warnings.warn(self.msg_depr % (key, alt_key))\n"
     ]
    }
   ],
   "source": [
    "import matplotlib.pyplot as plt\n",
    "import numpy as np\n",
    "import pandas as pd\n",
    "import seaborn as sn\n",
    "import scipy.stats\n",
    "import skbio\n",
    "\n",
    "import americangut.diversity_analysis as agdiv\n",
    "import americangut.notebook_environment as agenv\n",
    "from americangut.ag_data import AgData, ag_data_dictionary"
   ]
  },
  {
   "cell_type": "code",
   "execution_count": 2,
   "metadata": {
    "collapsed": false
   },
   "outputs": [],
   "source": [
    "from matplotlib import rcParams\n",
    "\n",
    "% matplotlib inline\n",
    "\n",
    "# Formats the axes using seabron so they will be white, and have ticks\n",
    "# on the bottom of the axes.\n",
    "sn.set_style('ticks', {'axes.facecolor': 'none'})\n",
    "\n",
    "# Sets up plotting parameters so that the default setting is use to Helvetica\n",
    "# in plots\n",
    "rcParams['font.family'] = 'sans-serif'\n",
    "rcParams['font.sans-serif'] = ['Helvetica', 'Arial']\n",
    "rcParams['text.usetex'] = True"
   ]
  },
  {
   "cell_type": "markdown",
   "metadata": {},
   "source": [
    "Next, let's select the data set and rarefaction depth we wish to use."
   ]
  },
  {
   "cell_type": "code",
   "execution_count": 3,
   "metadata": {
    "collapsed": true
   },
   "outputs": [],
   "source": [
    "bodysite = 'fecal'\n",
    "sequence_trim = '100nt'\n",
    "rarefaction_depth = '10k'\n",
    "\n",
    "use_subset = True\n",
    "use_one_sample = True"
   ]
  },
  {
   "cell_type": "markdown",
   "metadata": {},
   "source": [
    "Next, we'll load the data, and remove outliers."
   ]
  },
  {
   "cell_type": "code",
   "execution_count": 4,
   "metadata": {
    "collapsed": false
   },
   "outputs": [],
   "source": [
    "fecal_data = AgData(bodysite=bodysite, \n",
    "                    trim=sequence_trim, \n",
    "                    depth=rarefaction_depth, \n",
    "                    sub_participants=use_subset, \n",
    "                    one_sample=use_one_sample)\n",
    "\n",
    "fecal_data.drop_alpha_outliers()\n",
    "fecal_data.drop_bmi_outliers()"
   ]
  },
  {
   "cell_type": "markdown",
   "metadata": {},
   "source": [
    "Next, let's set up a directory where we will save our results."
   ]
  },
  {
   "cell_type": "code",
   "execution_count": 5,
   "metadata": {
    "collapsed": false
   },
   "outputs": [
    {
     "ename": "AttributeError",
     "evalue": "'module' object has no attribute 'mkdirs'",
     "output_type": "error",
     "traceback": [
      "\u001b[0;31m---------------------------------------------------------------------------\u001b[0m",
      "\u001b[0;31mAttributeError\u001b[0m                            Traceback (most recent call last)",
      "\u001b[0;32m<ipython-input-5-d33328c15a98>\u001b[0m in \u001b[0;36m<module>\u001b[0;34m()\u001b[0m\n\u001b[0;32m----> 1\u001b[0;31m \u001b[0msave_dir\u001b[0m \u001b[0;34m=\u001b[0m \u001b[0magenv\u001b[0m\u001b[0;34m.\u001b[0m\u001b[0mcheck_save_dir\u001b[0m\u001b[0;34m(\u001b[0m\u001b[0mfecal_data\u001b[0m\u001b[0;34m)\u001b[0m\u001b[0;34m\u001b[0m\u001b[0m\n\u001b[0m",
      "\u001b[0;32m/Users/jwdebelius/Repositories/American-Gut/americangut/notebook_environment.py\u001b[0m in \u001b[0;36mcheck_save_dir\u001b[0;34m(dataset, base_dir)\u001b[0m\n\u001b[1;32m   2162\u001b[0m \u001b[0;34m\u001b[0m\u001b[0m\n\u001b[1;32m   2163\u001b[0m     \u001b[0;32mif\u001b[0m \u001b[0;32mnot\u001b[0m \u001b[0mos\u001b[0m\u001b[0;34m.\u001b[0m\u001b[0mpath\u001b[0m\u001b[0;34m.\u001b[0m\u001b[0mexists\u001b[0m\u001b[0;34m(\u001b[0m\u001b[0msave_dir\u001b[0m\u001b[0;34m)\u001b[0m\u001b[0;34m:\u001b[0m\u001b[0;34m\u001b[0m\u001b[0m\n\u001b[0;32m-> 2164\u001b[0;31m         \u001b[0mos\u001b[0m\u001b[0;34m.\u001b[0m\u001b[0mmkdirs\u001b[0m\u001b[0;34m(\u001b[0m\u001b[0msave_dir\u001b[0m\u001b[0;34m)\u001b[0m\u001b[0;34m\u001b[0m\u001b[0m\n\u001b[0m\u001b[1;32m   2165\u001b[0m \u001b[0;34m\u001b[0m\u001b[0m\n\u001b[1;32m   2166\u001b[0m     \u001b[0;32mreturn\u001b[0m \u001b[0msave_dir\u001b[0m\u001b[0;34m\u001b[0m\u001b[0m\n",
      "\u001b[0;31mAttributeError\u001b[0m: 'module' object has no attribute 'mkdirs'"
     ]
    }
   ],
   "source": [
    "save_dir = agenv.check_save_dir(fecal_data.data_set)"
   ]
  },
  {
   "cell_type": "markdown",
   "metadata": {},
   "source": [
    "Finally, we can pick the alpha diversity metric, the category to interogate, and set and order, if one is relevant."
   ]
  },
  {
   "cell_type": "code",
   "execution_count": null,
   "metadata": {
    "collapsed": true
   },
   "outputs": [],
   "source": [
    "metric = 'PD_whole_tree'\n",
    "\n",
    "group_name = 'WEIGHT_CHANGE'"
   ]
  },
  {
   "cell_type": "markdown",
   "metadata": {},
   "source": [
    "Now, let's read the files assoicated with the data and load the data dictionary entry for the group."
   ]
  },
  {
   "cell_type": "code",
   "execution_count": null,
   "metadata": {
    "collapsed": true
   },
   "outputs": [],
   "source": [
    "group = ag_data_dictionary[group_name]"
   ]
  },
  {
   "cell_type": "markdown",
   "metadata": {},
   "source": [
    "We're going to start by cleaning up the data. So, let's remove any samples that might be outliers (in rounds 1-21, there is a sample with alpha diveristy seven standard deivations above the mean and 4 standard deviations about the next highest sample).\n",
    "\n",
    "We'll also clean up the mapping column as needed, to make analsyis easier."
   ]
  },
  {
   "cell_type": "code",
   "execution_count": null,
   "metadata": {
    "collapsed": false
   },
   "outputs": [],
   "source": []
  },
  {
   "cell_type": "markdown",
   "metadata": {},
   "source": [
    "Now that we have the data loaded, let's plot it."
   ]
  },
  {
   "cell_type": "code",
   "execution_count": null,
   "metadata": {
    "collapsed": false
   },
   "outputs": [],
   "source": [
    "ax = div.pretty_pandas_boxplot(meta=fecal_data.map_,\n",
    "                               group=group.name,\n",
    "                               metric='%s_%s' % (metric, rarefaction_depth),\n",
    "                               order=group.order,\n",
    "                               bw=True,\n",
    "                               ylim=[5, 55],\n",
    "                               xlabel=group.clean_name,\n",
    "                               xticklabels=group.order,\n",
    "                               ylabel='PD Whole Tree Diversity',\n",
    "                               show_p=True,\n",
    "                               )\n",
    "ax.set_position((0.2, 0.2, 0.12*len(group.order), 0.75))\n",
    "fig = ax.figure\n",
    "fig.savefig('/Users/jwdebelius/Desktop/ag_images/alpha/images/%s_subset.pdf' % group.name)"
   ]
  },
  {
   "cell_type": "markdown",
   "metadata": {},
   "source": [
    "We can also examine significant differences using a post-hoc test to see what drives these differences."
   ]
  },
  {
   "cell_type": "code",
   "execution_count": null,
   "metadata": {
    "collapsed": false
   },
   "outputs": [],
   "source": [
    "post_hoc = div.post_hoc_pandas(meta=fecal_data.map_,\n",
    "                    group=group.name,\n",
    "                    cat='%s_%s'% (metric, rarefaction_depth),\n",
    "                    order=group.order,\n",
    "                    correct='bonferroni',\n",
    "                   )\n",
    "post_hoc.to_csv('/Users/jwdebelius/Desktop/ag_images/alpha/summary/%s_subset.txt' % group.name,\n",
    "                sep='\\t')\n",
    "post_hoc"
   ]
  },
  {
   "cell_type": "code",
   "execution_count": null,
   "metadata": {
    "collapsed": true
   },
   "outputs": [],
   "source": []
  }
 ],
 "metadata": {
  "kernelspec": {
   "display_name": "Python 2",
   "language": "python",
   "name": "python2"
  },
  "language_info": {
   "codemirror_mode": {
    "name": "ipython",
    "version": 2
   },
   "file_extension": ".py",
   "mimetype": "text/x-python",
   "name": "python",
   "nbconvert_exporter": "python",
   "pygments_lexer": "ipython2",
   "version": "2.7.11"
  }
 },
 "nbformat": 4,
 "nbformat_minor": 0
}
