{
 "cells": [
  {
   "cell_type": "markdown",
   "metadata": {},
   "source": [
    "We'll start our microbiome analysis by doing a high-level overview of the categories of interest. This will let us determine what categories it might be interesting to pursue."
   ]
  },
  {
   "cell_type": "code",
   "execution_count": 1,
   "metadata": {
    "collapsed": false
   },
   "outputs": [
    {
     "name": "stderr",
     "output_type": "stream",
     "text": [
      "/Users/jwdebelius/anaconda/envs/americangut/lib/python2.7/site-packages/matplotlib/__init__.py:872: UserWarning: axes.color_cycle is deprecated and replaced with axes.prop_cycle; please use the latter.\n",
      "  warnings.warn(self.msg_depr % (key, alt_key))\n"
     ]
    }
   ],
   "source": [
    "import os\n",
    "import pickle\n",
    "\n",
    "import numpy as np\n",
    "import pandas as pd\n",
    "import scipy\n",
    "import skbio\n",
    "import seaborn as sn\n",
    "import matplotlib.pyplot as plt\n",
    "from skbio.stats.power import subsample_power, confidence_bound\n",
    "\n",
    "import americangut.ag_dictionary as agdic\n",
    "from americangut.ag_data import AgData\n",
    "import americangut.notebook_environment as agenv\n",
    "import americangut.power_plots as agpp"
   ]
  },
  {
   "cell_type": "markdown",
   "metadata": {},
   "source": [
    "We'll start by selecting the dataset we plan to use. We need to pick a bodysite, or location "
   ]
  },
  {
   "cell_type": "code",
   "execution_count": 95,
   "metadata": {
    "collapsed": true
   },
   "outputs": [],
   "source": [
    "bodysite = 'fecal'\n",
    "sequence_trim = '100nt'\n",
    "rarefaction_depth = '10k'\n",
    "\n",
    "use_subset = False\n",
    "use_one_sample = False"
   ]
  },
  {
   "cell_type": "markdown",
   "metadata": {},
   "source": [
    "Next, we'll load the data, and remove outliers."
   ]
  },
  {
   "cell_type": "code",
   "execution_count": 96,
   "metadata": {
    "collapsed": true
   },
   "outputs": [],
   "source": [
    "data = AgData(bodysite=bodysite, \n",
    "              trim=sequence_trim, \n",
    "              depth=rarefaction_depth, \n",
    "              sub_participants=use_subset, \n",
    "              one_sample=use_one_sample)"
   ]
  },
  {
   "cell_type": "markdown",
   "metadata": {},
   "source": [
    "We'll also pick a metric to examine. This can be an alpha diveristy metric or a beta diversity metric. We'll also pick a function. If the metric selected is an alpha diversity metric (i.e. `PD_whole_tree_10k`, `shannon_10k`, `chao1_1k`), the test should be an alpha diversity test. A default alpha diversity test can be found in `americangut.power_plots.ag_alpha_test`. If the metric selected is a beta diversity metric (i.e. `unweighted_unifrac`), the test should handle distance matrices. A default test is provided in `americangut.power_plots.ag_beta_test`."
   ]
  },
  {
   "cell_type": "code",
   "execution_count": 83,
   "metadata": {
    "collapsed": false
   },
   "outputs": [],
   "source": [
    "metric = 'PD_whole_tree_10k'\n",
    "test = agpp.ag_beta_test"
   ]
  },
  {
   "cell_type": "markdown",
   "metadata": {},
   "source": [
    "Next, let's set up a directory where we will save our results."
   ]
  },
  {
   "cell_type": "code",
   "execution_count": 16,
   "metadata": {
    "collapsed": false
   },
   "outputs": [],
   "source": [
    "save_dir = agenv.check_save_dir(data.data_set)\n",
    "summary_fp = os.path.join(save_dir, 'summary_%s.p' % metric)\n",
    "all_power_dir = os.path.join(save_dir, 'power/all/%s' % metric)\n",
    "ext_power_dir = os.path.join(save_dir, 'power/extreme/%s' % metric)\n",
    "agenv.check_dir(all_power_dir)\n",
    "agenv.check_dir(ext_power_dir)"
   ]
  },
  {
   "cell_type": "markdown",
   "metadata": {},
   "source": [
    "Next, let's write a quick function to summarize the data for all groups in the data."
   ]
  },
  {
   "cell_type": "code",
   "execution_count": 19,
   "metadata": {
    "collapsed": false
   },
   "outputs": [],
   "source": [
    "def generate_summary(question, data, test, metric):\n",
    "    \"\"\"Summarizes information about the results\"\"\"\n",
    "    results = {'name': question.name}\n",
    "    \n",
    "    # Gets the map, otu table and distance matrix for the question\n",
    "    data.reload_files()\n",
    "    data.drop_alpha_outliers()\n",
    "    data.drop_bmi_outliers()\n",
    "    data.clean_age()\n",
    "    data.clean_group(question)\n",
    "    if question.type == 'Clinical':\n",
    "        question.order = ['Yes', 'No']\n",
    "        question.extremes = ['Yes', 'No']\n",
    "    data.filter_by_question(question)\n",
    "    \n",
    "    # Identfies the samples within each group\n",
    "    grouped = data.map_.groupby(question.name).groups\n",
    "    group_ids = [grouped[o] for o in question.order]\n",
    "    extreme_ids = [grouped[o] for o in question.extremes]\n",
    "    \n",
    "    # Provides summary information\n",
    "    results['all_groups'] = question.order\n",
    "    results['all_size'] = [len(id_) for id_ in group_ids]\n",
    "    results['ext_groups'] = question.extremes\n",
    "    results['ext_size'] = [len(id_) for id_ in extreme_ids]\n",
    "\n",
    "    # Calculates the p value for all the samples\n",
    "    results['all_p_value'] = test(metric, question, data, group_ids,\n",
    "                                  permutations=999)\n",
    "    results['ext_p_value'] = test(metric, question, data, extreme_ids,\n",
    "                                  permutations=999)\n",
    "    \n",
    "    # Calculates statistical power or loads it from file\n",
    "    all_power_fp = os.path.join(all_power_dir, '%s.p') % question.name\n",
    "    ext_power_fp = os.path.join(ext_power_dir, '%s.p') % question.name\n",
    "    \n",
    "#     if not os.path.exists(all_power_fp):\n",
    "#         a_power, a_counts = subsample_power(\n",
    "#             test=lambda x: test(metric, question, data, x, permutations=99),\n",
    "#             samples=group_ids,\n",
    "#             min_counts=5,\n",
    "#             counts_interval=10,\n",
    "#             max_counts=60,\n",
    "#             num_runs=5,\n",
    "#             num_iter=500,\n",
    "#             )\n",
    "#         with open(os.path.join(all_power_fp), 'w') as f_:\n",
    "#             pickle.dump((question.name, question.order, metric, a_power, a_counts),\n",
    "#                         f_)\n",
    "#     else:\n",
    "    with open(os.path.join(all_power_fp), 'r') as f_:\n",
    "        (name, order, metric, a_power, a_counts) = pickle.load(f_)\n",
    "\n",
    "    # Calculates the effect size\n",
    "    a_eff = agpp.z_effect(a_counts, a_power)\n",
    "    if (a_power > 0.2).any():\n",
    "        results['all_effect_mean'] = a_eff.mean()\n",
    "        results['all_effect_ci'] = confidence_bound(a_eff)\n",
    "    else:\n",
    "        results['all_effect_mean'] = np.nan\n",
    "        results['all_effect_ci'] = np.nan\n",
    "        \n",
    "#     if not os.path.exists(ext_power_fp):\n",
    "#         e_power, e_counts = subsample_power(\n",
    "#             test=lambda x: test(metric, question, data, x, permutations=99),\n",
    "#             samples=extreme_ids,\n",
    "#             min_counts=5,\n",
    "#             counts_interval=10,\n",
    "#             max_counts=60,\n",
    "#             num_runs=5,\n",
    "#             num_iter=500,\n",
    "#             )\n",
    "#         with open(os.path.join(ext_power_fp), 'w') as f_:\n",
    "#             pickle.dump((question.name, question.order, metric, e_power, e_counts),\n",
    "#                         f_)\n",
    "#     else:\n",
    "    with open(os.path.join(ext_power_fp), 'r') as f_:\n",
    "        (name, order, metric, e_power, e_counts) = pickle.load(f_)\n",
    "\n",
    "    # Calculates the effect size\n",
    "    e_eff = agpp.z_effect(e_counts, e_power)\n",
    "    if (a_power > 0.2).any():\n",
    "        results['ext_effect_mean'] = e_eff.mean()\n",
    "        results['ext_effect_ci'] = confidence_bound(e_eff)\n",
    "    else:\n",
    "        results['ext_effect_mean'] = np.nan\n",
    "        results['ext_effect_ci'] = np.nan\n",
    "    \n",
    "    return results"
   ]
  },
  {
   "cell_type": "markdown",
   "metadata": {},
   "source": [
    "Now, let's apply that function to our data, and save the output."
   ]
  },
  {
   "cell_type": "code",
   "execution_count": 21,
   "metadata": {
    "collapsed": true
   },
   "outputs": [
    {
     "name": "stdout",
     "output_type": "stream",
     "text": [
      "AGE_CAT\n",
      "CPU times: user 45.6 s, sys: 9.8 s, total: 55.4 s\n",
      "Wall time: 55.5 s\n",
      "ALCOHOL_FREQUENCY\n",
      "CPU times: user 45.4 s, sys: 9.94 s, total: 55.3 s\n",
      "Wall time: 55.4 s\n",
      "ALCOHOL_TYPES_BEERCIDER\n",
      "CPU times: user 16.1 s, sys: 1.35 s, total: 17.4 s\n",
      "Wall time: 17.4 s\n",
      "ALCOHOL_TYPES_RED_WINE\n",
      "CPU times: user 16.9 s, sys: 1.22 s, total: 18.1 s\n",
      "Wall time: 18.1 s\n",
      "ALCOHOL_TYPES_SOUR_BEERS\n",
      "CPU times: user 20.3 s, sys: 2.09 s, total: 22.4 s\n",
      "Wall time: 22.4 s\n",
      "ALCOHOL_TYPES_SPIRITSHARD_ALCOHOL\n",
      "CPU times: user 15.5 s, sys: 944 ms, total: 16.4 s\n",
      "Wall time: 16.4 s\n",
      "ALCOHOL_TYPES_WHITE_WINE\n",
      "CPU times: user 15.9 s, sys: 1.33 s, total: 17.2 s\n",
      "Wall time: 17.2 s\n",
      "BOWEL_MOVEMENT_FREQUENCY\n",
      "CPU times: user 11 s, sys: 615 ms, total: 11.6 s\n",
      "Wall time: 11.7 s\n",
      "BOWEL_MOVEMENT_QUALITY\n",
      "CPU times: user 19.6 s, sys: 2.07 s, total: 21.7 s\n",
      "Wall time: 21.7 s\n",
      "CAT\n",
      "CPU times: user 1min 50s, sys: 28.1 s, total: 2min 18s\n",
      "Wall time: 2min 18s\n",
      "CHICKENPOX\n",
      "CPU times: user 1min 57s, sys: 33.2 s, total: 2min 30s\n",
      "Wall time: 2min 30s\n",
      "COLLECTION_MONTH\n",
      "CPU times: user 46.6 s, sys: 10 s, total: 56.6 s\n",
      "Wall time: 56.6 s\n",
      "COLLECTION_SEASON\n",
      "CPU times: user 56.4 s, sys: 12.4 s, total: 1min 8s\n",
      "Wall time: 1min 8s\n",
      "CONSUME_ANIMAL_PRODUCTS_ABX\n",
      "CPU times: user 10.2 s, sys: 212 ms, total: 10.4 s\n",
      "Wall time: 10.4 s\n",
      "CONTRACEPTIVE\n",
      "CPU times: user 1min, sys: 14.1 s, total: 1min 15s\n",
      "Wall time: 1min 15s\n",
      "COUNTRY\n",
      "CPU times: user 1min 48s, sys: 30.6 s, total: 2min 18s\n",
      "Wall time: 2min 18s\n",
      "CSECTION\n",
      "CPU times: user 1min 53s, sys: 31.9 s, total: 2min 25s\n",
      "Wall time: 2min 25s\n",
      "DIET_TYPE\n",
      "CPU times: user 1min 48s, sys: 31.4 s, total: 2min 20s\n",
      "Wall time: 2min 20s\n",
      "DRINKING_WATER_SOURCE\n",
      "CPU times: user 47.3 s, sys: 10.5 s, total: 57.8 s\n",
      "Wall time: 57.8 s\n",
      "EXERCISE_FREQUENCY\n",
      "CPU times: user 48.4 s, sys: 10.1 s, total: 58.5 s\n",
      "Wall time: 58.5 s\n",
      "EXERCISE_LOCATION\n",
      "CPU times: user 51.2 s, sys: 11.2 s, total: 1min 2s\n",
      "Wall time: 1min 2s\n",
      "FED_AS_INFANT\n",
      "CPU times: user 12.3 s, sys: 554 ms, total: 12.8 s\n",
      "Wall time: 12.8 s\n",
      "FERMENTED_PLANT_FREQUENCY\n",
      "CPU times: user 10.6 s, sys: 1.16 s, total: 11.8 s\n",
      "Wall time: 11.8 s\n",
      "FLOSSING_FREQUENCY\n",
      "CPU times: user 57.5 s, sys: 10.9 s, total: 1min 8s\n",
      "Wall time: 1min 8s\n",
      "FRUIT_FREQUENCY\n",
      "CPU times: user 10.9 s, sys: 1.22 s, total: 12.1 s\n",
      "Wall time: 12.1 s\n",
      "GLUTEN\n",
      "CPU times: user 1min 32s, sys: 26.7 s, total: 1min 58s\n",
      "Wall time: 1min 58s\n",
      "HOMECOOKED_MEALS_FREQUENCY\n",
      "CPU times: user 15.8 s, sys: 2.98 s, total: 18.8 s\n",
      "Wall time: 18.8 s\n",
      "LACTOSE\n",
      "CPU times: user 1min 57s, sys: 32.6 s, total: 2min 29s\n",
      "Wall time: 2min 29s\n",
      "LAST_TRAVEL\n",
      "CPU times: user 1min 5s, sys: 13.1 s, total: 1min 18s\n",
      "Wall time: 1min 18s\n",
      "LOWGRAIN_DIET_TYPE\n",
      "CPU times: user 1min 47s, sys: 29.9 s, total: 2min 17s\n",
      "Wall time: 2min 17s\n",
      "LUNG_DISEASE\n",
      "CPU times: user 1min 56s, sys: 31.5 s, total: 2min 28s\n",
      "Wall time: 2min 28s\n",
      "MIGRAINE\n",
      "CPU times: user 1min 47s, sys: 29.8 s, total: 2min 17s\n",
      "Wall time: 2min 17s\n",
      "MULTIVITAMIN\n",
      "CPU times: user 1min 46s, sys: 26.5 s, total: 2min 13s\n",
      "Wall time: 2min 12s\n",
      "OLIVE_OIL\n",
      "CPU times: user 10.3 s, sys: 222 ms, total: 10.5 s\n",
      "Wall time: 10.5 s\n",
      "ONE_LITER_OF_WATER_A_DAY_FREQUENCY\n",
      "CPU times: user 14 s, sys: 460 ms, total: 14.4 s\n",
      "Wall time: 14.4 s\n",
      "POOL_FREQUENCY\n",
      "CPU times: user 1min 6s, sys: 15.4 s, total: 1min 22s\n",
      "Wall time: 1min 22s\n",
      "PREPARED_MEALS_FREQUENCY\n",
      "CPU times: user 10.7 s, sys: 1.92 s, total: 12.6 s\n",
      "Wall time: 12.6 s\n",
      "PROBIOTIC_FREQUENCY\n",
      "CPU times: user 13.3 s, sys: 245 ms, total: 13.5 s\n",
      "Wall time: 13.5 s\n",
      "RACE\n",
      "SEASONAL_ALLERGIES\n",
      "CPU times: user 1min 41s, sys: 26.4 s, total: 2min 7s\n",
      "Wall time: 2min 7s\n",
      "SEX\n",
      "CPU times: user 1min 33s, sys: 23.9 s, total: 1min 56s\n",
      "Wall time: 1min 56s\n",
      "SLEEP_DURATION\n",
      "CPU times: user 47.4 s, sys: 10.3 s, total: 57.7 s\n",
      "Wall time: 57.7 s\n",
      "SMOKING_FREQUENCY\n",
      "CPU times: user 2min 14s, sys: 36.7 s, total: 2min 50s\n",
      "Wall time: 2min 50s\n",
      "SUGARY_SWEETS_FREQUENCY\n",
      "CPU times: user 10.1 s, sys: 1.18 s, total: 11.2 s\n",
      "Wall time: 11.2 s\n",
      "TYPES_OF_PLANTS\n",
      "CPU times: user 16.7 s, sys: 1.57 s, total: 18.2 s\n",
      "Wall time: 18.2 s\n",
      "VEGETABLE_FREQUENCY\n",
      "CPU times: user 14.7 s, sys: 2.21 s, total: 16.9 s\n",
      "Wall time: 16.9 s\n",
      "VITAMIN_B_SUPPLEMENT_FREQUENCY\n",
      "CPU times: user 17.2 s, sys: 2.99 s, total: 20.1 s\n",
      "Wall time: 20.1 s\n",
      "VITAMIN_D_SUPPLEMENT_FREQUENCY\n",
      "CPU times: user 12.6 s, sys: 233 ms, total: 12.8 s\n",
      "Wall time: 12.8 s\n",
      "WEIGHT_CHANGE\n",
      "CPU times: user 1min 57s, sys: 34.8 s, total: 2min 31s\n",
      "Wall time: 2min 31s\n"
     ]
    }
   ],
   "source": [
    "summary = []\n",
    "for name in sorted(agdic.dictionary.keys()):\n",
    "# for name in ['ANTIBIOTIC_HISTORY', 'BMI_CAT', 'IBD']:\n",
    "    if use_subset and name in {'ANTIBIOTIC_HISTORY', 'DIABETES', 'BMI_CAT', 'IBD'}:\n",
    "        continue\n",
    "    question = agdic.ag_dictionary(name)\n",
    "    if question.type == 'Continous':\n",
    "        continue\n",
    "    print name\n",
    "    try:\n",
    "        % time results = generate_summary(question, data, test, metric) \n",
    "    except:\n",
    "        pass\n",
    "    summary.append(results)"
   ]
  },
  {
   "cell_type": "markdown",
   "metadata": {
    "collapsed": true
   },
   "source": [
    "We'll look for categories that have clear effect sizes."
   ]
  },
  {
   "cell_type": "code",
   "execution_count": 22,
   "metadata": {
    "collapsed": false
   },
   "outputs": [],
   "source": [
    "summary_df = pd.DataFrame(summary).set_index('name')\n",
    "summary_df.to_csv('/Users/jwdebelius/Desktop/subset_%s.txt' % metric, sep='\\t', na_rep='NA')"
   ]
  },
  {
   "cell_type": "markdown",
   "metadata": {
    "collapsed": false
   },
   "source": [
    "Finally, let's pick some of the categories to make a power curve."
   ]
  },
  {
   "cell_type": "code",
   "execution_count": 76,
   "metadata": {
    "collapsed": false
   },
   "outputs": [],
   "source": [
    "summary_sub = pd.read_csv('/Users/jwdebelius/Desktop/subset_%s.txt' % metric, sep='\\t', na_values='NA', index_col='name')\n",
    "summary_all = pd.read_csv('/Users/jwdebelius/Desktop/all_%s.txt' % metric, sep='\\t', na_values='NA', index_col='name')"
   ]
  },
  {
   "cell_type": "code",
   "execution_count": 80,
   "metadata": {
    "collapsed": false
   },
   "outputs": [
    {
     "data": {
      "text/plain": [
       "all_effect_ci          0.0116636\n",
       "all_effect_mean         0.387986\n",
       "all_groups         ['Yes', 'No']\n",
       "all_p_value          0.000577935\n",
       "all_size              [78, 3480]\n",
       "ext_effect_ci         0.00985746\n",
       "ext_effect_mean         0.380947\n",
       "ext_groups         ['Yes', 'No']\n",
       "ext_p_value          0.000577935\n",
       "ext_size              [78, 3480]\n",
       "Name: IBD, dtype: object"
      ]
     },
     "execution_count": 80,
     "metadata": {},
     "output_type": "execute_result"
    }
   ],
   "source": [
    "summary_all.loc[\"IBD\"]"
   ]
  },
  {
   "cell_type": "code",
   "execution_count": 86,
   "metadata": {
    "collapsed": false
   },
   "outputs": [
    {
     "data": {
      "text/plain": [
       "all_effect_ci                                              0.0136666\n",
       "all_effect_mean                                             0.265358\n",
       "all_groups         ['Week', 'Month', '6 months', 'Year', 'More th...\n",
       "all_p_value                                              9.68715e-18\n",
       "all_size                                   [78, 119, 454, 523, 2603]\n",
       "ext_effect_ci                                              0.0191407\n",
       "ext_effect_mean                                             0.264258\n",
       "ext_groups                              ['Week', 'More than a year']\n",
       "ext_p_value                                               0.00417122\n",
       "ext_size                                                  [78, 2603]\n",
       "Name: ANTIBIOTIC_HISTORY, dtype: object"
      ]
     },
     "execution_count": 86,
     "metadata": {},
     "output_type": "execute_result"
    }
   ],
   "source": [
    "summary_all.loc[\"ANTIBIOTIC_HISTORY\"]"
   ]
  },
  {
   "cell_type": "code",
   "execution_count": 84,
   "metadata": {
    "collapsed": false
   },
   "outputs": [
    {
     "data": {
      "text/plain": [
       "IBD\n",
       "Diagnosed by a medical professional (doctor, physician assistant)      78\n",
       "Diagnosed by an alternative medicine practitioner                       8\n",
       "I do not have this condition                                         3481\n",
       "Self-diagnosed                                                         34\n",
       "dtype: int64"
      ]
     },
     "execution_count": 84,
     "metadata": {},
     "output_type": "execute_result"
    }
   ],
   "source": [
    "data.map_.groupby('IBD').count().max(1)"
   ]
  },
  {
   "cell_type": "code",
   "execution_count": 91,
   "metadata": {
    "collapsed": false
   },
   "outputs": [
    {
     "name": "stdout",
     "output_type": "stream",
     "text": [
      "AGE_CAT\n",
      "[12 16 20 27 49]\n",
      "BOWEL_MOVEMENT_QUALITY\n",
      "[10 13 16 22 40]\n",
      "SLEEP_DURATION\n",
      "[46 58]\n",
      "TYPES_OF_PLANTS\n",
      "[ 7  9 12 16 29]\n",
      "EXERCISE_FREQUENCY\n",
      "[22 28 36 48]\n",
      "ANTIBIOTIC_HISTORY\n",
      "[33 42 54]\n",
      "IBD\n",
      "[15 20 25 33 61]\n",
      "BMI_CAT\n",
      "[16 20 26 34]\n"
     ]
    },
    {
     "data": {
      "image/png": "[encoded data removed]",
      "text/plain": [
       "<matplotlib.figure.Figure at 0x11a12d1d0>"
      ]
     },
     "metadata": {},
     "output_type": "display_data"
    }
   ],
   "source": [
    "% matplotlib inline\n",
    "\n",
    "from matplotlib import rcParams\n",
    "sn.set_style('ticks', {'axes.facecolor': 'none'})\n",
    "rcParams['font.family'] = 'sans-serif'\n",
    "rcParams['font.sans-serif'] = ['Helvetica', 'Arial']\n",
    "rcParams['text.usetex'] = True\n",
    "\n",
    "ax = plt.axes()\n",
    "\n",
    "predict = np.arange(5, 251, 4)\n",
    "effects = [summary_sub, summary_sub, summary_sub, summary_sub, summary_sub,\n",
    "           summary_all, summary_all, summary_all\n",
    "           \n",
    "          ]\n",
    "categories = ['AGE_CAT', 'BOWEL_MOVEMENT_QUALITY', 'SLEEP_DURATION', 'TYPES_OF_PLANTS', 'EXERCISE_FREQUENCY',\n",
    "              'ANTIBIOTIC_HISTORY', 'IBD', 'BMI_CAT'\n",
    "              ]\n",
    "colors = ['#1b9e77', '#d95f02', '#7570b3', '#66a61e', '#e7298a',\n",
    "          '#e6ab02', '#a6761d', '#666666'\n",
    "         ]\n",
    "markers = ['o', 's', 'd', '*',  '^', '|', '>', 'p', 'x'\n",
    "          ]\n",
    "marker_size = [7, 7, 7, 10, 7, 7, 7, 7\n",
    "              ]\n",
    "\n",
    "for effect, category, color, marker, ms in zip(*(effects, categories, colors, markers, marker_size)):\n",
    "    print category\n",
    "    power = agpp.z_power(predict, effect.loc[category, 'all_effect_mean'])\n",
    "    lower = agpp.z_power(predict, effect.loc[category, 'all_effect_mean'] - effect.loc[category, 'all_effect_ci'])\n",
    "    upper = agpp.z_power(predict, effect.loc[category, 'all_effect_mean'] + effect.loc[category, 'all_effect_ci'])\n",
    "    points = np.array([np.min(np.arange(0, len(predict))[power > point])\n",
    "                       for point in [0.59, 0.69, 0.79, 0.89, 0.99] if (power > point).any()])\n",
    "    print points\n",
    "    \n",
    "\n",
    "    ax.fill_between(predict,\n",
    "                    lower,\n",
    "                    upper,\n",
    "                    alpha=0.25,\n",
    "                    color=color,\n",
    "                    )\n",
    "    ax.plot(predict, power, color=color)\n",
    "    ax.plot(predict[points], power[points], linestyle='None', marker=marker, color=color, ms=ms)\n",
    "\n",
    "sn.despine()\n"
   ]
  },
  {
   "cell_type": "code",
   "execution_count": 68,
   "metadata": {
    "collapsed": false
   },
   "outputs": [
    {
     "data": {
      "text/plain": [
       "False"
      ]
     },
     "execution_count": 68,
     "metadata": {},
     "output_type": "execute_result"
    }
   ],
   "source": [
    "'FLOSSING_FREQUENCY' in summary_df"
   ]
  },
  {
   "cell_type": "code",
   "execution_count": 93,
   "metadata": {
    "collapsed": false
   },
   "outputs": [
    {
     "name": "stdout",
     "output_type": "stream",
     "text": [
      "IBD\n",
      "[15 20 25 33 61]\n"
     ]
    },
    {
     "data": {
      "image/png": "[encoded data removed]",
      "text/plain": [
       "<matplotlib.figure.Figure at 0x110536c90>"
      ]
     },
     "metadata": {},
     "output_type": "display_data"
    }
   ],
   "source": [
    "% matplotlib inline\n",
    "\n",
    "from matplotlib import rcParams\n",
    "sn.set_style('ticks', {'axes.facecolor': 'none'})\n",
    "rcParams['font.family'] = 'sans-serif'\n",
    "rcParams['font.sans-serif'] = ['Helvetica', 'Arial']\n",
    "rcParams['text.usetex'] = True\n",
    "\n",
    "ax = plt.axes()\n",
    "\n",
    "predict = np.arange(5, 251, 4)\n",
    "effects = [\n",
    "#     summary_sub, summary_sub, summary_sub, summary_sub, summary_sub,\n",
    "           summary_all, summary_all, summary_all\n",
    "           \n",
    "          ]\n",
    "categories = [\n",
    "#     'AGE_CAT', 'BOWEL_MOVEMENT_QUALITY', 'SLEEP_DURATION', 'TYPES_OF_PLANTS', 'EXERCISE_FREQUENCY',\n",
    "#               'ANTIBIOTIC_HISTORY', \n",
    "    'IBD', \n",
    "#     'BMI_CAT'\n",
    "              ]\n",
    "colors = ['#1b9e77', '#d95f02', '#7570b3', '#66a61e', '#e7298a',\n",
    "          '#e6ab02', '#a6761d', '#666666'\n",
    "         ]\n",
    "markers = ['o', 's', 'd', '*',  '^', '|', '>', 'p', 'x'\n",
    "          ]\n",
    "marker_size = [7, 7, 7, 10, 7, 7, 7, 7\n",
    "              ]\n",
    "\n",
    "for effect, category, color, marker, ms in zip(*(effects, categories, colors, markers, marker_size)):\n",
    "    print category\n",
    "    power = agpp.z_power(predict, effect.loc[category, 'all_effect_mean'])\n",
    "    lower = agpp.z_power(predict, effect.loc[category, 'all_effect_mean'] - effect.loc[category, 'all_effect_ci'])\n",
    "    upper = agpp.z_power(predict, effect.loc[category, 'all_effect_mean'] + effect.loc[category, 'all_effect_ci'])\n",
    "    points = np.array([np.min(np.arange(0, len(predict))[power > point])\n",
    "                       for point in [0.59, 0.69, 0.79, 0.89, 0.99] if (power > point).any()])\n",
    "    print points\n",
    "    \n",
    "\n",
    "    ax.fill_between(predict,\n",
    "                    lower,\n",
    "                    upper,\n",
    "                    alpha=0.25,\n",
    "                    color=color,\n",
    "                    )\n",
    "    ax.plot(predict, power, color=color)\n",
    "    ax.plot(predict[points], power[points], linestyle='None', marker=marker, color=color, ms=ms)\n",
    "\n",
    "sn.despine()\n",
    "\n"
   ]
  },
  {
   "cell_type": "code",
   "execution_count": 97,
   "metadata": {
    "collapsed": false
   },
   "outputs": [
    {
     "data": {
      "text/plain": [
       "{'bodysite': 'fecal',\n",
       " 'participant_set': 'all',\n",
       " 'rarefaction_depth': '10k',\n",
       " 'samples_per_participants': 'all_samples',\n",
       " 'sequence_trim': '100nt'}"
      ]
     },
     "execution_count": 97,
     "metadata": {},
     "output_type": "execute_result"
    }
   ],
   "source": [
    "data.data_set"
   ]
  },
  {
   "cell_type": "code",
   "execution_count": 101,
   "metadata": {
    "collapsed": false
   },
   "outputs": [],
   "source": [
    "early = data.map_.loc[earlier_ids]"
   ]
  },
  {
   "cell_type": "code",
   "execution_count": 131,
   "metadata": {
    "collapsed": false
   },
   "outputs": [],
   "source": [
    "double_team = 0\n",
    "double_ids = []\n",
    "for hsi, ids in early.groupby('HOST_SUBJECT_ID').groups.iteritems():\n",
    "    if len(ids) > 1:\n",
    "        double_ids.append(ids)\n",
    "        double_team += 1"
   ]
  },
  {
   "cell_type": "code",
   "execution_count": 105,
   "metadata": {
    "collapsed": false
   },
   "outputs": [
    {
     "data": {
      "text/plain": [
       "42"
      ]
     },
     "execution_count": 105,
     "metadata": {},
     "output_type": "execute_result"
    }
   ],
   "source": [
    "double_team"
   ]
  },
  {
   "cell_type": "code",
   "execution_count": 108,
   "metadata": {
    "collapsed": false
   },
   "outputs": [
    {
     "data": {
      "text/plain": [
       "92"
      ]
     },
     "execution_count": 108,
     "metadata": {},
     "output_type": "execute_result"
    }
   ],
   "source": [
    "len(np.hstack(double_ids))"
   ]
  },
  {
   "cell_type": "code",
   "execution_count": 109,
   "metadata": {
    "collapsed": false
   },
   "outputs": [
    {
     "data": {
      "text/plain": [
       "IBD\n",
       "Diagnosed by a medical professional (doctor, physician assistant)     2\n",
       "I do not have this condition                                         78\n",
       "dtype: int64"
      ]
     },
     "execution_count": 109,
     "metadata": {},
     "output_type": "execute_result"
    }
   ],
   "source": [
    "early.loc[np.hstack(double_ids)].groupby('IBD').count().max(1)"
   ]
  },
  {
   "cell_type": "code",
   "execution_count": 133,
   "metadata": {
    "collapsed": false
   },
   "outputs": [
    {
     "data": {
      "text/plain": [
       "#SampleID\n",
       "10317.000004243    NaN\n",
       "10317.000004242    NaN\n",
       "10317.000016501    NaN\n",
       "10317.000014064    NaN\n",
       "10317.000004163     UC\n",
       "10317.000004157     UC\n",
       "10317.000004161     UC\n",
       "10317.000004162     UC\n",
       "10317.000003047     UC\n",
       "10317.000003175    NaN\n",
       "10317.000003177    NaN\n",
       "10317.000004223    NaN\n",
       "10317.000004220    NaN\n",
       "10317.000014630    NaN\n",
       "10317.000014629    NaN\n",
       "10317.000003714    NaN\n",
       "10317.000003713    NaN\n",
       "10317.000009211    NaN\n",
       "10317.000001659    NaN\n",
       "10317.000001575     UC\n",
       "10317.000009236     UC\n",
       "10317.000001651    NaN\n",
       "10317.000009239    NaN\n",
       "10317.000001529    NaN\n",
       "10317.000013912    NaN\n",
       "10317.000015254    NaN\n",
       "10317.000005085    NaN\n",
       "10317.000005041    NaN\n",
       "10317.000005039    NaN\n",
       "10317.000004219    NaN\n",
       "                  ... \n",
       "10317.000009219    NaN\n",
       "10317.000014790    NaN\n",
       "10317.000016179    NaN\n",
       "10317.000004072    NaN\n",
       "10317.000009216    NaN\n",
       "10317.000004249    NaN\n",
       "10317.000004250    NaN\n",
       "10317.000002471    NaN\n",
       "10317.000002472    NaN\n",
       "10317.000004273    NaN\n",
       "10317.000004278    NaN\n",
       "10317.000015214    NaN\n",
       "10317.000001436    NaN\n",
       "10317.000005576    NaN\n",
       "10317.000015394    NaN\n",
       "10317.000005228    NaN\n",
       "10317.000013359    NaN\n",
       "10317.000014433    NaN\n",
       "10317.000013387    NaN\n",
       "10317.000013384    NaN\n",
       "10317.000013386    NaN\n",
       "10317.000009227    NaN\n",
       "10317.000002817    NaN\n",
       "10317.000014308    NaN\n",
       "10317.000005009    NaN\n",
       "10317.000005008    NaN\n",
       "10317.000006694    NaN\n",
       "10317.000017352    NaN\n",
       "10317.000013859    NaN\n",
       "10317.000003169    NaN\n",
       "Name: IBD2, dtype: object"
      ]
     },
     "execution_count": 133,
     "metadata": {},
     "output_type": "execute_result"
    }
   ],
   "source": [
    "early.loc[np.hstack(double_ids)]['IBD2']"
   ]
  },
  {
   "cell_type": "code",
   "execution_count": 113,
   "metadata": {
    "collapsed": true
   },
   "outputs": [],
   "source": [
    "question = agdic.ag_dictionary('IBD')\n",
    "question.remap_clinical(early)"
   ]
  },
  {
   "cell_type": "code",
   "execution_count": 114,
   "metadata": {
    "collapsed": true
   },
   "outputs": [],
   "source": [
    "early_ibd = [early.groupby(\"IBD\").groups[o] for o in question.extremes]"
   ]
  },
  {
   "cell_type": "code",
   "execution_count": 115,
   "metadata": {
    "collapsed": false
   },
   "outputs": [
    {
     "ename": "ValueError",
     "evalue": "There are not enough samples for subsampling.",
     "output_type": "error",
     "traceback": [
      "\u001b[0;31m---------------------------------------------------------------------------\u001b[0m",
      "\u001b[0;31mValueError\u001b[0m                                Traceback (most recent call last)",
      "\u001b[0;32m<ipython-input-115-62edd994497b>\u001b[0m in \u001b[0;36m<module>\u001b[0;34m()\u001b[0m\n\u001b[1;32m      6\u001b[0m     \u001b[0mmax_counts\u001b[0m\u001b[0;34m=\u001b[0m\u001b[0;36m60\u001b[0m\u001b[0;34m,\u001b[0m\u001b[0;34m\u001b[0m\u001b[0m\n\u001b[1;32m      7\u001b[0m     \u001b[0mnum_runs\u001b[0m\u001b[0;34m=\u001b[0m\u001b[0;36m5\u001b[0m\u001b[0;34m,\u001b[0m\u001b[0;34m\u001b[0m\u001b[0m\n\u001b[0;32m----> 8\u001b[0;31m     \u001b[0mnum_iter\u001b[0m\u001b[0;34m=\u001b[0m\u001b[0;36m500\u001b[0m\u001b[0;34m,\u001b[0m\u001b[0;34m\u001b[0m\u001b[0m\n\u001b[0m\u001b[1;32m      9\u001b[0m     )\n",
      "\u001b[0;32m/Users/jwdebelius/anaconda/envs/americangut/lib/python2.7/site-packages/skbio/stats/power.pyc\u001b[0m in \u001b[0;36msubsample_power\u001b[0;34m(test, samples, draw_mode, alpha_pwr, min_observations, max_counts, counts_interval, min_counts, num_iter, num_runs)\u001b[0m\n\u001b[1;32m    298\u001b[0m     \u001b[0;31m# Checks there are enough samples to subsample\u001b[0m\u001b[0;34m\u001b[0m\u001b[0;34m\u001b[0m\u001b[0m\n\u001b[1;32m    299\u001b[0m     \u001b[0;32mif\u001b[0m \u001b[0mnum_ids\u001b[0m \u001b[0;34m<=\u001b[0m \u001b[0mmin_observations\u001b[0m\u001b[0;34m:\u001b[0m\u001b[0;34m\u001b[0m\u001b[0m\n\u001b[0;32m--> 300\u001b[0;31m         \u001b[0;32mraise\u001b[0m \u001b[0mValueError\u001b[0m\u001b[0;34m(\u001b[0m\u001b[0;34m'There are not enough samples for subsampling.'\u001b[0m\u001b[0;34m)\u001b[0m\u001b[0;34m\u001b[0m\u001b[0m\n\u001b[0m\u001b[1;32m    301\u001b[0m \u001b[0;34m\u001b[0m\u001b[0m\n\u001b[1;32m    302\u001b[0m     \u001b[0;31m# Calculates the effect size vector\u001b[0m\u001b[0;34m\u001b[0m\u001b[0;34m\u001b[0m\u001b[0m\n",
      "\u001b[0;31mValueError\u001b[0m: There are not enough samples for subsampling."
     ]
    }
   ],
   "source": [
    "a_power, a_counts = subsample_power(\n",
    "    test=lambda x: test(metric, question, data, x, permutations=99),\n",
    "    samples=early_ibd,\n",
    "    min_counts=5,\n",
    "    counts_interval=10,\n",
    "    max_counts=60,\n",
    "    num_runs=5,\n",
    "    num_iter=500,\n",
    "    )"
   ]
  },
  {
   "cell_type": "code",
   "execution_count": 117,
   "metadata": {
    "collapsed": false
   },
   "outputs": [
    {
     "data": {
      "text/plain": [
       "[2064, 10]"
      ]
     },
     "execution_count": 117,
     "metadata": {},
     "output_type": "execute_result"
    }
   ],
   "source": [
    "[len(i) for i in early_ibd]"
   ]
  },
  {
   "cell_type": "code",
   "execution_count": 119,
   "metadata": {
    "collapsed": false
   },
   "outputs": [
    {
     "data": {
      "text/plain": [
       "IBD\n",
       "No     2064\n",
       "Yes      10\n",
       "dtype: int64"
      ]
     },
     "execution_count": 119,
     "metadata": {},
     "output_type": "execute_result"
    }
   ],
   "source": [
    "early.groupby('IBD').count().max(1)"
   ]
  },
  {
   "cell_type": "code",
   "execution_count": 129,
   "metadata": {
    "collapsed": false
   },
   "outputs": [],
   "source": [
    "early.loc[crohns, 'IBD2'] = 'Crohns'\n",
    "early.loc[uc, 'IBD2'] = 'UC'"
   ]
  },
  {
   "cell_type": "code",
   "execution_count": 120,
   "metadata": {
    "collapsed": true
   },
   "outputs": [],
   "source": [
    "crohns = ['10317.000012951', \n",
    "'10317.000017746', \n",
    "'10317.000001446', \n",
    "'10317.000001620', \n",
    "'10317.000001748', \n",
    "'10317.000009382', \n",
    "'10317.000001544', \n",
    "'10317.000005953', \n",
    "'10317.000009004', \n",
    "'10317.000013010', \n",
    "'10317.000014579', \n",
    "'10317.000001827', \n",
    "'10317.000013023', \n",
    "'10317.000009157', \n",
    "'10317.000001362', \n",
    "'10317.000001135', \n",
    "'10317.000013917', \n",
    "'10317.000004855', \n",
    "'10317.000005878', \n",
    "'10317.000007719', \n",
    "'10317.000009126', \n",
    "'10317.000007068', \n",
    "'10317.000008972', \n",
    "'10317.000014879', \n",
    "'10317.000010134', \n",
    "'10317.000010112', \n",
    "'10317.000003300', \n",
    "'10317.000002830', \n",
    "'10317.000014236', \n",
    "'10317.000012936', \n",
    "'10317.000013575', \n",
    "'10317.000001047', \n",
    "'10317.000005360', \n",
    "'10317.000001333', \n",
    "'10317.000015581', \n",
    "'10317.000003189', \n",
    "'10317.000001128', \n",
    "'10317.000015907', ]"
   ]
  },
  {
   "cell_type": "code",
   "execution_count": 127,
   "metadata": {
    "collapsed": true
   },
   "outputs": [],
   "source": [
    "uc = ['10317.000017338', \n",
    "'10317.000013062', \n",
    "'10317.000013595', \n",
    "'10317.000009533', \n",
    "'10317.000010546', \n",
    "'10317.000001685', \n",
    "'10317.000004163', \n",
    "'10317.000001751', \n",
    "'10317.000013551', \n",
    "'10317.000005889', \n",
    "'10317.000002036', \n",
    "'10317.000002783', \n",
    "'10317.000004157', \n",
    "'10317.000001364', \n",
    "'10317.000001622', \n",
    "'10317.000002419', \n",
    "'10317.000004783', \n",
    "'10317.000008999', \n",
    "'10317.000009149', \n",
    "'10317.000001895', \n",
    "'10317.000011375', \n",
    "'10317.000014880', \n",
    "'10317.000006060', \n",
    "'10317.000001291', \n",
    "'10317.000010876', \n",
    "'10317.000014607', \n",
    "'10317.000014987', \n",
    "'10317.000002271', \n",
    "'10317.000003898', \n",
    "'10317.000009144', \n",
    "'10317.000002482', \n",
    "'10317.000014608', \n",
    "'10317.000013134', \n",
    "'10317.000001647', \n",
    "'10317.000011959', \n",
    "'10317.000009626', \n",
    "'10317.000004025', \n",
    "'10317.000014291', \n",
    "'10317.000001351', \n",
    "'10317.000002859', \n",
    "'10317.000002420', \n",
    "'10317.000014118', \n",
    "'10317.000004612', \n",
    "'10317.000018383', \n",
    "'10317.000001575', \n",
    "'10317.000004161', \n",
    "'10317.000015873', \n",
    "'10317.000005971', \n",
    "'10317.000011291', \n",
    "'10317.000004192', \n",
    "'10317.000001322', \n",
    "'10317.000004162', \n",
    "'10317.000002336', \n",
    "'10317.000010147', \n",
    "'10317.000006673', \n",
    "'10317.000004752', \n",
    "'10317.000005851', \n",
    "'10317.000009236', \n",
    "'10317.000001363', \n",
    "'10317.000014458', \n",
    "'10317.000011093', \n",
    "'10317.000017638', \n",
    "'10317.000009164', \n",
    "'10317.000005810', \n",
    "'10317.000003047', \n",
    "'10317.000015849', \n",
    "'10317.000004790', ]"
   ]
  },
  {
   "cell_type": "code",
   "execution_count": 121,
   "metadata": {
    "collapsed": false
   },
   "outputs": [
    {
     "data": {
      "text/plain": [
       "#SampleID\n",
       "10317.000012951    NaN\n",
       "10317.000017746    NaN\n",
       "10317.000001446    Yes\n",
       "10317.000001620    NaN\n",
       "10317.000001748    NaN\n",
       "10317.000009382    NaN\n",
       "10317.000001544    NaN\n",
       "10317.000005953    NaN\n",
       "10317.000009004    NaN\n",
       "10317.000013010    NaN\n",
       "10317.000014579    NaN\n",
       "10317.000001827    NaN\n",
       "10317.000013023    NaN\n",
       "10317.000009157    NaN\n",
       "10317.000001362    NaN\n",
       "10317.000001135    NaN\n",
       "10317.000013917    Yes\n",
       "10317.000004855    NaN\n",
       "10317.000005878    NaN\n",
       "10317.000007719    NaN\n",
       "10317.000009126    NaN\n",
       "10317.000007068    NaN\n",
       "10317.000008972    Yes\n",
       "10317.000014879    Yes\n",
       "10317.000010134    NaN\n",
       "10317.000010112    NaN\n",
       "10317.000003300    NaN\n",
       "10317.000002830    NaN\n",
       "10317.000014236    NaN\n",
       "10317.000012936    NaN\n",
       "10317.000013575    NaN\n",
       "10317.000001047    NaN\n",
       "10317.000005360    NaN\n",
       "10317.000001333    NaN\n",
       "10317.000015581    NaN\n",
       "10317.000003189    NaN\n",
       "10317.000001128    NaN\n",
       "10317.000015907    NaN\n",
       "Name: IBD, dtype: object"
      ]
     },
     "execution_count": 121,
     "metadata": {},
     "output_type": "execute_result"
    }
   ],
   "source": [
    "early.loc[crohns, 'IBD']"
   ]
  },
  {
   "cell_type": "code",
   "execution_count": 126,
   "metadata": {
    "collapsed": false
   },
   "outputs": [],
   "source": [
    "early.loc[crohns, ['SUBSET_HEALTHY', 'IBD']].to_clipboard()"
   ]
  },
  {
   "cell_type": "code",
   "execution_count": 142,
   "metadata": {
    "collapsed": false
   },
   "outputs": [],
   "source": [
    "ids = pd.isnull(data.map_.loc[np.hstack((crohns, uc)), 'IBD'])"
   ]
  },
  {
   "cell_type": "code",
   "execution_count": 144,
   "metadata": {
    "collapsed": false
   },
   "outputs": [
    {
     "data": {
      "text/plain": [
       "Index([u'10317.000012951', u'10317.000017746', u'10317.000001620',\n",
       "       u'10317.000001748', u'10317.000009382', u'10317.000001544',\n",
       "       u'10317.000005953', u'10317.000009004', u'10317.000013010',\n",
       "       u'10317.000014579', u'10317.000001827', u'10317.000013023',\n",
       "       u'10317.000009157', u'10317.000001362', u'10317.000001135',\n",
       "       u'10317.000004855', u'10317.000005878', u'10317.000007719',\n",
       "       u'10317.000009126', u'10317.000007068', u'10317.000010134',\n",
       "       u'10317.000010112', u'10317.000003300', u'10317.000002830',\n",
       "       u'10317.000014236', u'10317.000012936', u'10317.000013575',\n",
       "       u'10317.000001047', u'10317.000005360', u'10317.000001333',\n",
       "       u'10317.000015581', u'10317.000003189', u'10317.000001128',\n",
       "       u'10317.000015907', u'10317.000017338', u'10317.000013062',\n",
       "       u'10317.000013595', u'10317.000009533', u'10317.000010546',\n",
       "       u'10317.000001685', u'10317.000004163', u'10317.000001751',\n",
       "       u'10317.000013551', u'10317.000005889', u'10317.000002036',\n",
       "       u'10317.000002783', u'10317.000004157', u'10317.000001364',\n",
       "       u'10317.000001622', u'10317.000004783', u'10317.000008999',\n",
       "       u'10317.000009149', u'10317.000001895', u'10317.000011375',\n",
       "       u'10317.000014880', u'10317.000001291', u'10317.000010876',\n",
       "       u'10317.000014607', u'10317.000014987', u'10317.000002271',\n",
       "       u'10317.000003898', u'10317.000009144', u'10317.000002482',\n",
       "       u'10317.000014608', u'10317.000013134', u'10317.000001647',\n",
       "       u'10317.000011959', u'10317.000009626', u'10317.000004025',\n",
       "       u'10317.000014291', u'10317.000001351', u'10317.000002859',\n",
       "       u'10317.000014118', u'10317.000004612', u'10317.000018383',\n",
       "       u'10317.000001575', u'10317.000004161', u'10317.000015873',\n",
       "       u'10317.000005971', u'10317.000004192', u'10317.000001322',\n",
       "       u'10317.000004162', u'10317.000002336', u'10317.000010147',\n",
       "       u'10317.000006673', u'10317.000004752', u'10317.000005851',\n",
       "       u'10317.000009236', u'10317.000001363', u'10317.000014458',\n",
       "       u'10317.000011093', u'10317.000009164', u'10317.000005810',\n",
       "       u'10317.000003047', u'10317.000015849', u'10317.000004790'],\n",
       "      dtype='object', name=u'#SampleID')"
      ]
     },
     "execution_count": 144,
     "metadata": {},
     "output_type": "execute_result"
    }
   ],
   "source": [
    "ids.loc[ids].index"
   ]
  },
  {
   "cell_type": "code",
   "execution_count": 145,
   "metadata": {
    "collapsed": false
   },
   "outputs": [
    {
     "data": {
      "text/plain": [
       "#SampleID\n",
       "10317.000002064                                                  NaN\n",
       "10317.000016409                                                  NaN\n",
       "10317.000010693                                                  NaN\n",
       "10317.000015254                                                  NaN\n",
       "10317.000010161                                                  NaN\n",
       "10317.000005887                                                  NaN\n",
       "10317.000003439                                                  NaN\n",
       "10317.000001652                                                  NaN\n",
       "10317.000016313                                                  NaN\n",
       "10317.000005085                                                  NaN\n",
       "10317.000016501    Diagnosed by a medical professional (doctor, p...\n",
       "10317.000009405    Diagnosed by a medical professional (doctor, p...\n",
       "10317.000014064    Diagnosed by a medical professional (doctor, p...\n",
       "10317.000001887    Diagnosed by a medical professional (doctor, p...\n",
       "10317.000008952                                                  NaN\n",
       "10317.000004822                                                  NaN\n",
       "10317.000013953                                       Self-diagnosed\n",
       "10317.000010834                                                  NaN\n",
       "10317.000009368                                                  NaN\n",
       "10317.000011290                                                  NaN\n",
       "10317.000001787    Diagnosed by a medical professional (doctor, p...\n",
       "10317.000006776                                                  NaN\n",
       "10317.000001832                                                  NaN\n",
       "10317.000001346                                                  NaN\n",
       "10317.000004744                                                  NaN\n",
       "10317.000011111                                                  NaN\n",
       "10317.000014566                                                  NaN\n",
       "10317.000001270    Diagnosed by a medical professional (doctor, p...\n",
       "10317.000006710                                                  NaN\n",
       "10317.000002598                                                  NaN\n",
       "10317.000001780                                                  NaN\n",
       "10317.000015596                                                  NaN\n",
       "10317.000002126                                                  NaN\n",
       "10317.000013299                                                  NaN\n",
       "10317.000009499                                                  NaN\n",
       "10317.000015394                                                  NaN\n",
       "10317.000013020                                                  NaN\n",
       "10317.000010816    Diagnosed by a medical professional (doctor, p...\n",
       "10317.000007645                                                  NaN\n",
       "10317.000007177                                                  NaN\n",
       "10317.000001001                                                  NaN\n",
       "10317.000010169                                                  NaN\n",
       "10317.000013571                                                  NaN\n",
       "10317.000009142                                                  NaN\n",
       "10317.000014258                                                  NaN\n",
       "10317.000013343                                                  NaN\n",
       "10317.000006742                                                  NaN\n",
       "10317.000018028                                                  NaN\n",
       "10317.000002237                                                  NaN\n",
       "10317.000015623                                                  NaN\n",
       "10317.000003972                                                  NaN\n",
       "10317.000011072                                                  NaN\n",
       "10317.000005228                                                  NaN\n",
       "Name: DIABETES, dtype: object"
      ]
     },
     "execution_count": 145,
     "metadata": {},
     "output_type": "execute_result"
    }
   ],
   "source": [
    "data.map_.loc[['10317.000002064',\n",
    " '10317.000016409',\n",
    " '10317.000010693',\n",
    " '10317.000015254',\n",
    " '10317.000010161',\n",
    " '10317.000005887',\n",
    " '10317.000003439',\n",
    " '10317.000001652',\n",
    " '10317.000016313',\n",
    " '10317.000005085',\n",
    " '10317.000016501',\n",
    " '10317.000009405',\n",
    " '10317.000014064',\n",
    " '10317.000001887',\n",
    " '10317.000008952',\n",
    " '10317.000004822',\n",
    " '10317.000013953',\n",
    " '10317.000010834',\n",
    " '10317.000009368',\n",
    " '10317.000011290',\n",
    " '10317.000001787',\n",
    " '10317.000006776',\n",
    " '10317.000001832',\n",
    " '10317.000001346',\n",
    " '10317.000004744',\n",
    " '10317.000011111',\n",
    " '10317.000014566',\n",
    " '10317.000001270',\n",
    " '10317.000006710',\n",
    " '10317.000002598',\n",
    " '10317.000001780',\n",
    " '10317.000015596',\n",
    " '10317.000002126',\n",
    " '10317.000013299',\n",
    " '10317.000009499',\n",
    " '10317.000015394',\n",
    " '10317.000013020',\n",
    " '10317.000010816',\n",
    " '10317.000007645',\n",
    " '10317.000007177',\n",
    " '10317.000001001',\n",
    " '10317.000010169',\n",
    " '10317.000013571',\n",
    " '10317.000009142',\n",
    " '10317.000014258',\n",
    " '10317.000013343',\n",
    " '10317.000006742',\n",
    " '10317.000018028',\n",
    " '10317.000002237',\n",
    " '10317.000015623',\n",
    " '10317.000003972',\n",
    " '10317.000011072',\n",
    " '10317.000005228'], 'DIABETES']"
   ]
  },
  {
   "cell_type": "code",
   "execution_count": null,
   "metadata": {
    "collapsed": true
   },
   "outputs": [],
   "source": []
  }
 ],
 "metadata": {
  "kernelspec": {
   "display_name": "Python 2",
   "language": "python",
   "name": "python2"
  },
  "language_info": {
   "codemirror_mode": {
    "name": "ipython",
    "version": 2
   },
   "file_extension": ".py",
   "mimetype": "text/x-python",
   "name": "python",
   "nbconvert_exporter": "python",
   "pygments_lexer": "ipython2",
   "version": "2.7.11"
  }
 },
 "nbformat": 4,
 "nbformat_minor": 0
}
