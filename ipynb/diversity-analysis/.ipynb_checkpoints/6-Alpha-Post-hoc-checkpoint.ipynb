{
 "cells": [
  {
   "cell_type": "markdown",
   "metadata": {},
   "source": [
    "This notebook will let us examine alpha diversity for a category in depth. We're already summarized the alpha diveristy p values for all categories in a [previous notebook](). Here, we can do post-hoc testing and look at the alpha diversity values associated with a single category.\n",
    "\n",
    "Let's start by importing the modules and functions we'll need to the analysis."
   ]
  },
  {
   "cell_type": "code",
   "execution_count": 1,
   "metadata": {
    "collapsed": false
   },
   "outputs": [
    {
     "name": "stderr",
     "output_type": "stream",
     "text": [
      ":0: FutureWarning: IPython widgets are experimental and may change in the future.\n"
     ]
    }
   ],
   "source": [
    "import os\n",
    "\n",
    "import matplotlib.pyplot as plt\n",
    "import numpy as np\n",
    "import pandas as pd\n",
    "import seaborn as sn\n",
    "import scipy.stats\n",
    "import skbio\n",
    "\n",
    "import americangut.ag_dictionary as agdic\n",
    "import americangut.diversity_analysis as agdiv\n",
    "import americangut.notebook_environment as agenv\n",
    "from americangut.ag_data import AgData"
   ]
  },
  {
   "cell_type": "code",
   "execution_count": 2,
   "metadata": {
    "collapsed": false
   },
   "outputs": [],
   "source": [
    "from matplotlib import rcParams\n",
    "\n",
    "% matplotlib inline\n",
    "\n",
    "# Formats the axes using seabron so they will be white, and have ticks\n",
    "# on the bottom of the axes.\n",
    "sn.set_style('ticks', {'axes.facecolor': 'none'})\n",
    "\n",
    "# Sets up plotting parameters so that the default setting is use to Helvetica\n",
    "# in plots\n",
    "rcParams['font.family'] = 'sans-serif'\n",
    "rcParams['font.sans-serif'] = ['Helvetica', 'Arial']\n",
    "rcParams['text.usetex'] = True"
   ]
  },
  {
   "cell_type": "markdown",
   "metadata": {},
   "source": [
    "Next, let's select the data set and rarefaction depth we wish to use."
   ]
  },
  {
   "cell_type": "code",
   "execution_count": 3,
   "metadata": {
    "collapsed": true
   },
   "outputs": [],
   "source": [
    "bodysite = 'fecal'\n",
    "sequence_trim = '100nt'\n",
    "rarefaction_depth = '10k'\n",
    "\n",
    "use_subset = True\n",
    "use_one_sample = True"
   ]
  },
  {
   "cell_type": "markdown",
   "metadata": {},
   "source": [
    "Next, we'll load the data, and remove outliers."
   ]
  },
  {
   "cell_type": "code",
   "execution_count": 4,
   "metadata": {
    "collapsed": false
   },
   "outputs": [],
   "source": [
    "fecal_data = AgData(bodysite=bodysite, \n",
    "                    trim=sequence_trim, \n",
    "                    depth=rarefaction_depth, \n",
    "                    sub_participants=use_subset, \n",
    "                    one_sample=use_one_sample)\n",
    "\n",
    "fecal_data.drop_alpha_outliers()\n",
    "fecal_data.drop_bmi_outliers()"
   ]
  },
  {
   "cell_type": "markdown",
   "metadata": {},
   "source": [
    "Next, let's set up a directory where we will save our results."
   ]
  },
  {
   "cell_type": "code",
   "execution_count": 6,
   "metadata": {
    "collapsed": false
   },
   "outputs": [],
   "source": [
    "# save_dir = agenv.check_save_dir(fecal_data.data_set)\n",
    "save_dir =  '~/Desktop/'\n",
    "fig_dir = os.path.join(save_dir, 'alpha/images/')\n",
    "tab_dir = os.path.join(save_dir, 'alpha/summary/')\n",
    "\n",
    "if not os.path.exists(fig_dir):\n",
    "    os.makedirs(fig_dir)\n",
    "if not os.path.exists(tab_dir):\n",
    "    os.makedirs(tab_dir)"
   ]
  },
  {
   "cell_type": "markdown",
   "metadata": {},
   "source": [
    "Finally, we can pick the alpha diversity metric, the category to interogate, and set and order, if one is relevant."
   ]
  },
  {
   "cell_type": "code",
   "execution_count": 8,
   "metadata": {
    "collapsed": true
   },
   "outputs": [],
   "source": [
    "metric = 'PD_whole_tree'\n",
    "\n",
    "group_name = 'BOWEL_MOVEMENT_QUALITY'"
   ]
  },
  {
   "cell_type": "markdown",
   "metadata": {},
   "source": [
    "Now, let's read the files assoicated with the data and load the data dictionary entry for the group."
   ]
  },
  {
   "cell_type": "code",
   "execution_count": 9,
   "metadata": {
    "collapsed": false
   },
   "outputs": [
    {
     "ename": "AttributeError",
     "evalue": "AgCategorical instance has no attribute 'extremes'",
     "output_type": "error",
     "traceback": [
      "\u001b[0;31m---------------------------------------------------------------------------\u001b[0m",
      "\u001b[0;31mAttributeError\u001b[0m                            Traceback (most recent call last)",
      "\u001b[0;32m<ipython-input-9-1cfbfc8bd992>\u001b[0m in \u001b[0;36m<module>\u001b[0;34m()\u001b[0m\n\u001b[1;32m      1\u001b[0m \u001b[0mgroup\u001b[0m \u001b[0;34m=\u001b[0m \u001b[0magdic\u001b[0m\u001b[0;34m.\u001b[0m\u001b[0mag_dictionary\u001b[0m\u001b[0;34m(\u001b[0m\u001b[0mgroup_name\u001b[0m\u001b[0;34m)\u001b[0m\u001b[0;34m\u001b[0m\u001b[0m\n\u001b[0;32m----> 2\u001b[0;31m \u001b[0mfecal_data\u001b[0m\u001b[0;34m.\u001b[0m\u001b[0mclean_group\u001b[0m\u001b[0;34m(\u001b[0m\u001b[0mgroup\u001b[0m\u001b[0;34m)\u001b[0m\u001b[0;34m\u001b[0m\u001b[0m\n\u001b[0m",
      "\u001b[0;32m/Users/jdebelius/Repositories/American-Gut/americangut/ag_data.pyc\u001b[0m in \u001b[0;36mclean_group\u001b[0;34m(self, group)\u001b[0m\n\u001b[1;32m    347\u001b[0m \u001b[0;34m\u001b[0m\u001b[0m\n\u001b[1;32m    348\u001b[0m         \"\"\"\n\u001b[0;32m--> 349\u001b[0;31m         \u001b[0mgroup\u001b[0m\u001b[0;34m.\u001b[0m\u001b[0mremap_data_type\u001b[0m\u001b[0;34m(\u001b[0m\u001b[0mself\u001b[0m\u001b[0;34m.\u001b[0m\u001b[0mmap_\u001b[0m\u001b[0;34m)\u001b[0m\u001b[0;34m\u001b[0m\u001b[0m\n\u001b[0m\u001b[1;32m    350\u001b[0m \u001b[0;34m\u001b[0m\u001b[0m\n\u001b[1;32m    351\u001b[0m         \u001b[0;32mif\u001b[0m \u001b[0mgroup\u001b[0m\u001b[0;34m.\u001b[0m\u001b[0mtype\u001b[0m \u001b[0;34m==\u001b[0m \u001b[0;34m'Continous'\u001b[0m\u001b[0;34m:\u001b[0m\u001b[0;34m\u001b[0m\u001b[0m\n",
      "\u001b[0;32m/Users/jdebelius/Repositories/American-Gut/americangut/question/ag_categorical.pyc\u001b[0m in \u001b[0;36mremap_data_type\u001b[0;34m(self, map_)\u001b[0m\n\u001b[1;32m    118\u001b[0m         \u001b[0mmap_\u001b[0m\u001b[0;34m.\u001b[0m\u001b[0mreplace\u001b[0m\u001b[0;34m(\u001b[0m\u001b[0;34m'nan'\u001b[0m\u001b[0;34m,\u001b[0m \u001b[0mnp\u001b[0m\u001b[0;34m.\u001b[0m\u001b[0mnan\u001b[0m\u001b[0;34m,\u001b[0m \u001b[0minplace\u001b[0m\u001b[0;34m=\u001b[0m\u001b[0mTrue\u001b[0m\u001b[0;34m)\u001b[0m\u001b[0;34m\u001b[0m\u001b[0m\n\u001b[1;32m    119\u001b[0m \u001b[0;34m\u001b[0m\u001b[0m\n\u001b[0;32m--> 120\u001b[0;31m         \u001b[0mself\u001b[0m\u001b[0;34m.\u001b[0m\u001b[0m_update_order\u001b[0m\u001b[0;34m(\u001b[0m\u001b[0mremap_\u001b[0m\u001b[0;34m)\u001b[0m\u001b[0;34m\u001b[0m\u001b[0m\n\u001b[0m\u001b[1;32m    121\u001b[0m \u001b[0;34m\u001b[0m\u001b[0m\n\u001b[1;32m    122\u001b[0m     \u001b[0;32mdef\u001b[0m \u001b[0mremove_ambiguity\u001b[0m\u001b[0;34m(\u001b[0m\u001b[0mself\u001b[0m\u001b[0;34m,\u001b[0m \u001b[0mmap_\u001b[0m\u001b[0;34m)\u001b[0m\u001b[0;34m:\u001b[0m\u001b[0;34m\u001b[0m\u001b[0m\n",
      "\u001b[0;32m/Users/jdebelius/Repositories/American-Gut/americangut/question/ag_categorical.pyc\u001b[0m in \u001b[0;36m_update_order\u001b[0;34m(self, remap_)\u001b[0m\n\u001b[1;32m     83\u001b[0m             \u001b[0;32mif\u001b[0m \u001b[0mnew_o\u001b[0m \u001b[0;32mnot\u001b[0m \u001b[0;32min\u001b[0m \u001b[0mself\u001b[0m\u001b[0;34m.\u001b[0m\u001b[0morder\u001b[0m \u001b[0;32mand\u001b[0m \u001b[0;32mnot\u001b[0m \u001b[0mpd\u001b[0m\u001b[0;34m.\u001b[0m\u001b[0misnull\u001b[0m\u001b[0;34m(\u001b[0m\u001b[0mnew_o\u001b[0m\u001b[0;34m)\u001b[0m\u001b[0;34m:\u001b[0m\u001b[0;34m\u001b[0m\u001b[0m\n\u001b[1;32m     84\u001b[0m                 \u001b[0mself\u001b[0m\u001b[0;34m.\u001b[0m\u001b[0morder\u001b[0m\u001b[0;34m.\u001b[0m\u001b[0mappend\u001b[0m\u001b[0;34m(\u001b[0m\u001b[0mnew_o\u001b[0m\u001b[0;34m)\u001b[0m\u001b[0;34m\u001b[0m\u001b[0m\n\u001b[0;32m---> 85\u001b[0;31m         \u001b[0mself\u001b[0m\u001b[0;34m.\u001b[0m\u001b[0mextremes\u001b[0m \u001b[0;34m=\u001b[0m \u001b[0;34m[\u001b[0m\u001b[0mremap_\u001b[0m\u001b[0;34m(\u001b[0m\u001b[0me\u001b[0m\u001b[0;34m)\u001b[0m \u001b[0;32mfor\u001b[0m \u001b[0me\u001b[0m \u001b[0;32min\u001b[0m \u001b[0mself\u001b[0m\u001b[0;34m.\u001b[0m\u001b[0mextremes\u001b[0m\u001b[0;34m]\u001b[0m\u001b[0;34m\u001b[0m\u001b[0m\n\u001b[0m\u001b[1;32m     86\u001b[0m \u001b[0;34m\u001b[0m\u001b[0m\n\u001b[1;32m     87\u001b[0m     \u001b[0;32mdef\u001b[0m \u001b[0mremap_data_type\u001b[0m\u001b[0;34m(\u001b[0m\u001b[0mself\u001b[0m\u001b[0;34m,\u001b[0m \u001b[0mmap_\u001b[0m\u001b[0;34m)\u001b[0m\u001b[0;34m:\u001b[0m\u001b[0;34m\u001b[0m\u001b[0m\n",
      "\u001b[0;31mAttributeError\u001b[0m: AgCategorical instance has no attribute 'extremes'"
     ]
    }
   ],
   "source": [
    "group = agdic.ag_dictionary(group_name)\n",
    "fecal_data.clean_group(group)"
   ]
  },
  {
   "cell_type": "markdown",
   "metadata": {},
   "source": [
    "We're going to start by cleaning up the data. So, let's remove any samples that might be outliers (in rounds 1-21, there is a sample with alpha diveristy seven standard deivations above the mean and 4 standard deviations about the next highest sample).\n",
    "\n",
    "We'll also clean up the mapping column as needed, to make analsyis easier."
   ]
  },
  {
   "cell_type": "markdown",
   "metadata": {},
   "source": [
    "Now that we have the data loaded, let's plot it."
   ]
  },
  {
   "cell_type": "code",
   "execution_count": 46,
   "metadata": {
    "collapsed": false
   },
   "outputs": [
    {
     "data": {
      "image/png": "[encoded data removed]",
      "text/plain": [
       "<matplotlib.figure.Figure at 0x110655ed0>"
      ]
     },
     "metadata": {},
     "output_type": "display_data"
    }
   ],
   "source": [
    "with sn.color_palette('husl', 3):\n",
    "    ax = agdiv.pretty_pandas_boxplot(meta=fecal_data.map_,\n",
    "                                     group=group.name,\n",
    "                                     metric='%s_%s' % (metric, rarefaction_depth),\n",
    "                                     order=group.order,\n",
    "    #                                  bw=True,\n",
    "#                                      color='Green',\n",
    "                                     ylim=[5, 55],\n",
    "                                     xlabel=group.clean_name,\n",
    "                                     xticklabels=group.order,\n",
    "                                     ylabel='PD Whole Tree Diversity',\n",
    "                                     show_p=True,\n",
    "                                     )\n",
    "    ax.set_position((0.2, 0.2, 0.15*len(group.order), 0.75))\n",
    "\n",
    "    ax.figure.savefig('/Users/jwdebelius/Desktop/stool_quality.pdf')"
   ]
  },
  {
   "cell_type": "markdown",
   "metadata": {},
   "source": [
    "We can also examine significant differences using a post-hoc test to see what drives these differences."
   ]
  },
  {
   "cell_type": "code",
   "execution_count": 24,
   "metadata": {
    "collapsed": false
   },
   "outputs": [
    {
     "data": {
      "text/html": [
       "<div>\n",
       "<table border=\"1\" class=\"dataframe\">\n",
       "  <thead>\n",
       "    <tr style=\"text-align: right;\">\n",
       "      <th></th>\n",
       "      <th>Counts</th>\n",
       "      <th>Mean</th>\n",
       "      <th>Median</th>\n",
       "      <th>Stdv</th>\n",
       "      <th>Less than one</th>\n",
       "      <th>One</th>\n",
       "      <th>Two</th>\n",
       "      <th>Three</th>\n",
       "    </tr>\n",
       "    <tr>\n",
       "      <th>BOWEL_MOVEMENT_FREQUENCY</th>\n",
       "      <th></th>\n",
       "      <th></th>\n",
       "      <th></th>\n",
       "      <th></th>\n",
       "      <th></th>\n",
       "      <th></th>\n",
       "      <th></th>\n",
       "      <th></th>\n",
       "    </tr>\n",
       "  </thead>\n",
       "  <tbody>\n",
       "    <tr>\n",
       "      <th>Less than one</th>\n",
       "      <td>77</td>\n",
       "      <td>34.235250</td>\n",
       "      <td>35.087710</td>\n",
       "      <td>5.864915</td>\n",
       "      <td>NaN</td>\n",
       "      <td>NaN</td>\n",
       "      <td>NaN</td>\n",
       "      <td>NaN</td>\n",
       "    </tr>\n",
       "    <tr>\n",
       "      <th>One</th>\n",
       "      <td>343</td>\n",
       "      <td>33.752836</td>\n",
       "      <td>33.723966</td>\n",
       "      <td>5.855414</td>\n",
       "      <td>1.000000</td>\n",
       "      <td>NaN</td>\n",
       "      <td>NaN</td>\n",
       "      <td>NaN</td>\n",
       "    </tr>\n",
       "    <tr>\n",
       "      <th>Two</th>\n",
       "      <td>203</td>\n",
       "      <td>33.322233</td>\n",
       "      <td>33.553035</td>\n",
       "      <td>6.179617</td>\n",
       "      <td>1.000000</td>\n",
       "      <td>1.000000</td>\n",
       "      <td>NaN</td>\n",
       "      <td>NaN</td>\n",
       "    </tr>\n",
       "    <tr>\n",
       "      <th>Three</th>\n",
       "      <td>44</td>\n",
       "      <td>31.089456</td>\n",
       "      <td>32.217163</td>\n",
       "      <td>6.658973</td>\n",
       "      <td>0.061969</td>\n",
       "      <td>0.105231</td>\n",
       "      <td>0.584563</td>\n",
       "      <td>NaN</td>\n",
       "    </tr>\n",
       "    <tr>\n",
       "      <th>Four or more</th>\n",
       "      <td>25</td>\n",
       "      <td>30.302117</td>\n",
       "      <td>30.192047</td>\n",
       "      <td>4.333530</td>\n",
       "      <td>0.016949</td>\n",
       "      <td>0.021259</td>\n",
       "      <td>0.129367</td>\n",
       "      <td>1</td>\n",
       "    </tr>\n",
       "  </tbody>\n",
       "</table>\n",
       "</div>"
      ],
      "text/plain": [
       "                          Counts       Mean     Median      Stdv  \\\n",
       "BOWEL_MOVEMENT_FREQUENCY                                           \n",
       "Less than one                 77  34.235250  35.087710  5.864915   \n",
       "One                          343  33.752836  33.723966  5.855414   \n",
       "Two                          203  33.322233  33.553035  6.179617   \n",
       "Three                         44  31.089456  32.217163  6.658973   \n",
       "Four or more                  25  30.302117  30.192047  4.333530   \n",
       "\n",
       "                          Less than one       One       Two  Three  \n",
       "BOWEL_MOVEMENT_FREQUENCY                                            \n",
       "Less than one                       NaN       NaN       NaN    NaN  \n",
       "One                            1.000000       NaN       NaN    NaN  \n",
       "Two                            1.000000  1.000000       NaN    NaN  \n",
       "Three                          0.061969  0.105231  0.584563    NaN  \n",
       "Four or more                   0.016949  0.021259  0.129367      1  "
      ]
     },
     "execution_count": 24,
     "metadata": {},
     "output_type": "execute_result"
    }
   ],
   "source": [
    "post_hoc = agdiv.post_hoc_pandas(meta=fecal_data.map_,\n",
    "                                 group=group.name,\n",
    "                                 cat='%s_%s'% (metric, rarefaction_depth),\n",
    "                                 order=group.order,\n",
    "                                 correct='bonferroni',\n",
    "                                 )\n",
    "post_hoc"
   ]
  },
  {
   "cell_type": "code",
   "execution_count": 26,
   "metadata": {
    "collapsed": false
   },
   "outputs": [],
   "source": [
    "quality = agdic.ag_dictionary('BOWEL_MOVEMENT_QUALITY')\n",
    "frequency = agdic.ag_dictionary('BOWEL_MOVEMENT_FREQUENCY')\n",
    "\n",
    "fecal_data.clean_group(quality)\n",
    "fecal_data.clean_group(frequency)"
   ]
  },
  {
   "cell_type": "code",
   "execution_count": null,
   "metadata": {
    "collapsed": true
   },
   "outputs": [],
   "source": []
  },
  {
   "cell_type": "code",
   "execution_count": 42,
   "metadata": {
    "collapsed": false
   },
   "outputs": [
    {
     "data": {
      "image/png": "[encoded data removed]",
      "text/plain": [
       "<matplotlib.figure.Figure at 0x11720c7d0>"
      ]
     },
     "metadata": {},
     "output_type": "display_data"
    }
   ],
   "source": [
    "with sn.color_palette(\"husl\", 3):\n",
    "    ax = plt.axes()\n",
    "    sn.boxplot(x='BOWEL_MOVEMENT_FREQUENCY', \n",
    "               y='PD_whole_tree_10k',\n",
    "               order=frequency.order,\n",
    "               hue_order=quality.order,\n",
    "               hue='BOWEL_MOVEMENT_QUALITY',\n",
    "               data=fecal_data.map_,\n",
    "               flierprops={'markerfacecolor': 'k', 'marker': 'd'},\n",
    "              )\n",
    "    sn.despine()\n",
    "    ax.set_ylim([5, 55])\n",
    "    ax.set_yticklabels(np.arange(0, 51, 10), size=12)\n",
    "    ax.set_ylabel('PD Whole Tree Diversity', size=15)\n",
    "    ax.set_xlabel('Bowel Movement Frequency', size=15)\n",
    "    \n",
    "    leg = ax.legend_\n",
    "    leg.set_title('Stool Quality')"
   ]
  },
  {
   "cell_type": "code",
   "execution_count": null,
   "metadata": {
    "collapsed": true
   },
   "outputs": [],
   "source": []
  }
 ],
 "metadata": {
  "kernelspec": {
   "display_name": "Python 2",
   "language": "python",
   "name": "python2"
  },
  "language_info": {
   "codemirror_mode": {
    "name": "ipython",
    "version": 2
   },
   "file_extension": ".py",
   "mimetype": "text/x-python",
   "name": "python",
   "nbconvert_exporter": "python",
   "pygments_lexer": "ipython2",
   "version": "2.7.11"
  }
 },
 "nbformat": 4,
 "nbformat_minor": 0
}
