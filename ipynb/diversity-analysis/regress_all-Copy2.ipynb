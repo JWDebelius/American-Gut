{
 "cells": [
  {
   "cell_type": "markdown",
   "metadata": {},
   "source": [
    "This notebook is yet another attempt at multivariate statitics. We'll start by importing everything and the kitchen sink, in case we need it. "
   ]
  },
  {
   "cell_type": "code",
   "execution_count": 1,
   "metadata": {
    "collapsed": false
   },
   "outputs": [
    {
     "name": "stderr",
     "output_type": "stream",
     "text": [
      ":0: FutureWarning: IPython widgets are experimental and may change in the future.\n"
     ]
    }
   ],
   "source": [
    "import numpy as np\n",
    "import skbio\n",
    "import scipy\n",
    "\n",
    "import pandas as pd\n",
    "import statsmodels.formula.api as smf\n",
    "\n",
    "import matplotlib.pyplot as plt\n",
    "% matplotlib inline\n",
    "\n",
    "\n",
    "import americangut.ag_dictionary as agdic\n",
    "import americangut.diversity_analysis as agdiv\n",
    "import americangut.notebook_environment as agenv\n",
    "from americangut.ag_data import AgData"
   ]
  },
  {
   "cell_type": "markdown",
   "metadata": {},
   "source": [
    "Next, let's select the data set and rarefaction depth we wish to use."
   ]
  },
  {
   "cell_type": "code",
   "execution_count": 2,
   "metadata": {
    "collapsed": true
   },
   "outputs": [],
   "source": [
    "bodysite = 'fecal'\n",
    "sequence_trim = '100nt'\n",
    "rarefaction_depth = '10k'\n",
    "\n",
    "use_subset = True\n",
    "use_one_sample = True"
   ]
  },
  {
   "cell_type": "markdown",
   "metadata": {},
   "source": [
    "Next, we'll load the data, and remove outliers."
   ]
  },
  {
   "cell_type": "code",
   "execution_count": 3,
   "metadata": {
    "collapsed": true
   },
   "outputs": [],
   "source": [
    "data = AgData(bodysite=bodysite, \n",
    "                    trim=sequence_trim, \n",
    "                    depth=rarefaction_depth, \n",
    "                    sub_participants=use_subset, \n",
    "                    one_sample=use_one_sample)\n",
    "\n",
    "data.drop_alpha_outliers()\n",
    "data.drop_bmi_outliers()\n",
    "data.clean_age()"
   ]
  },
  {
   "cell_type": "markdown",
   "metadata": {},
   "source": [
    "Finally, let's pick our response varaible."
   ]
  },
  {
   "cell_type": "code",
   "execution_count": 4,
   "metadata": {
    "collapsed": false
   },
   "outputs": [],
   "source": [
    "metric = 'PD_whole_tree'\n",
    "response = '%s_%s' % (metric, rarefaction_depth)"
   ]
  },
  {
   "cell_type": "markdown",
   "metadata": {},
   "source": [
    "Next, we're going to loop through our dataset and clean up the question responses and number them."
   ]
  },
  {
   "cell_type": "code",
   "execution_count": 5,
   "metadata": {
    "collapsed": false
   },
   "outputs": [],
   "source": [
    "for group_name in agdic.dictionary.iterkeys():\n",
    "    if group_name == 'AGE_CORRECTED':\n",
    "        continue\n",
    "    question = agdic.ag_dictionary(group_name)\n",
    "    if group_name == 'COUNTRY':\n",
    "        question.order = ['USA', 'Australia', 'Canada', 'United Kingdom']\n",
    "    data.clean_group(question)\n",
    "    question.label_order(data.map_)"
   ]
  },
  {
   "cell_type": "markdown",
   "metadata": {},
   "source": [
    "Let's also add a column for the natural log of age, since this may be a better shape for the relationship with alpha diversity."
   ]
  },
  {
   "cell_type": "code",
   "execution_count": 6,
   "metadata": {
    "collapsed": true
   },
   "outputs": [],
   "source": [
    "data.map_['lnAGE'] = data.map_['AGE_CORRECTED'].apply(lambda x: np.log(x))"
   ]
  },
  {
   "cell_type": "markdown",
   "metadata": {},
   "source": []
  },
  {
   "cell_type": "code",
   "execution_count": 66,
   "metadata": {
    "collapsed": true
   },
   "outputs": [],
   "source": [
    "columns1 = ['AGE_CORRECTED', 'IBD', ''\n",
    "           ]"
   ]
  },
  {
   "cell_type": "code",
   "execution_count": 147,
   "metadata": {
    "collapsed": false
   },
   "outputs": [],
   "source": [
    "vars1 = [('AGE_CORRECTED', 'lnAGE'),\n",
    "         'SEX', \n",
    "         'COUNTRY',\n",
    "         'CHICKENPOX',\n",
    "         'TYPES_OF_PLANTS',\n",
    "         'ALCOHOL_FREQUENCY',\n",
    "         'EXERCISE_FREQUENCY',\n",
    "         'EXERCISE_LOCATION',\n",
    "         'FLOSSING_FREQUENCY',\n",
    "         'MIGRAINE',\n",
    "         'SLEEP_DURATION',\n",
    "         ]\n",
    "#          'ALCOHOL_FREQUENCY', \n",
    "#          'TYPES_OF_PLANTS',\n",
    "#          'EXERCISE_FREQUENCY',\n",
    "#          'FLOSSING_FREQUENCY',\n",
    "#          'MIGRAINE',\n",
    "#          'SLEEP_DURATION', \n",
    "#         ]\n",
    "# vars2 = [('AGE_CORRECTED', 'lnAGE'), 'SEX', 'COUNTRY', 'IBD', 'CHICKENPOX',\n",
    "#          'ALCOHOL_FREQUENCY', 'ANTIBIOTIC_HISTORY', 'IBS',\n",
    "#          'BOWEL_MOVEMENT_FREQUENCY', 'BOWEL_MOVEMENT_QUALITY',\n",
    "#          'COUNTRY', 'CSECTION', 'DIABETES', 'DIET_TYPE',\n",
    "#          'DRINKING_WATER_SOURCE', 'EXERCISE_FREQUENCY', 'EXERCISE_LOCATION',\n",
    "#          'FLOSSING_FREQUENCY', 'MIGRAINE', 'RACE', 'SEX', 'SLEEP_DURATION', \n",
    "#          'SMOKING_FREQUENCY', # 'TYPES_OF_PLANTS',\n",
    "#         ]"
   ]
  },
  {
   "cell_type": "code",
   "execution_count": 148,
   "metadata": {
    "collapsed": true
   },
   "outputs": [],
   "source": [
    "def _equation_builder(vars_, last_eq=None, response=None):\n",
    "    \"\"\"Builds a set of equations trying multiple predictor options\"\"\"\n",
    "    # Checks enough variables are defined\n",
    "    if last_eq is None and response is None:\n",
    "        raise ValueError('A response or last equation must be specified.')\n",
    "\n",
    "    # Checks the class of vars\n",
    "    if isinstance(vars_, str):\n",
    "        vars_ = [vars_]\n",
    "\n",
    "    # Builds the equation\n",
    "    if last_eq is None:\n",
    "        return ['%s ~ %s' % (response, pred) for pred in vars_]\n",
    "    else:\n",
    "        eqs = []\n",
    "        for pred in vars_:\n",
    "            if '&' in pred:\n",
    "                eqs.append(last_eq.replace(' + %s' % pred[1:], ''))\n",
    "            else:\n",
    "                eqs.append('%s + %s' % (last_eq, pred))\n",
    "\n",
    "    return eqs"
   ]
  },
  {
   "cell_type": "code",
   "execution_count": 149,
   "metadata": {
    "collapsed": true
   },
   "outputs": [],
   "source": [
    "def _populate_fit_check(fits, var_, id_=1, dname=None):\n",
    "    \"\"\"Updates the fit_check information\"\"\"\n",
    "    fit_check = []\n",
    "    if isinstance(var_, str):\n",
    "        var_ = [var_]\n",
    "\n",
    "    for idy, fit_ in enumerate(fits):\n",
    "        n = fit_.nobs\n",
    "        k = fit_.df_model\n",
    "        aicc = fit_.aic + (2 * k * (k + 1) / (n - k - 1))\n",
    "        d_score = scipy.stats.kstest(fit_.resid.values, 'norm')[0]\n",
    "\n",
    "        fit_check.append(pd.Series({'data_set': dname,\n",
    "                                    'equation':  fit_.model.formula,\n",
    "                                    'var': var_[idy],\n",
    "                                    'n': n,\n",
    "                                    'k': k,\n",
    "                                    'aic': fit_.aic,\n",
    "                                    'aicc': aicc,\n",
    "                                    'D_score': d_score,\n",
    "                                    'pearson_r2': fit_.rsquared,\n",
    "                                    'adj_r2': fit_.rsquared_adj,\n",
    "                                    'cond no': fit_.condition_number},\n",
    "                                   name=id_ + idy))\n",
    "    return pd.DataFrame(fit_check)"
   ]
  },
  {
   "cell_type": "code",
   "execution_count": 150,
   "metadata": {
    "collapsed": true
   },
   "outputs": [],
   "source": [
    "def _check_watch(model_watch, prev_id):\n",
    "    \"\"\"...\"\"\"\n",
    "    if model_watch is None:\n",
    "        model_watch = pd.DataFrame(data=np.zeros((0, 11)),\n",
    "                                   columns=['data_set', 'equation', 'var', 'n',\n",
    "                                            'k', 'aic', 'aicc', 'D_score',\n",
    "                                            'pearson_r2', 'adj_r2', 'cond no'])\n",
    "        id_ = 1\n",
    "        prev_id = None\n",
    "        prev_eq = None\n",
    "    else:\n",
    "        id_ = max(model_watch.index) + 1\n",
    "        if prev_id is None:\n",
    "            models = pd.DataFrame(model_watch).transpose()\n",
    "            ranked = models.sort(['aicc'], inplace=False).index\n",
    "            prev_id = ranked[0]\n",
    "        prev_eq = model_watch.loc[prev_id, 'equation']\n",
    "    return model_watch, id_, prev_id, prev_eq"
   ]
  },
  {
   "cell_type": "code",
   "execution_count": 151,
   "metadata": {
    "collapsed": true
   },
   "outputs": [],
   "source": [
    "def _identify_best_model(fit_check, prev_id):\n",
    "    \"\"\"...\"\"\"\n",
    "    fit_check['ref'] = prev_id\n",
    "    prev_r2 = fit_check.loc[prev_id, 'adj_r2']\n",
    "    prev_aicc = fit_check.loc[prev_id, 'aicc']\n",
    "    fit_check['score'] = -10000*(((fit_check.adj_r2 - prev_r2) *\n",
    "                                 (fit_check.aicc - prev_aicc)) /\n",
    "                                  fit_check['cond no'])\n",
    "\n",
    "    prev_id = fit_check.loc[fit_check.score == fit_check.score.max()].index[0]\n",
    "        \n",
    "    return prev_id"
   ]
  },
  {
   "cell_type": "code",
   "execution_count": 152,
   "metadata": {
    "collapsed": true
   },
   "outputs": [],
   "source": [
    "def olf_build_model(response, predictors, data, dname=None, model_watch=None,\n",
    "                    prev_id=None):\n",
    "    \"\"\"Builds up a series of Ordinary Least Squares Models\n",
    "\n",
    "    \"\"\"\n",
    "    # Looks for the last model being referenced as the best\n",
    "    model_watch, id_, prev_id, prev_eq = _check_watch(model_watch, prev_id)\n",
    "\n",
    "    # Builds up the model\n",
    "    for var_ in predictors:\n",
    "        # Builds up the list of equations to be added\n",
    "        eqs = _equation_builder(var_, prev_eq, response)\n",
    "        num_var = len(eqs)\n",
    "\n",
    "        # Fits the equations\n",
    "        fits = [smf.ols(eq, data=data).fit() for eq in eqs]\n",
    "\n",
    "        # Summarizes the fit\n",
    "        fit_check = _populate_fit_check(fits, var_, id_, dname)\n",
    "\n",
    "        # Updates the fit check with the best previous model\n",
    "        check_ids = fit_check.index.values\n",
    "        if prev_id is None:\n",
    "            prev_id = min(fit_check.index.values)\n",
    "        else:\n",
    "            fit_check.loc[prev_id] = model_watch.loc[prev_id]\n",
    "\n",
    "        # Identifies the best model\n",
    "        prev_id = _identify_best_model(fit_check, prev_id)\n",
    "\n",
    "        model_watch = pd.concat((model_watch, fit_check.loc[check_ids]))\n",
    "\n",
    "        # Gets the best fit equation\n",
    "        prev_eq = model_watch.loc[prev_id, 'equation']\n",
    "\n",
    "        # Advances the counter\n",
    "        id_ = id_ + num_var\n",
    "\n",
    "    return model_watch, prev_id\n"
   ]
  },
  {
   "cell_type": "code",
   "execution_count": 153,
   "metadata": {
    "collapsed": false
   },
   "outputs": [],
   "source": [
    "model_watch, prev_id = olf_build_model(\n",
    "        response=response,\n",
    "        predictors=vars1, \n",
    "        data=data.map_.loc[data.map_[columns1].dropna().index],\n",
    "        dname='all_data',\n",
    "        model_watch=None,\n",
    "        prev_id=None\n",
    "        )"
   ]
  },
  {
   "cell_type": "code",
   "execution_count": 154,
   "metadata": {
    "collapsed": false
   },
   "outputs": [],
   "source": [
    "sort_ = model_watch.sort_values('adj_r2', ascending=False)"
   ]
  },
  {
   "cell_type": "code",
   "execution_count": 155,
   "metadata": {
    "collapsed": false
   },
   "outputs": [
    {
     "data": {
      "text/plain": [
       "'PD_whole_tree_10k ~ lnAGE + COUNTRY + CHICKENPOX + TYPES_OF_PLANTS + ALCOHOL_FREQUENCY + EXERCISE_FREQUENCY + EXERCISE_LOCATION + FLOSSING_FREQUENCY'"
      ]
     },
     "execution_count": 155,
     "metadata": {},
     "output_type": "execute_result"
    }
   ],
   "source": [
    "sort_.loc[sort_.index[0], 'equation']"
   ]
  },
  {
   "cell_type": "code",
   "execution_count": 156,
   "metadata": {
    "collapsed": false
   },
   "outputs": [
    {
     "name": "stdout",
     "output_type": "stream",
     "text": [
      "                            OLS Regression Results                            \n",
      "==============================================================================\n",
      "Dep. Variable:      PD_whole_tree_10k   R-squared:                       0.073\n",
      "Model:                            OLS   Adj. R-squared:                  0.038\n",
      "Method:                 Least Squares   F-statistic:                     2.113\n",
      "Date:                Mon, 08 Feb 2016   Prob (F-statistic):            0.00229\n",
      "Time:                        15:05:46   Log-Likelihood:                -1894.7\n",
      "No. Observations:                 617   AIC:                             3835.\n",
      "Df Residuals:                     594   BIC:                             3937.\n",
      "Df Model:                          22                                         \n",
      "Covariance Type:            nonrobust                                         \n",
      "==================================================================================================================\n",
      "                                                     coef    std err          t      P>|t|      [95.0% Conf. Int.]\n",
      "------------------------------------------------------------------------------------------------------------------\n",
      "Intercept                                         13.5017      6.218      2.171      0.030         1.289    25.714\n",
      "COUNTRY[T.(1) United Kingdom]                      3.5985      2.071      1.738      0.083        -0.468     7.665\n",
      "CHICKENPOX[T.(1) Yes]                              0.3404      0.625      0.544      0.587        -0.888     1.569\n",
      "TYPES_OF_PLANTS[T.(1) 6 to 10]                     1.1838      0.993      1.192      0.234        -0.767     3.134\n",
      "TYPES_OF_PLANTS[T.(2) 11 to 20]                    1.8638      0.950      1.962      0.050        -0.002     3.729\n",
      "TYPES_OF_PLANTS[T.(3) 21 to 30]                    1.7342      0.992      1.749      0.081        -0.213     3.682\n",
      "TYPES_OF_PLANTS[T.(4) More than 30]                2.4666      1.001      2.464      0.014         0.501     4.432\n",
      "ALCOHOL_FREQUENCY[T.(1) A few times/month]         0.1936      0.708      0.274      0.785        -1.196     1.584\n",
      "ALCOHOL_FREQUENCY[T.(2) 1-2 times/week]            0.5390      0.719      0.749      0.454        -0.874     1.952\n",
      "ALCOHOL_FREQUENCY[T.(3) 3-5 times/week]            0.3295      0.744      0.443      0.658        -1.132     1.791\n",
      "ALCOHOL_FREQUENCY[T.(4) Daily]                     0.4572      0.814      0.561      0.575        -1.142     2.057\n",
      "EXERCISE_FREQUENCY[T.(1) A few times/month]        5.2800      5.433      0.972      0.332        -5.391    15.951\n",
      "EXERCISE_FREQUENCY[T.(2) 1-2 times/week]           5.4251      5.404      1.004      0.316        -5.188    16.038\n",
      "EXERCISE_FREQUENCY[T.(3) 3-5 times/week]           5.7453      5.392      1.065      0.287        -4.845    16.335\n",
      "EXERCISE_FREQUENCY[T.(4) Daily]                    5.1990      5.411      0.961      0.337        -5.427    15.825\n",
      "EXERCISE_LOCATION[T.(1) Both]                      1.1797      0.636      1.854      0.064        -0.070     2.429\n",
      "EXERCISE_LOCATION[T.(2) Depends on the season]    -0.6566      0.749     -0.876      0.381        -2.128     0.815\n",
      "EXERCISE_LOCATION[T.(3) Outdoors]                  0.9613      0.619      1.553      0.121        -0.254     2.177\n",
      "FLOSSING_FREQUENCY[T.(1) A few times/month]        1.0969      1.144      0.959      0.338        -1.150     3.344\n",
      "FLOSSING_FREQUENCY[T.(2) 1-2 times/week]           1.8940      1.109      1.708      0.088        -0.284     4.072\n",
      "FLOSSING_FREQUENCY[T.(3) 3-5 times/week]           2.5057      1.097      2.284      0.023         0.351     4.660\n",
      "FLOSSING_FREQUENCY[T.(4) Daily]                    2.1684      1.051      2.064      0.039         0.105     4.232\n",
      "lnAGE                                              2.0721      0.865      2.395      0.017         0.373     3.771\n",
      "==============================================================================\n",
      "Omnibus:                        0.676   Durbin-Watson:                   1.999\n",
      "Prob(Omnibus):                  0.713   Jarque-Bera (JB):                0.774\n",
      "Skew:                           0.064   Prob(JB):                        0.679\n",
      "Kurtosis:                       2.882   Cond. No.                         236.\n",
      "==============================================================================\n",
      "\n",
      "Warnings:\n",
      "[1] Standard Errors assume that the covariance matrix of the errors is correctly specified.\n"
     ]
    }
   ],
   "source": [
    "print smf.ols(sort_.loc[sort_.index[0], 'equation'],\n",
    "        data.map_.loc[data.map_[columns1].dropna().index],\n",
    "       ).fit().summary()"
   ]
  },
  {
   "cell_type": "code",
   "execution_count": 157,
   "metadata": {
    "collapsed": false
   },
   "outputs": [
    {
     "ename": "KeyError",
     "evalue": "'the label [13] is not in the [index]'",
     "output_type": "error",
     "traceback": [
      "\u001b[0;31m---------------------------------------------------------------------------\u001b[0m",
      "\u001b[0;31mKeyError\u001b[0m                                  Traceback (most recent call last)",
      "\u001b[0;32m<ipython-input-157-e30f0b163733>\u001b[0m in \u001b[0;36m<module>\u001b[0;34m()\u001b[0m\n\u001b[1;32m      5\u001b[0m         \u001b[0mdname\u001b[0m\u001b[0;34m=\u001b[0m\u001b[0;34m'all_data'\u001b[0m\u001b[0;34m,\u001b[0m\u001b[0;34m\u001b[0m\u001b[0m\n\u001b[1;32m      6\u001b[0m         \u001b[0mmodel_watch\u001b[0m\u001b[0;34m=\u001b[0m\u001b[0mmodel_watch\u001b[0m\u001b[0;34m,\u001b[0m\u001b[0;34m\u001b[0m\u001b[0m\n\u001b[0;32m----> 7\u001b[0;31m         \u001b[0mprev_id\u001b[0m\u001b[0;34m=\u001b[0m\u001b[0;36m13\u001b[0m\u001b[0;34m\u001b[0m\u001b[0m\n\u001b[0m\u001b[1;32m      8\u001b[0m         )\n",
      "\u001b[0;32m<ipython-input-152-769aa56bead8>\u001b[0m in \u001b[0;36molf_build_model\u001b[0;34m(response, predictors, data, dname, model_watch, prev_id)\u001b[0m\n\u001b[1;32m      5\u001b[0m     \"\"\"\n\u001b[1;32m      6\u001b[0m     \u001b[0;31m# Looks for the last model being referenced as the best\u001b[0m\u001b[0;34m\u001b[0m\u001b[0;34m\u001b[0m\u001b[0m\n\u001b[0;32m----> 7\u001b[0;31m     \u001b[0mmodel_watch\u001b[0m\u001b[0;34m,\u001b[0m \u001b[0mid_\u001b[0m\u001b[0;34m,\u001b[0m \u001b[0mprev_id\u001b[0m\u001b[0;34m,\u001b[0m \u001b[0mprev_eq\u001b[0m \u001b[0;34m=\u001b[0m \u001b[0m_check_watch\u001b[0m\u001b[0;34m(\u001b[0m\u001b[0mmodel_watch\u001b[0m\u001b[0;34m,\u001b[0m \u001b[0mprev_id\u001b[0m\u001b[0;34m)\u001b[0m\u001b[0;34m\u001b[0m\u001b[0m\n\u001b[0m\u001b[1;32m      8\u001b[0m \u001b[0;34m\u001b[0m\u001b[0m\n\u001b[1;32m      9\u001b[0m     \u001b[0;31m# Builds up the model\u001b[0m\u001b[0;34m\u001b[0m\u001b[0;34m\u001b[0m\u001b[0m\n",
      "\u001b[0;32m<ipython-input-150-5eeda981502d>\u001b[0m in \u001b[0;36m_check_watch\u001b[0;34m(model_watch, prev_id)\u001b[0m\n\u001b[1;32m     15\u001b[0m             \u001b[0mranked\u001b[0m \u001b[0;34m=\u001b[0m \u001b[0mmodels\u001b[0m\u001b[0;34m.\u001b[0m\u001b[0msort\u001b[0m\u001b[0;34m(\u001b[0m\u001b[0;34m[\u001b[0m\u001b[0;34m'aicc'\u001b[0m\u001b[0;34m]\u001b[0m\u001b[0;34m,\u001b[0m \u001b[0minplace\u001b[0m\u001b[0;34m=\u001b[0m\u001b[0mFalse\u001b[0m\u001b[0;34m)\u001b[0m\u001b[0;34m.\u001b[0m\u001b[0mindex\u001b[0m\u001b[0;34m\u001b[0m\u001b[0m\n\u001b[1;32m     16\u001b[0m             \u001b[0mprev_id\u001b[0m \u001b[0;34m=\u001b[0m \u001b[0mranked\u001b[0m\u001b[0;34m[\u001b[0m\u001b[0;36m0\u001b[0m\u001b[0;34m]\u001b[0m\u001b[0;34m\u001b[0m\u001b[0m\n\u001b[0;32m---> 17\u001b[0;31m         \u001b[0mprev_eq\u001b[0m \u001b[0;34m=\u001b[0m \u001b[0mmodel_watch\u001b[0m\u001b[0;34m.\u001b[0m\u001b[0mloc\u001b[0m\u001b[0;34m[\u001b[0m\u001b[0mprev_id\u001b[0m\u001b[0;34m,\u001b[0m \u001b[0;34m'equation'\u001b[0m\u001b[0;34m]\u001b[0m\u001b[0;34m\u001b[0m\u001b[0m\n\u001b[0m\u001b[1;32m     18\u001b[0m     \u001b[0;32mreturn\u001b[0m \u001b[0mmodel_watch\u001b[0m\u001b[0;34m,\u001b[0m \u001b[0mid_\u001b[0m\u001b[0;34m,\u001b[0m \u001b[0mprev_id\u001b[0m\u001b[0;34m,\u001b[0m \u001b[0mprev_eq\u001b[0m\u001b[0;34m\u001b[0m\u001b[0m\n",
      "\u001b[0;32m/Users/jdebelius/miniconda2/envs/americangut/lib/python2.7/site-packages/pandas/core/indexing.pyc\u001b[0m in \u001b[0;36m__getitem__\u001b[0;34m(self, key)\u001b[0m\n\u001b[1;32m   1223\u001b[0m     \u001b[0;32mdef\u001b[0m \u001b[0m__getitem__\u001b[0m\u001b[0;34m(\u001b[0m\u001b[0mself\u001b[0m\u001b[0;34m,\u001b[0m \u001b[0mkey\u001b[0m\u001b[0;34m)\u001b[0m\u001b[0;34m:\u001b[0m\u001b[0;34m\u001b[0m\u001b[0m\n\u001b[1;32m   1224\u001b[0m         \u001b[0;32mif\u001b[0m \u001b[0mtype\u001b[0m\u001b[0;34m(\u001b[0m\u001b[0mkey\u001b[0m\u001b[0;34m)\u001b[0m \u001b[0;32mis\u001b[0m \u001b[0mtuple\u001b[0m\u001b[0;34m:\u001b[0m\u001b[0;34m\u001b[0m\u001b[0m\n\u001b[0;32m-> 1225\u001b[0;31m             \u001b[0;32mreturn\u001b[0m \u001b[0mself\u001b[0m\u001b[0;34m.\u001b[0m\u001b[0m_getitem_tuple\u001b[0m\u001b[0;34m(\u001b[0m\u001b[0mkey\u001b[0m\u001b[0;34m)\u001b[0m\u001b[0;34m\u001b[0m\u001b[0m\n\u001b[0m\u001b[1;32m   1226\u001b[0m         \u001b[0;32melse\u001b[0m\u001b[0;34m:\u001b[0m\u001b[0;34m\u001b[0m\u001b[0m\n\u001b[1;32m   1227\u001b[0m             \u001b[0;32mreturn\u001b[0m \u001b[0mself\u001b[0m\u001b[0;34m.\u001b[0m\u001b[0m_getitem_axis\u001b[0m\u001b[0;34m(\u001b[0m\u001b[0mkey\u001b[0m\u001b[0;34m,\u001b[0m \u001b[0maxis\u001b[0m\u001b[0;34m=\u001b[0m\u001b[0;36m0\u001b[0m\u001b[0;34m)\u001b[0m\u001b[0;34m\u001b[0m\u001b[0m\n",
      "\u001b[0;32m/Users/jdebelius/miniconda2/envs/americangut/lib/python2.7/site-packages/pandas/core/indexing.pyc\u001b[0m in \u001b[0;36m_getitem_tuple\u001b[0;34m(self, tup)\u001b[0m\n\u001b[1;32m    736\u001b[0m     \u001b[0;32mdef\u001b[0m \u001b[0m_getitem_tuple\u001b[0m\u001b[0;34m(\u001b[0m\u001b[0mself\u001b[0m\u001b[0;34m,\u001b[0m \u001b[0mtup\u001b[0m\u001b[0;34m)\u001b[0m\u001b[0;34m:\u001b[0m\u001b[0;34m\u001b[0m\u001b[0m\n\u001b[1;32m    737\u001b[0m         \u001b[0;32mtry\u001b[0m\u001b[0;34m:\u001b[0m\u001b[0;34m\u001b[0m\u001b[0m\n\u001b[0;32m--> 738\u001b[0;31m             \u001b[0;32mreturn\u001b[0m \u001b[0mself\u001b[0m\u001b[0;34m.\u001b[0m\u001b[0m_getitem_lowerdim\u001b[0m\u001b[0;34m(\u001b[0m\u001b[0mtup\u001b[0m\u001b[0;34m)\u001b[0m\u001b[0;34m\u001b[0m\u001b[0m\n\u001b[0m\u001b[1;32m    739\u001b[0m         \u001b[0;32mexcept\u001b[0m \u001b[0mIndexingError\u001b[0m\u001b[0;34m:\u001b[0m\u001b[0;34m\u001b[0m\u001b[0m\n\u001b[1;32m    740\u001b[0m             \u001b[0;32mpass\u001b[0m\u001b[0;34m\u001b[0m\u001b[0m\n",
      "\u001b[0;32m/Users/jdebelius/miniconda2/envs/americangut/lib/python2.7/site-packages/pandas/core/indexing.pyc\u001b[0m in \u001b[0;36m_getitem_lowerdim\u001b[0;34m(self, tup)\u001b[0m\n\u001b[1;32m    861\u001b[0m         \u001b[0;32mfor\u001b[0m \u001b[0mi\u001b[0m\u001b[0;34m,\u001b[0m \u001b[0mkey\u001b[0m \u001b[0;32min\u001b[0m \u001b[0menumerate\u001b[0m\u001b[0;34m(\u001b[0m\u001b[0mtup\u001b[0m\u001b[0;34m)\u001b[0m\u001b[0;34m:\u001b[0m\u001b[0;34m\u001b[0m\u001b[0m\n\u001b[1;32m    862\u001b[0m             \u001b[0;32mif\u001b[0m \u001b[0mis_label_like\u001b[0m\u001b[0;34m(\u001b[0m\u001b[0mkey\u001b[0m\u001b[0;34m)\u001b[0m \u001b[0;32mor\u001b[0m \u001b[0misinstance\u001b[0m\u001b[0;34m(\u001b[0m\u001b[0mkey\u001b[0m\u001b[0;34m,\u001b[0m \u001b[0mtuple\u001b[0m\u001b[0;34m)\u001b[0m\u001b[0;34m:\u001b[0m\u001b[0;34m\u001b[0m\u001b[0m\n\u001b[0;32m--> 863\u001b[0;31m                 \u001b[0msection\u001b[0m \u001b[0;34m=\u001b[0m \u001b[0mself\u001b[0m\u001b[0;34m.\u001b[0m\u001b[0m_getitem_axis\u001b[0m\u001b[0;34m(\u001b[0m\u001b[0mkey\u001b[0m\u001b[0;34m,\u001b[0m \u001b[0maxis\u001b[0m\u001b[0;34m=\u001b[0m\u001b[0mi\u001b[0m\u001b[0;34m)\u001b[0m\u001b[0;34m\u001b[0m\u001b[0m\n\u001b[0m\u001b[1;32m    864\u001b[0m \u001b[0;34m\u001b[0m\u001b[0m\n\u001b[1;32m    865\u001b[0m                 \u001b[0;31m# we have yielded a scalar ?\u001b[0m\u001b[0;34m\u001b[0m\u001b[0;34m\u001b[0m\u001b[0m\n",
      "\u001b[0;32m/Users/jdebelius/miniconda2/envs/americangut/lib/python2.7/site-packages/pandas/core/indexing.pyc\u001b[0m in \u001b[0;36m_getitem_axis\u001b[0;34m(self, key, axis)\u001b[0m\n\u001b[1;32m   1369\u001b[0m \u001b[0;34m\u001b[0m\u001b[0m\n\u001b[1;32m   1370\u001b[0m         \u001b[0;31m# fall thru to straight lookup\u001b[0m\u001b[0;34m\u001b[0m\u001b[0;34m\u001b[0m\u001b[0m\n\u001b[0;32m-> 1371\u001b[0;31m         \u001b[0mself\u001b[0m\u001b[0;34m.\u001b[0m\u001b[0m_has_valid_type\u001b[0m\u001b[0;34m(\u001b[0m\u001b[0mkey\u001b[0m\u001b[0;34m,\u001b[0m \u001b[0maxis\u001b[0m\u001b[0;34m)\u001b[0m\u001b[0;34m\u001b[0m\u001b[0m\n\u001b[0m\u001b[1;32m   1372\u001b[0m         \u001b[0;32mreturn\u001b[0m \u001b[0mself\u001b[0m\u001b[0;34m.\u001b[0m\u001b[0m_get_label\u001b[0m\u001b[0;34m(\u001b[0m\u001b[0mkey\u001b[0m\u001b[0;34m,\u001b[0m \u001b[0maxis\u001b[0m\u001b[0;34m=\u001b[0m\u001b[0maxis\u001b[0m\u001b[0;34m)\u001b[0m\u001b[0;34m\u001b[0m\u001b[0m\n\u001b[1;32m   1373\u001b[0m \u001b[0;34m\u001b[0m\u001b[0m\n",
      "\u001b[0;32m/Users/jdebelius/miniconda2/envs/americangut/lib/python2.7/site-packages/pandas/core/indexing.pyc\u001b[0m in \u001b[0;36m_has_valid_type\u001b[0;34m(self, key, axis)\u001b[0m\n\u001b[1;32m   1331\u001b[0m                 \u001b[0;32mraise\u001b[0m\u001b[0;34m\u001b[0m\u001b[0m\n\u001b[1;32m   1332\u001b[0m             \u001b[0;32mexcept\u001b[0m\u001b[0;34m:\u001b[0m\u001b[0;34m\u001b[0m\u001b[0m\n\u001b[0;32m-> 1333\u001b[0;31m                 \u001b[0merror\u001b[0m\u001b[0;34m(\u001b[0m\u001b[0;34m)\u001b[0m\u001b[0;34m\u001b[0m\u001b[0m\n\u001b[0m\u001b[1;32m   1334\u001b[0m \u001b[0;34m\u001b[0m\u001b[0m\n\u001b[1;32m   1335\u001b[0m         \u001b[0;32mreturn\u001b[0m \u001b[0mTrue\u001b[0m\u001b[0;34m\u001b[0m\u001b[0m\n",
      "\u001b[0;32m/Users/jdebelius/miniconda2/envs/americangut/lib/python2.7/site-packages/pandas/core/indexing.pyc\u001b[0m in \u001b[0;36merror\u001b[0;34m()\u001b[0m\n\u001b[1;32m   1318\u001b[0m                         \"cannot use label indexing with a null key\")\n\u001b[1;32m   1319\u001b[0m                 raise KeyError(\"the label [%s] is not in the [%s]\" %\n\u001b[0;32m-> 1320\u001b[0;31m                                (key, self.obj._get_axis_name(axis)))\n\u001b[0m\u001b[1;32m   1321\u001b[0m \u001b[0;34m\u001b[0m\u001b[0m\n\u001b[1;32m   1322\u001b[0m             \u001b[0;32mtry\u001b[0m\u001b[0;34m:\u001b[0m\u001b[0;34m\u001b[0m\u001b[0m\n",
      "\u001b[0;31mKeyError\u001b[0m: 'the label [13] is not in the [index]'"
     ]
    }
   ],
   "source": [
    "model_watch, prev_id = olf_build_model(\n",
    "        response=response,\n",
    "        predictors=['&CSECTION'], \n",
    "        data=data.map_.loc[data.map_[vars1[1:]].dropna().index],\n",
    "        dname='all_data',\n",
    "        model_watch=model_watch,\n",
    "        prev_id=13\n",
    "        )"
   ]
  },
  {
   "cell_type": "code",
   "execution_count": 51,
   "metadata": {
    "collapsed": false
   },
   "outputs": [
    {
     "data": {
      "text/html": [
       "<div>\n",
       "<table border=\"1\" class=\"dataframe\">\n",
       "  <thead>\n",
       "    <tr style=\"text-align: right;\">\n",
       "      <th></th>\n",
       "      <th>var</th>\n",
       "      <th>score</th>\n",
       "      <th>adj_r2</th>\n",
       "      <th>cond no</th>\n",
       "    </tr>\n",
       "  </thead>\n",
       "  <tbody>\n",
       "    <tr>\n",
       "      <th>1</th>\n",
       "      <td>AGE_CORRECTED</td>\n",
       "      <td>-0.000000</td>\n",
       "      <td>0.015425</td>\n",
       "      <td>192.438709</td>\n",
       "    </tr>\n",
       "    <tr>\n",
       "      <th>2</th>\n",
       "      <td>lnAGE</td>\n",
       "      <td>0.492993</td>\n",
       "      <td>0.017531</td>\n",
       "      <td>56.462439</td>\n",
       "    </tr>\n",
       "    <tr>\n",
       "      <th>3</th>\n",
       "      <td>SEX</td>\n",
       "      <td>-0.013083</td>\n",
       "      <td>0.017609</td>\n",
       "      <td>57.088401</td>\n",
       "    </tr>\n",
       "    <tr>\n",
       "      <th>4</th>\n",
       "      <td>COUNTRY</td>\n",
       "      <td>0.017035</td>\n",
       "      <td>0.019227</td>\n",
       "      <td>56.462759</td>\n",
       "    </tr>\n",
       "    <tr>\n",
       "      <th>5</th>\n",
       "      <td>CHICKENPOX</td>\n",
       "      <td>0.364094</td>\n",
       "      <td>0.018032</td>\n",
       "      <td>57.947843</td>\n",
       "    </tr>\n",
       "    <tr>\n",
       "      <th>6</th>\n",
       "      <td>ALCOHOL_FREQUENCY</td>\n",
       "      <td>4.105386</td>\n",
       "      <td>0.014220</td>\n",
       "      <td>60.306225</td>\n",
       "    </tr>\n",
       "    <tr>\n",
       "      <th>7</th>\n",
       "      <td>TYPES_OF_PLANTS</td>\n",
       "      <td>4.846804</td>\n",
       "      <td>0.025279</td>\n",
       "      <td>63.302277</td>\n",
       "    </tr>\n",
       "    <tr>\n",
       "      <th>8</th>\n",
       "      <td>CSECTION</td>\n",
       "      <td>0.282913</td>\n",
       "      <td>0.024221</td>\n",
       "      <td>64.639920</td>\n",
       "    </tr>\n",
       "    <tr>\n",
       "      <th>9</th>\n",
       "      <td>RACE</td>\n",
       "      <td>3.949970</td>\n",
       "      <td>0.031496</td>\n",
       "      <td>65.424034</td>\n",
       "    </tr>\n",
       "    <tr>\n",
       "      <th>10</th>\n",
       "      <td>DRINKING_WATER_SOURCE</td>\n",
       "      <td>2.534563</td>\n",
       "      <td>0.028164</td>\n",
       "      <td>70.250151</td>\n",
       "    </tr>\n",
       "    <tr>\n",
       "      <th>11</th>\n",
       "      <td>EXERCISE_FREQUENCY</td>\n",
       "      <td>0.688630</td>\n",
       "      <td>0.025497</td>\n",
       "      <td>234.978837</td>\n",
       "    </tr>\n",
       "    <tr>\n",
       "      <th>12</th>\n",
       "      <td>EXERCISE_LOCATION</td>\n",
       "      <td>1.629407</td>\n",
       "      <td>0.036338</td>\n",
       "      <td>237.092952</td>\n",
       "    </tr>\n",
       "    <tr>\n",
       "      <th>13</th>\n",
       "      <td>FLOSSING_FREQUENCY</td>\n",
       "      <td>-0.328208</td>\n",
       "      <td>0.040331</td>\n",
       "      <td>239.374348</td>\n",
       "    </tr>\n",
       "    <tr>\n",
       "      <th>14</th>\n",
       "      <td>MIGRAINE</td>\n",
       "      <td>0.024819</td>\n",
       "      <td>0.035906</td>\n",
       "      <td>243.943402</td>\n",
       "    </tr>\n",
       "    <tr>\n",
       "      <th>15</th>\n",
       "      <td>SLEEP_DURATION</td>\n",
       "      <td>-0.071143</td>\n",
       "      <td>0.036484</td>\n",
       "      <td>246.616044</td>\n",
       "    </tr>\n",
       "    <tr>\n",
       "      <th>16</th>\n",
       "      <td>SMOKING_FREQUENCY</td>\n",
       "      <td>0.040611</td>\n",
       "      <td>0.035512</td>\n",
       "      <td>244.010908</td>\n",
       "    </tr>\n",
       "    <tr>\n",
       "      <th>17</th>\n",
       "      <td>&amp; CSECTION</td>\n",
       "      <td>-0.000000</td>\n",
       "      <td>0.035512</td>\n",
       "      <td>244.010908</td>\n",
       "    </tr>\n",
       "    <tr>\n",
       "      <th>18</th>\n",
       "      <td>&amp; CSECTION</td>\n",
       "      <td>-0.000000</td>\n",
       "      <td>0.040331</td>\n",
       "      <td>239.374348</td>\n",
       "    </tr>\n",
       "    <tr>\n",
       "      <th>19</th>\n",
       "      <td>&amp;CSECTION</td>\n",
       "      <td>0.098305</td>\n",
       "      <td>0.041552</td>\n",
       "      <td>239.312093</td>\n",
       "    </tr>\n",
       "    <tr>\n",
       "      <th>20</th>\n",
       "      <td>&amp;CSECTION</td>\n",
       "      <td>0.098305</td>\n",
       "      <td>0.041552</td>\n",
       "      <td>239.312093</td>\n",
       "    </tr>\n",
       "  </tbody>\n",
       "</table>\n",
       "</div>"
      ],
      "text/plain": [
       "                      var     score    adj_r2     cond no\n",
       "1           AGE_CORRECTED -0.000000  0.015425  192.438709\n",
       "2                   lnAGE  0.492993  0.017531   56.462439\n",
       "3                     SEX -0.013083  0.017609   57.088401\n",
       "4                 COUNTRY  0.017035  0.019227   56.462759\n",
       "5              CHICKENPOX  0.364094  0.018032   57.947843\n",
       "6       ALCOHOL_FREQUENCY  4.105386  0.014220   60.306225\n",
       "7         TYPES_OF_PLANTS  4.846804  0.025279   63.302277\n",
       "8                CSECTION  0.282913  0.024221   64.639920\n",
       "9                    RACE  3.949970  0.031496   65.424034\n",
       "10  DRINKING_WATER_SOURCE  2.534563  0.028164   70.250151\n",
       "11     EXERCISE_FREQUENCY  0.688630  0.025497  234.978837\n",
       "12      EXERCISE_LOCATION  1.629407  0.036338  237.092952\n",
       "13     FLOSSING_FREQUENCY -0.328208  0.040331  239.374348\n",
       "14               MIGRAINE  0.024819  0.035906  243.943402\n",
       "15         SLEEP_DURATION -0.071143  0.036484  246.616044\n",
       "16      SMOKING_FREQUENCY  0.040611  0.035512  244.010908\n",
       "17             & CSECTION -0.000000  0.035512  244.010908\n",
       "18             & CSECTION -0.000000  0.040331  239.374348\n",
       "19              &CSECTION  0.098305  0.041552  239.312093\n",
       "20              &CSECTION  0.098305  0.041552  239.312093"
      ]
     },
     "execution_count": 51,
     "metadata": {},
     "output_type": "execute_result"
    }
   ],
   "source": [
    "model_watch[['var', 'score', 'adj_r2', 'cond no']]"
   ]
  },
  {
   "cell_type": "code",
   "execution_count": 56,
   "metadata": {
    "collapsed": false
   },
   "outputs": [
    {
     "data": {
      "text/html": [
       "<div>\n",
       "<table border=\"1\" class=\"dataframe\">\n",
       "  <thead>\n",
       "    <tr style=\"text-align: right;\">\n",
       "      <th></th>\n",
       "      <th>12</th>\n",
       "      <th>13</th>\n",
       "      <th>20</th>\n",
       "    </tr>\n",
       "  </thead>\n",
       "  <tbody>\n",
       "    <tr>\n",
       "      <th>D_score</th>\n",
       "      <td>0.340893</td>\n",
       "      <td>0.341518</td>\n",
       "      <td>0.347631</td>\n",
       "    </tr>\n",
       "    <tr>\n",
       "      <th>adj_r2</th>\n",
       "      <td>0.0363381</td>\n",
       "      <td>0.0403305</td>\n",
       "      <td>0.0415517</td>\n",
       "    </tr>\n",
       "    <tr>\n",
       "      <th>aic</th>\n",
       "      <td>3837.68</td>\n",
       "      <td>3838.94</td>\n",
       "      <td>3837.2</td>\n",
       "    </tr>\n",
       "    <tr>\n",
       "      <th>aicc</th>\n",
       "      <td>3839.54</td>\n",
       "      <td>3841.51</td>\n",
       "      <td>3839.58</td>\n",
       "    </tr>\n",
       "    <tr>\n",
       "      <th>cond no</th>\n",
       "      <td>237.093</td>\n",
       "      <td>239.374</td>\n",
       "      <td>239.312</td>\n",
       "    </tr>\n",
       "    <tr>\n",
       "      <th>data_set</th>\n",
       "      <td>all_data</td>\n",
       "      <td>all_data</td>\n",
       "      <td>all_data</td>\n",
       "    </tr>\n",
       "    <tr>\n",
       "      <th>equation</th>\n",
       "      <td>PD_whole_tree_10k ~ lnAGE + COUNTRY + CHICKENP...</td>\n",
       "      <td>PD_whole_tree_10k ~ lnAGE + COUNTRY + CHICKENP...</td>\n",
       "      <td>PD_whole_tree_10k ~ lnAGE + COUNTRY + CHICKENP...</td>\n",
       "    </tr>\n",
       "    <tr>\n",
       "      <th>k</th>\n",
       "      <td>23</td>\n",
       "      <td>27</td>\n",
       "      <td>26</td>\n",
       "    </tr>\n",
       "    <tr>\n",
       "      <th>n</th>\n",
       "      <td>617</td>\n",
       "      <td>617</td>\n",
       "      <td>617</td>\n",
       "    </tr>\n",
       "    <tr>\n",
       "      <th>pearson_r2</th>\n",
       "      <td>0.072319</td>\n",
       "      <td>0.0823939</td>\n",
       "      <td>0.0820057</td>\n",
       "    </tr>\n",
       "    <tr>\n",
       "      <th>ref</th>\n",
       "      <td>11</td>\n",
       "      <td>12</td>\n",
       "      <td>13</td>\n",
       "    </tr>\n",
       "    <tr>\n",
       "      <th>score</th>\n",
       "      <td>1.62941</td>\n",
       "      <td>-0.328208</td>\n",
       "      <td>0.0983051</td>\n",
       "    </tr>\n",
       "    <tr>\n",
       "      <th>var</th>\n",
       "      <td>EXERCISE_LOCATION</td>\n",
       "      <td>FLOSSING_FREQUENCY</td>\n",
       "      <td>&amp;CSECTION</td>\n",
       "    </tr>\n",
       "  </tbody>\n",
       "</table>\n",
       "</div>"
      ],
      "text/plain": [
       "                                                           12  \\\n",
       "D_score                                              0.340893   \n",
       "adj_r2                                              0.0363381   \n",
       "aic                                                   3837.68   \n",
       "aicc                                                  3839.54   \n",
       "cond no                                               237.093   \n",
       "data_set                                             all_data   \n",
       "equation    PD_whole_tree_10k ~ lnAGE + COUNTRY + CHICKENP...   \n",
       "k                                                          23   \n",
       "n                                                         617   \n",
       "pearson_r2                                           0.072319   \n",
       "ref                                                        11   \n",
       "score                                                 1.62941   \n",
       "var                                         EXERCISE_LOCATION   \n",
       "\n",
       "                                                           13  \\\n",
       "D_score                                              0.341518   \n",
       "adj_r2                                              0.0403305   \n",
       "aic                                                   3838.94   \n",
       "aicc                                                  3841.51   \n",
       "cond no                                               239.374   \n",
       "data_set                                             all_data   \n",
       "equation    PD_whole_tree_10k ~ lnAGE + COUNTRY + CHICKENP...   \n",
       "k                                                          27   \n",
       "n                                                         617   \n",
       "pearson_r2                                          0.0823939   \n",
       "ref                                                        12   \n",
       "score                                               -0.328208   \n",
       "var                                        FLOSSING_FREQUENCY   \n",
       "\n",
       "                                                           20  \n",
       "D_score                                              0.347631  \n",
       "adj_r2                                              0.0415517  \n",
       "aic                                                    3837.2  \n",
       "aicc                                                  3839.58  \n",
       "cond no                                               239.312  \n",
       "data_set                                             all_data  \n",
       "equation    PD_whole_tree_10k ~ lnAGE + COUNTRY + CHICKENP...  \n",
       "k                                                          26  \n",
       "n                                                         617  \n",
       "pearson_r2                                          0.0820057  \n",
       "ref                                                        13  \n",
       "score                                               0.0983051  \n",
       "var                                                 &CSECTION  "
      ]
     },
     "execution_count": 56,
     "metadata": {},
     "output_type": "execute_result"
    }
   ],
   "source": [
    "model_watch.loc[[12, 13, 20]].transpose()"
   ]
  },
  {
   "cell_type": "code",
   "execution_count": null,
   "metadata": {
    "collapsed": true
   },
   "outputs": [],
   "source": []
  }
 ],
 "metadata": {
  "kernelspec": {
   "display_name": "Python 2",
   "language": "python",
   "name": "python2"
  },
  "language_info": {
   "codemirror_mode": {
    "name": "ipython",
    "version": 2
   },
   "file_extension": ".py",
   "mimetype": "text/x-python",
   "name": "python",
   "nbconvert_exporter": "python",
   "pygments_lexer": "ipython2",
   "version": "2.7.11"
  }
 },
 "nbformat": 4,
 "nbformat_minor": 0
}
