{
 "cells": [
  {
   "cell_type": "markdown",
   "metadata": {},
   "source": [
    "The two previous notebooks looked at over all p values and alpha diversity for a single category. Now, we'll look at beta diversity, which lets us compare community structure."
   ]
  },
  {
   "cell_type": "code",
   "execution_count": 1,
   "metadata": {
    "collapsed": false
   },
   "outputs": [
    {
     "name": "stderr",
     "output_type": "stream",
     "text": [
      "/Users/jwdebelius/anaconda/envs/americangut/lib/python2.7/site-packages/matplotlib/__init__.py:872: UserWarning: axes.color_cycle is deprecated and replaced with axes.prop_cycle; please use the latter.\n",
      "  warnings.warn(self.msg_depr % (key, alt_key))\n"
     ]
    }
   ],
   "source": [
    "import os\n",
    "\n",
    "import matplotlib.pyplot as plt\n",
    "import numpy as np\n",
    "import pandas as pd\n",
    "import scipy.stats\n",
    "import seaborn as sn\n",
    "import skbio\n",
    "\n",
    "import americangut.diversity_analysis as div\n",
    "import americangut.notebook_environment as agenv\n",
    "\n",
    "from americangut.ag_data import AgData\n",
    "from americangut.ag_dictionary import ag_dictionary"
   ]
  },
  {
   "cell_type": "code",
   "execution_count": 2,
   "metadata": {
    "collapsed": false
   },
   "outputs": [],
   "source": [
    "from matplotlib import rcParams\n",
    "\n",
    "% matplotlib inline\n",
    "\n",
    "# Formats the axes using seabron so they will be white, and have ticks\n",
    "# on the bottom of the axes.\n",
    "sn.set_style('ticks', {'axes.facecolor': 'none'})\n",
    "\n",
    "# Sets up plotting parameters so that the default setting is use to Helvetica\n",
    "# in plots\n",
    "rcParams['font.family'] = 'sans-serif'\n",
    "rcParams['font.sans-serif'] = ['Helvetica', 'Arial']\n",
    "rcParams['text.usetex'] = True"
   ]
  },
  {
   "cell_type": "markdown",
   "metadata": {},
   "source": [
    "Next, let's select the data set and rarefaction depth we wish to use."
   ]
  },
  {
   "cell_type": "code",
   "execution_count": null,
   "metadata": {
    "collapsed": true
   },
   "outputs": [],
   "source": [
    "bodysite = 'fecal'\n",
    "sequence_trim = '100nt'\n",
    "rarefaction_depth = '10k'\n",
    "\n",
    "use_subset = True\n",
    "use_one_sample = True"
   ]
  },
  {
   "cell_type": "markdown",
   "metadata": {},
   "source": [
    "Now, let's read the files assoicated with the data and load the data dictionary entry for the group."
   ]
  },
  {
   "cell_type": "code",
   "execution_count": null,
   "metadata": {
    "collapsed": false
   },
   "outputs": [],
   "source": [
    "fecal_data = AgData(bodysite=bodysite, \n",
    "                    trim=sequence_trim, \n",
    "                    depth=rarefaction_depth, \n",
    "                    sub_participants=use_subset, \n",
    "                    one_sample=use_one_sample)\n",
    "\n",
    "fecal_data.drop_alpha_outliers()\n",
    "fecal_data.drop_bmi_outliers()"
   ]
  },
  {
   "cell_type": "markdown",
   "metadata": {},
   "source": [
    "Let's make a directory where we can save any figures we need to save."
   ]
  },
  {
   "cell_type": "code",
   "execution_count": null,
   "metadata": {
    "collapsed": false
   },
   "outputs": [],
   "source": [
    "save_dir = agenv.check_save_dir(fecal_data.data_set)\n",
    "test_dir = os.path.join(save_dir, 'beta/dist/')\n",
    "fig_dir = os.path.join(save_dir, 'beta/images/')\n",
    "\n",
    "if not os.path.exists(fig_dir):\n",
    "    os.makedirs(fig_dir)\n",
    "if not os.path.exists(test_dir):\n",
    "    os.makedirs(test_dir)"
   ]
  },
  {
   "cell_type": "markdown",
   "metadata": {},
   "source": [
    "Let's pick the category to interogate."
   ]
  },
  {
   "cell_type": "code",
   "execution_count": null,
   "metadata": {
    "collapsed": true
   },
   "outputs": [],
   "source": [
    "group_name = 'TYPES_OF_PLANTS'\n",
    "metric = 'unweighted_unifrac'"
   ]
  },
  {
   "cell_type": "markdown",
   "metadata": {},
   "source": [
    "We're going to clean up the data. "
   ]
  },
  {
   "cell_type": "code",
   "execution_count": null,
   "metadata": {
    "collapsed": false
   },
   "outputs": [],
   "source": [
    "question = ag_dictionary(group_name)\n",
    "fecal_data.clean_group(question)\n",
    "fecal_data.filter_by_question(question)"
   ]
  },
  {
   "cell_type": "markdown",
   "metadata": {},
   "source": [
    "Now that we have the data loaded, let's use a post-hoc test to evaluate comparisons between groups. For now, we're going to use the QIIME script, [`make_distance_boxplots.py`](http://qiime.org/scripts/make_distance_boxplots.html)."
   ]
  },
  {
   "cell_type": "code",
   "execution_count": null,
   "metadata": {
    "collapsed": false
   },
   "outputs": [],
   "source": [
    "if not os.path.exists(os.path.join(test_dir, '%s_Stats.txt' % question.name)):\n",
    "    map_fp = fecal_data.map_fp\n",
    "    dm_fp = fecal_data.beta_fp[metric]\n",
    "    !make_distance_boxplots.py -o $test_dir -m $map_fp -d $dm_fp -f $group_name -n 999"
   ]
  },
  {
   "cell_type": "code",
   "execution_count": null,
   "metadata": {
    "collapsed": false
   },
   "outputs": [],
   "source": [
    "distance_summary = pd.read_csv(os.path.join(test_dir, '%s_Stats.txt') % question.name,\n",
    "                               sep='\\t',\n",
    "                               skiprows=7)"
   ]
  },
  {
   "cell_type": "markdown",
   "metadata": {},
   "source": [
    "We can use the generated data to make distance plots to compare the groups. The plots are not necessarily a standard representation. Here, we're comparing the within-group distance, given by the "
   ]
  },
  {
   "cell_type": "code",
   "execution_count": null,
   "metadata": {
    "collapsed": false
   },
   "outputs": [],
   "source": [
    "beta_ax = div.beta_diversity_bars(fecal_data.beta[metric],\n",
    "                                  fecal_data.map_, \n",
    "                                  question.name, \n",
    "                                  order=question.order, \n",
    "                                  num_iter=999,\n",
    "                                  colormap='Greens',\n",
    "                                  p_table=distance_summary,\n",
    "                                  p_tab_col='Nonparametric p-value',\n",
    "                                  ylim=[0.5, 1.0],\n",
    "                                  ylabel='Unweighted UniFrac Distance',\n",
    "                                  xlabel=question.clean_name,\n",
    "                                  ref_less=True\n",
    "                                 )\n",
    "beta_ax.set_position((0.2, 0.2, len(question.order) * 0.15, 0.75))\n",
    "beta_ax.figure.savefig(os.path.join(fig_dir, '%s_bars.pdf' % question.name), dpi=300)"
   ]
  }
 ],
 "metadata": {
  "kernelspec": {
   "display_name": "Python 2",
   "language": "python",
   "name": "python2"
  },
  "language_info": {
   "codemirror_mode": {
    "name": "ipython",
    "version": 2
   },
   "file_extension": ".py",
   "mimetype": "text/x-python",
   "name": "python",
   "nbconvert_exporter": "python",
   "pygments_lexer": "ipython2",
   "version": "2.7.11"
  }
 },
 "nbformat": 4,
 "nbformat_minor": 0
}
