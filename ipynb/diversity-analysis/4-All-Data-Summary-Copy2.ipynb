{
 "cells": [
  {
   "cell_type": "markdown",
   "metadata": {},
   "source": [
    "We'll start our microbiome analysis by doing a high-level overview of the categories of interest. This will let us determine what categories it might be interesting to pursue."
   ]
  },
  {
   "cell_type": "code",
   "execution_count": 1,
   "metadata": {
    "collapsed": false
   },
   "outputs": [
    {
     "name": "stderr",
     "output_type": "stream",
     "text": [
      "/Users/jwdebelius/anaconda/envs/americangut/lib/python2.7/site-packages/matplotlib/__init__.py:872: UserWarning: axes.color_cycle is deprecated and replaced with axes.prop_cycle; please use the latter.\n",
      "  warnings.warn(self.msg_depr % (key, alt_key))\n"
     ]
    }
   ],
   "source": [
    "import os\n",
    "import pickle\n",
    "\n",
    "import numpy as np\n",
    "import pandas as pd\n",
    "import scipy\n",
    "import skbio\n",
    "import seaborn as sn\n",
    "import matplotlib.pyplot as plt\n",
    "from skbio.stats.power import subsample_power, confidence_bound\n",
    "\n",
    "import americangut.ag_dictionary as agdic\n",
    "from americangut.ag_data import AgData\n",
    "import americangut.notebook_environment as agenv\n",
    "import americangut.power_plots as agpp"
   ]
  },
  {
   "cell_type": "markdown",
   "metadata": {},
   "source": [
    "We'll start by selecting the dataset we plan to use. We need to pick a bodysite, or location "
   ]
  },
  {
   "cell_type": "code",
   "execution_count": 9,
   "metadata": {
    "collapsed": true
   },
   "outputs": [],
   "source": [
    "bodysite = 'fecal'\n",
    "sequence_trim = '100nt'\n",
    "rarefaction_depth = '10k'\n",
    "\n",
    "use_subset = True\n",
    "use_one_sample = True"
   ]
  },
  {
   "cell_type": "markdown",
   "metadata": {},
   "source": [
    "Next, we'll load the data, and remove outliers."
   ]
  },
  {
   "cell_type": "code",
   "execution_count": 10,
   "metadata": {
    "collapsed": true
   },
   "outputs": [],
   "source": [
    "data = AgData(bodysite=bodysite, \n",
    "              trim=sequence_trim, \n",
    "              depth=rarefaction_depth, \n",
    "              sub_participants=use_subset, \n",
    "              one_sample=use_one_sample)"
   ]
  },
  {
   "cell_type": "markdown",
   "metadata": {},
   "source": [
    "We'll also pick a metric to examine. This can be an alpha diveristy metric or a beta diversity metric. We'll also pick a function. If the metric selected is an alpha diversity metric (i.e. `PD_whole_tree_10k`, `shannon_10k`, `chao1_1k`), the test should be an alpha diversity test. A default alpha diversity test can be found in `americangut.power_plots.ag_alpha_test`. If the metric selected is a beta diversity metric (i.e. `unweighted_unifrac`), the test should handle distance matrices. A default test is provided in `americangut.power_plots.ag_beta_test`."
   ]
  },
  {
   "cell_type": "code",
   "execution_count": 69,
   "metadata": {
    "collapsed": false
   },
   "outputs": [],
   "source": [
    "metric = 'unweighted_unifrac'\n",
    "test = agpp.ag_alpha_test"
   ]
  },
  {
   "cell_type": "markdown",
   "metadata": {},
   "source": [
    "Next, let's set up a directory where we will save our results."
   ]
  },
  {
   "cell_type": "code",
   "execution_count": 16,
   "metadata": {
    "collapsed": false
   },
   "outputs": [],
   "source": [
    "save_dir = agenv.check_save_dir(data.data_set)\n",
    "summary_fp = os.path.join(save_dir, 'summary_%s.p' % metric)\n",
    "all_power_dir = os.path.join(save_dir, 'power/all/%s' % metric)\n",
    "ext_power_dir = os.path.join(save_dir, 'power/extreme/%s' % metric)\n",
    "agenv.check_dir(all_power_dir)\n",
    "agenv.check_dir(ext_power_dir)"
   ]
  },
  {
   "cell_type": "markdown",
   "metadata": {},
   "source": [
    "Next, let's write a quick function to summarize the data for all groups in the data."
   ]
  },
  {
   "cell_type": "code",
   "execution_count": 17,
   "metadata": {
    "collapsed": false
   },
   "outputs": [],
   "source": [
    "def generate_summary(question, data, test, metric):\n",
    "    \"\"\"Summarizes information about the results\"\"\"\n",
    "    results = {'name': question.name}\n",
    "    \n",
    "    # Gets the map, otu table and distance matrix for the question\n",
    "    data.reload_files()\n",
    "    data.drop_alpha_outliers()\n",
    "    data.drop_bmi_outliers()\n",
    "    data.clean_age()\n",
    "    data.clean_group(question)\n",
    "    if question.type == 'Clinical':\n",
    "        question.order = ['Yes', 'No']\n",
    "        question.extremes = ['Yes', 'No']\n",
    "    data.filter_by_question(question)\n",
    "    \n",
    "    # Identfies the samples within each group\n",
    "    grouped = data.map_.groupby(question.name).groups\n",
    "    group_ids = [grouped[o] for o in question.order]\n",
    "    extreme_ids = [grouped[o] for o in question.extremes]\n",
    "    \n",
    "    # Provides summary information\n",
    "    results['all_groups'] = question.order\n",
    "    results['all_size'] = [len(id_) for id_ in group_ids]\n",
    "    results['ext_groups'] = question.extremes\n",
    "    results['ext_size'] = [len(id_) for id_ in extreme_ids]\n",
    "\n",
    "    # Calculates the p value for all the samples\n",
    "    results['all_p_value'] = test(metric, question, data, group_ids,\n",
    "                                  permutations=999)\n",
    "    results['ext_p_value'] = test(metric, question, data, extreme_ids,\n",
    "                                  permutations=999)\n",
    "    \n",
    "    # Calculates statistical power or loads it from file\n",
    "    all_power_fp = os.path.join(all_power_dir, '%s.p') % question.name\n",
    "    ext_power_fp = os.path.join(ext_power_dir, '%s.p') % question.name\n",
    "    \n",
    "#     if not os.path.exists(all_power_fp):\n",
    "#         a_power, a_counts = subsample_power(\n",
    "#             test=lambda x: test(metric, question, data, x, permutations=99),\n",
    "#             samples=group_ids,\n",
    "#             min_counts=5,\n",
    "#             counts_interval=10,\n",
    "#             max_counts=60,\n",
    "#             num_runs=5,\n",
    "#             num_iter=500,\n",
    "#             )\n",
    "#         with open(os.path.join(all_power_fp), 'w') as f_:\n",
    "#             pickle.dump((question.name, question.order, metric, a_power, a_counts),\n",
    "#                         f_)\n",
    "#     else:\n",
    "    with open(os.path.join(all_power_fp), 'r') as f_:\n",
    "        (name, order, metric, a_power, a_counts) = pickle.load(f_)\n",
    "\n",
    "    # Calculates the effect size\n",
    "    a_eff = agpp.z_effect(a_counts, a_power)\n",
    "    if (a_power > 0.2).any():\n",
    "        results['all_effect_mean'] = a_eff.mean()\n",
    "        results['all_effect_ci'] = confidence_bound(a_eff)\n",
    "    else:\n",
    "        results['all_effect_mean'] = np.nan\n",
    "        results['all_effect_ci'] = np.nan\n",
    "        \n",
    "#     if not os.path.exists(ext_power_fp):\n",
    "#         e_power, e_counts = subsample_power(\n",
    "#             test=lambda x: test(metric, question, data, x, permutations=99),\n",
    "#             samples=extreme_ids,\n",
    "#             min_counts=5,\n",
    "#             counts_interval=10,\n",
    "#             max_counts=60,\n",
    "#             num_runs=5,\n",
    "#             num_iter=500,\n",
    "#             )\n",
    "#         with open(os.path.join(ext_power_fp), 'w') as f_:\n",
    "#             pickle.dump((question.name, question.order, metric, e_power, e_counts),\n",
    "#                         f_)\n",
    "#     else:\n",
    "    with open(os.path.join(ext_power_fp), 'r') as f_:\n",
    "        (name, order, metric, e_power, e_counts) = pickle.load(f_)\n",
    "\n",
    "    # Calculates the effect size\n",
    "    e_eff = agpp.z_effect(e_counts, e_power)\n",
    "    if (a_power > 0.2).any():\n",
    "        results['ext_effect_mean'] = e_eff.mean()\n",
    "        results['ext_effect_ci'] = confidence_bound(e_eff)\n",
    "    else:\n",
    "        results['ext_effect_mean'] = np.nan\n",
    "        results['ext_effect_ci'] = np.nan\n",
    "    \n",
    "    return results"
   ]
  },
  {
   "cell_type": "markdown",
   "metadata": {},
   "source": [
    "Now, let's apply that function to our data, and save the output."
   ]
  },
  {
   "cell_type": "code",
   "execution_count": 21,
   "metadata": {
    "collapsed": false
   },
   "outputs": [],
   "source": [
    "summary = []\n",
    "for name in sorted(agdic.dictionary.keys()):\n",
    "# for name in ['ANTIBIOTIC_HISTORY', 'BMI_CAT', 'IBD']:\n",
    "    if use_subset and name in {'ANTIBIOTIC_HISTORY', 'DIABETES', 'BMI_CAT', 'IBD'}:\n",
    "        continue\n",
    "    question = agdic.ag_dictionary(name)\n",
    "    if question.type == 'Continous':\n",
    "        continue\n",
    "    results = generate_summary(question, data, test, metric) \n",
    "    summary.append(results)"
   ]
  },
  {
   "cell_type": "markdown",
   "metadata": {
    "collapsed": true
   },
   "source": [
    "We'll look for categories that have clear effect sizes."
   ]
  },
  {
   "cell_type": "code",
   "execution_count": 20,
   "metadata": {
    "collapsed": false
   },
   "outputs": [],
   "source": [
    "summary_df = pd.DataFrame(summary).set_index('name')\n",
    "summary_df.to_csv('/Users/jwdebelius/Desktop/subset_%s.txt' % metric, sep='\\t', na_rep='NA')"
   ]
  },
  {
   "cell_type": "code",
   "execution_count": 72,
   "metadata": {
    "collapsed": false
   },
   "outputs": [],
   "source": [
    "summary_df = pd.read_csv('/Users/jwdebelius/Desktop/subset_%s.txt' % metric, \n",
    "                         sep='\\t', na_values='NA', index_col='name')"
   ]
  },
  {
   "cell_type": "code",
   "execution_count": 75,
   "metadata": {
    "collapsed": true
   },
   "outputs": [],
   "source": [
    "with open('/Users/jwdebelius/Desktop/ag_summary/subset/all_power/unweighted_unifrac/SLEEP_DURATION.p', 'r') as f_:\n",
    "    sleep = pickle.load(f_)"
   ]
  },
  {
   "cell_type": "code",
   "execution_count": 77,
   "metadata": {
    "collapsed": false
   },
   "outputs": [],
   "source": [
    "name, order, metric, power, counts = sleep"
   ]
  },
  {
   "cell_type": "code",
   "execution_count": 78,
   "metadata": {
    "collapsed": true
   },
   "outputs": [],
   "source": [
    "eff = agpp.z_effect(counts, power)"
   ]
  },
  {
   "cell_type": "code",
   "execution_count": 80,
   "metadata": {
    "collapsed": false
   },
   "outputs": [
    {
     "data": {
      "text/plain": [
       "0.16949458699514922"
      ]
     },
     "execution_count": 80,
     "metadata": {},
     "output_type": "execute_result"
    }
   ],
   "source": [
    "eff.mean()"
   ]
  },
  {
   "cell_type": "code",
   "execution_count": 81,
   "metadata": {
    "collapsed": true
   },
   "outputs": [],
   "source": [
    "summary_df.loc['SLEEP_DURATION', 'all_effect_mean'] = eff.mean()\n",
    "summary_df.loc['SLEEP_DURATION', 'all_effect_ci'] = confidence_bound(eff)"
   ]
  },
  {
   "cell_type": "markdown",
   "metadata": {
    "collapsed": false
   },
   "source": [
    "Finally, let's pick some of the categories to make a power curve."
   ]
  },
  {
   "cell_type": "code",
   "execution_count": 92,
   "metadata": {
    "collapsed": false
   },
   "outputs": [
    {
     "data": {
      "image/png": "[encoded data removed]",
      "text/plain": [
       "<matplotlib.figure.Figure at 0x117faa3d0>"
      ]
     },
     "metadata": {},
     "output_type": "display_data"
    }
   ],
   "source": [
    "% matplotlib inline\n",
    "\n",
    "from matplotlib import rcParams\n",
    "sn.set_style('ticks', {'axes.facecolor': 'none'})\n",
    "rcParams['font.family'] = 'sans-serif'\n",
    "rcParams['font.sans-serif'] = ['Helvetica', 'Arial']\n",
    "rcParams['text.usetex'] = True\n",
    "\n",
    "ax = plt.axes()\n",
    "\n",
    "predict = np.arange(5, 251, 4)\n",
    "\n",
    "# categories = ['AGE_CAT', 'BOWEL_MOVEMENT_QUALITY', 'SLEEP_DURATION', 'TYPES_OF_PLANTS', 'EXERCISE_FREQUENCY',\n",
    "#               'ANTIBIOTIC_HISTORY', 'IBD', 'BMI_CAT'\n",
    "#               ]\n",
    "\n",
    "categories = ['TYPES_OF_PLANTS', 'BOWEL_MOVEMENT_QUALITY', 'AGE_CAT', 'EXERCISE_FREQUENCY', # 'SLEEP_DURATION',\n",
    "              'CHICKENPOX', 'FLOSSING_FREQUENCY']\n",
    "\n",
    "colors = ['#66a61e', '#d95f02', '#1b9e77', '#7570b3', '#e7298a', '#e6ab02', '#a6761d']\n",
    "# colors = ['#1b9e77', '#d95f02', '#7570b3', '#66a61e', '#e7298a',\n",
    "#           '#e6ab02', '#a6761d', '#666666']\n",
    "#          ]\n",
    "markers = ['d', 's', 'o', '*', '>', 'p']\n",
    "#            '>', 'p', 'x'\n",
    "marker_size = [7, 7, 7, 10, 7, 7, 7\n",
    "#                7, 7, 7\n",
    "              ]\n",
    "\n",
    "lines = []\n",
    "wpoints = []\n",
    "for category, color, marker, ms in zip(*(categories, colors, markers, marker_size)):\n",
    "    power = agpp.z_power(predict, summary_df.loc[category, 'ext_effect_mean'])\n",
    "    lower = agpp.z_power(predict, summary_df.loc[category, 'ext_effect_mean'] - summary_df.loc[category, 'ext_effect_ci'])\n",
    "    upper = agpp.z_power(predict, summary_df.loc[category, 'ext_effect_mean'] + summary_df.loc[category, 'ext_effect_ci'])\n",
    "    points = np.array([np.min(np.arange(0, len(predict))[power > point])\n",
    "                       for point in [0.39, 0.59, 0.79, 0.99] if (power > point).any()])\n",
    "    ax.fill_between(predict,\n",
    "                    lower,\n",
    "                    upper,\n",
    "                    alpha=0.25,\n",
    "                    color=color,\n",
    "                    )\n",
    "    l = ax.plot(predict, power, color=color)\n",
    "#     lines.append(l[0])\n",
    "    p = ax.plot(predict[points], power[points], linestyle='None', marker=marker, color=color, ms=ms)\n",
    "    wpoints.append(p[0])\n",
    "\n",
    "sn.despine()\n",
    "\n",
    "\n",
    "# # # ax.legend(['Age', 'Feces firmness', 'Nightly Sleep', 'Number of Types of Plants consumed', 'Exercise Frequency'])\n",
    "# ax.legend(\n",
    "# #     lines, \n",
    "#     wpoints,\n",
    "# #     categories,\n",
    "#     ['Plants Consumed', 'Feces firmness', 'Age', 'Exercise Frequency', 'Nightly Sleep',],\n",
    "#     loc=4,\n",
    "#     fontsize=12\n",
    "#     )\n",
    "# ax.set_xticklabels(map(int, ax.get_xticks()), size=12)\n",
    "# ax.set_xlabel('Number of Samples per group', size=15)\n",
    "# ax.set_yticklabels(ax.get_yticks(), size=12)\n",
    "# ax.set_ylabel('Statistical Power', size=15)\n",
    "# ax.set_title('PD Whole Tree Diversity')\n",
    "\n",
    "# ax.figure.savefig('/Users/jwdebelius/Desktop/PD_whole_tree_sub10k.pdf', dpi=300)"
   ]
  },
  {
   "cell_type": "code",
   "execution_count": null,
   "metadata": {
    "collapsed": true
   },
   "outputs": [],
   "source": []
  }
 ],
 "metadata": {
  "kernelspec": {
   "display_name": "Python 2",
   "language": "python",
   "name": "python2"
  },
  "language_info": {
   "codemirror_mode": {
    "name": "ipython",
    "version": 2
   },
   "file_extension": ".py",
   "mimetype": "text/x-python",
   "name": "python",
   "nbconvert_exporter": "python",
   "pygments_lexer": "ipython2",
   "version": "2.7.11"
  }
 },
 "nbformat": 4,
 "nbformat_minor": 0
}
