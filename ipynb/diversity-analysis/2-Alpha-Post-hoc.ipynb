{
 "cells": [
  {
   "cell_type": "markdown",
   "metadata": {},
   "source": [
    "This notebook will let us examine alpha diversity for a category in depth. We're already summarized the alpha diveristy p values for all categories in a [previous notebook](). Here, we can do post-hoc testing and look at the alpha diversity values associated with a single category.\n",
    "\n",
    "Let's start by importing the modules and functions we'll need to the analysis."
   ]
  },
  {
   "cell_type": "code",
   "execution_count": 1,
   "metadata": {
    "collapsed": false
   },
   "outputs": [
    {
     "name": "stderr",
     "output_type": "stream",
     "text": [
      "/Users/jwdebelius/anaconda/envs/americangut/lib/python2.7/site-packages/matplotlib/__init__.py:872: UserWarning: axes.color_cycle is deprecated and replaced with axes.prop_cycle; please use the latter.\n",
      "  warnings.warn(self.msg_depr % (key, alt_key))\n"
     ]
    }
   ],
   "source": [
    "import matplotlib.pyplot as plt\n",
    "import numpy as np\n",
    "import pandas as pd\n",
    "import seaborn as sn\n",
    "import scipy.stats\n",
    "import skbio\n",
    "\n",
    "import americangut.diversity_analysis as div\n",
    "\n",
    "from americangut.ag_data import AgData\n",
    "from americangut.ag_data_dictionary import ag_data_dictionary"
   ]
  },
  {
   "cell_type": "code",
   "execution_count": 2,
   "metadata": {
    "collapsed": false
   },
   "outputs": [],
   "source": [
    "from matplotlib import rcParams\n",
    "\n",
    "% matplotlib inline\n",
    "\n",
    "# Formats the axes using seabron so they will be white, and have ticks\n",
    "# on the bottom of the axes.\n",
    "sn.set_style('ticks', {'axes.facecolor': 'none'})\n",
    "\n",
    "# Sets up plotting parameters so that the default setting is use to Helvetica\n",
    "# in plots\n",
    "rcParams['font.family'] = 'sans-serif'\n",
    "rcParams['font.sans-serif'] = ['Helvetica', 'Arial']\n",
    "rcParams['text.usetex'] = True"
   ]
  },
  {
   "cell_type": "markdown",
   "metadata": {},
   "source": [
    "Next, let's select the data set and rarefaction depth we wish to use."
   ]
  },
  {
   "cell_type": "code",
   "execution_count": 3,
   "metadata": {
    "collapsed": true
   },
   "outputs": [],
   "source": [
    "bodysite = 'fecal'\n",
    "sequence_trim = '100nt'\n",
    "rarefaction_depth = '10k'\n",
    "\n",
    "use_subset = True\n",
    "use_one_sample = True"
   ]
  },
  {
   "cell_type": "code",
   "execution_count": 4,
   "metadata": {
    "collapsed": false
   },
   "outputs": [],
   "source": [
    "fecal_data = AgData(bodysite=bodysite, \n",
    "                    trim=sequence_trim, \n",
    "                    depth=rarefaction_depth, \n",
    "                    sub_participants=use_subset, \n",
    "                    one_sample=use_one_sample)"
   ]
  },
  {
   "cell_type": "markdown",
   "metadata": {},
   "source": [
    "Finally, we can pick the alpha diversity metric, the category to interogate, and set and order, if one is relevant."
   ]
  },
  {
   "cell_type": "code",
   "execution_count": 37,
   "metadata": {
    "collapsed": true
   },
   "outputs": [],
   "source": [
    "metric = 'PD_whole_tree'\n",
    "\n",
    "group_name = 'WEIGHT_CHANGE'"
   ]
  },
  {
   "cell_type": "markdown",
   "metadata": {},
   "source": [
    "Now, let's read the files assoicated with the data and load the data dictionary entry for the group."
   ]
  },
  {
   "cell_type": "code",
   "execution_count": 38,
   "metadata": {
    "collapsed": true
   },
   "outputs": [],
   "source": [
    "group = ag_data_dictionary[group_name]"
   ]
  },
  {
   "cell_type": "markdown",
   "metadata": {},
   "source": [
    "We're going to start by cleaning up the data. So, let's remove any samples that might be outliers (in rounds 1-21, there is a sample with alpha diveristy seven standard deivations above the mean and 4 standard deviations about the next highest sample).\n",
    "\n",
    "We'll also clean up the mapping column as needed, to make analsyis easier."
   ]
  },
  {
   "cell_type": "code",
   "execution_count": 39,
   "metadata": {
    "collapsed": false
   },
   "outputs": [],
   "source": [
    "\n",
    "fecal_data.drop_alpha_outliers()\n",
    "fecal_data.clean_up_column(group)"
   ]
  },
  {
   "cell_type": "markdown",
   "metadata": {},
   "source": [
    "Now that we have the data loaded, let's plot it."
   ]
  },
  {
   "cell_type": "code",
   "execution_count": 43,
   "metadata": {
    "collapsed": false
   },
   "outputs": [
    {
     "data": {
      "image/png": "[encoded data removed]",
      "text/plain": [
       "<matplotlib.figure.Figure at 0x11cdc3e90>"
      ]
     },
     "metadata": {},
     "output_type": "display_data"
    }
   ],
   "source": [
    "ax = div.pretty_pandas_boxplot(meta=fecal_data.map_,\n",
    "                               group=group.name,\n",
    "                               metric='%s_%s' % (metric, rarefaction_depth),\n",
    "                               order=group.order,\n",
    "                               bw=True,\n",
    "                               ylim=[5, 55],\n",
    "                               xlabel=group.clean_name,\n",
    "                               xticklabels=group.order,\n",
    "                               ylabel='PD Whole Tree Diversity',\n",
    "                               show_p=True,\n",
    "                               )\n",
    "ax.set_position((0.2, 0.2, 0.12*len(group.order), 0.75))\n",
    "fig = ax.figure\n",
    "fig.savefig('/Users/jwdebelius/Desktop/ag_images/alpha/images/%s_subset.pdf' % group.name)"
   ]
  },
  {
   "cell_type": "markdown",
   "metadata": {},
   "source": [
    "We can also examine significant differences using a post-hoc test to see what drives these differences."
   ]
  },
  {
   "cell_type": "code",
   "execution_count": 44,
   "metadata": {
    "collapsed": false
   },
   "outputs": [
    {
     "data": {
      "text/html": [
       "<div>\n",
       "<table border=\"1\" class=\"dataframe\">\n",
       "  <thead>\n",
       "    <tr style=\"text-align: right;\">\n",
       "      <th></th>\n",
       "      <th>Counts</th>\n",
       "      <th>Mean</th>\n",
       "      <th>Median</th>\n",
       "      <th>Stdv</th>\n",
       "      <th>Increased more than 10 pounds</th>\n",
       "      <th>Decreased more than 10 pounds</th>\n",
       "    </tr>\n",
       "    <tr>\n",
       "      <th>WEIGHT_CHANGE</th>\n",
       "      <th></th>\n",
       "      <th></th>\n",
       "      <th></th>\n",
       "      <th></th>\n",
       "      <th></th>\n",
       "      <th></th>\n",
       "    </tr>\n",
       "  </thead>\n",
       "  <tbody>\n",
       "    <tr>\n",
       "      <th>Increased more than 10 pounds</th>\n",
       "      <td>76</td>\n",
       "      <td>31.715805</td>\n",
       "      <td>31.292436</td>\n",
       "      <td>5.434040</td>\n",
       "      <td>NaN</td>\n",
       "      <td>NaN</td>\n",
       "    </tr>\n",
       "    <tr>\n",
       "      <th>Decreased more than 10 pounds</th>\n",
       "      <td>120</td>\n",
       "      <td>31.046119</td>\n",
       "      <td>31.455573</td>\n",
       "      <td>5.615780</td>\n",
       "      <td>1.000000</td>\n",
       "      <td>NaN</td>\n",
       "    </tr>\n",
       "    <tr>\n",
       "      <th>Remained stable</th>\n",
       "      <td>1381</td>\n",
       "      <td>32.515601</td>\n",
       "      <td>32.431556</td>\n",
       "      <td>5.858638</td>\n",
       "      <td>0.719965</td>\n",
       "      <td>0.053744</td>\n",
       "    </tr>\n",
       "  </tbody>\n",
       "</table>\n",
       "</div>"
      ],
      "text/plain": [
       "                               Counts       Mean     Median      Stdv  \\\n",
       "WEIGHT_CHANGE                                                           \n",
       "Increased more than 10 pounds      76  31.715805  31.292436  5.434040   \n",
       "Decreased more than 10 pounds     120  31.046119  31.455573  5.615780   \n",
       "Remained stable                  1381  32.515601  32.431556  5.858638   \n",
       "\n",
       "                               Increased more than 10 pounds  \\\n",
       "WEIGHT_CHANGE                                                  \n",
       "Increased more than 10 pounds                            NaN   \n",
       "Decreased more than 10 pounds                       1.000000   \n",
       "Remained stable                                     0.719965   \n",
       "\n",
       "                               Decreased more than 10 pounds  \n",
       "WEIGHT_CHANGE                                                 \n",
       "Increased more than 10 pounds                            NaN  \n",
       "Decreased more than 10 pounds                            NaN  \n",
       "Remained stable                                     0.053744  "
      ]
     },
     "execution_count": 44,
     "metadata": {},
     "output_type": "execute_result"
    }
   ],
   "source": [
    "post_hoc = div.post_hoc_pandas(meta=fecal_data.map_,\n",
    "                    group=group.name,\n",
    "                    cat='%s_%s'% (metric, rarefaction_depth),\n",
    "                    order=group.order,\n",
    "                    correct='bonferroni',\n",
    "                   )\n",
    "post_hoc.to_csv('/Users/jwdebelius/Desktop/ag_images/alpha/summary/%s_subset.txt' % group.name,\n",
    "                sep='\\t')\n",
    "post_hoc"
   ]
  },
  {
   "cell_type": "code",
   "execution_count": null,
   "metadata": {
    "collapsed": true
   },
   "outputs": [],
   "source": []
  }
 ],
 "metadata": {
  "kernelspec": {
   "display_name": "Python 2",
   "language": "python",
   "name": "python2"
  },
  "language_info": {
   "codemirror_mode": {
    "name": "ipython",
    "version": 2
   },
   "file_extension": ".py",
   "mimetype": "text/x-python",
   "name": "python",
   "nbconvert_exporter": "python",
   "pygments_lexer": "ipython2",
   "version": "2.7.11"
  }
 },
 "nbformat": 4,
 "nbformat_minor": 0
}
