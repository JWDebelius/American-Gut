{
 "cells": [
  {
   "cell_type": "markdown",
   "metadata": {},
   "source": [
    "The goal of this notebook is to provide demographic summaries for participants in the American Gut and assoicated projects. We look at metadata, and summarize the avaliable information.\n",
    "\n",
    "The information generated here will be used for tables 1 of the American Gut paper.\n",
    "\n",
    "We'll start by importing the necessary libraries."
   ]
  },
  {
   "cell_type": "code",
   "execution_count": 1,
   "metadata": {
    "collapsed": false
   },
   "outputs": [],
   "source": [
    "import matplotlib\n",
    "matplotlib.use('Agg')"
   ]
  },
  {
   "cell_type": "code",
   "execution_count": 2,
   "metadata": {
    "collapsed": false
   },
   "outputs": [],
   "source": [
    "import os\n",
    "\n",
    "import numpy as np\n",
    "import pandas as pd\n",
    "\n",
    "# import util as agu"
   ]
  },
  {
   "cell_type": "markdown",
   "metadata": {},
   "source": [
    "Next, we're going to locate the mapping file and raw OTU table."
   ]
  },
  {
   "cell_type": "code",
   "execution_count": 3,
   "metadata": {
    "collapsed": false
   },
   "outputs": [],
   "source": [
    "processing_dir = os.path.abspath('../primary-processing/agp_processing/')\n",
    "map_fp = os.path.join(processing_dir, '01-raw/metadata.txt')\n",
    "otu_fp = os.path.join(processing_dir, '03-otus/100nt/gg-13_8-97-percent/otu_table.biom')"
   ]
  },
  {
   "cell_type": "markdown",
   "metadata": {},
   "source": [
    "We'll start by reading in the mapping file."
   ]
  },
  {
   "cell_type": "code",
   "execution_count": 4,
   "metadata": {
    "collapsed": false
   },
   "outputs": [],
   "source": [
    "md = pd.read_csv(map_fp, sep='\\t', dtype=str, na_values=['NA', 'no_data', 'unknown', 'Unspecified', 'Unknown'])\n",
    "md.set_index('#SampleID', inplace=True)"
   ]
  },
  {
   "cell_type": "markdown",
   "metadata": {},
   "source": [
    "We're also going to calculate the number of sequences per sample, and add that to our mapping file."
   ]
  },
  {
   "cell_type": "code",
   "execution_count": 5,
   "metadata": {
    "collapsed": true
   },
   "outputs": [],
   "source": [
    "otu_summary = !biom summarize-table -i $otu_fp\n",
    "seq_depth = pd.DataFrame(np.array([l.split(': ') for l in otu_summary[15:]]), columns=['#SampleID', 'counts'])\n",
    "seq_depth.set_index('#SampleID', inplace=True)\n",
    "\n",
    "md['count'] = seq_depth"
   ]
  },
  {
   "cell_type": "markdown",
   "metadata": {},
   "source": [
    "Now, let's start to build the first table. To do this, we'll define the counts from the Human Microbiome Project [[PMID: 22699609](http://www.ncbi.nlm.nih.gov/pubmed/22699609)]. The Human Microbiome Project looked at samples across 16 to 18 bodysites in a small number of healthy adults."
   ]
  },
  {
   "cell_type": "code",
   "execution_count": 6,
   "metadata": {
    "collapsed": false
   },
   "outputs": [],
   "source": [
    "hmp_counts = pd.DataFrame([[ 365, 230],\n",
    "                           [1367, 238],\n",
    "                           [3316, 234],\n",
    "                           [ 482, 109],\n",
    "                           [ 339, 221],\n",
    "                           [   0,   0],\n",
    "                           [np.nan, np.nan]\n",
    "                          ],\n",
    "                          index=['Feces', 'Skin', 'Oral', 'Vagina', 'Nose', 'Hair', 'Blank'],\n",
    "                          columns=['HMP Samples', 'HMP Participants'])"
   ]
  },
  {
   "cell_type": "markdown",
   "metadata": {},
   "source": [
    "Now, we'll do the same calculation for the American Gut Project. \n",
    "\n",
    "We'll use the field, `BODY_HABITAT` to identify where the sample was collected. We'll also infer that if no value is suppled for `BODY_HABITAT`, then we will assume it's a blank. We'll use a helper function to rename the values in `BODY_HABITAT` so the look clean."
   ]
  },
  {
   "cell_type": "code",
   "execution_count": 7,
   "metadata": {
    "collapsed": true
   },
   "outputs": [],
   "source": [
    "def habitat_clean(x):\n",
    "    if x == 'None':\n",
    "        return 'Blank'\n",
    "    elif pd.isnull(x):\n",
    "        raise ValueError('The Bodysite must be define!')\n",
    "    else:\n",
    "        return x.split(' ')[0].replace('UBERON:', '').title()\n",
    "    \n",
    "md['BODY_HABITAT'] = md['BODY_HABITAT'].apply(habitat_clean)"
   ]
  },
  {
   "cell_type": "code",
   "execution_count": 8,
   "metadata": {
    "collapsed": false
   },
   "outputs": [],
   "source": [
    "ag_samples = md.groupby('BODY_HABITAT').count().max(1)"
   ]
  },
  {
   "cell_type": "markdown",
   "metadata": {},
   "source": [
    "Now, we're going to group each bodysite by the number of participants."
   ]
  },
  {
   "cell_type": "code",
   "execution_count": 9,
   "metadata": {
    "collapsed": false
   },
   "outputs": [],
   "source": [
    "ag_participants = pd.DataFrame.from_dict(\n",
    "    {site: {'AGP Partipants': len(md[md['BODY_HABITAT'] == site].groupby('HOST_SUBJECT_ID').groups),\n",
    "            'AGP Samples': len(md[md['BODY_HABITAT'] == site])} \n",
    "    for site in set(md['BODY_HABITAT'])}, orient='index')"
   ]
  },
  {
   "cell_type": "markdown",
   "metadata": {},
   "source": [
    "Now that we've built the tables, let's merge them."
   ]
  },
  {
   "cell_type": "code",
   "execution_count": 10,
   "metadata": {
    "collapsed": false
   },
   "outputs": [
    {
     "data": {
      "text/html": [
       "<div>\n",
       "<table border=\"1\" class=\"dataframe\">\n",
       "  <thead>\n",
       "    <tr style=\"text-align: right;\">\n",
       "      <th></th>\n",
       "      <th>AGP Partipants</th>\n",
       "      <th>AGP Samples</th>\n",
       "      <th>HMP Samples</th>\n",
       "      <th>HMP Participants</th>\n",
       "    </tr>\n",
       "  </thead>\n",
       "  <tbody>\n",
       "    <tr>\n",
       "      <th>Blank</th>\n",
       "      <td>NaN</td>\n",
       "      <td>687</td>\n",
       "      <td>NaN</td>\n",
       "      <td>NaN</td>\n",
       "    </tr>\n",
       "    <tr>\n",
       "      <th>Feces</th>\n",
       "      <td>5380</td>\n",
       "      <td>5952</td>\n",
       "      <td>365</td>\n",
       "      <td>230</td>\n",
       "    </tr>\n",
       "    <tr>\n",
       "      <th>Hair</th>\n",
       "      <td>5</td>\n",
       "      <td>5</td>\n",
       "      <td>0</td>\n",
       "      <td>0</td>\n",
       "    </tr>\n",
       "    <tr>\n",
       "      <th>Nose</th>\n",
       "      <td>7</td>\n",
       "      <td>7</td>\n",
       "      <td>339</td>\n",
       "      <td>221</td>\n",
       "    </tr>\n",
       "    <tr>\n",
       "      <th>Oral</th>\n",
       "      <td>436</td>\n",
       "      <td>477</td>\n",
       "      <td>3316</td>\n",
       "      <td>234</td>\n",
       "    </tr>\n",
       "    <tr>\n",
       "      <th>Skin</th>\n",
       "      <td>165</td>\n",
       "      <td>337</td>\n",
       "      <td>1367</td>\n",
       "      <td>238</td>\n",
       "    </tr>\n",
       "    <tr>\n",
       "      <th>Vagina</th>\n",
       "      <td>13</td>\n",
       "      <td>15</td>\n",
       "      <td>482</td>\n",
       "      <td>109</td>\n",
       "    </tr>\n",
       "  </tbody>\n",
       "</table>\n",
       "</div>"
      ],
      "text/plain": [
       "        AGP Partipants  AGP Samples  HMP Samples  HMP Participants\n",
       "Blank              NaN          687          NaN               NaN\n",
       "Feces             5380         5952          365               230\n",
       "Hair                 5            5            0                 0\n",
       "Nose                 7            7          339               221\n",
       "Oral               436          477         3316               234\n",
       "Skin               165          337         1367               238\n",
       "Vagina              13           15          482               109"
      ]
     },
     "execution_count": 10,
     "metadata": {},
     "output_type": "execute_result"
    }
   ],
   "source": [
    "ag_participants.loc['Blank', 'AGP Partipants'] = np.nan\n",
    "ag_participants.join(hmp_counts)"
   ]
  }
 ],
 "metadata": {
  "kernelspec": {
   "display_name": "Python 2",
   "language": "python",
   "name": "python2"
  },
  "language_info": {
   "codemirror_mode": {
    "name": "ipython",
    "version": 2
   },
   "file_extension": ".py",
   "mimetype": "text/x-python",
   "name": "python",
   "nbconvert_exporter": "python",
   "pygments_lexer": "ipython2",
   "version": "2.7.5"
  }
 },
 "nbformat": 4,
 "nbformat_minor": 0
}
