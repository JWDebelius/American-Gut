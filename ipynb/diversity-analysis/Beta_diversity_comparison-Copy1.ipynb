{
 "cells": [
  {
   "cell_type": "code",
   "execution_count": 1,
   "metadata": {
    "collapsed": false
   },
   "outputs": [
    {
     "name": "stderr",
     "output_type": "stream",
     "text": [
      "/Users/jwdebelius/anaconda/envs/americangut/lib/python2.7/site-packages/matplotlib/__init__.py:872: UserWarning: axes.color_cycle is deprecated and replaced with axes.prop_cycle; please use the latter.\n",
      "  warnings.warn(self.msg_depr % (key, alt_key))\n"
     ]
    }
   ],
   "source": [
    "import copy\n",
    "\n",
    "import numpy as np\n",
    "import pandas as pd\n",
    "from matplotlib import rcParams\n",
    "import matplotlib.pyplot as plt\n",
    "import skbio\n",
    "import seaborn as sn\n",
    "\n",
    "import americangut.notebook_environment as agenv\n",
    "import americangut.util as agu"
   ]
  },
  {
   "cell_type": "code",
   "execution_count": 2,
   "metadata": {
    "collapsed": false
   },
   "outputs": [],
   "source": [
    "% matplotlib inline\n",
    "\n",
    "# Formats the axes using seabron so they will be white, and have ticks\n",
    "# on the bottom of the axes.\n",
    "sn.set_style('ticks', {'axes.facecolor': 'none'})\n",
    "\n",
    "# Sets up plotting parameters so that the default setting is use to Helvetica\n",
    "# in plots\n",
    "rcParams['font.family'] = 'sans-serif'\n",
    "rcParams['font.sans-serif'] = ['Helvetica', 'Arial']\n",
    "rcParams['text.usetex'] = True"
   ]
  },
  {
   "cell_type": "code",
   "execution_count": 3,
   "metadata": {
    "collapsed": false
   },
   "outputs": [],
   "source": [
    "beta_fp = agu.get_existing_path(agenv.paths['beta']['100nt']['1k']['ag-pgp-hmp-gg-wunifrac'])\n",
    "\n",
    "agp_map_fp = agu.get_existing_path(agenv.paths['meta']['ag-cleaned-md'])\n",
    "hmp_map_fp = agu.get_existing_path(agenv.paths['meta']['hmp-cleaned-md'])"
   ]
  },
  {
   "cell_type": "code",
   "execution_count": 4,
   "metadata": {
    "collapsed": false
   },
   "outputs": [],
   "source": [
    "all_dm = skbio.DistanceMatrix.read(beta_fp)\n",
    "\n",
    "agp_map = pd.read_csv(agp_map_fp, sep='\\t', dtype=str, na_values=['unknown', 'no_data'])\n",
    "agp_map.set_index('#SampleID', inplace=True)\n",
    "\n",
    "hmp_map = pd.read_csv(hmp_map_fp, sep='\\t', dtype=str, na_values=['unknown', 'no_data'])\n",
    "hmp_map.set_index('#SampleID', inplace=True)"
   ]
  },
  {
   "cell_type": "code",
   "execution_count": 5,
   "metadata": {
    "collapsed": false
   },
   "outputs": [],
   "source": [
    "agp_ids = set(agp_map.loc[agp_map.SIMPLE_BODY_SITE == 'FECAL'].index).intersection(set(all_dm.ids))\n",
    "hmp_ids = set(hmp_map.loc[hmp_map.SIMPLE_BODY_SITE == 'FECAL'].index).intersection(set(all_dm.ids))"
   ]
  },
  {
   "cell_type": "code",
   "execution_count": 6,
   "metadata": {
    "collapsed": false
   },
   "outputs": [
    {
     "data": {
      "text/plain": [
       "SIMPLE_BODY_SITE\n",
       "FECAL     402\n",
       "ORAL     3497\n",
       "SKIN     2343\n",
       "dtype: int64"
      ]
     },
     "execution_count": 6,
     "metadata": {},
     "output_type": "execute_result"
    }
   ],
   "source": [
    "hmp_map.groupby('SIMPLE_BODY_SITE').count().max(1)"
   ]
  },
  {
   "cell_type": "code",
   "execution_count": 7,
   "metadata": {
    "collapsed": false
   },
   "outputs": [],
   "source": [
    "agp = copy.copy(all_dm).filter(agp_ids)\n",
    "hmp = copy.copy(all_dm).filter(hmp_ids)"
   ]
  },
  {
   "cell_type": "code",
   "execution_count": 8,
   "metadata": {
    "collapsed": true
   },
   "outputs": [],
   "source": [
    "num_iter = 100\n",
    "iterations = 10"
   ]
  },
  {
   "cell_type": "code",
   "execution_count": 9,
   "metadata": {
    "collapsed": false
   },
   "outputs": [
    {
     "name": "stdout",
     "output_type": "stream",
     "text": [
      "5667\n",
      "388\n"
     ]
    }
   ],
   "source": [
    "results = {}\n",
    "for name, dm in zip(*(['AGP', 'HMP'], [agp, hmp])):\n",
    "    samples = dm.ids\n",
    "    mask = np.ones(dm.shape)\n",
    "    \n",
    "    num_possible = len(samples)\n",
    "    print num_possible\n",
    "    depths = np.arange(2, num_possible, 3)\n",
    "    min_dist = np.zeros((num_iter, len(depths)))\n",
    "\n",
    "    for idx, iteration in enumerate(range(iterations)):\n",
    "        for idy, depth in enumerate(depths):\n",
    "            sub = np.random.choice(samples, depth, replace=False)\n",
    "            dists = dm.filter(sub).condensed_form()\n",
    "            min_dist[idx, idy] = np.min(dists)\n",
    "    \n",
    "    results[name] = min_dist"
   ]
  },
  {
   "cell_type": "code",
   "execution_count": 44,
   "metadata": {
    "collapsed": false
   },
   "outputs": [
    {
     "data": {
      "text/plain": [
       "[<matplotlib.lines.Line2D at 0x1224c7910>]"
      ]
     },
     "execution_count": 44,
     "metadata": {},
     "output_type": "execute_result"
    },
    {
     "data": {
      "image/png": "[encoded data removed]",
      "text/plain": [
       "<matplotlib.figure.Figure at 0x1224c7190>"
      ]
     },
     "metadata": {},
     "output_type": "display_data"
    }
   ],
   "source": [
    "plt.fill_between(depths, min_dist.mean(0) - min_dist.std(0), min_dist.mean(0) + min_dist.std(0), alpha=0.25)\n",
    "plt.plot(depths, min_dist.mean(0))"
   ]
  },
  {
   "cell_type": "code",
   "execution_count": null,
   "metadata": {
    "collapsed": true
   },
   "outputs": [],
   "source": [
    "agp.condensed_form()"
   ]
  }
 ],
 "metadata": {
  "kernelspec": {
   "display_name": "Python 2",
   "language": "python",
   "name": "python2"
  },
  "language_info": {
   "codemirror_mode": {
    "name": "ipython",
    "version": 2
   },
   "file_extension": ".py",
   "mimetype": "text/x-python",
   "name": "python",
   "nbconvert_exporter": "python",
   "pygments_lexer": "ipython2",
   "version": "2.7.11"
  }
 },
 "nbformat": 4,
 "nbformat_minor": 0
}
