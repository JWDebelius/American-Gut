{
 "cells": [
  {
   "cell_type": "code",
   "execution_count": 2,
   "metadata": {
    "collapsed": false
   },
   "outputs": [
    {
     "name": "stderr",
     "output_type": "stream",
     "text": [
      "/Users/jwdebelius/anaconda/envs/americangut/lib/python2.7/site-packages/matplotlib/__init__.py:872: UserWarning: axes.color_cycle is deprecated and replaced with axes.prop_cycle; please use the latter.\n",
      "  warnings.warn(self.msg_depr % (key, alt_key))\n"
     ]
    }
   ],
   "source": [
    "import os\n",
    "import numpy as np\n",
    "import pandas as pd\n",
    "\n",
    "import seaborn as sn\n",
    "\n",
    "% matplotlib inline"
   ]
  },
  {
   "cell_type": "code",
   "execution_count": 6,
   "metadata": {
    "collapsed": false
   },
   "outputs": [],
   "source": [
    "data_dir = os.path.abspath('../primary-processing/agp_processing/')\n",
    "map_fp = os.path.join(data_dir, '01-raw/raw-metadata.txt')\n",
    "otu_fp = os.path.join(data_dir, '03-otus/100nt/gg-13_8-97-percent/otu_table_r1_21.biom')\n"
   ]
  },
  {
   "cell_type": "code",
   "execution_count": 7,
   "metadata": {
    "collapsed": false
   },
   "outputs": [],
   "source": [
    "md = pd.read_csv(map_fp,\n",
    "                   sep='\\t',\n",
    "                   dtype=str,\n",
    "                   na_values=['NA', 'unknown', '', 'no_data', 'None', 'Unknown'],\n",
    "                   )\n",
    "md.set_index('#SampleID', inplace=True)"
   ]
  },
  {
   "cell_type": "code",
   "execution_count": 8,
   "metadata": {
    "collapsed": false
   },
   "outputs": [],
   "source": [
    "count_summary = !biom summarize-table -i $otu_fp\n",
    "\n",
    "count_summary = pd.DataFrame([s.split(': ') for s in count_summary[15:]], columns=['#SampleID', 'counts'])\n",
    "count_summary.set_index('#SampleID', inplace=True)\n",
    "count_summary['counts'] = count_summary['counts'].astype(float)\n",
    "\n",
    "md = md.join(count_summary)"
   ]
  },
  {
   "cell_type": "code",
   "execution_count": 19,
   "metadata": {
    "collapsed": false
   },
   "outputs": [],
   "source": [
    "# remap the variety of responses in the fields, and reduce to simpler responses. \n",
    "\n",
    "from functools import partial\n",
    "def mapper(mapping, value):\n",
    "    return mapping.get(value, value)\n",
    "\n",
    "diabetes_values_fix = {'I do not have this condition': 'I do not have diabetes',\n",
    "                       'Diagnosed by a medical professional (doctor, physician assistant)': 'I have diabetes',\n",
    "                       'Diagnosed by an alternative medicine practitioner': 'I have diabetes',\n",
    "                       'Type I': 'I have diabetes',\n",
    "                       'Type II': 'I have diabetes',\n",
    "                       'Self-diagnosed': 'I have diabetes'}\n",
    "\n",
    "ibd_values_fix = {\"Crohn's disease\": \"I have an IBD\",\n",
    "                  \"Diagnosed by a medical professional (doctor, physician assistant)\": \"I have an IBD\",\n",
    "                  \"Diagnosed by an alternative medicine practitioner\": \"I have an IBD\",\n",
    "                  \"I do not have this condition\": \"I do not have an IBD\",\n",
    "                  \"I do not have IBD\": \"I do not have an IBD\",\n",
    "                  \"Ulcerative colitis\": \"I have an IBD\",\n",
    "                  \"Self-diagnosed\": \"I have an IBD\"}\n",
    "\n",
    "smoking_values_fix = {'Daily': 'I smoke',\n",
    "                      'Never': 'I do not smoke',\n",
    "                      'Occasionally (1-2 times/week)': 'I smoke',\n",
    "                      'Rarely (a few times/month)': 'I smoke',\n",
    "                      'Rarely (few times/month)': 'I smoke',\n",
    "                      'Regularly (3-5 times/week)': 'I smoke'}\n",
    "\n",
    "diabetes_map = partial(mapper, diabetes_values_fix)\n",
    "ibd_map = partial(mapper, ibd_values_fix)\n",
    "smoke_map = partial(mapper, smoking_values_fix)\n",
    "\n",
    "md['DIABETES'] = md['DIABETES'].apply(diabetes_map)\n",
    "md['IBD'] = md['IBD'].apply(ibd_map)\n",
    "md['SMOKING_FREQUENCY'] = md['SMOKING_FREQUENCY'].apply(smoke_map)"
   ]
  },
  {
   "cell_type": "markdown",
   "metadata": {},
   "source": [
    "We're going to look at participants who submitted at least one sample."
   ]
  },
  {
   "cell_type": "code",
   "execution_count": 20,
   "metadata": {
    "collapsed": false
   },
   "outputs": [],
   "source": [
    "# Drop any body sites that don't make sense\n",
    "md = md.loc[md['BODY_SITE'].notnull()]\n",
    "md_1k = md.loc[md['counts'] > 1000]\n",
    "md_10k = md.loc[md['counts'] > 10000]\n",
    "\n",
    "# Gets only a single sample for each person\n",
    "single_ids = []\n",
    "hsi_ = []\n",
    "for hsi, ids_ in md.groupby('HOST_SUBJECT_ID').groups.iteritems():\n",
    "    single_ids.append(ids_[0])\n",
    "    \n",
    "single_md = md.loc[single_ids]\n",
    "\n",
    "single_1k = []\n",
    "for hsi, ids_  in md_1k.groupby('HOST_SUBJECT_ID').groups.iteritems():\n",
    "    single_1k.append(ids_[0])\n",
    "    \n",
    "single_10k = []\n",
    "for hsi, ids_  in md_10k.groupby('HOST_SUBJECT_ID').groups.iteritems():\n",
    "    single_10k.append(ids_[0])"
   ]
  },
  {
   "cell_type": "markdown",
   "metadata": {},
   "source": [
    "Let's check the total number of participants and total number of samples."
   ]
  },
  {
   "cell_type": "code",
   "execution_count": 21,
   "metadata": {
    "collapsed": false
   },
   "outputs": [
    {
     "data": {
      "text/html": [
       "<div>\n",
       "<table border=\"1\" class=\"dataframe\">\n",
       "  <thead>\n",
       "    <tr style=\"text-align: right;\">\n",
       "      <th></th>\n",
       "      <th>Participants</th>\n",
       "      <th>Samples</th>\n",
       "    </tr>\n",
       "  </thead>\n",
       "  <tbody>\n",
       "    <tr>\n",
       "      <th>All</th>\n",
       "      <td>5508</td>\n",
       "      <td>6789</td>\n",
       "    </tr>\n",
       "    <tr>\n",
       "      <th>1k</th>\n",
       "      <td>5300</td>\n",
       "      <td>6468</td>\n",
       "    </tr>\n",
       "    <tr>\n",
       "      <th>10k</th>\n",
       "      <td>4093</td>\n",
       "      <td>4894</td>\n",
       "    </tr>\n",
       "  </tbody>\n",
       "</table>\n",
       "</div>"
      ],
      "text/plain": [
       "     Participants  Samples\n",
       "All          5508     6789\n",
       "1k           5300     6468\n",
       "10k          4093     4894"
      ]
     },
     "execution_count": 21,
     "metadata": {},
     "output_type": "execute_result"
    }
   ],
   "source": [
    "pd.DataFrame([[len(single_ids), len(single_1k), len(single_10k)],\n",
    "              [md.shape[0], md_1k.shape[0], md_10k.shape[0]]],\n",
    "             columns=['All', '1k', '10k'], index=['Participants', 'Samples']).transpose()"
   ]
  },
  {
   "cell_type": "markdown",
   "metadata": {},
   "source": [
    "Now, let's check the nationality of our participants, and look at the distribution of individuals.\n",
    "\n",
    "First, we'll look at the number of countries and sovergn states where participants live."
   ]
  },
  {
   "cell_type": "code",
   "execution_count": 22,
   "metadata": {
    "collapsed": false
   },
   "outputs": [
    {
     "name": "stdout",
     "output_type": "stream",
     "text": [
      "28\n"
     ]
    }
   ],
   "source": [
    "print len(single_md.groupby('COUNTRY').count().max(1))"
   ]
  },
  {
   "cell_type": "markdown",
   "metadata": {},
   "source": [
    "Next, let's look at the actual number of participants living in each nation or territory."
   ]
  },
  {
   "cell_type": "code",
   "execution_count": 23,
   "metadata": {
    "collapsed": false
   },
   "outputs": [
    {
     "name": "stdout",
     "output_type": "stream",
     "text": [
      "                       All  Returned  Analyzed\n",
      "USA                   4589      4440      3418\n",
      "United Kingdom         557       508       439\n",
      "Australia              149       148        93\n",
      "Canada                  70        65        50\n",
      "Switzerland             12        12         7\n",
      "France                   8         8         6\n",
      "Germany                 11        10         6\n",
      "Thailand                 9         9         6\n",
      "Belgium                  9         8         6\n",
      "Netherlands              6         6         5\n",
      "Norway                   5         5         5\n",
      "Czech Republic           7         7         4\n",
      "New Zealand              5         5         3\n",
      "Spain                    3         3         2\n",
      "Italy                    4         4         2\n",
      "Sweden                   2         2         2\n",
      "United Arab Emirates     1         1         1\n",
      "Brazil                   1         1         1\n",
      "Jersey                   1         1         1\n",
      "Poland                   1         1         1\n",
      "China                    2         2         1\n",
      "Isle of Man              1         1         1\n",
      "Ireland                  2         2         1\n",
      "Finland                  1         1         1\n",
      "Denmark                  1         1         1\n",
      "Japan                    3         3         1\n",
      "India                    1         1       NaN\n",
      "Puerto Rico              1         1       NaN\n"
     ]
    }
   ],
   "source": [
    "nationalities = pd.DataFrame([single_md.groupby('COUNTRY').count().max(1),\n",
    "                              md.loc[single_1k].groupby('COUNTRY').count().max(1),\n",
    "                              md.loc[single_10k].groupby('COUNTRY').count().max(1)],\n",
    "                             index=['All', 'Returned', 'Analyzed']\n",
    "                            ).transpose().sort_values('Analyzed', ascending=False)\n",
    "print nationalities"
   ]
  },
  {
   "cell_type": "markdown",
   "metadata": {},
   "source": [
    "We're going to focus the first demographic analysis on participants from the US. "
   ]
  },
  {
   "cell_type": "code",
   "execution_count": 24,
   "metadata": {
    "collapsed": true
   },
   "outputs": [],
   "source": [
    "us_md = single_md.loc[single_md.COUNTRY == 'USA']"
   ]
  },
  {
   "cell_type": "code",
   "execution_count": 25,
   "metadata": {
    "collapsed": true
   },
   "outputs": [],
   "source": [
    "res_table = {}\n",
    "n_samples = float(len(us_md))\n",
    "cats = ['SEX', 'RACE', 'SMOKING_FREQUENCY', 'DIABETES', 'IBD', 'BMI_CAT']\n",
    "\n",
    "for cat in cats:\n",
    "    # drop out any null values\n",
    "    cat_tab = us_md[us_md[cat].notnull()]\n",
    "    \n",
    "    # determine how many unique subjects are represented\n",
    "    n_subjects = float(len(cat_tab.HOST_SUBJECT_ID.unique()))\n",
    "\n",
    "    # for each value in (e.g., for SEX: Male, Female, Other)\n",
    "    for val in cat_tab.groupby(cat).HOST_SUBJECT_ID.unique().index:\n",
    "        # get the number of unique subjects\n",
    "        count = cat_tab.groupby(cat).HOST_SUBJECT_ID.nunique()[val]\n",
    "        \n",
    "        # store the count of subjects and the percentage of the subjects represented\n",
    "        res_table[\"%s - %s\" % (cat, val)] = (count, (count / n_subjects) * 100)\n",
    "\n",
    "res = pd.DataFrame.from_dict(res_table, orient='index')\n",
    "res.columns = ['Count', 'Within group percentage']"
   ]
  },
  {
   "cell_type": "code",
   "execution_count": 26,
   "metadata": {
    "collapsed": true
   },
   "outputs": [],
   "source": [
    "# Category/value : percent in US population\n",
    "census_data = {\n",
    "               #from http://quickfacts.census.gov/qfd/states/00000.html\n",
    "               'SEX - female': 50.8,\n",
    "               'SEX - male': 49.2,  # this is an over estimate as only the % of females is described in the above URL\n",
    "               'SEX - other': np.nan,  # does not appear to be tracked\n",
    "               \n",
    "               # from http://www.census.gov/prod/cen2010/briefs/c2010br-02.pdf\n",
    "               # doesn't sum to 100% as the fields don't map exactly, so there may be some overlap represented below\n",
    "               'RACE - African American': 12.6,\n",
    "               'RACE - Asian or Pacific Islander': 5.0,\n",
    "               'RACE - Caucasian': 63.7,\n",
    "               'RACE - Hispanic': 16.3,\n",
    "               'RACE - Other': 6.2,\n",
    "\n",
    "               # from http://www.census.gov/compendia/statab/2012/tables/12s0211.pdf\n",
    "               # using total, non age adjusted values\n",
    "\n",
    "###### we probably want to filter to > 18yo for these values in the metadata\n",
    "               'BMI_CAT - Normal': 31.2, \n",
    "               'BMI_CAT - Obese': 33.0,\n",
    "               'BMI_CAT - Overweight': 34.0,\n",
    "               'BMI_CAT - Underweight': 1.8,\n",
    "\n",
    "               # from http://www.cdc.gov/diabetes/data/statistics/2014statisticsreport.html\n",
    "               'DIABETES - I do not have diabetes': 90.7,\n",
    "               'DIABETES - I have diabetes': 9.3, # This uses 21 million \n",
    "\n",
    "               # from http://www.cdc.gov/ibd/ibd-epidemiology.htm\n",
    "               # using 1.3 million people as the estimate, and US population size for 2014 from\n",
    "               # http://quickfacts.census.gov/qfd/states/00000.html\n",
    "               'IBD - I do not have an IBD': 99.6,\n",
    "               'IBD - I have an IBD': 0.4,\n",
    "          \n",
    "               # from http://www.cdc.gov/tobacco/data_statistics/fact_sheets/adult_data/cig_smoking/\n",
    "               'SMOKING_FREQUENCY - I do not smoke': 82.6,\n",
    "               'SMOKING_FREQUENCY - I smoke': 17.4\n",
    "}\n",
    "res['US Census/CDC/NHANES data precentages'] = pd.DataFrame.from_dict(census_data, orient='index')"
   ]
  },
  {
   "cell_type": "code",
   "execution_count": 27,
   "metadata": {
    "collapsed": false
   },
   "outputs": [
    {
     "data": {
      "text/html": [
       "<div>\n",
       "<table border=\"1\" class=\"dataframe\">\n",
       "  <thead>\n",
       "    <tr style=\"text-align: right;\">\n",
       "      <th></th>\n",
       "      <th>Count</th>\n",
       "      <th>Within group percentage</th>\n",
       "      <th>US Census/CDC/NHANES data precentages</th>\n",
       "    </tr>\n",
       "  </thead>\n",
       "  <tbody>\n",
       "    <tr>\n",
       "      <th>BMI_CAT - Normal</th>\n",
       "      <td>2483</td>\n",
       "      <td>58.894687</td>\n",
       "      <td>31.2</td>\n",
       "    </tr>\n",
       "    <tr>\n",
       "      <th>BMI_CAT - Obese</th>\n",
       "      <td>463</td>\n",
       "      <td>10.981973</td>\n",
       "      <td>33.0</td>\n",
       "    </tr>\n",
       "    <tr>\n",
       "      <th>BMI_CAT - Overweight</th>\n",
       "      <td>878</td>\n",
       "      <td>20.825427</td>\n",
       "      <td>34.0</td>\n",
       "    </tr>\n",
       "    <tr>\n",
       "      <th>BMI_CAT - Underweight</th>\n",
       "      <td>392</td>\n",
       "      <td>9.297913</td>\n",
       "      <td>1.8</td>\n",
       "    </tr>\n",
       "    <tr>\n",
       "      <th>DIABETES - I do not have diabetes</th>\n",
       "      <td>4346</td>\n",
       "      <td>98.817644</td>\n",
       "      <td>90.7</td>\n",
       "    </tr>\n",
       "    <tr>\n",
       "      <th>DIABETES - I have diabetes</th>\n",
       "      <td>52</td>\n",
       "      <td>1.182356</td>\n",
       "      <td>9.3</td>\n",
       "    </tr>\n",
       "    <tr>\n",
       "      <th>IBD - I do not have an IBD</th>\n",
       "      <td>4145</td>\n",
       "      <td>97.414806</td>\n",
       "      <td>99.6</td>\n",
       "    </tr>\n",
       "    <tr>\n",
       "      <th>IBD - I have an IBD</th>\n",
       "      <td>110</td>\n",
       "      <td>2.585194</td>\n",
       "      <td>0.4</td>\n",
       "    </tr>\n",
       "    <tr>\n",
       "      <th>RACE - African American</th>\n",
       "      <td>52</td>\n",
       "      <td>1.146890</td>\n",
       "      <td>12.6</td>\n",
       "    </tr>\n",
       "    <tr>\n",
       "      <th>RACE - Asian or Pacific Islander</th>\n",
       "      <td>185</td>\n",
       "      <td>4.080282</td>\n",
       "      <td>5.0</td>\n",
       "    </tr>\n",
       "    <tr>\n",
       "      <th>RACE - Caucasian</th>\n",
       "      <td>4098</td>\n",
       "      <td>90.383767</td>\n",
       "      <td>63.7</td>\n",
       "    </tr>\n",
       "    <tr>\n",
       "      <th>RACE - Hispanic</th>\n",
       "      <td>100</td>\n",
       "      <td>2.205558</td>\n",
       "      <td>16.3</td>\n",
       "    </tr>\n",
       "    <tr>\n",
       "      <th>RACE - Other</th>\n",
       "      <td>99</td>\n",
       "      <td>2.183502</td>\n",
       "      <td>6.2</td>\n",
       "    </tr>\n",
       "    <tr>\n",
       "      <th>SEX - female</th>\n",
       "      <td>2390</td>\n",
       "      <td>55.413865</td>\n",
       "      <td>50.8</td>\n",
       "    </tr>\n",
       "    <tr>\n",
       "      <th>SEX - male</th>\n",
       "      <td>1921</td>\n",
       "      <td>44.539764</td>\n",
       "      <td>49.2</td>\n",
       "    </tr>\n",
       "    <tr>\n",
       "      <th>SEX - other</th>\n",
       "      <td>2</td>\n",
       "      <td>0.046371</td>\n",
       "      <td>NaN</td>\n",
       "    </tr>\n",
       "    <tr>\n",
       "      <th>SMOKING_FREQUENCY - I do not smoke</th>\n",
       "      <td>4312</td>\n",
       "      <td>95.440460</td>\n",
       "      <td>82.6</td>\n",
       "    </tr>\n",
       "    <tr>\n",
       "      <th>SMOKING_FREQUENCY - I smoke</th>\n",
       "      <td>206</td>\n",
       "      <td>4.559540</td>\n",
       "      <td>17.4</td>\n",
       "    </tr>\n",
       "  </tbody>\n",
       "</table>\n",
       "</div>"
      ],
      "text/plain": [
       "                                    Count  Within group percentage  \\\n",
       "BMI_CAT - Normal                     2483                58.894687   \n",
       "BMI_CAT - Obese                       463                10.981973   \n",
       "BMI_CAT - Overweight                  878                20.825427   \n",
       "BMI_CAT - Underweight                 392                 9.297913   \n",
       "DIABETES - I do not have diabetes    4346                98.817644   \n",
       "DIABETES - I have diabetes             52                 1.182356   \n",
       "IBD - I do not have an IBD           4145                97.414806   \n",
       "IBD - I have an IBD                   110                 2.585194   \n",
       "RACE - African American                52                 1.146890   \n",
       "RACE - Asian or Pacific Islander      185                 4.080282   \n",
       "RACE - Caucasian                     4098                90.383767   \n",
       "RACE - Hispanic                       100                 2.205558   \n",
       "RACE - Other                           99                 2.183502   \n",
       "SEX - female                         2390                55.413865   \n",
       "SEX - male                           1921                44.539764   \n",
       "SEX - other                             2                 0.046371   \n",
       "SMOKING_FREQUENCY - I do not smoke   4312                95.440460   \n",
       "SMOKING_FREQUENCY - I smoke           206                 4.559540   \n",
       "\n",
       "                                    US Census/CDC/NHANES data precentages  \n",
       "BMI_CAT - Normal                                                     31.2  \n",
       "BMI_CAT - Obese                                                      33.0  \n",
       "BMI_CAT - Overweight                                                 34.0  \n",
       "BMI_CAT - Underweight                                                 1.8  \n",
       "DIABETES - I do not have diabetes                                    90.7  \n",
       "DIABETES - I have diabetes                                            9.3  \n",
       "IBD - I do not have an IBD                                           99.6  \n",
       "IBD - I have an IBD                                                   0.4  \n",
       "RACE - African American                                              12.6  \n",
       "RACE - Asian or Pacific Islander                                      5.0  \n",
       "RACE - Caucasian                                                     63.7  \n",
       "RACE - Hispanic                                                      16.3  \n",
       "RACE - Other                                                          6.2  \n",
       "SEX - female                                                         50.8  \n",
       "SEX - male                                                           49.2  \n",
       "SEX - other                                                           NaN  \n",
       "SMOKING_FREQUENCY - I do not smoke                                   82.6  \n",
       "SMOKING_FREQUENCY - I smoke                                          17.4  "
      ]
     },
     "execution_count": 27,
     "metadata": {},
     "output_type": "execute_result"
    }
   ],
   "source": [
    "res.sort_index()"
   ]
  },
  {
   "cell_type": "code",
   "execution_count": null,
   "metadata": {
    "collapsed": true
   },
   "outputs": [],
   "source": []
  }
 ],
 "metadata": {
  "kernelspec": {
   "display_name": "Python 2",
   "language": "python",
   "name": "python2"
  },
  "language_info": {
   "codemirror_mode": {
    "name": "ipython",
    "version": 2
   },
   "file_extension": ".py",
   "mimetype": "text/x-python",
   "name": "python",
   "nbconvert_exporter": "python",
   "pygments_lexer": "ipython2",
   "version": "2.7.11"
  }
 },
 "nbformat": 4,
 "nbformat_minor": 0
}
