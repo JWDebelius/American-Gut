{
 "cells": [
  {
   "cell_type": "markdown",
   "metadata": {},
   "source": [
    "We'll start our microbiome analysis by doing a high-level overview of the categories of interest. This will let us determine what categories it might be interesting to pursue."
   ]
  },
  {
   "cell_type": "code",
   "execution_count": 1,
   "metadata": {
    "collapsed": false
   },
   "outputs": [
    {
     "name": "stderr",
     "output_type": "stream",
     "text": [
      "/Users/jwdebelius/anaconda/envs/americangut/lib/python2.7/site-packages/matplotlib/__init__.py:872: UserWarning: axes.color_cycle is deprecated and replaced with axes.prop_cycle; please use the latter.\n",
      "  warnings.warn(self.msg_depr % (key, alt_key))\n"
     ]
    }
   ],
   "source": [
    "import os\n",
    "import pickle\n",
    "\n",
    "import numpy as np\n",
    "import pandas as pd\n",
    "import scipy\n",
    "import skbio\n",
    "import seaborn as sn\n",
    "import matplotlib.pyplot as plt\n",
    "from skbio.stats.power import subsample_power, confidence_bound\n",
    "\n",
    "import americangut.ag_dictionary as agdic\n",
    "from americangut.ag_data import AgData\n",
    "import americangut.notebook_environment as agenv\n",
    "import americangut.power_plots as agpp"
   ]
  },
  {
   "cell_type": "markdown",
   "metadata": {},
   "source": [
    "We'll start by selecting the dataset we plan to use. We need to pick a bodysite, or location "
   ]
  },
  {
   "cell_type": "code",
   "execution_count": 2,
   "metadata": {
    "collapsed": true
   },
   "outputs": [],
   "source": [
    "bodysite = 'fecal'\n",
    "sequence_trim = '100nt'\n",
    "rarefaction_depth = '10k'\n",
    "\n",
    "use_subset = True\n",
    "use_one_sample = True"
   ]
  },
  {
   "cell_type": "markdown",
   "metadata": {},
   "source": [
    "Next, we'll load the data, and remove outliers."
   ]
  },
  {
   "cell_type": "code",
   "execution_count": 3,
   "metadata": {
    "collapsed": true
   },
   "outputs": [],
   "source": [
    "data = AgData(bodysite=bodysite, \n",
    "              trim=sequence_trim, \n",
    "              depth=rarefaction_depth, \n",
    "              sub_participants=use_subset, \n",
    "              one_sample=use_one_sample)"
   ]
  },
  {
   "cell_type": "markdown",
   "metadata": {},
   "source": [
    "We'll also pick a metric to examine. This can be an alpha diveristy metric or a beta diversity metric. We'll also pick a function. If the metric selected is an alpha diversity metric (i.e. `PD_whole_tree_10k`, `shannon_10k`, `chao1_1k`), the test should be an alpha diversity test. A default alpha diversity test can be found in `americangut.power_plots.ag_alpha_test`. If the metric selected is a beta diversity metric (i.e. `unweighted_unifrac`), the test should handle distance matrices. A default test is provided in `americangut.power_plots.ag_beta_test`."
   ]
  },
  {
   "cell_type": "code",
   "execution_count": 4,
   "metadata": {
    "collapsed": false
   },
   "outputs": [],
   "source": [
    "metric = 'weighted_unifrac'\n",
    "test = agpp.ag_beta_test"
   ]
  },
  {
   "cell_type": "markdown",
   "metadata": {},
   "source": [
    "Next, let's set up a directory where we will save our results."
   ]
  },
  {
   "cell_type": "code",
   "execution_count": 5,
   "metadata": {
    "collapsed": false
   },
   "outputs": [],
   "source": [
    "save_dir = agenv.check_save_dir(data.data_set)\n",
    "summary_fp = os.path.join(save_dir, 'summary_%s.p' % metric)\n",
    "all_power_dir = os.path.join(save_dir, 'power/all/%s' % metric)\n",
    "ext_power_dir = os.path.join(save_dir, 'power/extreme/%s' % metric)\n",
    "agenv.check_dir(all_power_dir)\n",
    "agenv.check_dir(ext_power_dir)"
   ]
  },
  {
   "cell_type": "markdown",
   "metadata": {},
   "source": [
    "Next, let's write a quick function to summarize the data for all groups in the data."
   ]
  },
  {
   "cell_type": "code",
   "execution_count": 6,
   "metadata": {
    "collapsed": false
   },
   "outputs": [],
   "source": [
    "def generate_summary(question, data, test, metric):\n",
    "    \"\"\"Summarizes information about the results\"\"\"\n",
    "    results = {'name': question.name}\n",
    "    \n",
    "    # Gets the map, otu table and distance matrix for the question\n",
    "    data.reload_files()\n",
    "    data.drop_alpha_outliers()\n",
    "    data.drop_bmi_outliers()\n",
    "    data.clean_age()\n",
    "    data.clean_group(question)\n",
    "    if question.type == 'Clinical':\n",
    "        question.order = ['Yes', 'No']\n",
    "        question.extremes = ['Yes', 'No']\n",
    "    data.filter_by_question(question)\n",
    "    \n",
    "    # Identfies the samples within each group\n",
    "    grouped = data.map_.groupby(question.name).groups\n",
    "    group_ids = [grouped[o] for o in question.order]\n",
    "    extreme_ids = [grouped[o] for o in question.extremes]\n",
    "    \n",
    "    # Provides summary information\n",
    "    results['all_groups'] = question.order\n",
    "    results['all_size'] = [len(id_) for id_ in group_ids]\n",
    "    results['ext_groups'] = question.extremes\n",
    "    results['ext_size'] = [len(id_) for id_ in extreme_ids]\n",
    "\n",
    "    # Calculates the p value for all the samples\n",
    "    results['all_p_value'] = test(metric, question, data, group_ids,\n",
    "                                  permutations=999)\n",
    "    results['ext_p_value'] = test(metric, question, data, extreme_ids,\n",
    "                                  permutations=999)\n",
    "    \n",
    "    # Calculates statistical power or loads it from file\n",
    "    all_power_fp = os.path.join(all_power_dir, '%s.p') % question.name\n",
    "    ext_power_fp = os.path.join(ext_power_dir, '%s.p') % question.name\n",
    "    \n",
    "#     if not os.path.exists(all_power_fp):\n",
    "#         a_power, a_counts = subsample_power(\n",
    "#             test=lambda x: test(metric, question, data, x, permutations=99),\n",
    "#             samples=group_ids,\n",
    "#             min_counts=5,\n",
    "#             counts_interval=10,\n",
    "#             max_counts=60,\n",
    "#             num_runs=5,\n",
    "#             num_iter=500,\n",
    "#             )\n",
    "#         with open(os.path.join(all_power_fp), 'w') as f_:\n",
    "#             pickle.dump((question.name, question.order, metric, a_power, a_counts),\n",
    "#                         f_)\n",
    "#     else:\n",
    "    with open(os.path.join(all_power_fp), 'r') as f_:\n",
    "        (name, order, metric, a_power, a_counts) = pickle.load(f_)\n",
    "\n",
    "    # Calculates the effect size\n",
    "    a_eff = agpp.z_effect(a_counts, a_power)\n",
    "    if (a_power > 0.2).any():\n",
    "        results['all_effect_mean'] = a_eff.mean()\n",
    "        results['all_effect_ci'] = confidence_bound(a_eff)\n",
    "    else:\n",
    "        results['all_effect_mean'] = np.nan\n",
    "        results['all_effect_ci'] = np.nan\n",
    "        \n",
    "#     if not os.path.exists(ext_power_fp):\n",
    "#         e_power, e_counts = subsample_power(\n",
    "#             test=lambda x: test(metric, question, data, x, permutations=99),\n",
    "#             samples=extreme_ids,\n",
    "#             min_counts=5,\n",
    "#             counts_interval=10,\n",
    "#             max_counts=60,\n",
    "#             num_runs=5,\n",
    "#             num_iter=500,\n",
    "#             )\n",
    "#         with open(os.path.join(ext_power_fp), 'w') as f_:\n",
    "#             pickle.dump((question.name, question.order, metric, e_power, e_counts),\n",
    "#                         f_)\n",
    "#     else:\n",
    "    with open(os.path.join(ext_power_fp), 'r') as f_:\n",
    "        (name, order, metric, e_power, e_counts) = pickle.load(f_)\n",
    "\n",
    "    # Calculates the effect size\n",
    "    e_eff = agpp.z_effect(e_counts, e_power)\n",
    "    if (a_power > 0.2).any():\n",
    "        results['ext_effect_mean'] = e_eff.mean()\n",
    "        results['ext_effect_ci'] = confidence_bound(e_eff)\n",
    "    else:\n",
    "        results['ext_effect_mean'] = np.nan\n",
    "        results['ext_effect_ci'] = np.nan\n",
    "    \n",
    "    return results"
   ]
  },
  {
   "cell_type": "markdown",
   "metadata": {},
   "source": [
    "Now, let's apply that function to our data, and save the output."
   ]
  },
  {
   "cell_type": "code",
   "execution_count": 8,
   "metadata": {
    "collapsed": false,
    "scrolled": false
   },
   "outputs": [
    {
     "name": "stdout",
     "output_type": "stream",
     "text": [
      "AGE_CAT\n",
      "CPU times: user 47.9 s, sys: 10.3 s, total: 58.2 s\n",
      "Wall time: 58.6 s\n",
      "ALCOHOL_FREQUENCY\n",
      "CPU times: user 45.3 s, sys: 10.3 s, total: 55.6 s\n",
      "Wall time: 55.9 s\n",
      "ALCOHOL_TYPES_BEERCIDER\n",
      "CPU times: user 15.7 s, sys: 626 ms, total: 16.4 s\n",
      "Wall time: 16.5 s\n",
      "ALCOHOL_TYPES_RED_WINE\n",
      "CPU times: user 17.1 s, sys: 1.3 s, total: 18.4 s\n",
      "Wall time: 18.5 s\n",
      "ALCOHOL_TYPES_SOUR_BEERS\n",
      "CPU times: user 20.3 s, sys: 2.34 s, total: 22.6 s\n",
      "Wall time: 22.7 s\n",
      "ALCOHOL_TYPES_SPIRITSHARD_ALCOHOL\n",
      "CPU times: user 15.8 s, sys: 544 ms, total: 16.4 s\n",
      "Wall time: 16.5 s\n",
      "ALCOHOL_TYPES_WHITE_WINE\n",
      "CPU times: user 15.7 s, sys: 396 ms, total: 16.1 s\n",
      "Wall time: 16.2 s\n",
      "BOWEL_MOVEMENT_FREQUENCY\n",
      "CPU times: user 11.3 s, sys: 673 ms, total: 12 s\n",
      "Wall time: 12 s\n",
      "BOWEL_MOVEMENT_QUALITY\n",
      "CPU times: user 19.6 s, sys: 2.1 s, total: 21.7 s\n",
      "Wall time: 21.8 s\n",
      "CAT\n",
      "CPU times: user 1min 51s, sys: 28.1 s, total: 2min 19s\n",
      "Wall time: 2min 19s\n",
      "CHICKENPOX\n",
      "CPU times: user 1min 58s, sys: 33.2 s, total: 2min 31s\n",
      "Wall time: 2min 32s\n",
      "COLLECTION_MONTH\n",
      "CPU times: user 46.8 s, sys: 10.3 s, total: 57.2 s\n",
      "Wall time: 57.2 s\n",
      "COLLECTION_SEASON\n",
      "CPU times: user 57.4 s, sys: 18 s, total: 1min 15s\n",
      "Wall time: 1min 15s\n",
      "CONSUME_ANIMAL_PRODUCTS_ABX\n",
      "CPU times: user 10.3 s, sys: 245 ms, total: 10.5 s\n",
      "Wall time: 10.5 s\n",
      "CONTRACEPTIVE\n",
      "CPU times: user 1min 1s, sys: 14.8 s, total: 1min 16s\n",
      "Wall time: 1min 16s\n",
      "COUNTRY\n",
      "CPU times: user 1min 48s, sys: 30.5 s, total: 2min 18s\n",
      "Wall time: 2min 18s\n",
      "CSECTION\n",
      "CPU times: user 1min 53s, sys: 30.8 s, total: 2min 24s\n",
      "Wall time: 2min 24s\n",
      "DIET_TYPE\n",
      "CPU times: user 1min 50s, sys: 30.4 s, total: 2min 20s\n",
      "Wall time: 2min 20s\n",
      "DRINKING_WATER_SOURCE\n",
      "CPU times: user 47.7 s, sys: 11 s, total: 58.7 s\n",
      "Wall time: 58.7 s\n",
      "EXERCISE_FREQUENCY\n",
      "CPU times: user 49.1 s, sys: 10.8 s, total: 59.9 s\n",
      "Wall time: 60 s\n",
      "EXERCISE_LOCATION\n",
      "CPU times: user 50.1 s, sys: 10.7 s, total: 1min\n",
      "Wall time: 1min\n",
      "FED_AS_INFANT\n",
      "CPU times: user 12.3 s, sys: 580 ms, total: 12.8 s\n",
      "Wall time: 12.8 s\n",
      "FERMENTED_PLANT_FREQUENCY\n",
      "CPU times: user 10.6 s, sys: 1.2 s, total: 11.8 s\n",
      "Wall time: 11.8 s\n",
      "FLOSSING_FREQUENCY\n",
      "CPU times: user 57.7 s, sys: 11.5 s, total: 1min 9s\n",
      "Wall time: 1min 9s\n",
      "FRUIT_FREQUENCY\n",
      "CPU times: user 10.7 s, sys: 1.88 s, total: 12.6 s\n",
      "Wall time: 12.6 s\n",
      "GLUTEN\n",
      "CPU times: user 1min 31s, sys: 27.5 s, total: 1min 59s\n",
      "Wall time: 1min 59s\n",
      "HOMECOOKED_MEALS_FREQUENCY\n",
      "CPU times: user 15.9 s, sys: 3.18 s, total: 19.1 s\n",
      "Wall time: 19.1 s\n",
      "LACTOSE\n",
      "CPU times: user 1min 57s, sys: 33.6 s, total: 2min 30s\n",
      "Wall time: 2min 31s\n",
      "LAST_TRAVEL\n",
      "CPU times: user 1min 5s, sys: 13.2 s, total: 1min 18s\n",
      "Wall time: 1min 18s\n",
      "LOWGRAIN_DIET_TYPE\n",
      "CPU times: user 1min 47s, sys: 29.8 s, total: 2min 17s\n",
      "Wall time: 2min 17s\n",
      "LUNG_DISEASE\n",
      "CPU times: user 1min 57s, sys: 33.1 s, total: 2min 30s\n",
      "Wall time: 2min 30s\n",
      "MIGRAINE\n",
      "CPU times: user 1min 48s, sys: 29.7 s, total: 2min 17s\n",
      "Wall time: 2min 17s\n",
      "MULTIVITAMIN\n",
      "CPU times: user 1min 46s, sys: 26.8 s, total: 2min 13s\n",
      "Wall time: 2min 13s\n",
      "OLIVE_OIL\n",
      "CPU times: user 10.6 s, sys: 1.23 s, total: 11.8 s\n",
      "Wall time: 11.8 s\n",
      "ONE_LITER_OF_WATER_A_DAY_FREQUENCY\n",
      "CPU times: user 14.3 s, sys: 1.44 s, total: 15.8 s\n",
      "Wall time: 15.8 s\n",
      "POOL_FREQUENCY\n",
      "CPU times: user 1min 6s, sys: 14.7 s, total: 1min 21s\n",
      "Wall time: 1min 21s\n",
      "PREPARED_MEALS_FREQUENCY\n",
      "CPU times: user 10.5 s, sys: 1.87 s, total: 12.4 s\n",
      "Wall time: 12.3 s\n",
      "PROBIOTIC_FREQUENCY\n",
      "CPU times: user 13.3 s, sys: 1.52 s, total: 14.9 s\n",
      "Wall time: 14.9 s\n",
      "RACE\n",
      "SEASONAL_ALLERGIES\n",
      "CPU times: user 1min 41s, sys: 27.2 s, total: 2min 9s\n",
      "Wall time: 2min 9s\n",
      "SEX\n",
      "CPU times: user 1min 33s, sys: 23.8 s, total: 1min 57s\n",
      "Wall time: 1min 57s\n",
      "SLEEP_DURATION\n",
      "CPU times: user 47.2 s, sys: 10.3 s, total: 57.5 s\n",
      "Wall time: 57.5 s\n",
      "SMOKING_FREQUENCY\n",
      "CPU times: user 2min 13s, sys: 36.9 s, total: 2min 50s\n",
      "Wall time: 2min 50s\n",
      "SUGARY_SWEETS_FREQUENCY\n",
      "CPU times: user 9.94 s, sys: 1.22 s, total: 11.2 s\n",
      "Wall time: 11.2 s\n",
      "TYPES_OF_PLANTS\n",
      "CPU times: user 16.6 s, sys: 1.37 s, total: 17.9 s\n",
      "Wall time: 17.9 s\n",
      "VEGETABLE_FREQUENCY\n",
      "CPU times: user 14.7 s, sys: 2.07 s, total: 16.7 s\n",
      "Wall time: 16.8 s\n",
      "VITAMIN_B_SUPPLEMENT_FREQUENCY\n",
      "CPU times: user 16.8 s, sys: 2.44 s, total: 19.3 s\n",
      "Wall time: 19.3 s\n",
      "VITAMIN_D_SUPPLEMENT_FREQUENCY\n",
      "CPU times: user 12.9 s, sys: 1.5 s, total: 14.4 s\n",
      "Wall time: 14.4 s\n",
      "WEIGHT_CHANGE\n",
      "CPU times: user 1min 54s, sys: 34.9 s, total: 2min 29s\n",
      "Wall time: 2min 29s\n"
     ]
    }
   ],
   "source": [
    "summary = []\n",
    "for name in sorted(agdic.dictionary.keys()):\n",
    "# for name in ['ANTIBIOTIC_HISTORY', 'BMI_CAT', 'IBD']:\n",
    "    if use_subset and name in {'ANTIBIOTIC_HISTORY', 'DIABETES', 'BMI_CAT', 'IBD'}:\n",
    "        continue\n",
    "    question = agdic.ag_dictionary(name)\n",
    "    if question.type == 'Continous':\n",
    "        continue\n",
    "    print name\n",
    "    try:\n",
    "        % time results = generate_summary(question, data, test, metric) \n",
    "    except:\n",
    "        pass\n",
    "    summary.append(results)"
   ]
  },
  {
   "cell_type": "markdown",
   "metadata": {
    "collapsed": true
   },
   "source": [
    "Finally, let's look for categories that have clear effect sizes."
   ]
  },
  {
   "cell_type": "code",
   "execution_count": 9,
   "metadata": {
    "collapsed": false
   },
   "outputs": [],
   "source": [
    "summary_df = pd.DataFrame(summary).set_index('name')\n",
    "summary_df.to_csv('/Users/jwdebelius/Desktop/subset_%s.txt' % metric, sep='\\t', na_rep='NA')\n"
   ]
  },
  {
   "cell_type": "code",
   "execution_count": null,
   "metadata": {
    "collapsed": false
   },
   "outputs": [],
   "source": [
    "summary_df"
   ]
  },
  {
   "cell_type": "code",
   "execution_count": null,
   "metadata": {
    "collapsed": true
   },
   "outputs": [],
   "source": []
  },
  {
   "cell_type": "code",
   "execution_count": null,
   "metadata": {
    "collapsed": true
   },
   "outputs": [],
   "source": []
  }
 ],
 "metadata": {
  "kernelspec": {
   "display_name": "Python 2",
   "language": "python",
   "name": "python2"
  },
  "language_info": {
   "codemirror_mode": {
    "name": "ipython",
    "version": 2
   },
   "file_extension": ".py",
   "mimetype": "text/x-python",
   "name": "python",
   "nbconvert_exporter": "python",
   "pygments_lexer": "ipython2",
   "version": "2.7.11"
  }
 },
 "nbformat": 4,
 "nbformat_minor": 0
}
