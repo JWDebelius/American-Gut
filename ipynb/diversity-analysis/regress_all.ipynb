{
 "cells": [
  {
   "cell_type": "markdown",
   "metadata": {},
   "source": [
    "This notebook is yet another attempt at multivariate statitics. We'll start by importing everything and the kitchen sink, in case we need it. "
   ]
  },
  {
   "cell_type": "code",
   "execution_count": 27,
   "metadata": {
    "collapsed": false
   },
   "outputs": [],
   "source": [
    "import numpy as np\n",
    "import skbio\n",
    "import scipy\n",
    "\n",
    "import pandas as pd\n",
    "import statsmodels.formula.api as smf\n",
    "\n",
    "import matplotlib.pyplot as plt\n",
    "% matplotlib inline\n",
    "\n",
    "\n",
    "import americangut.ag_dictionary as agdic\n",
    "import americangut.diversity_analysis as agdiv\n",
    "import americangut.notebook_environment as agenv\n",
    "from americangut.ag_data import AgData"
   ]
  },
  {
   "cell_type": "markdown",
   "metadata": {},
   "source": [
    "Next, let's select the data set and rarefaction depth we wish to use."
   ]
  },
  {
   "cell_type": "code",
   "execution_count": 13,
   "metadata": {
    "collapsed": true
   },
   "outputs": [],
   "source": [
    "bodysite = 'fecal'\n",
    "sequence_trim = '100nt'\n",
    "rarefaction_depth = '10k'\n",
    "\n",
    "use_subset = False\n",
    "use_one_sample = True"
   ]
  },
  {
   "cell_type": "markdown",
   "metadata": {},
   "source": [
    "Next, we'll load the data, and remove outliers."
   ]
  },
  {
   "cell_type": "code",
   "execution_count": 3,
   "metadata": {
    "collapsed": true
   },
   "outputs": [],
   "source": [
    "data = AgData(bodysite=bodysite, \n",
    "                    trim=sequence_trim, \n",
    "                    depth=rarefaction_depth, \n",
    "                    sub_participants=use_subset, \n",
    "                    one_sample=use_one_sample)\n",
    "\n",
    "data.drop_alpha_outliers()\n",
    "data.drop_bmi_outliers()\n",
    "data.clean_age()"
   ]
  },
  {
   "cell_type": "code",
   "execution_count": 4,
   "metadata": {
    "collapsed": true
   },
   "outputs": [],
   "source": [
    "ibd = {u'10317.000012951', u'10317.000017746', u'10317.000001620',\n",
    "       u'10317.000001748', u'10317.000009382', u'10317.000001544',\n",
    "       u'10317.000005953', u'10317.000009004', u'10317.000013010',\n",
    "       u'10317.000014579', u'10317.000001827', u'10317.000013023',\n",
    "       u'10317.000009157', u'10317.000001362', u'10317.000001135',\n",
    "       u'10317.000004855', u'10317.000005878', u'10317.000007719',\n",
    "       u'10317.000009126', u'10317.000007068', u'10317.000010134',\n",
    "       u'10317.000010112', u'10317.000003300', u'10317.000002830',\n",
    "       u'10317.000014236', u'10317.000012936', u'10317.000013575',\n",
    "       u'10317.000001047', u'10317.000005360', u'10317.000001333',\n",
    "       u'10317.000015581', u'10317.000003189', u'10317.000001128',\n",
    "       u'10317.000015907', u'10317.000017338', u'10317.000013062',\n",
    "       u'10317.000013595', u'10317.000009533', u'10317.000010546',\n",
    "       u'10317.000001685', u'10317.000004163', u'10317.000001751',\n",
    "       u'10317.000013551', u'10317.000005889', u'10317.000002036',\n",
    "       u'10317.000002783', u'10317.000004157', u'10317.000001364',\n",
    "       u'10317.000001622', u'10317.000004783', u'10317.000008999',\n",
    "       u'10317.000009149', u'10317.000001895', u'10317.000011375',\n",
    "       u'10317.000014880', u'10317.000001291', u'10317.000010876',\n",
    "       u'10317.000014607', u'10317.000014987', u'10317.000002271',\n",
    "       u'10317.000003898', u'10317.000009144', u'10317.000002482',\n",
    "       u'10317.000014608', u'10317.000013134', u'10317.000001647',\n",
    "       u'10317.000011959', u'10317.000009626', u'10317.000004025',\n",
    "       u'10317.000014291', u'10317.000001351', u'10317.000002859',\n",
    "       u'10317.000014118', u'10317.000004612', u'10317.000018383',\n",
    "       u'10317.000001575', u'10317.000004161', u'10317.000015873',\n",
    "       u'10317.000005971', u'10317.000004192', u'10317.000001322',\n",
    "       u'10317.000004162', u'10317.000002336', u'10317.000010147',\n",
    "       u'10317.000006673', u'10317.000004752', u'10317.000005851',\n",
    "       u'10317.000009236', u'10317.000001363', u'10317.000014458',\n",
    "       u'10317.000011093', u'10317.000009164', u'10317.000005810',\n",
    "       u'10317.000003047', u'10317.000015849', u'10317.000004790',\n",
    "       }\n",
    "actual = set(ibd).intersection(data.map_.index)"
   ]
  },
  {
   "cell_type": "markdown",
   "metadata": {},
   "source": [
    "Finally, let's pick our response varaible."
   ]
  },
  {
   "cell_type": "code",
   "execution_count": 5,
   "metadata": {
    "collapsed": false
   },
   "outputs": [],
   "source": [
    "metric = 'PD_whole_tree'\n",
    "response = '%s_%s' % (metric, rarefaction_depth)"
   ]
  },
  {
   "cell_type": "markdown",
   "metadata": {},
   "source": [
    "Next, we're going to loop through our dataset and clean up the question responses and number them."
   ]
  },
  {
   "cell_type": "code",
   "execution_count": 6,
   "metadata": {
    "collapsed": false
   },
   "outputs": [],
   "source": [
    "for group_name in agdic.dictionary.iterkeys():\n",
    "    if group_name == 'AGE_CORRECTED':\n",
    "        continue\n",
    "    question = agdic.ag_dictionary(group_name)\n",
    "    if group_name == 'COUNTRY':\n",
    "        question.order = ['USA', 'Australia', 'Canada', 'United Kingdom']\n",
    "    elif group_name == 'IBD':\n",
    "        question.order = ['No', 'Yes']\n",
    "    data.clean_group(question)\n",
    "    question.label_order(data.map_)"
   ]
  },
  {
   "cell_type": "markdown",
   "metadata": {},
   "source": [
    "We'll also update the IBD data to account for both participants who provided a diagnosis, rather than a diagnosis manner."
   ]
  },
  {
   "cell_type": "code",
   "execution_count": 7,
   "metadata": {
    "collapsed": true
   },
   "outputs": [],
   "source": [
    "data.map_.loc[actual, 'IBD'] = '(1) Yes'"
   ]
  },
  {
   "cell_type": "markdown",
   "metadata": {},
   "source": [
    "Let's also add a column for the natural log of age, since this may be a better shape for the relationship with alpha diversity."
   ]
  },
  {
   "cell_type": "code",
   "execution_count": 9,
   "metadata": {
    "collapsed": true
   },
   "outputs": [],
   "source": [
    "data.map_['lnAGE'] = data.map_['AGE_CORRECTED'].apply(lambda x: np.log(x))"
   ]
  },
  {
   "cell_type": "markdown",
   "metadata": {},
   "source": []
  },
  {
   "cell_type": "code",
   "execution_count": 148,
   "metadata": {
    "collapsed": true
   },
   "outputs": [],
   "source": [
    "vars1 = [('AGE_CORRECTED', 'lnAGE'), 'SEX', 'COUNTRY', 'IBD', 'CHICKENPOX',\n",
    "         'RACE', 'ANTIBIOTIC_HISTORY', 'TYPES_OF_PLANTS', 'ALCOHOL_FREQUENCY', #'IBS',\n",
    "         # 'BOWEL_MOVEMENT_FREQUENCY', 'BOWEL_MOVEMENT_QUALITY',\n",
    "         'CSECTION', 'DIABETES', 'DIET_TYPE',\n",
    "         'DRINKING_WATER_SOURCE', 'EXERCISE_FREQUENCY', 'EXERCISE_LOCATION',\n",
    "         'FLOSSING_FREQUENCY', 'MIGRAINE', 'RACE', 'SEX', 'SLEEP_DURATION', \n",
    "         'SMOKING_FREQUENCY','TYPES_OF_PLANTS',\n",
    "        ]\n",
    "vars2 = [('AGE_CORRECTED', 'lnAGE'), 'SEX', 'COUNTRY', 'IBD', 'CHICKENPOX',\n",
    "         'ALCOHOL_FREQUENCY', 'ANTIBIOTIC_HISTORY', 'IBS',\n",
    "         'BOWEL_MOVEMENT_FREQUENCY', 'BOWEL_MOVEMENT_QUALITY',\n",
    "         'COUNTRY', 'CSECTION', 'DIABETES', 'DIET_TYPE',\n",
    "         'DRINKING_WATER_SOURCE', 'EXERCISE_FREQUENCY', 'EXERCISE_LOCATION',\n",
    "         'FLOSSING_FREQUENCY', 'MIGRAINE', 'RACE', 'SEX', 'SLEEP_DURATION', \n",
    "         'SMOKING_FREQUENCY', # 'TYPES_OF_PLANTS',\n",
    "        ]"
   ]
  },
  {
   "cell_type": "code",
   "execution_count": 149,
   "metadata": {
    "collapsed": true
   },
   "outputs": [],
   "source": [
    "def _equation_builder(vars_, last_eq=None, response=None):\n",
    "    \"\"\"Builds a set of equations trying multiple predictor options\"\"\"\n",
    "    # Checks enough variables are defined\n",
    "    if last_eq is None and response is None:\n",
    "        raise ValueError('A response or last equation must be specified.')\n",
    "\n",
    "    # Checks the class of vars\n",
    "    if isinstance(vars_, str):\n",
    "        vars_ = [vars_]\n",
    "\n",
    "    # Builds the equation\n",
    "    if last_eq is None:\n",
    "        return ['%s ~ %s' % (response, pred) for pred in vars_]\n",
    "    else:\n",
    "        eqs = []\n",
    "        for pred in vars_:\n",
    "            if '&' in pred:\n",
    "                eqs.append(last_eq.replace(' + %s' % pred[1:], ''))\n",
    "            else:\n",
    "                eqs.append('%s + %s' % (last_eq, pred))\n",
    "\n",
    "    return eqs"
   ]
  },
  {
   "cell_type": "code",
   "execution_count": 150,
   "metadata": {
    "collapsed": true
   },
   "outputs": [],
   "source": [
    "def _populate_fit_check(fits, var_, id_=1, dname=None):\n",
    "    \"\"\"Updates the fit_check information\"\"\"\n",
    "    fit_check = []\n",
    "    if isinstance(var_, str):\n",
    "        var_ = [var_]\n",
    "\n",
    "    for idy, fit_ in enumerate(fits):\n",
    "        n = fit_.nobs\n",
    "        k = fit_.df_model\n",
    "        aicc = fit_.aic + (2 * k * (k + 1) / (n - k - 1))\n",
    "        d_score = scipy.stats.kstest(fit_.resid.values, 'norm')[0]\n",
    "\n",
    "        fit_check.append(pd.Series({'data_set': dname,\n",
    "                                    'equation':  fit_.model.formula,\n",
    "                                    'var': var_[idy],\n",
    "                                    'n': n,\n",
    "                                    'k': k,\n",
    "                                    'aic': fit_.aic,\n",
    "                                    'aicc': aicc,\n",
    "                                    'D_score': d_score,\n",
    "                                    'pearson_r2': fit_.rsquared,\n",
    "                                    'adj_r2': fit_.rsquared_adj,\n",
    "                                    'cond no': fit_.condition_number},\n",
    "                                   name=id_ + idy))\n",
    "    return pd.DataFrame(fit_check)"
   ]
  },
  {
   "cell_type": "code",
   "execution_count": 151,
   "metadata": {
    "collapsed": true
   },
   "outputs": [],
   "source": [
    "def _check_watch(model_watch, prev_id):\n",
    "    \"\"\"...\"\"\"\n",
    "    if model_watch is None:\n",
    "        model_watch = pd.DataFrame(data=np.zeros((0, 11)),\n",
    "                                   columns=['data_set', 'equation', 'var', 'n',\n",
    "                                            'k', 'aic', 'aicc', 'D_score',\n",
    "                                            'pearson_r2', 'adj_r2', 'cond no'])\n",
    "        id_ = 1\n",
    "        prev_id = None\n",
    "        prev_eq = None\n",
    "    else:\n",
    "        id_ = max(model_watch.index) + 1\n",
    "        if prev_id is None:\n",
    "            models = pd.DataFrame(model_watch).transpose()\n",
    "            ranked = models.sort(['aicc'], inplace=False).index\n",
    "            prev_id = ranked[0]\n",
    "        prev_eq = model_watch.loc[prev_id, 'equation']\n",
    "    return model_watch, id_, prev_id, prev_eq"
   ]
  },
  {
   "cell_type": "code",
   "execution_count": 152,
   "metadata": {
    "collapsed": true
   },
   "outputs": [],
   "source": [
    "def _identify_best_model(fit_check, prev_id):\n",
    "    \"\"\"...\"\"\"\n",
    "    fit_check['ref'] = prev_id\n",
    "    prev_r2 = fit_check.loc[prev_id, 'adj_r2']\n",
    "    prev_aicc = fit_check.loc[prev_id, 'aicc']\n",
    "    fit_check['score'] = -10000*(((fit_check.adj_r2 - prev_r2) *\n",
    "                                 (fit_check.aicc - prev_aicc)) /\n",
    "                                 fit_check['cond no'])\n",
    "    prev_id = fit_check.loc[fit_check.score == fit_check.score.max()].index[0]\n",
    "    return prev_id"
   ]
  },
  {
   "cell_type": "code",
   "execution_count": 153,
   "metadata": {
    "collapsed": true
   },
   "outputs": [],
   "source": [
    "def olf_build_model(response, predictors, data, dname=None, model_watch=None,\n",
    "                    prev_id=None):\n",
    "    \"\"\"Builds up a series of Ordinary Least Squares Models\n",
    "\n",
    "    \"\"\"\n",
    "    # Looks for the last model being referenced as the best\n",
    "    model_watch, id_, prev_id, prev_eq = _check_watch(model_watch, prev_id)\n",
    "\n",
    "    # Builds up the model\n",
    "    for var_ in predictors:\n",
    "        # Builds up the list of equations to be added\n",
    "        eqs = _equation_builder(var_, prev_eq, response)\n",
    "        num_var = len(eqs)\n",
    "\n",
    "        # Fits the equations\n",
    "        fits = [smf.ols(eq, data=data).fit() for eq in eqs]\n",
    "\n",
    "        # Summarizes the fit\n",
    "        fit_check = _populate_fit_check(fits, var_, id_, dname)\n",
    "\n",
    "        # Updates the fit check with the best previous model\n",
    "        check_ids = fit_check.index.values\n",
    "        if prev_id is None:\n",
    "            prev_id = min(fit_check.index.values)\n",
    "        else:\n",
    "            fit_check.loc[prev_id] = model_watch.loc[prev_id]\n",
    "\n",
    "        # Identifies the best model\n",
    "        prev_id = _identify_best_model(fit_check, prev_id)\n",
    "\n",
    "        model_watch = pd.concat((model_watch, fit_check.loc[check_ids]))\n",
    "\n",
    "        # Gets the best fit equation\n",
    "        prev_eq = model_watch.loc[prev_id, 'equation']\n",
    "\n",
    "        # Advances the counter\n",
    "        id_ = id_ + num_var\n",
    "\n",
    "    return model_watch, prev_id\n"
   ]
  },
  {
   "cell_type": "code",
   "execution_count": 154,
   "metadata": {
    "collapsed": false
   },
   "outputs": [],
   "source": [
    "model_watch, prev_id = olf_build_model(\n",
    "        response=response,\n",
    "        predictors=vars1, \n",
    "        data=data.map_.loc[data.map_[vars1[1:]].dropna().index],\n",
    "        dname='all_data',\n",
    "        model_watch=None,\n",
    "        prev_id=None\n",
    "        )"
   ]
  },
  {
   "cell_type": "code",
   "execution_count": 155,
   "metadata": {
    "collapsed": false
   },
   "outputs": [],
   "source": [
    "sort_ = model_watch.sort_values('score', ascending=False)"
   ]
  },
  {
   "cell_type": "code",
   "execution_count": 156,
   "metadata": {
    "collapsed": false
   },
   "outputs": [
    {
     "data": {
      "text/plain": [
       "'PD_whole_tree_10k ~ lnAGE + COUNTRY + IBD + CHICKENPOX + RACE + ANTIBIOTIC_HISTORY'"
      ]
     },
     "execution_count": 156,
     "metadata": {},
     "output_type": "execute_result"
    }
   ],
   "source": [
    "sort_.loc[sort_.index[0], 'equation']"
   ]
  },
  {
   "cell_type": "code",
   "execution_count": 157,
   "metadata": {
    "collapsed": false
   },
   "outputs": [
    {
     "name": "stdout",
     "output_type": "stream",
     "text": [
      "                            OLS Regression Results                            \n",
      "==============================================================================\n",
      "Dep. Variable:      PD_whole_tree_10k   R-squared:                       0.100\n",
      "Model:                            OLS   Adj. R-squared:                  0.093\n",
      "Method:                 Least Squares   F-statistic:                     13.27\n",
      "Date:                Mon, 08 Feb 2016   Prob (F-statistic):           2.79e-24\n",
      "Time:                        14:39:38   Log-Likelihood:                -4136.7\n",
      "No. Observations:                1321   AIC:                             8297.\n",
      "Df Residuals:                    1309   BIC:                             8360.\n",
      "Df Model:                          11                                         \n",
      "Covariance Type:            nonrobust                                         \n",
      "==============================================================================================================\n",
      "                                                 coef    std err          t      P>|t|      [95.0% Conf. Int.]\n",
      "--------------------------------------------------------------------------------------------------------------\n",
      "Intercept                                     23.3803      1.660     14.084      0.000        20.124    26.637\n",
      "COUNTRY[T.(1) Australia]                       0.4001      2.281      0.175      0.861        -4.074     4.874\n",
      "COUNTRY[T.(2) Canada]                          1.4910      1.258      1.186      0.236        -0.976     3.958\n",
      "COUNTRY[T.(3) United Kingdom]                  3.8145      1.691      2.256      0.024         0.498     7.131\n",
      "IBD[T.(1) Yes]                                -4.4540      0.884     -5.041      0.000        -6.187    -2.721\n",
      "CHICKENPOX[T.(1) Yes]                          0.6518      0.442      1.474      0.141        -0.216     1.519\n",
      "RACE[T.(1) Caucasian]                          1.0022      1.290      0.777      0.437        -1.528     3.533\n",
      "RACE[T.(2) Asian or Pacific Islander]         -2.4775      1.497     -1.656      0.098        -5.413     0.458\n",
      "ANTIBIOTIC_HISTORY[T.(1) 6 months]            -1.8280      0.860     -2.125      0.034        -3.515    -0.141\n",
      "ANTIBIOTIC_HISTORY[T.(2) Year]                -0.3933      0.845     -0.465      0.642        -2.051     1.265\n",
      "ANTIBIOTIC_HISTORY[T.(3) More than a year]     0.9914      0.745      1.331      0.183        -0.469     2.452\n",
      "lnAGE                                          1.5060      0.242      6.213      0.000         1.030     1.981\n",
      "==============================================================================\n",
      "Omnibus:                        0.560   Durbin-Watson:                   2.097\n",
      "Prob(Omnibus):                  0.756   Jarque-Bera (JB):                0.562\n",
      "Skew:                           0.050   Prob(JB):                        0.755\n",
      "Kurtosis:                       2.989   Cond. No.                         63.6\n",
      "==============================================================================\n",
      "\n",
      "Warnings:\n",
      "[1] Standard Errors assume that the covariance matrix of the errors is correctly specified.\n"
     ]
    }
   ],
   "source": [
    "print smf.ols(sort_.loc[sort_.index[0], 'equation'],\n",
    "        data.map_.loc[data.map_[vars1[1:]].dropna().index]\n",
    "       ).fit().summary()"
   ]
  },
  {
   "cell_type": "code",
   "execution_count": null,
   "metadata": {
    "collapsed": true
   },
   "outputs": [],
   "source": []
  }
 ],
 "metadata": {
  "kernelspec": {
   "display_name": "Python 2",
   "language": "python",
   "name": "python2"
  },
  "language_info": {
   "codemirror_mode": {
    "name": "ipython",
    "version": 2
   },
   "file_extension": ".py",
   "mimetype": "text/x-python",
   "name": "python",
   "nbconvert_exporter": "python",
   "pygments_lexer": "ipython2",
   "version": "2.7.11"
  }
 },
 "nbformat": 4,
 "nbformat_minor": 0
}
