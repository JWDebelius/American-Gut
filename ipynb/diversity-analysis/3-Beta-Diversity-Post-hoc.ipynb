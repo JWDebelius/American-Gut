{
 "cells": [
  {
   "cell_type": "markdown",
   "metadata": {},
   "source": [
    "The two previous notebooks looked at over all p values and alpha diversity for a single category. Now, we'll look at beta diversity, which lets us compare community structure."
   ]
  },
  {
   "cell_type": "code",
   "execution_count": 1,
   "metadata": {
    "collapsed": false
   },
   "outputs": [
    {
     "name": "stderr",
     "output_type": "stream",
     "text": [
      "/Users/jwdebelius/anaconda/envs/americangut/lib/python2.7/site-packages/matplotlib/__init__.py:872: UserWarning: axes.color_cycle is deprecated and replaced with axes.prop_cycle; please use the latter.\n",
      "  warnings.warn(self.msg_depr % (key, alt_key))\n"
     ]
    }
   ],
   "source": [
    "import os\n",
    "\n",
    "import matplotlib.pyplot as plt\n",
    "import numpy as np\n",
    "import pandas as pd\n",
    "import scipy.stats\n",
    "import seaborn as sn\n",
    "import skbio\n",
    "\n",
    "import americangut.diversity_analysis as div\n",
    "\n",
    "from americangut.ag_data import AgData\n",
    "from americangut.ag_data_dictionary import ag_data_dictionary"
   ]
  },
  {
   "cell_type": "code",
   "execution_count": 2,
   "metadata": {
    "collapsed": false
   },
   "outputs": [],
   "source": [
    "from matplotlib import rcParams\n",
    "\n",
    "% matplotlib inline\n",
    "\n",
    "# Formats the axes using seabron so they will be white, and have ticks\n",
    "# on the bottom of the axes.\n",
    "sn.set_style('ticks', {'axes.facecolor': 'none'})\n",
    "\n",
    "# Sets up plotting parameters so that the default setting is use to Helvetica\n",
    "# in plots\n",
    "rcParams['font.family'] = 'sans-serif'\n",
    "rcParams['font.sans-serif'] = ['Helvetica', 'Arial']\n",
    "rcParams['text.usetex'] = True"
   ]
  },
  {
   "cell_type": "markdown",
   "metadata": {},
   "source": [
    "Next, let's select the data set and rarefaction depth we wish to use."
   ]
  },
  {
   "cell_type": "code",
   "execution_count": 3,
   "metadata": {
    "collapsed": true
   },
   "outputs": [],
   "source": [
    "bodysite = 'fecal'\n",
    "sequence_trim = '100nt'\n",
    "rarefaction_depth = '10k'\n",
    "\n",
    "use_subset = True\n",
    "use_one_sample = True"
   ]
  },
  {
   "cell_type": "markdown",
   "metadata": {},
   "source": [
    "Let's pick the category to interogate."
   ]
  },
  {
   "cell_type": "code",
   "execution_count": 4,
   "metadata": {
    "collapsed": true
   },
   "outputs": [],
   "source": [
    "group_name = 'ALCOHOL_FREQUENCY'\n",
    "metric = 'unweighted_unifac'"
   ]
  },
  {
   "cell_type": "markdown",
   "metadata": {},
   "source": [
    "Now, let's read the files assoicated with the data and load the data dictionary entry for the group."
   ]
  },
  {
   "cell_type": "code",
   "execution_count": 5,
   "metadata": {
    "collapsed": false
   },
   "outputs": [],
   "source": [
    "fecal_data = AgData(bodysite=bodysite, \n",
    "                    trim=sequence_trim, \n",
    "                    depth=rarefaction_depth, \n",
    "                    sub_participants=use_subset, \n",
    "                    one_sample=use_one_sample)\n",
    "\n",
    "group = ag_data_dictionary[group_name]"
   ]
  },
  {
   "cell_type": "markdown",
   "metadata": {},
   "source": [
    "We're going to start by cleaning up the data. So, let's remove any samples that might be outliers (in rounds 1-21, there is a sample with alpha diveristy seven standard deivations above the mean and 4 standard deviations about the next highest sample).\n",
    "\n",
    "We'll also clean up the mapping column as needed, to make analsyis easier."
   ]
  },
  {
   "cell_type": "code",
   "execution_count": null,
   "metadata": {
    "collapsed": false
   },
   "outputs": [],
   "source": [
    "fecal_data.map_.groupby(group_name).count().max(1)"
   ]
  },
  {
   "cell_type": "code",
   "execution_count": null,
   "metadata": {
    "collapsed": false
   },
   "outputs": [],
   "source": [
    "fecal_data.map_.groupby(group_name).count().max(1)"
   ]
  },
  {
   "cell_type": "code",
   "execution_count": 6,
   "metadata": {
    "collapsed": false
   },
   "outputs": [],
   "source": [
    "fecal_data.drop_alpha_outliers()\n",
    "# fecal_data.clean_up_column(group)"
   ]
  },
  {
   "cell_type": "markdown",
   "metadata": {},
   "source": [
    "Now that we have the data loaded, let's use a post-hoc test to evaluate comparisons between groups. For now, we're going to use the QIIME script, [`make_distance_boxplots.py`](http://qiime.org/scripts/make_distance_boxplots.html)."
   ]
  },
  {
   "cell_type": "code",
   "execution_count": null,
   "metadata": {
    "collapsed": false
   },
   "outputs": [],
   "source": [
    "save_dir = 'beta_diversity/%(bodysite)s/%(participant_set)s/%(samples_per_participants)s' % fecal_data.data_set\n",
    "!mkdir -p $save_dir"
   ]
  },
  {
   "cell_type": "code",
   "execution_count": 7,
   "metadata": {
    "collapsed": true
   },
   "outputs": [],
   "source": [
    "save_dir = '/Users/jwdebelius/Desktop/'"
   ]
  },
  {
   "cell_type": "code",
   "execution_count": null,
   "metadata": {
    "collapsed": true
   },
   "outputs": [],
   "source": [
    "!make_distance_boxplots -o $save_dir -m $fecal_data.map_fp -d $fecal_data.unweighted_fp -f $fecal_data.name"
   ]
  },
  {
   "cell_type": "code",
   "execution_count": 8,
   "metadata": {
    "collapsed": false
   },
   "outputs": [],
   "source": [
    "distance_summary = pd.read_csv(os.path.join(save_dir, '%s_Stats.txt') % group.name,\n",
    "                               sep='\\t',\n",
    "                               skiprows=7)"
   ]
  },
  {
   "cell_type": "code",
   "execution_count": null,
   "metadata": {
    "collapsed": false
   },
   "outputs": [],
   "source": [
    "distance_summary.columns"
   ]
  },
  {
   "cell_type": "code",
   "execution_count": null,
   "metadata": {
    "collapsed": true
   },
   "outputs": [],
   "source": [
    "def remap_split(x):\n",
    "    if isinstance(x, str) and '(' in x:\n",
    "        return x.split('(')[1].replace(')', '').capitalize()\n",
    "    else:\n",
    "        return x"
   ]
  },
  {
   "cell_type": "code",
   "execution_count": null,
   "metadata": {
    "collapsed": false
   },
   "outputs": [],
   "source": [
    "s = 'Never vs. Occasionally (1-2 times/week)'\n",
    "# ss = \n",
    "f_ = lambda x: ' vs. '.join([remap_split(s) for s in x.split(' vs. ')]).replace('  ', ' ')"
   ]
  },
  {
   "cell_type": "code",
   "execution_count": null,
   "metadata": {
    "collapsed": false
   },
   "outputs": [],
   "source": [
    "f_(s)"
   ]
  },
  {
   "cell_type": "code",
   "execution_count": null,
   "metadata": {
    "collapsed": false
   },
   "outputs": [],
   "source": [
    "ss = 'Never vs. Daily'\n",
    "f_(ss)"
   ]
  },
  {
   "cell_type": "code",
   "execution_count": null,
   "metadata": {
    "collapsed": false
   },
   "outputs": [],
   "source": [
    "s = 'Never vs. Daily'.split(' vs. ')\n",
    "' vs. '.join([remap_split(x) for x in s])"
   ]
  },
  {
   "cell_type": "code",
   "execution_count": null,
   "metadata": {
    "collapsed": false
   },
   "outputs": [],
   "source": [
    "distance_summary['Group 1'] = distance_summary['Group 1'].apply(f_)\n",
    "distance_summary['Group 2'] = distance_summary['Group 2'].apply(f_)"
   ]
  },
  {
   "cell_type": "markdown",
   "metadata": {},
   "source": [
    "We can use the generated data to make distance plots, "
   ]
  },
  {
   "cell_type": "code",
   "execution_count": null,
   "metadata": {
    "collapsed": false
   },
   "outputs": [],
   "source": [
    "set(distance_summary['Group 2'])"
   ]
  },
  {
   "cell_type": "code",
   "execution_count": null,
   "metadata": {
    "collapsed": false
   },
   "outputs": [],
   "source": [
    "'Never vs. A few times/month' in set(distance_summary['Group 1'])"
   ]
  },
  {
   "cell_type": "code",
   "execution_count": null,
   "metadata": {
    "collapsed": false
   },
   "outputs": [],
   "source": [
    "'Never vs. A few times/month' in set(distance_summary['Group 2'])"
   ]
  },
  {
   "cell_type": "code",
   "execution_count": null,
   "metadata": {
    "collapsed": false
   },
   "outputs": [],
   "source": [
    "'Never  vs. A few times/month'\n",
    "'Never vs. A few times/month'"
   ]
  },
  {
   "cell_type": "code",
   "execution_count": 30,
   "metadata": {
    "collapsed": false
   },
   "outputs": [
    {
     "data": {
      "image/png": "[encoded data removed]",
      "text/plain": [
       "<matplotlib.figure.Figure at 0x1103d0690>"
      ]
     },
     "metadata": {},
     "output_type": "display_data"
    }
   ],
   "source": [
    "# Loads the post-hoc table for category\n",
    "post_hoc_ubd = pd.read_csv(os.path.join(save_dir, '%s_Stats.txt') % group.name,\n",
    "                           sep='\\t',\n",
    "                           skiprows=7)\n",
    "# Plots the unweighted UniFrac\n",
    "beta_ax = div.beta_diversity_bars(beta['unweighted_unifrac'],\n",
    "                                  map_, group.name, \n",
    "                                  order=group.order, \n",
    "                                  num_iter=999,\n",
    "                                  colormap='YlOrBr',\n",
    "#                                   p_table=post_hoc_ubd,\n",
    "#                                   p_tab_col=,\n",
    "                                  ylim=[0.5, 0.8],\n",
    "#                                   colormap=bc_map,\n",
    "#                                   ylabel=ubd_ylabel,\n",
    "#                                   title=b_title\n",
    "                                 )\n"
   ]
  },
  {
   "cell_type": "code",
   "execution_count": 31,
   "metadata": {
    "collapsed": true
   },
   "outputs": [],
   "source": [
    "from americangut.diversity_analysis import add_comparison_bars"
   ]
  },
  {
   "cell_type": "code",
   "execution_count": null,
   "metadata": {
    "collapsed": true
   },
   "outputs": [],
   "source": []
  },
  {
   "cell_type": "code",
   "execution_count": 32,
   "metadata": {
    "collapsed": false
   },
   "outputs": [
    {
     "ename": "AttributeError",
     "evalue": "'list' object has no attribute 'name'",
     "output_type": "error",
     "traceback": [
      "\u001b[0;31m---------------------------------------------------------------------------\u001b[0m",
      "\u001b[0;31mAttributeError\u001b[0m                            Traceback (most recent call last)",
      "\u001b[0;32m<ipython-input-32-4db5a732ec25>\u001b[0m in \u001b[0;36m<module>\u001b[0;34m()\u001b[0m\n\u001b[1;32m      1\u001b[0m sn.barplot(beta['unweighted_unifrac'], map_, group=group.name,\n\u001b[0;32m----> 2\u001b[0;31m           order=order.name)\n\u001b[0m",
      "\u001b[0;31mAttributeError\u001b[0m: 'list' object has no attribute 'name'"
     ]
    }
   ],
   "source": [
    "sn.barplot(beta['unweighted_unifrac'], map_, group=group.name,\n",
    "          order=order.name)"
   ]
  },
  {
   "cell_type": "code",
   "execution_count": 37,
   "metadata": {
    "collapsed": true
   },
   "outputs": [],
   "source": [
    "from americangut.diversity_analysis import get_distance_vectors"
   ]
  },
  {
   "cell_type": "code",
   "execution_count": 38,
   "metadata": {
    "collapsed": false
   },
   "outputs": [
    {
     "data": {
      "text/plain": [
       "['weighted_unifrac', 'unweighted_unifrac']"
      ]
     },
     "execution_count": 38,
     "metadata": {},
     "output_type": "execute_result"
    }
   ],
   "source": [
    "map_, otu, beta = fecal_data.return_dataset(group)\n",
    "\n",
    "order = group.order\n",
    "\n",
    "within, between = get_distance_vectors(beta['unweighted_unifrac'], map_, group.name, group.order)\n",
    "\n",
    "beta.keys()"
   ]
  },
  {
   "cell_type": "code",
   "execution_count": 39,
   "metadata": {
    "collapsed": false
   },
   "outputs": [],
   "source": [
    "with_ = [] \n",
    "for g, v in within.iteritems():\n",
    "    with_.append(np.vstack((np.array([g] * v.shape[0]), \n",
    "                            np.array([g] * v.shape[0]), \n",
    "                            v)).transpose())\n",
    "for g, v in between.iteritems():\n",
    "    with_.append(np.vstack((np.array([g[0]] * v.shape[0]),\n",
    "                            np.array([g[1]] * v.shape[0]),\n",
    "                            v\n",
    "                            )).transpose())\n",
    "    with_.append(np.vstack((np.array([g[1]] * v.shape[0]),\n",
    "                            np.array([g[0]] * v.shape[0]),\n",
    "                            v\n",
    "                            )).transpose())\n",
    "stacked = pd.DataFrame(np.vstack(with_),\n",
    "                       columns = ['group1', 'group2', 'distance'])\n",
    "stacked['distance'] = stacked['distance'].astype(float)"
   ]
  },
  {
   "cell_type": "code",
   "execution_count": 40,
   "metadata": {
    "collapsed": false
   },
   "outputs": [
    {
     "data": {
      "text/plain": [
       "(0.5, 0.7)"
      ]
     },
     "execution_count": 40,
     "metadata": {},
     "output_type": "execute_result"
    },
    {
     "data": {
      "image/png": "[encoded data removed]",
      "text/plain": [
       "<matplotlib.figure.Figure at 0x110023250>"
      ]
     },
     "metadata": {},
     "output_type": "display_data"
    }
   ],
   "source": [
    "ax = plt.axes()\n",
    "sn.barplot(x='group1', y='distance', hue='group2', data=stacked,\n",
    "           estimator=np.mean, n_boot=5, \n",
    "          order=group.order, hue_order=group.order,  palette=\"Blues\",\n",
    "          )\n",
    "ax.set_ylim([0.5, 0.7])\n",
    "\n",
    "sn.despine(ax=ax, )"
   ]
  },
  {
   "cell_type": "code",
   "execution_count": null,
   "metadata": {
    "collapsed": true
   },
   "outputs": [],
   "source": []
  },
  {
   "cell_type": "code",
   "execution_count": null,
   "metadata": {
    "collapsed": false
   },
   "outputs": [],
   "source": [
    "p = ax.patches[0]"
   ]
  },
  {
   "cell_type": "code",
   "execution_count": null,
   "metadata": {
    "collapsed": false
   },
   "outputs": [],
   "source": [
    "p.get_bbox()"
   ]
  },
  {
   "cell_type": "code",
   "execution_count": 41,
   "metadata": {
    "collapsed": false
   },
   "outputs": [
    {
     "data": {
      "text/plain": [
       "[<matplotlib.lines.Line2D at 0x1521239d0>]"
      ]
     },
     "execution_count": 41,
     "metadata": {},
     "output_type": "execute_result"
    },
    {
     "data": {
      "image/png": "[encoded data removed]",
      "text/plain": [
       "<matplotlib.figure.Figure at 0x152123ed0>"
      ]
     },
     "metadata": {},
     "output_type": "display_data"
    }
   ],
   "source": [
    "# ax = plt.axes()\n",
    "means = np.array([w_[:, 2].astype(float).mean() for w_ in with_])\n",
    "stdv = np.array([w_[:, 2].astype(float).std() / w_.shape[1] for w_ in with_])\n",
    "\n",
    "ax = plt.axes()\n",
    "\n",
    "sn.barplot(x='group1', y='distance', hue='group2', data=stacked,\n",
    "           estimator=np.mean, n_boot=5, ci=None,\n",
    "           order=group.order, hue_order=group.order,  palette=\"Blues\",\n",
    "          )\n",
    "ax.legend_.set_visible(False)"
   ]
  },
  {
   "cell_type": "code",
   "execution_count": 45,
   "metadata": {
    "collapsed": true
   },
   "outputs": [],
   "source": [
    "p = ax.patches[0]"
   ]
  },
  {
   "cell_type": "code",
   "execution_count": 49,
   "metadata": {
    "collapsed": false
   },
   "outputs": [
    {
     "name": "stdout",
     "output_type": "stream",
     "text": [
      "(-0.4, 0.0)\n"
     ]
    },
    {
     "data": {
      "text/plain": [
       "0.16"
      ]
     },
     "execution_count": 49,
     "metadata": {},
     "output_type": "execute_result"
    }
   ],
   "source": [
    "print p.get_xy()\n",
    "p.get_width()"
   ]
  },
  {
   "cell_type": "code",
   "execution_count": 44,
   "metadata": {
    "collapsed": false
   },
   "outputs": [
    {
     "data": {
      "text/plain": [
       "25"
      ]
     },
     "execution_count": 44,
     "metadata": {},
     "output_type": "execute_result"
    }
   ],
   "source": [
    "len(ax.patches)"
   ]
  },
  {
   "cell_type": "code",
   "execution_count": 51,
   "metadata": {
    "collapsed": false
   },
   "outputs": [
    {
     "data": {
      "text/plain": [
       "<matplotlib.axes._subplots.AxesSubplot at 0x1521463d0>"
      ]
     },
     "execution_count": 51,
     "metadata": {},
     "output_type": "execute_result"
    },
    {
     "data": {
      "image/png": "[encoded data removed]",
      "text/plain": [
       "<matplotlib.figure.Figure at 0x11c925a50>"
      ]
     },
     "metadata": {},
     "output_type": "display_data"
    }
   ],
   "source": [
    "ax = plt.axes()\n",
    "sn.boxplot(x='group1', y='distance', hue='group2', data=stacked,\n",
    "#            estimator=np.mean, n_boot=5,\n",
    "          order=group.order, hue_order=group.order,  palette=\"Blues\",\n",
    "          whis=3, notch=True)\n",
    "# ax.set_ylim([0.5, 0.7])"
   ]
  },
  {
   "cell_type": "code",
   "execution_count": null,
   "metadata": {
    "collapsed": true
   },
   "outputs": [],
   "source": []
  },
  {
   "cell_type": "code",
   "execution_count": null,
   "metadata": {
    "collapsed": false
   },
   "outputs": [],
   "source": [
    "bar_counter = 0\n",
    "width = 0.4\n",
    "for id1, ref_group in enumerate(group.order):\n",
    "        # Determines the offset\n",
    "        offset = (id1 * len(group.order) + bar_counter)*width\n",
    "        # Determines the position of the reference group\n",
    "        ref_loc = order_count[group.order == ref_group]\n",
    "\n",
    "        # Adds the distance vector to the means\n",
    "        dist_bar = np.zeros((len(order)))\n",
    "        dist_std = np.zeros((len(order)))\n",
    "\n",
    "        dist_bar[ref_loc] = within[ref_group].mean()\n",
    "        dist_std[ref_loc] = within[ref_group].std()\n",
    "\n",
    "        # Sets up the pvalues\n",
    "        if p_table is None:\n",
    "            p_values = p_table\n",
    "        else:\n",
    "            p_values = np.array([])\n",
    "            sub_p = pd.concat([p_table.loc[p_table['Group 1'] == '%s vs. %s'\n",
    "                                           % (ref_group, ref_group)],\n",
    "                               p_table.loc[p_table['Group 2'] == '%s vs. %s'\n",
    "                                           % (ref_group, ref_group)]])\n",
    "            sub_p_lookup = {k: set(sub_p[k].values) for k in\n",
    "                            ('Group 1', 'Group 2')}\n",
    "\n",
    "        for id2, group in enumerate(group.order):\n",
    "            if group == ref_group:\n",
    "                continue\n",
    "            # Gets the distance vector\n",
    "            try:\n",
    "                dist_bar[id2] = between[(ref_group, group)].mean()\n",
    "                dist_std[id2] = between[(ref_group, group)].std()\n",
    "            except:\n",
    "                dist_bar[id2] = between[(group, ref_group)].mean()\n",
    "                dist_std[id2] = between[(group, ref_group)].std()\n",
    "            if p_values is not None:\n",
    "                p_value = _get_p_value(sub_p, sub_p_lookup, ref_group, group,\n",
    "                                       p_tab_col)\n",
    "                p_values = np.hstack((p_values,\n",
    "                                      _correct_p_value(ref_less, p_value,\n",
    "                                                       dist_bar[ref_loc],\n",
    "                                                       dist_bar[id2])))\n",
    "\n",
    "        dist_bar = np.array(dist_bar)\n",
    "        dist_std = np.array(dist_std)"
   ]
  },
  {
   "cell_type": "code",
   "execution_count": null,
   "metadata": {
    "collapsed": false
   },
   "outputs": [],
   "source": [
    "between"
   ]
  },
  {
   "cell_type": "code",
   "execution_count": null,
   "metadata": {
    "collapsed": false
   },
   "outputs": [],
   "source": [
    "within"
   ]
  },
  {
   "cell_type": "code",
   "execution_count": null,
   "metadata": {
    "collapsed": true
   },
   "outputs": [],
   "source": []
  }
 ],
 "metadata": {
  "kernelspec": {
   "display_name": "Python 2",
   "language": "python",
   "name": "python2"
  },
  "language_info": {
   "codemirror_mode": {
    "name": "ipython",
    "version": 2
   },
   "file_extension": ".py",
   "mimetype": "text/x-python",
   "name": "python",
   "nbconvert_exporter": "python",
   "pygments_lexer": "ipython2",
   "version": "2.7.11"
  }
 },
 "nbformat": 4,
 "nbformat_minor": 0
}
